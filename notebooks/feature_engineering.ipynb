{
 "cells": [
  {
   "cell_type": "markdown",
   "id": "0e2e2ce7",
   "metadata": {
    "colab_type": "text",
    "id": "view-in-github"
   },
   "source": [
    "<a href=\"https://colab.research.google.com/github/Anze-/datathon2k25/blob/alberto/feature_engineering.ipynb\" target=\"_parent\"><img src=\"https://colab.research.google.com/assets/colab-badge.svg\" alt=\"Open In Colab\"/></a>"
   ]
  },
  {
   "cell_type": "markdown",
   "id": "h0EPX9TBwTq6",
   "metadata": {
    "id": "h0EPX9TBwTq6"
   },
   "source": [
    "# Feature Engineering"
   ]
  },
  {
   "cell_type": "markdown",
   "id": "Ipz5In6W_NIx",
   "metadata": {
    "id": "Ipz5In6W_NIx"
   },
   "source": [
    "# 1. Set up working environment"
   ]
  },
  {
   "cell_type": "code",
   "execution_count": 32,
   "id": "a679911b-8c26-4519-9a57-78692c6f9903",
   "metadata": {},
   "outputs": [],
   "source": [
    "import pandas as pd\n",
    "import numpy as np\n",
    "import csv"
   ]
  },
  {
   "cell_type": "code",
   "execution_count": 33,
   "id": "a80UAVJcCkCM",
   "metadata": {
    "colab": {
     "base_uri": "https://localhost:8080/"
    },
    "id": "a80UAVJcCkCM",
    "outputId": "98c7b627-c634-48d4-b893-a157daae6583"
   },
   "outputs": [
    {
     "name": "stdout",
     "output_type": "stream",
     "text": [
      "Using device: cuda\n"
     ]
    }
   ],
   "source": [
    "# enable GPU if needed, GPU can speed up your vector embedding if you computing these vectors locally (not using API)\n",
    "\n",
    "import torch\n",
    "\n",
    "device = \"cuda\" if torch.cuda.is_available() else \"cpu\"\n",
    "print(f\"Using device: {device}\")"
   ]
  },
  {
   "cell_type": "code",
   "execution_count": 34,
   "id": "20ed41c7",
   "metadata": {
    "id": "20ed41c7"
   },
   "outputs": [
    {
     "ename": "FileNotFoundError",
     "evalue": "[Errno 2] No such file or directory: 'api.key'",
     "output_type": "error",
     "traceback": [
      "\u001b[31m---------------------------------------------------------------------------\u001b[39m",
      "\u001b[31mFileNotFoundError\u001b[39m                         Traceback (most recent call last)",
      "\u001b[36mCell\u001b[39m\u001b[36m \u001b[39m\u001b[32mIn[34]\u001b[39m\u001b[32m, line 11\u001b[39m\n\u001b[32m      8\u001b[39m \u001b[38;5;28;01mfrom\u001b[39;00m\u001b[38;5;250m \u001b[39m\u001b[34;01mlangchain\u001b[39;00m\u001b[34;01m.\u001b[39;00m\u001b[34;01mchains\u001b[39;00m\u001b[38;5;250m \u001b[39m\u001b[38;5;28;01mimport\u001b[39;00m RetrievalQA\n\u001b[32m     10\u001b[39m \u001b[38;5;66;03m# Set OpenAI API Key\u001b[39;00m\n\u001b[32m---> \u001b[39m\u001b[32m11\u001b[39m os.environ[\u001b[33m\"\u001b[39m\u001b[33mOPENAI_API_KEY\u001b[39m\u001b[33m\"\u001b[39m] = \u001b[38;5;28;43mopen\u001b[39;49m\u001b[43m(\u001b[49m\u001b[33;43m'\u001b[39;49m\u001b[33;43mapi.key\u001b[39;49m\u001b[33;43m'\u001b[39;49m\u001b[43m)\u001b[49m.read()[:-\u001b[32m1\u001b[39m]\n",
      "\u001b[36mFile \u001b[39m\u001b[32m~/datathon2k25/.venv/lib/python3.12/site-packages/IPython/core/interactiveshell.py:325\u001b[39m, in \u001b[36m_modified_open\u001b[39m\u001b[34m(file, *args, **kwargs)\u001b[39m\n\u001b[32m    318\u001b[39m \u001b[38;5;28;01mif\u001b[39;00m file \u001b[38;5;129;01min\u001b[39;00m {\u001b[32m0\u001b[39m, \u001b[32m1\u001b[39m, \u001b[32m2\u001b[39m}:\n\u001b[32m    319\u001b[39m     \u001b[38;5;28;01mraise\u001b[39;00m \u001b[38;5;167;01mValueError\u001b[39;00m(\n\u001b[32m    320\u001b[39m         \u001b[33mf\u001b[39m\u001b[33m\"\u001b[39m\u001b[33mIPython won\u001b[39m\u001b[33m'\u001b[39m\u001b[33mt let you open fd=\u001b[39m\u001b[38;5;132;01m{\u001b[39;00mfile\u001b[38;5;132;01m}\u001b[39;00m\u001b[33m by default \u001b[39m\u001b[33m\"\u001b[39m\n\u001b[32m    321\u001b[39m         \u001b[33m\"\u001b[39m\u001b[33mas it is likely to crash IPython. If you know what you are doing, \u001b[39m\u001b[33m\"\u001b[39m\n\u001b[32m    322\u001b[39m         \u001b[33m\"\u001b[39m\u001b[33myou can use builtins\u001b[39m\u001b[33m'\u001b[39m\u001b[33m open.\u001b[39m\u001b[33m\"\u001b[39m\n\u001b[32m    323\u001b[39m     )\n\u001b[32m--> \u001b[39m\u001b[32m325\u001b[39m \u001b[38;5;28;01mreturn\u001b[39;00m \u001b[43mio_open\u001b[49m\u001b[43m(\u001b[49m\u001b[43mfile\u001b[49m\u001b[43m,\u001b[49m\u001b[43m \u001b[49m\u001b[43m*\u001b[49m\u001b[43margs\u001b[49m\u001b[43m,\u001b[49m\u001b[43m \u001b[49m\u001b[43m*\u001b[49m\u001b[43m*\u001b[49m\u001b[43mkwargs\u001b[49m\u001b[43m)\u001b[49m\n",
      "\u001b[31mFileNotFoundError\u001b[39m: [Errno 2] No such file or directory: 'api.key'"
     ]
    }
   ],
   "source": [
    "import os\n",
    "import json\n",
    "import chromadb\n",
    "import openai\n",
    "from langchain.embeddings import HuggingFaceEmbeddings\n",
    "from langchain.vectorstores import Chroma\n",
    "from langchain.llms import OpenAI\n",
    "from langchain.chains import RetrievalQA\n",
    "\n",
    "# Set OpenAI API Key\n",
    "os.environ[\"OPENAI_API_KEY\"] = open('api.key').read()[:-1]"
   ]
  },
  {
   "cell_type": "markdown",
   "id": "EQPuHKS4QQjn",
   "metadata": {
    "id": "EQPuHKS4QQjn"
   },
   "source": [
    "# 2. Knowledge Base Preparation"
   ]
  },
  {
   "cell_type": "markdown",
   "id": "C1ZmEq85_XvG",
   "metadata": {
    "id": "C1ZmEq85_XvG"
   },
   "source": [
    "## 2.1 World Cities"
   ]
  },
  {
   "cell_type": "code",
   "execution_count": 35,
   "id": "15d7cc6b-605c-4046-975a-bfae2adab4c4",
   "metadata": {},
   "outputs": [],
   "source": [
    "cities_path = './data/geonames-all-cities-with-a-population-1000.csv'\n",
    "cdb = pd.read_csv(cities_path, sep=';', header=0)"
   ]
  },
  {
   "cell_type": "code",
   "execution_count": 36,
   "id": "f1d1e579-d7a1-44af-adc7-c13d67317673",
   "metadata": {
    "scrolled": true
   },
   "outputs": [
    {
     "data": {
      "text/html": [
       "<div>\n",
       "<style scoped>\n",
       "    .dataframe tbody tr th:only-of-type {\n",
       "        vertical-align: middle;\n",
       "    }\n",
       "\n",
       "    .dataframe tbody tr th {\n",
       "        vertical-align: top;\n",
       "    }\n",
       "\n",
       "    .dataframe thead th {\n",
       "        text-align: right;\n",
       "    }\n",
       "</style>\n",
       "<table border=\"1\" class=\"dataframe\">\n",
       "  <thead>\n",
       "    <tr style=\"text-align: right;\">\n",
       "      <th></th>\n",
       "      <th>Geoname ID</th>\n",
       "      <th>Name</th>\n",
       "      <th>ASCII Name</th>\n",
       "      <th>Alternate Names</th>\n",
       "      <th>Feature Class</th>\n",
       "      <th>Feature Code</th>\n",
       "      <th>Country Code</th>\n",
       "      <th>Country name EN</th>\n",
       "      <th>Country Code 2</th>\n",
       "      <th>Admin1 Code</th>\n",
       "      <th>Admin2 Code</th>\n",
       "      <th>Admin3 Code</th>\n",
       "      <th>Admin4 Code</th>\n",
       "      <th>Population</th>\n",
       "      <th>Elevation</th>\n",
       "      <th>DIgital Elevation Model</th>\n",
       "      <th>Timezone</th>\n",
       "      <th>Modification date</th>\n",
       "      <th>LABEL EN</th>\n",
       "      <th>Coordinates</th>\n",
       "    </tr>\n",
       "  </thead>\n",
       "  <tbody>\n",
       "    <tr>\n",
       "      <th>0</th>\n",
       "      <td>3948841</td>\n",
       "      <td>Huayllati</td>\n",
       "      <td>Huayllati</td>\n",
       "      <td>Huaillati,Huayllati</td>\n",
       "      <td>P</td>\n",
       "      <td>PPLA3</td>\n",
       "      <td>PE</td>\n",
       "      <td>Peru</td>\n",
       "      <td>NaN</td>\n",
       "      <td>03</td>\n",
       "      <td>0307</td>\n",
       "      <td>030704</td>\n",
       "      <td>NaN</td>\n",
       "      <td>515</td>\n",
       "      <td>NaN</td>\n",
       "      <td>3467</td>\n",
       "      <td>America/Lima</td>\n",
       "      <td>2020-05-13</td>\n",
       "      <td>Peru</td>\n",
       "      <td>-13.92862, -72.48496</td>\n",
       "    </tr>\n",
       "    <tr>\n",
       "      <th>6</th>\n",
       "      <td>2093967</td>\n",
       "      <td>Kimbe</td>\n",
       "      <td>Kimbe</td>\n",
       "      <td>Kimbe,jin bei,kymbh,Кимбе,کمبے,کیمبه,金貝</td>\n",
       "      <td>P</td>\n",
       "      <td>PPLA</td>\n",
       "      <td>PG</td>\n",
       "      <td>Papua New Guinea</td>\n",
       "      <td>NaN</td>\n",
       "      <td>17</td>\n",
       "      <td>NaN</td>\n",
       "      <td>NaN</td>\n",
       "      <td>NaN</td>\n",
       "      <td>18847</td>\n",
       "      <td>NaN</td>\n",
       "      <td>27</td>\n",
       "      <td>Pacific/Port_Moresby</td>\n",
       "      <td>2015-04-06</td>\n",
       "      <td>Papua New Guinea</td>\n",
       "      <td>-5.55085, 150.13766</td>\n",
       "    </tr>\n",
       "    <tr>\n",
       "      <th>7</th>\n",
       "      <td>1680116</td>\n",
       "      <td>NIA Valencia</td>\n",
       "      <td>NIA Valencia</td>\n",
       "      <td>Dakbayan sa Valencia,Kota Valencia,Lungsod ng ...</td>\n",
       "      <td>P</td>\n",
       "      <td>PPL</td>\n",
       "      <td>PH</td>\n",
       "      <td>Philippines</td>\n",
       "      <td>NaN</td>\n",
       "      <td>10</td>\n",
       "      <td>12</td>\n",
       "      <td>101321000</td>\n",
       "      <td>NaN</td>\n",
       "      <td>83591</td>\n",
       "      <td>NaN</td>\n",
       "      <td>310</td>\n",
       "      <td>Asia/Manila</td>\n",
       "      <td>2022-02-15</td>\n",
       "      <td>Philippines</td>\n",
       "      <td>7.90639, 125.09417</td>\n",
       "    </tr>\n",
       "    <tr>\n",
       "      <th>8</th>\n",
       "      <td>1680216</td>\n",
       "      <td>Upper Klinan</td>\n",
       "      <td>Upper Klinan</td>\n",
       "      <td>Upper Klinan</td>\n",
       "      <td>P</td>\n",
       "      <td>PPL</td>\n",
       "      <td>PH</td>\n",
       "      <td>Philippines</td>\n",
       "      <td>NaN</td>\n",
       "      <td>12</td>\n",
       "      <td>70</td>\n",
       "      <td>126312000</td>\n",
       "      <td>NaN</td>\n",
       "      <td>3768</td>\n",
       "      <td>NaN</td>\n",
       "      <td>288</td>\n",
       "      <td>Asia/Manila</td>\n",
       "      <td>2017-12-13</td>\n",
       "      <td>Philippines</td>\n",
       "      <td>6.22722, 125.12083</td>\n",
       "    </tr>\n",
       "    <tr>\n",
       "      <th>9</th>\n",
       "      <td>1680275</td>\n",
       "      <td>Unidos</td>\n",
       "      <td>Unidos</td>\n",
       "      <td>Unidos</td>\n",
       "      <td>P</td>\n",
       "      <td>PPL</td>\n",
       "      <td>PH</td>\n",
       "      <td>Philippines</td>\n",
       "      <td>NaN</td>\n",
       "      <td>10</td>\n",
       "      <td>42</td>\n",
       "      <td>104212000</td>\n",
       "      <td>NaN</td>\n",
       "      <td>2111</td>\n",
       "      <td>NaN</td>\n",
       "      <td>37</td>\n",
       "      <td>Asia/Manila</td>\n",
       "      <td>2017-12-13</td>\n",
       "      <td>Philippines</td>\n",
       "      <td>8.5942, 123.668</td>\n",
       "    </tr>\n",
       "    <tr>\n",
       "      <th>...</th>\n",
       "      <td>...</td>\n",
       "      <td>...</td>\n",
       "      <td>...</td>\n",
       "      <td>...</td>\n",
       "      <td>...</td>\n",
       "      <td>...</td>\n",
       "      <td>...</td>\n",
       "      <td>...</td>\n",
       "      <td>...</td>\n",
       "      <td>...</td>\n",
       "      <td>...</td>\n",
       "      <td>...</td>\n",
       "      <td>...</td>\n",
       "      <td>...</td>\n",
       "      <td>...</td>\n",
       "      <td>...</td>\n",
       "      <td>...</td>\n",
       "      <td>...</td>\n",
       "      <td>...</td>\n",
       "      <td>...</td>\n",
       "    </tr>\n",
       "    <tr>\n",
       "      <th>147019</th>\n",
       "      <td>2293089</td>\n",
       "      <td>Akréby</td>\n",
       "      <td>Akreby</td>\n",
       "      <td>Akrebi,Akreby,Akrébi,Akréby</td>\n",
       "      <td>P</td>\n",
       "      <td>PPL</td>\n",
       "      <td>CI</td>\n",
       "      <td>Côte d'Ivoire</td>\n",
       "      <td>NaN</td>\n",
       "      <td>94</td>\n",
       "      <td>NaN</td>\n",
       "      <td>NaN</td>\n",
       "      <td>NaN</td>\n",
       "      <td>3557</td>\n",
       "      <td>NaN</td>\n",
       "      <td>111</td>\n",
       "      <td>Africa/Abidjan</td>\n",
       "      <td>2023-12-21</td>\n",
       "      <td>Côte d'Ivoire</td>\n",
       "      <td>6.14352, -3.38539</td>\n",
       "    </tr>\n",
       "    <tr>\n",
       "      <th>147022</th>\n",
       "      <td>2293516</td>\n",
       "      <td>Obodroupa</td>\n",
       "      <td>Obodroupa</td>\n",
       "      <td>Abodioupa,Obodroupa</td>\n",
       "      <td>P</td>\n",
       "      <td>PPL</td>\n",
       "      <td>CI</td>\n",
       "      <td>Côte d'Ivoire</td>\n",
       "      <td>NaN</td>\n",
       "      <td>95</td>\n",
       "      <td>NaN</td>\n",
       "      <td>NaN</td>\n",
       "      <td>NaN</td>\n",
       "      <td>2676</td>\n",
       "      <td>NaN</td>\n",
       "      <td>244</td>\n",
       "      <td>Africa/Abidjan</td>\n",
       "      <td>2023-12-22</td>\n",
       "      <td>Côte d'Ivoire</td>\n",
       "      <td>6.0444, -5.79622</td>\n",
       "    </tr>\n",
       "    <tr>\n",
       "      <th>147023</th>\n",
       "      <td>2293534</td>\n",
       "      <td>Adiékro</td>\n",
       "      <td>Adiekro</td>\n",
       "      <td>Abiekro,Abiékro,Adiekro,Adiékro</td>\n",
       "      <td>P</td>\n",
       "      <td>PPL</td>\n",
       "      <td>CI</td>\n",
       "      <td>Côte d'Ivoire</td>\n",
       "      <td>NaN</td>\n",
       "      <td>90</td>\n",
       "      <td>NaN</td>\n",
       "      <td>NaN</td>\n",
       "      <td>NaN</td>\n",
       "      <td>2090</td>\n",
       "      <td>NaN</td>\n",
       "      <td>334</td>\n",
       "      <td>Africa/Abidjan</td>\n",
       "      <td>2023-12-23</td>\n",
       "      <td>Côte d'Ivoire</td>\n",
       "      <td>7.79953, -5.19611</td>\n",
       "    </tr>\n",
       "    <tr>\n",
       "      <th>147026</th>\n",
       "      <td>2596928</td>\n",
       "      <td>Gbéssé</td>\n",
       "      <td>Gbesse</td>\n",
       "      <td>Besse,Béssé,Gbesse,Gbéssé</td>\n",
       "      <td>P</td>\n",
       "      <td>PPL</td>\n",
       "      <td>CI</td>\n",
       "      <td>Côte d'Ivoire</td>\n",
       "      <td>NaN</td>\n",
       "      <td>82</td>\n",
       "      <td>NaN</td>\n",
       "      <td>NaN</td>\n",
       "      <td>NaN</td>\n",
       "      <td>2376</td>\n",
       "      <td>NaN</td>\n",
       "      <td>34</td>\n",
       "      <td>Africa/Abidjan</td>\n",
       "      <td>2023-12-22</td>\n",
       "      <td>Côte d'Ivoire</td>\n",
       "      <td>5.8394, -4.29264</td>\n",
       "    </tr>\n",
       "    <tr>\n",
       "      <th>147027</th>\n",
       "      <td>2596948</td>\n",
       "      <td>Ouéguié</td>\n",
       "      <td>Oueguie</td>\n",
       "      <td>Ouegue,Oueguie,Ouéguié,Ouégué</td>\n",
       "      <td>P</td>\n",
       "      <td>PPL</td>\n",
       "      <td>CI</td>\n",
       "      <td>Côte d'Ivoire</td>\n",
       "      <td>NaN</td>\n",
       "      <td>82</td>\n",
       "      <td>NaN</td>\n",
       "      <td>NaN</td>\n",
       "      <td>NaN</td>\n",
       "      <td>1948</td>\n",
       "      <td>NaN</td>\n",
       "      <td>42</td>\n",
       "      <td>Africa/Abidjan</td>\n",
       "      <td>2023-12-22</td>\n",
       "      <td>Côte d'Ivoire</td>\n",
       "      <td>5.82286, -4.22469</td>\n",
       "    </tr>\n",
       "  </tbody>\n",
       "</table>\n",
       "<p>120039 rows × 20 columns</p>\n",
       "</div>"
      ],
      "text/plain": [
       "        Geoname ID          Name    ASCII Name  \\\n",
       "0          3948841     Huayllati     Huayllati   \n",
       "6          2093967         Kimbe         Kimbe   \n",
       "7          1680116  NIA Valencia  NIA Valencia   \n",
       "8          1680216  Upper Klinan  Upper Klinan   \n",
       "9          1680275        Unidos        Unidos   \n",
       "...            ...           ...           ...   \n",
       "147019     2293089        Akréby        Akreby   \n",
       "147022     2293516     Obodroupa     Obodroupa   \n",
       "147023     2293534       Adiékro       Adiekro   \n",
       "147026     2596928        Gbéssé        Gbesse   \n",
       "147027     2596948       Ouéguié       Oueguie   \n",
       "\n",
       "                                          Alternate Names Feature Class  \\\n",
       "0                                     Huaillati,Huayllati             P   \n",
       "6                 Kimbe,jin bei,kymbh,Кимбе,کمبے,کیمبه,金貝             P   \n",
       "7       Dakbayan sa Valencia,Kota Valencia,Lungsod ng ...             P   \n",
       "8                                            Upper Klinan             P   \n",
       "9                                                  Unidos             P   \n",
       "...                                                   ...           ...   \n",
       "147019                        Akrebi,Akreby,Akrébi,Akréby             P   \n",
       "147022                                Abodioupa,Obodroupa             P   \n",
       "147023                    Abiekro,Abiékro,Adiekro,Adiékro             P   \n",
       "147026                          Besse,Béssé,Gbesse,Gbéssé             P   \n",
       "147027                      Ouegue,Oueguie,Ouéguié,Ouégué             P   \n",
       "\n",
       "       Feature Code Country Code   Country name EN Country Code 2 Admin1 Code  \\\n",
       "0             PPLA3           PE              Peru            NaN          03   \n",
       "6              PPLA           PG  Papua New Guinea            NaN          17   \n",
       "7               PPL           PH       Philippines            NaN          10   \n",
       "8               PPL           PH       Philippines            NaN          12   \n",
       "9               PPL           PH       Philippines            NaN          10   \n",
       "...             ...          ...               ...            ...         ...   \n",
       "147019          PPL           CI     Côte d'Ivoire            NaN          94   \n",
       "147022          PPL           CI     Côte d'Ivoire            NaN          95   \n",
       "147023          PPL           CI     Côte d'Ivoire            NaN          90   \n",
       "147026          PPL           CI     Côte d'Ivoire            NaN          82   \n",
       "147027          PPL           CI     Côte d'Ivoire            NaN          82   \n",
       "\n",
       "       Admin2 Code Admin3 Code Admin4 Code  Population  Elevation  \\\n",
       "0             0307      030704         NaN         515        NaN   \n",
       "6              NaN         NaN         NaN       18847        NaN   \n",
       "7               12   101321000         NaN       83591        NaN   \n",
       "8               70   126312000         NaN        3768        NaN   \n",
       "9               42   104212000         NaN        2111        NaN   \n",
       "...            ...         ...         ...         ...        ...   \n",
       "147019         NaN         NaN         NaN        3557        NaN   \n",
       "147022         NaN         NaN         NaN        2676        NaN   \n",
       "147023         NaN         NaN         NaN        2090        NaN   \n",
       "147026         NaN         NaN         NaN        2376        NaN   \n",
       "147027         NaN         NaN         NaN        1948        NaN   \n",
       "\n",
       "        DIgital Elevation Model              Timezone Modification date  \\\n",
       "0                          3467          America/Lima        2020-05-13   \n",
       "6                            27  Pacific/Port_Moresby        2015-04-06   \n",
       "7                           310           Asia/Manila        2022-02-15   \n",
       "8                           288           Asia/Manila        2017-12-13   \n",
       "9                            37           Asia/Manila        2017-12-13   \n",
       "...                         ...                   ...               ...   \n",
       "147019                      111        Africa/Abidjan        2023-12-21   \n",
       "147022                      244        Africa/Abidjan        2023-12-22   \n",
       "147023                      334        Africa/Abidjan        2023-12-23   \n",
       "147026                       34        Africa/Abidjan        2023-12-22   \n",
       "147027                       42        Africa/Abidjan        2023-12-22   \n",
       "\n",
       "                LABEL EN           Coordinates  \n",
       "0                   Peru  -13.92862, -72.48496  \n",
       "6       Papua New Guinea   -5.55085, 150.13766  \n",
       "7            Philippines    7.90639, 125.09417  \n",
       "8            Philippines    6.22722, 125.12083  \n",
       "9            Philippines       8.5942, 123.668  \n",
       "...                  ...                   ...  \n",
       "147019     Côte d'Ivoire     6.14352, -3.38539  \n",
       "147022     Côte d'Ivoire      6.0444, -5.79622  \n",
       "147023     Côte d'Ivoire     7.79953, -5.19611  \n",
       "147026     Côte d'Ivoire      5.8394, -4.29264  \n",
       "147027     Côte d'Ivoire     5.82286, -4.22469  \n",
       "\n",
       "[120039 rows x 20 columns]"
      ]
     },
     "execution_count": 36,
     "metadata": {},
     "output_type": "execute_result"
    }
   ],
   "source": [
    "cdb[~pd.isna(cdb['Alternate Names'])] "
   ]
  },
  {
   "cell_type": "code",
   "execution_count": 37,
   "id": "953b7a18-a0e1-4510-9a39-36e46075eec7",
   "metadata": {},
   "outputs": [
    {
     "data": {
      "text/plain": [
       "<Axes: >"
      ]
     },
     "execution_count": 37,
     "metadata": {},
     "output_type": "execute_result"
    },
    {
     "data": {
      "image/png": "[encoded data removed]",
      "text/plain": [
       "<Figure size 640x480 with 1 Axes>"
      ]
     },
     "metadata": {},
     "output_type": "display_data"
    }
   ],
   "source": [
    "cdb.sort_values('Population').Population.reset_index().plot(logy=True) # elbow cut @ 20k inhabitants"
   ]
  },
  {
   "cell_type": "code",
   "execution_count": 86,
   "id": "121a1554-7994-4621-bcb3-6aac31098180",
   "metadata": {},
   "outputs": [
    {
     "data": {
      "text/plain": [
       "<Axes: >"
      ]
     },
     "execution_count": 86,
     "metadata": {},
     "output_type": "execute_result"
    },
    {
     "data": {
      "image/png": "[encoded data removed]",
      "text/plain": [
       "<Figure size 640x480 with 1 Axes>"
      ]
     },
     "metadata": {},
     "output_type": "display_data"
    }
   ],
   "source": [
    "#US Only market\n",
    "cdb[cdb['Country Code'].isin(['US','AU'])].sort_values('Population').Population.reset_index().plot(logy=True) # elbow cut @ 2k inhabitants isn't worth it"
   ]
  },
  {
   "cell_type": "code",
   "execution_count": 87,
   "id": "88dfaff6-56bc-4226-a825-f301b6c45894",
   "metadata": {},
   "outputs": [],
   "source": [
    "#cities of interest:\n",
    "cof = cdb[cdb['Country Code'].isin(['US','AU'])]\n",
    "cof = cof[cof['Population']>10000]"
   ]
  },
  {
   "cell_type": "code",
   "execution_count": 88,
   "id": "150b4986-2c8c-48c5-8dcf-ff0d231be2dc",
   "metadata": {},
   "outputs": [
    {
     "data": {
      "text/html": [
       "<div>\n",
       "<style scoped>\n",
       "    .dataframe tbody tr th:only-of-type {\n",
       "        vertical-align: middle;\n",
       "    }\n",
       "\n",
       "    .dataframe tbody tr th {\n",
       "        vertical-align: top;\n",
       "    }\n",
       "\n",
       "    .dataframe thead th {\n",
       "        text-align: right;\n",
       "    }\n",
       "</style>\n",
       "<table border=\"1\" class=\"dataframe\">\n",
       "  <thead>\n",
       "    <tr style=\"text-align: right;\">\n",
       "      <th></th>\n",
       "      <th>Name</th>\n",
       "      <th>Admin1 Code</th>\n",
       "    </tr>\n",
       "  </thead>\n",
       "  <tbody>\n",
       "    <tr>\n",
       "      <th>954</th>\n",
       "      <td>Newark</td>\n",
       "      <td>DE</td>\n",
       "    </tr>\n",
       "    <tr>\n",
       "      <th>28123</th>\n",
       "      <td>Newark</td>\n",
       "      <td>OH</td>\n",
       "    </tr>\n",
       "    <tr>\n",
       "      <th>52466</th>\n",
       "      <td>Newark</td>\n",
       "      <td>NJ</td>\n",
       "    </tr>\n",
       "    <tr>\n",
       "      <th>84104</th>\n",
       "      <td>Newark</td>\n",
       "      <td>CA</td>\n",
       "    </tr>\n",
       "  </tbody>\n",
       "</table>\n",
       "</div>"
      ],
      "text/plain": [
       "         Name Admin1 Code\n",
       "954    Newark          DE\n",
       "28123  Newark          OH\n",
       "52466  Newark          NJ\n",
       "84104  Newark          CA"
      ]
     },
     "execution_count": 88,
     "metadata": {},
     "output_type": "execute_result"
    }
   ],
   "source": [
    "cof[cof.Name=='Newark'][['Name','Admin1 Code']]"
   ]
  },
  {
   "cell_type": "markdown",
   "id": "80811da5-4eb1-4c94-a098-30825309a608",
   "metadata": {},
   "source": [
    "## 2.2 US Cities"
   ]
  },
  {
   "cell_type": "code",
   "execution_count": 89,
   "id": "a802880e-4309-4876-99b3-3f1906ffa38c",
   "metadata": {},
   "outputs": [],
   "source": [
    "cities_path = './data/us-cities-demographics.csv'\n",
    "usc = pd.read_csv(cities_path, sep=';', header=0)\n"
   ]
  },
  {
   "cell_type": "code",
   "execution_count": 90,
   "id": "e5481e64-220d-4157-9f69-b7fc4942548e",
   "metadata": {},
   "outputs": [],
   "source": [
    "USCODES = usc['State Code'].unique()"
   ]
  },
  {
   "cell_type": "code",
   "execution_count": 91,
   "id": "6e271906-c63a-44db-8594-8bea196ad68e",
   "metadata": {},
   "outputs": [],
   "source": [
    "usc = usc[['City','State Code','Median Age','Male Population','Female Population','Foreign-born']].drop_duplicates()"
   ]
  },
  {
   "cell_type": "code",
   "execution_count": 92,
   "id": "b8a3b685-760c-4015-b1e7-dbdbf42dfc04",
   "metadata": {},
   "outputs": [],
   "source": [
    "merged_df = pd.merge(\n",
    "    cof,\n",
    "    usc,\n",
    "    left_on=['Name', 'Admin1 Code'],\n",
    "    right_on=['City', 'State Code'],\n",
    "    how='left'\n",
    ")"
   ]
  },
  {
   "cell_type": "code",
   "execution_count": 93,
   "id": "d1db2146-9b2c-496c-851e-6c94040face2",
   "metadata": {
    "scrolled": true
   },
   "outputs": [],
   "source": [
    "geo_df = merged_df[['ASCII Name', 'Alternate Names', 'Feature Class',\n",
    "       'Feature Code', 'Country Code',\n",
    "       'Admin1 Code', 'Population', 'Elevation','Timezone', 'Coordinates', 'City', 'State Code',\n",
    "       'Median Age', 'Male Population', 'Female Population', 'Foreign-born']]\n",
    "\n",
    "blacklist = ['Enterprise','Summit','Justice',\"Mobile\",\"Opportunity\",\"Mission\",\"Orange\",\"March\",\"Central\"]\n",
    "\n",
    "\n",
    "for wrd in blacklist:\n",
    "    geo_df = geo_df[geo_df['ASCII Name']!=wrd]"
   ]
  },
  {
   "cell_type": "markdown",
   "id": "21c08186-3320-46d6-b32d-c7d786a1c09e",
   "metadata": {},
   "source": [
    "## 2.3 Feature extraction"
   ]
  },
  {
   "cell_type": "code",
   "execution_count": 94,
   "id": "d9e5f81e-b543-4730-9e86-ad48466b412b",
   "metadata": {},
   "outputs": [],
   "source": [
    "urls_df = pd.read_parquet(\"important_urls.parquet\")"
   ]
  },
  {
   "cell_type": "code",
   "execution_count": 95,
   "id": "c36edf56-ae85-4339-b69b-4458ed9538ca",
   "metadata": {},
   "outputs": [
    {
     "data": {
      "text/plain": [
       "13144"
      ]
     },
     "execution_count": 95,
     "metadata": {},
     "output_type": "execute_result"
    }
   ],
   "source": [
    "folder_path = \"./data/hackathon_data/\"# Google drive path of the dataset\n",
    "files_in_folder = os.listdir(folder_path)\n",
    "len(files_in_folder)"
   ]
  },
  {
   "cell_type": "code",
   "execution_count": 96,
   "id": "819dc180-08dc-4b3b-8ee9-bbc54d7e97f2",
   "metadata": {},
   "outputs": [],
   "source": [
    "urls_set = set(urls_df['url'])"
   ]
  },
  {
   "cell_type": "code",
   "execution_count": 97,
   "id": "e0c81a54-2f37-4d28-9842-e656de6c1ee8",
   "metadata": {},
   "outputs": [],
   "source": [
    "def load_documents(json_file):\n",
    "    \"\"\"Loads the JSON file.\"\"\"\n",
    "    with open(json_file, 'r') as f:\n",
    "      try:\n",
    "          data = json.load(f)\n",
    "          return data\n",
    "      except json.JSONDecodeError:\n",
    "          print(f\"Error reading {json_file}, it may not be a valid JSON file.\")\n",
    "    return []"
   ]
  },
  {
   "cell_type": "code",
   "execution_count": 98,
   "id": "99cfce88-c70e-4f91-a825-5cbc684d133f",
   "metadata": {
    "scrolled": true
   },
   "outputs": [],
   "source": [
    "def load_text(file=files_in_folder[0]):\n",
    "    print(file)\n",
    "    urldocs=load_documents(folder_path+file)['text_by_page_url']\n",
    "    urldocs = {k:v for k,v in urldocs.items() if k in urls_set}\n",
    "    return urldocs.values()"
   ]
  },
  {
   "cell_type": "code",
   "execution_count": 103,
   "id": "4f4cdb20-aea0-48b3-a34d-2086fe825898",
   "metadata": {},
   "outputs": [
    {
     "name": "stdout",
     "output_type": "stream",
     "text": [
      "brewingz.com.json\n"
     ]
    },
    {
     "name": "stderr",
     "output_type": "stream",
     "text": [
      "Processing Docs: 100%|█████████████████████████████████████████████████████████████████████████████████████████████████████████████████████████████████████████| 2/2 [00:00<00:00, 7981.55it/s]"
     ]
    },
    {
     "name": "stdout",
     "output_type": "stream",
     "text": [
      "we are in Houston, None\n"
     ]
    },
    {
     "name": "stderr",
     "output_type": "stream",
     "text": [
      "\n"
     ]
    }
   ],
   "source": [
    "import re\n",
    "from concurrent.futures import ThreadPoolExecutor\n",
    "from typing import List, Tuple\n",
    "from tqdm import tqdm\n",
    "\n",
    "# City list\n",
    "cities = geo_df['ASCII Name'].values\n",
    "cities_set = set(city.lower() for city in cities)\n",
    "\n",
    "# Regex for Title Case OR ALL CAPS\n",
    "pattern = re.compile(\n",
    "    r'\\b(?:' +\n",
    "    '|'.join(\n",
    "        rf'{re.escape(city.title())}|{re.escape(city.upper())}'\n",
    "        for city in cities_set\n",
    "    ) +\n",
    "    r')\\b'\n",
    ")\n",
    "\n",
    "# Match function — now returns position too\n",
    "def contains_city(text: str) -> Tuple[bool, str, int]:\n",
    "    match = pattern.search(text)\n",
    "    if match:\n",
    "        return True, match.group(0), match.start()\n",
    "    return False, \"\", -1\n",
    "\n",
    "# ✅ You asked to keep this unchanged — still works perfectly\n",
    "def process_documents(documents: List[str], max_workers: int = 4):\n",
    "    with ThreadPoolExecutor(max_workers=max_workers) as executor:\n",
    "        return list(tqdm(executor.map(contains_city, documents), total=len(documents), desc=\"Processing Docs\"))\n",
    "\n",
    "# Example documents\n",
    "docs = load_text()\n",
    "\n",
    "# Run it\n",
    "results = process_documents(docs)\n",
    "\n",
    "# Output results\n",
    "found_cities = []\n",
    "contexts = {}\n",
    "for doc, (found, city, pos) in zip(docs, results):\n",
    "    if found:\n",
    "        found_cities.append(city)\n",
    "        if city in contexts.keys(): # add context\n",
    "            contexts[city] = contexts[city]+' '+doc[pos:pos+30]\n",
    "        else: #create context\n",
    "            contexts[city] = doc[pos:pos+30]\n",
    "        #print(f\"{city}, Context: {doc[pos:pos+30]}\")\n",
    "\n",
    "found_cities = np.array(found_cities)\n",
    "\n",
    "# Get unique values and their counts\n",
    "cvalues, ccounts = np.unique(found_cities, return_counts=True)\n",
    "\n",
    "# Find the most frequent (mode)\n",
    "\n",
    "most_frequent = cvalues[np.argmax(ccounts)]\n",
    "top_context = contexts[most_frequent]\n",
    "\n",
    "\n",
    "# Now check if in the context\n",
    "\n",
    "# Build regex to match full words (case-sensitive)\n",
    "pattern = re.compile(r'\\b(?:' + '|'.join(re.escape(code) for code in USCODES) + r')\\b')\n",
    "\n",
    "# Find all matches\n",
    "code_matches = pattern.findall(top_context)\n",
    "\n",
    "# Find the most frequent one\n",
    "if code_matches:\n",
    "    values, counts = np.unique(code_matches, return_counts=True)\n",
    "    found_state = values[np.argmax(counts)]\n",
    "else:\n",
    "    found_state = None\n",
    "\n",
    "print(f'we are in {most_frequent}, {found_state}')"
   ]
  },
  {
   "cell_type": "markdown",
   "id": "cab386aa-3e4c-4936-90e9-5680bd948d01",
   "metadata": {},
   "source": [
    "## Now run it on the dataset"
   ]
  },
  {
   "cell_type": "code",
   "execution_count": 148,
   "id": "a5beda86-fc4c-4778-a195-a46899be32af",
   "metadata": {},
   "outputs": [],
   "source": [
    "cities = geo_df['ASCII Name'].values\n",
    "cities_set = set(city.lower() for city in cities)\n",
    "\n",
    "def extract_location(baseurl=files_in_folder[0],max_workers=4,disabletqdm=True):\n",
    "    # Documents\n",
    "    docs = load_text(file=baseurl)\n",
    "    \n",
    "    # City list\n",
    "    \n",
    "    # Regex for Title Case OR ALL CAPS\n",
    "    pattern = re.compile(\n",
    "        r'\\b(?:' +\n",
    "        '|'.join(\n",
    "            rf'{re.escape(city.title())}|{re.escape(city.upper())}'\n",
    "            for city in cities_set\n",
    "        ) +\n",
    "        r')\\b'\n",
    "    )\n",
    "    \n",
    "    # Match function — now returns position too\n",
    "    def contains_city(text: str) -> Tuple[bool, str, int]:\n",
    "        match = pattern.search(text)\n",
    "        if match:\n",
    "            return True, match.group(0), match.start()\n",
    "        return False, \"\", -1\n",
    "    \n",
    "    def process_documents(documents: List[str], max_workers: int = 4):\n",
    "        with ThreadPoolExecutor(max_workers=max_workers) as executor:\n",
    "            return list(tqdm(executor.map(contains_city, documents), total=len(documents), desc=\"Processing Docs\", disable=disabletqdm))\n",
    "    \n",
    "    # Run it\n",
    "    results = process_documents(docs,max_workers=max_workers)\n",
    "    \n",
    "    # Output results\n",
    "    found_cities = []\n",
    "    contexts = {}\n",
    "    for doc, (found, city, pos) in zip(docs, results):\n",
    "        if found:\n",
    "            found_cities.append(city)\n",
    "            if city in contexts.keys(): # add context\n",
    "                contexts[city] = contexts[city]+' '+doc[pos:pos+30]\n",
    "            else: #create context\n",
    "                contexts[city] = doc[pos:pos+30]\n",
    "            #print(f\"{city}, Context: {doc[pos:pos+30]}\")\n",
    "    \n",
    "    found_cities = np.array(found_cities)\n",
    "    \n",
    "    # Get unique values and their counts\n",
    "    cvalues, ccounts = np.unique(found_cities, return_counts=True)\n",
    "    cvalues_sorted = cvalues[np.argsort(-ccounts)]\n",
    "\n",
    "    \n",
    "    \n",
    "    if len(ccounts) == 0:\n",
    "        return {'city':None, 'state':None, 'context':None, 'num_cities': 0, 'top_cities': cvalues_sorted}\n",
    "        \n",
    "    # Find the most frequent (mode)\n",
    "    most_frequent = cvalues[np.argmax(ccounts)]\n",
    "    top_context = contexts[most_frequent]\n",
    "    \n",
    "    \n",
    "    # Now check if in the context\n",
    "  \n",
    "    # Build regex to match full words (case-sensitive)\n",
    "    pattern = re.compile(r'\\b(?:' + '|'.join(re.escape(code) for code in USCODES) + r')\\b')\n",
    "    \n",
    "    # Find all matches\n",
    "    code_matches = pattern.findall(top_context)\n",
    "    \n",
    "    # Find the most frequent one\n",
    "    if code_matches:\n",
    "        values, counts = np.unique(code_matches, return_counts=True)\n",
    "        found_state = values[np.argmax(counts)]\n",
    "    else:\n",
    "        found_state = None\n",
    "    \n",
    "    return {'city':most_frequent, 'state':found_state, 'context':top_context, 'num_cities': len(cvalues), 'top_cities': cvalues_sorted}"
   ]
  },
  {
   "cell_type": "code",
   "execution_count": 149,
   "id": "21d5dee9-a3f3-45a2-90c2-64e2638a7ebb",
   "metadata": {},
   "outputs": [
    {
     "data": {
      "text/plain": [
       "0"
      ]
     },
     "execution_count": 149,
     "metadata": {},
     "output_type": "execute_result"
    }
   ],
   "source": [
    "len(geo_df[geo_df['Elevation']==-1000])"
   ]
  },
  {
   "cell_type": "code",
   "execution_count": 151,
   "id": "32ec28b7-ab1c-490d-bd4c-b8d78d2cfcac",
   "metadata": {
    "scrolled": true
   },
   "outputs": [
    {
     "name": "stderr",
     "output_type": "stream",
     "text": [
      "  0%|                                                                                                                                                        | 2/13144 [00:00<15:00, 14.60it/s]"
     ]
    },
    {
     "name": "stdout",
     "output_type": "stream",
     "text": [
      "brewingz.com.json\n",
      "edgewoodproperties.com.json\n",
      "sohomd.com.json\n"
     ]
    },
    {
     "name": "stderr",
     "output_type": "stream",
     "text": [
      "  0%|                                                                                                                                                        | 4/13144 [00:00<15:27, 14.17it/s]"
     ]
    },
    {
     "name": "stdout",
     "output_type": "stream",
     "text": [
      "russdaviswholesale.com.json\n",
      "gothamgreens.com.json\n"
     ]
    },
    {
     "name": "stderr",
     "output_type": "stream",
     "text": [
      "  0%|                                                                                                                                                        | 6/13144 [00:00<24:29,  8.94it/s]"
     ]
    },
    {
     "name": "stdout",
     "output_type": "stream",
     "text": [
      "globecorporate.com.json\n",
      "optics1.com.json\n",
      "fluoresco.com.json\n"
     ]
    },
    {
     "name": "stderr",
     "output_type": "stream",
     "text": [
      "  0%|                                                                                                                                                        | 8/13144 [00:01<38:18,  5.72it/s]"
     ]
    },
    {
     "name": "stdout",
     "output_type": "stream",
     "text": [
      "firstlinesoftware.com.json\n"
     ]
    },
    {
     "name": "stderr",
     "output_type": "stream",
     "text": [
      "  0%|                                                                                                                                                        | 9/13144 [00:01<58:20,  3.75it/s]"
     ]
    },
    {
     "name": "stdout",
     "output_type": "stream",
     "text": [
      "thayermahan.com.json\n"
     ]
    },
    {
     "name": "stderr",
     "output_type": "stream",
     "text": [
      "  0%|                                                                                                                                                     | 10/13144 [00:02<1:14:44,  2.93it/s]"
     ]
    },
    {
     "name": "stdout",
     "output_type": "stream",
     "text": [
      "rizzle.com.json\n"
     ]
    },
    {
     "name": "stderr",
     "output_type": "stream",
     "text": [
      "  0%|                                                                                                                                                     | 11/13144 [00:02<1:22:42,  2.65it/s]"
     ]
    },
    {
     "name": "stdout",
     "output_type": "stream",
     "text": [
      "mortgagebrokermarketing.com.json\n"
     ]
    },
    {
     "name": "stderr",
     "output_type": "stream",
     "text": [
      "  0%|▏                                                                                                                                                    | 12/13144 [00:03<1:14:44,  2.93it/s]"
     ]
    },
    {
     "name": "stdout",
     "output_type": "stream",
     "text": [
      "avon-protection.com.json\n",
      "bluezones.com.json\n"
     ]
    },
    {
     "name": "stderr",
     "output_type": "stream",
     "text": [
      "  0%|▏                                                                                                                                                    | 14/13144 [00:03<1:06:04,  3.31it/s]"
     ]
    },
    {
     "name": "stdout",
     "output_type": "stream",
     "text": [
      "coventry.com.json\n",
      "paintthetown.com.json\n"
     ]
    },
    {
     "name": "stderr",
     "output_type": "stream",
     "text": [
      "  0%|▏                                                                                                                                                    | 16/13144 [00:04<1:05:49,  3.32it/s]"
     ]
    },
    {
     "name": "stdout",
     "output_type": "stream",
     "text": [
      "bellecares.com.json\n"
     ]
    },
    {
     "name": "stderr",
     "output_type": "stream",
     "text": [
      "  0%|▏                                                                                                                                                    | 17/13144 [00:04<1:15:12,  2.91it/s]"
     ]
    },
    {
     "name": "stdout",
     "output_type": "stream",
     "text": [
      "henryfordoptimeyes.com.json\n",
      "bedsonline.com.json\n"
     ]
    },
    {
     "name": "stderr",
     "output_type": "stream",
     "text": [
      "  0%|▏                                                                                                                                                      | 20/13144 [00:05<53:09,  4.11it/s]"
     ]
    },
    {
     "name": "stdout",
     "output_type": "stream",
     "text": [
      "fsnursing.com.json\n",
      "centricbiz.com.json\n"
     ]
    },
    {
     "name": "stderr",
     "output_type": "stream",
     "text": [
      "  0%|▏                                                                                                                                                    | 21/13144 [00:05<1:10:08,  3.12it/s]"
     ]
    },
    {
     "name": "stdout",
     "output_type": "stream",
     "text": [
      "carsonvalleyinn.com.json\n",
      "texanacenter.com.json\n"
     ]
    },
    {
     "name": "stderr",
     "output_type": "stream",
     "text": [
      "  0%|▎                                                                                                                                                    | 23/13144 [00:06<1:14:39,  2.93it/s]"
     ]
    },
    {
     "name": "stdout",
     "output_type": "stream",
     "text": [
      "amcnetworks.com.json\n"
     ]
    },
    {
     "name": "stderr",
     "output_type": "stream",
     "text": [
      "  0%|▎                                                                                                                                                    | 23/13144 [00:06<1:04:38,  3.38it/s]\n",
      "\n",
      "KeyboardInterrupt\n",
      "\n"
     ]
    }
   ],
   "source": [
    "for file in tqdm(files_in_folder[:]):\n",
    "    info = extract_location(baseurl=file,max_workers=30)\n",
    "    geodata = geo_df[(geo_df['ASCII Name']==info['city']) & (geo_df['Admin1 Code']==info['state'])]\n",
    "    \n",
    "    with open('./data/geofeature.csv', mode='a', newline='') as geo_out:\n",
    "        writer = csv.writer(geo_out)\n",
    "        writer.writerow([file,len(geodata),geodata.to_json() if len(geodata) > 0 else info['context'],info['num_cities'],info['top_cities']])\n",
    "    "
   ]
  },
  {
   "cell_type": "code",
   "execution_count": 281,
   "id": "73234116-1fa8-4955-a6aa-1296839a3a5b",
   "metadata": {},
   "outputs": [
    {
     "name": "stdout",
     "output_type": "stream",
     "text": [
      "2\n"
     ]
    }
   ],
   "source": []
  },
  {
   "cell_type": "markdown",
   "id": "f0be4a63-2ead-475b-bdd4-db500ccb7b38",
   "metadata": {},
   "source": [
    "## other..."
   ]
  },
  {
   "cell_type": "code",
   "execution_count": null,
   "id": "dabd1db5-e125-4d39-9ddd-f426a40c915a",
   "metadata": {},
   "outputs": [],
   "source": []
  },
  {
   "cell_type": "code",
   "execution_count": 36,
   "id": "7rVVlmZ3KMTJ",
   "metadata": {
    "colab": {
     "base_uri": "https://localhost:8080/"
    },
    "id": "7rVVlmZ3KMTJ",
    "outputId": "fcec9119-9c8c-4a96-88c8-9e8fc863ea13"
   },
   "outputs": [
    {
     "data": {
      "text/plain": [
       "13144"
      ]
     },
     "execution_count": 36,
     "metadata": {},
     "output_type": "execute_result"
    }
   ],
   "source": []
  },
  {
   "cell_type": "code",
   "execution_count": 37,
   "id": "AdSRf4xB_KWM",
   "metadata": {
    "id": "AdSRf4xB_KWM"
   },
   "outputs": [],
   "source": []
  },
  {
   "cell_type": "code",
   "execution_count": 9,
   "id": "d9ed7302-b64b-4ede-8d20-3bab250245d4",
   "metadata": {
    "collapsed": true,
    "jupyter": {
     "outputs_hidden": true
    }
   },
   "outputs": [
    {
     "data": {
      "text/plain": [
       "['skysolutions.com.json',\n",
       " 'richardsonsports.com.json',\n",
       " 'wilson-company.com.json',\n",
       " 'westernallied.com.json',\n",
       " 'bluescopebuildings.com.json',\n",
       " 'cobbemc.com.json',\n",
       " 'is4s.com.json',\n",
       " 'berkleyselect.com.json',\n",
       " 'webbwheel.com.json',\n",
       " 'sygmanetwork.com.json',\n",
       " 'smma.com.json',\n",
       " 'cgicontainersales.com.json',\n",
       " 'nydig.com.json',\n",
       " 'protranslating.com.json',\n",
       " 'traditionalbank.com.json',\n",
       " 'percona.com.json',\n",
       " 'lawnlove.com.json',\n",
       " 'elementsdesign.com.json',\n",
       " 'pghwong.com.json',\n",
       " 'fwcook.com.json',\n",
       " 'sofistadium.com.json',\n",
       " 'sfopera.com.json',\n",
       " 'helenwellsagency.com.json',\n",
       " 'russdaviswholesale.com.json',\n",
       " 'irissoftware.com.json',\n",
       " 'klarquist.com.json',\n",
       " 'govtact.com.json',\n",
       " 'lowlandsgroup.com.json',\n",
       " 'kingseducation.com.json',\n",
       " 'qualcareinc.com.json',\n",
       " 'mymotomart.com.json',\n",
       " 'chartbeat.com.json',\n",
       " 'kongbasileconsulting.com.json',\n",
       " 'javacity.com.json',\n",
       " 'saintmarks.com.json',\n",
       " 'finchpaper.com.json',\n",
       " 'optoro.com.json',\n",
       " 'paccarparts.com.json',\n",
       " 'tendercarehh.com.json',\n",
       " 'ftei.com.json',\n",
       " 'lessen.com.json',\n",
       " 'runkandpratt.com.json',\n",
       " 'utblogistics.com.json',\n",
       " 'kochmodular.com.json',\n",
       " 'packhealth.com.json',\n",
       " 'barclaysus.com.json',\n",
       " 'fhlbtopeka.com.json',\n",
       " 'netspend.com.json',\n",
       " 'redclassic.com.json',\n",
       " 'solutionsbytext.com.json',\n",
       " 'miltoncat.com.json',\n",
       " 'guardianpharmacy.com.json',\n",
       " 'financialpartners.com.json',\n",
       " 'delfina.com.json',\n",
       " 'frontgatetickets.com.json',\n",
       " 'feinewengland.com.json',\n",
       " 'laposadadesantafe.com.json',\n",
       " 'getrapl.com.json',\n",
       " 'interlake-steamship.com.json',\n",
       " 'hal-inc.com.json',\n",
       " 'sparkadvisors.com.json',\n",
       " 'joinatlantis.com.json',\n",
       " 'milenderwhite.com.json',\n",
       " 'ishir.com.json',\n",
       " 'touchstoneinvestments.com.json',\n",
       " 'vlkarchitects.com.json',\n",
       " 'brightcoreenergy.com.json',\n",
       " 'affinityhealthcorp.com.json',\n",
       " 'stadiumpeople.com.json',\n",
       " 'gannettfleming.com.json',\n",
       " 'imigroup.com.json',\n",
       " 'trustapexinternational.com.json',\n",
       " 'lumapps.com.json',\n",
       " 'cardinals.com.json',\n",
       " 'revisionenergy.com.json',\n",
       " 'guthy-renker.com.json',\n",
       " 'marqeta.com.json',\n",
       " 'mechatronics.com.json',\n",
       " 'rewterz.com.json',\n",
       " 'tektonlabs.com.json',\n",
       " 'georgetowncommunityhospital.com.json',\n",
       " 'sterlingequities.com.json',\n",
       " 'coverwallet.com.json',\n",
       " 'holyspiritretirementhome.com.json',\n",
       " 'senecaglobal.com.json',\n",
       " 'rwcatskills.com.json',\n",
       " 'emersonrogers.com.json',\n",
       " 'neogenomics.com.json',\n",
       " 'cctvcamerapros.com.json',\n",
       " 'thevillageshealth.com.json',\n",
       " 'cjadvertising.com.json',\n",
       " 'engageware.com.json',\n",
       " 'cbservice.com.json',\n",
       " 'conceptrehab.com.json',\n",
       " 'answernet.com.json',\n",
       " 's2cp.com.json',\n",
       " 'montessorieducation.com.json',\n",
       " 'inspire11.com.json',\n",
       " 'arvinas.com.json',\n",
       " 'constellationmutual.com.json',\n",
       " 'aaitpro.com.json',\n",
       " 'citimed.com.json',\n",
       " 'virginiamedia.com.json',\n",
       " 'neevsystems.com.json',\n",
       " '66degrees.com.json',\n",
       " 'evonsys.com.json',\n",
       " 'imta.com.json',\n",
       " 'chowbus.com.json',\n",
       " 'julyservices.com.json',\n",
       " 'benhamouglobalventures.com.json',\n",
       " 'ccok.com.json',\n",
       " 'alamoanahotelhonolulu.com.json',\n",
       " 'mooretransport.com.json',\n",
       " 'usfertility.com.json',\n",
       " 'marionso.com.json',\n",
       " 'ucco.com.json',\n",
       " 'wolffolins.com.json',\n",
       " 'revionics.com.json',\n",
       " 'epiloglaser.com.json',\n",
       " 'sram.com.json',\n",
       " 'purvis.com.json',\n",
       " 'freshgravity.com.json',\n",
       " 'issaction.com.json',\n",
       " 'littletongroup.com.json',\n",
       " 'mainline.com.json',\n",
       " 'choate.com.json',\n",
       " 'c2spr.com.json',\n",
       " 'modjeski.com.json',\n",
       " 'duplionline.com.json',\n",
       " 'adesisinc.com.json',\n",
       " 'unitedpower.com.json',\n",
       " 'gitano.com.json',\n",
       " 'simondata.com.json',\n",
       " 'engagestar.com.json',\n",
       " 'silaservices.com.json',\n",
       " 'fpacp.com.json',\n",
       " 'alpha-sense.com.json',\n",
       " 'harveyssupermarkets.com.json',\n",
       " 'alcivia.com.json',\n",
       " 'rlginc.com.json',\n",
       " 'buildgc.com.json',\n",
       " 'beekley.com.json',\n",
       " 'imperfect.com.json',\n",
       " 'combinedtransport.com.json',\n",
       " 'nsre.com.json',\n",
       " 'iengineering.com.json',\n",
       " 'mimeridian.com.json',\n",
       " 'canuscorp.com.json',\n",
       " 'wvmb.com.json',\n",
       " 'corexpartners.com.json',\n",
       " 'flatrivergroup.com.json',\n",
       " 'walshbrothers.com.json',\n",
       " 'dashlane.com.json',\n",
       " 'colsongroup.com.json',\n",
       " 'tilebar.com.json',\n",
       " 'concerthealth.com.json',\n",
       " 'tuckeralbin.com.json',\n",
       " 'aprco.com.json',\n",
       " 'maxwellkates.com.json',\n",
       " 'theviswagroup.com.json',\n",
       " 'e360.com.json',\n",
       " 'cardinalstaffing.com.json',\n",
       " 'precisionglobal.com.json',\n",
       " 'cottoninc.com.json',\n",
       " 'spectratechinc.com.json',\n",
       " 'alphaconsulting.com.json',\n",
       " 'mellottcompany.com.json',\n",
       " 'acelerolearning.com.json',\n",
       " 'fontainemodification.com.json',\n",
       " 'healthmark-group.com.json',\n",
       " 'dedicatednurses.com.json',\n",
       " 'gubagoo.com.json',\n",
       " 'cancapital.com.json',\n",
       " 'hansoll.com.json',\n",
       " 'advisenltd.com.json',\n",
       " 'ftxcs.com.json',\n",
       " 'tfeconnect.com.json',\n",
       " 'teamavoq.com.json',\n",
       " 'portcanaveral.com.json',\n",
       " 'silverstatecu.com.json',\n",
       " 'ffvamutual.com.json',\n",
       " 'cityshieldllc.com.json',\n",
       " 'kramerbev.com.json',\n",
       " 'pathstream.com.json',\n",
       " 'forwardaircorp.com.json',\n",
       " 'berjeinc.com.json',\n",
       " 'chevysmd.com.json',\n",
       " 'everstorypartners.com.json',\n",
       " 'cambridgecomputer.com.json',\n",
       " 'dbi-cc.com.json',\n",
       " 'apiiro.com.json',\n",
       " 'globaldots.com.json',\n",
       " 'eeintl.com.json',\n",
       " 'cgsmedicare.com.json',\n",
       " 'advisor360.com.json',\n",
       " 'hawksoft.com.json',\n",
       " 'forwardslope.com.json',\n",
       " 'fsbwa.com.json',\n",
       " 'greenrisetech.com.json',\n",
       " 'cakwarriors.com.json',\n",
       " 'scgdesignsolution.com.json',\n",
       " 'hollywoodgulfcoast.com.json',\n",
       " 'rivierahealthresort.com.json',\n",
       " 'edgeindtech.com.json',\n",
       " 'whatifinnovation.com.json',\n",
       " 'mspcommunications.com.json',\n",
       " 'methode.com.json',\n",
       " 'destinycorp.com.json',\n",
       " 'sclv.com.json',\n",
       " 'ncnelink.com.json',\n",
       " 'safelitesolutions.com.json',\n",
       " 'trssllc.com.json',\n",
       " 'vigitrust.com.json',\n",
       " 'idealconcepts.com.json',\n",
       " 'nflfilms.com.json',\n",
       " 'onestream.com.json',\n",
       " 'southworks.com.json',\n",
       " 'aacd.com.json',\n",
       " 'chelsio.com.json',\n",
       " 'ptsmc.com.json',\n",
       " 'cdcloans.com.json',\n",
       " 'thehaunedge.com.json',\n",
       " 'ceris.com.json',\n",
       " 'ouhealth.com.json',\n",
       " 'stluciesheriff.com.json',\n",
       " 'fcbcure.com.json',\n",
       " 'lives2residential.com.json',\n",
       " 'burgerrehab.com.json',\n",
       " 'nedelta.com.json',\n",
       " 'wrsystems.com.json',\n",
       " 'valoris.com.json',\n",
       " 'marwoodgroup.com.json',\n",
       " 'juvo.com.json',\n",
       " 'rbtcpas.com.json',\n",
       " 'elmecommunities.com.json',\n",
       " 'wmu.com.json',\n",
       " 'centuryrehab.com.json',\n",
       " 'houseofparliament.com.json',\n",
       " 'atspnw.com.json',\n",
       " 'mysmilemagic.com.json',\n",
       " 'cafepressinc.com.json',\n",
       " 'cnb1901.com.json',\n",
       " 'unitedfinancialfreedom.com.json',\n",
       " 'acscrops.com.json',\n",
       " 'sawmillclub.com.json',\n",
       " 'twochairs.com.json',\n",
       " 'walmartdataventures.com.json',\n",
       " 'avidbank.com.json',\n",
       " 'transak.com.json',\n",
       " 'buckleypowder.com.json',\n",
       " 'nortonchildrens.com.json',\n",
       " 'automationservice.com.json',\n",
       " 'spectralink.com.json',\n",
       " 'conceptltd.com.json',\n",
       " 'partnerize.com.json',\n",
       " 'parsebiosciences.com.json',\n",
       " 'areteir.com.json',\n",
       " 'onshoreoutsourcing.com.json',\n",
       " 'plant-partners.com.json',\n",
       " 'grammerlogistics.com.json',\n",
       " 'accessnurse.com.json',\n",
       " 'curtinmaritime.com.json',\n",
       " 'archatl.com.json',\n",
       " 'dover.com.json',\n",
       " 'nelsonbrothers.com.json',\n",
       " 'nextlevelsports.com.json',\n",
       " 'lighthouseindia.com.json',\n",
       " 'dhjj.com.json',\n",
       " 'inhometherapy.com.json',\n",
       " 'forkliftsystems.com.json',\n",
       " 'govos.com.json',\n",
       " 'sior.com.json',\n",
       " 'wellnow.com.json',\n",
       " 'ndieng.com.json',\n",
       " 'bpcs.com.json',\n",
       " 'aemcorp.com.json',\n",
       " 'parkhill.com.json',\n",
       " 'clever.com.json',\n",
       " 'revvaviation.com.json',\n",
       " 'harvesthousepublishers.com.json',\n",
       " 'nortechsys.com.json',\n",
       " 'cbwarburg.com.json',\n",
       " 'esrtreit.com.json',\n",
       " 'prg.com.json',\n",
       " 'newlinlaw.com.json',\n",
       " 'goldcoastbeverage.com.json',\n",
       " 'steelers.com.json',\n",
       " 'allcampus.com.json',\n",
       " 'mersofmich.com.json',\n",
       " 'traulsen.com.json',\n",
       " 'micromerchantsystems.com.json',\n",
       " 'davispolk.com.json',\n",
       " 'collectivelyinc.com.json',\n",
       " 'kramerlevin.com.json',\n",
       " 'errg.com.json',\n",
       " 'waggonerstrucking.com.json',\n",
       " 'ckha.com.json',\n",
       " 'memesmediagroup.com.json',\n",
       " 'fruitgrowers.com.json',\n",
       " 'doeandcompany.com.json',\n",
       " 'superegoholding.com.json',\n",
       " 'ticasino.com.json',\n",
       " 'aitacs.com.json',\n",
       " 'orhp.com.json',\n",
       " 'saintsbaseball.com.json',\n",
       " 'spartasystems.com.json',\n",
       " 'coremark.com.json',\n",
       " 'acclaro.com.json',\n",
       " 'mtci.com.json',\n",
       " 'thepoho.com.json',\n",
       " 'fillingstation.com.json',\n",
       " 'systemskills.com.json',\n",
       " 'elevolearning.com.json',\n",
       " 'bowersandkubota.com.json',\n",
       " 'amtelco.com.json',\n",
       " 'landolakes.com.json',\n",
       " 'usebounce.com.json',\n",
       " 'g-w.com.json',\n",
       " 'carolinafoodsinc.com.json',\n",
       " 'blueworldpools.com.json',\n",
       " 'atlantiscasino.com.json',\n",
       " 'mozarcmedical.com.json',\n",
       " 'custompax.com.json',\n",
       " 'insightpartners.com.json',\n",
       " 'skaeng.com.json',\n",
       " 'nhcares.com.json',\n",
       " 'blueoptima.com.json',\n",
       " 'jifiti.com.json',\n",
       " 'kidsinthegame.com.json',\n",
       " 'decodedadvertising.com.json',\n",
       " 'schmidtsche-schack.com.json',\n",
       " 'knotion.com.json',\n",
       " 'forbrightbank.com.json',\n",
       " 'uniloy.com.json',\n",
       " 'applebuscompany.com.json',\n",
       " 'lgcypower.com.json',\n",
       " 'valcor.com.json',\n",
       " 'keoliscs.com.json',\n",
       " 'cchphealthplan.com.json',\n",
       " 'ultimatepail.com.json',\n",
       " 'definitivehc.com.json',\n",
       " 'qualizeal.com.json',\n",
       " 'jcmh.com.json',\n",
       " 'conceptsnrec.com.json',\n",
       " 'coraphysicaltherapy.com.json',\n",
       " 'nvisionu.com.json',\n",
       " 'thelittlenell.com.json',\n",
       " 'scyap.com.json',\n",
       " 'oneparkfinancial.com.json',\n",
       " 'azacp.com.json',\n",
       " 'stillwatermedical.com.json',\n",
       " 'carwashadvisory.com.json',\n",
       " 'mcdonaldcarano.com.json',\n",
       " 'nassco.com.json',\n",
       " 'audintel.com.json',\n",
       " 'abelsontaylor.com.json',\n",
       " 'partnersinpediatrics.com.json',\n",
       " 'safrandatasystemsus.com.json',\n",
       " 'blackboardk12.com.json',\n",
       " 'ceestaffing.com.json',\n",
       " 'area17.com.json',\n",
       " 'avbmarketing.com.json',\n",
       " 'swkidney.com.json',\n",
       " 'nozzlenolen.com.json',\n",
       " 'billingsleyco.com.json',\n",
       " 'mybenefitsplus.com.json',\n",
       " 'wabashvalleyeggs.com.json',\n",
       " 'henselphelps.com.json',\n",
       " 'mindcolorautism.com.json',\n",
       " 'velaninfo.com.json',\n",
       " 'shinetechsoftware.com.json',\n",
       " 'rell.com.json',\n",
       " 'alvitacare.com.json',\n",
       " 'kwplatinumrealty.com.json',\n",
       " 'saratogacasino.com.json',\n",
       " 'preferredbank.com.json',\n",
       " 'visto.com.json',\n",
       " 'bubbakoos.com.json',\n",
       " 'integrisit.com.json',\n",
       " 'camurren.com.json',\n",
       " 'westell.com.json',\n",
       " 'phelpssecurity.com.json',\n",
       " 'evconnect.com.json',\n",
       " 'parkbank.com.json',\n",
       " 'suffolk.com.json',\n",
       " 'integratedhealthcarestaffing.com.json',\n",
       " 'soniresources.com.json',\n",
       " 'lncurtis.com.json',\n",
       " 'techvedika.com.json',\n",
       " 'corporatevisions.com.json',\n",
       " 'mediadc.com.json',\n",
       " 'srhc.com.json',\n",
       " 'vestmark.com.json',\n",
       " 'strosechurch.com.json',\n",
       " 'dashdevs.com.json',\n",
       " 'redpanda.com.json',\n",
       " 'victorious.com.json',\n",
       " 'feditc.com.json',\n",
       " 'dana-co.com.json',\n",
       " 'huseculinary.com.json',\n",
       " 'cleaninc.com.json',\n",
       " 'completehealth.com.json',\n",
       " 'metrobps.com.json',\n",
       " 'dksassociates.com.json',\n",
       " 'aircond.com.json',\n",
       " 'hayscountytx.com.json',\n",
       " 'columbushospitality.com.json',\n",
       " 'vitaehs.com.json',\n",
       " 'ezeefiber.com.json',\n",
       " 'clearbridgetech.com.json',\n",
       " 'diabsolut.com.json',\n",
       " 'roneengineers.com.json',\n",
       " 'attainaba.com.json',\n",
       " 'cwlp.com.json',\n",
       " 'cmishipmanagement.com.json',\n",
       " 'bankatfirstnational.com.json',\n",
       " 'dataentryindia.com.json',\n",
       " 'c3insurance.com.json',\n",
       " 'modulemd.com.json',\n",
       " 'cliffhousemaine.com.json',\n",
       " 'cloudangles.com.json',\n",
       " 'medleycompany.com.json',\n",
       " 'unitil.com.json',\n",
       " 'farmjournalmedia.com.json',\n",
       " 'ndala.com.json',\n",
       " 'valoremreply.com.json',\n",
       " 'fairmont-kea-lani.com.json',\n",
       " 'gilautomation.com.json',\n",
       " 'caro-nut.com.json',\n",
       " 'newlight.com.json',\n",
       " 'ceriumnetworks.com.json',\n",
       " 'personcenteredservices.com.json',\n",
       " 'tjfact.com.json',\n",
       " 'cafortune.com.json',\n",
       " 'florencehc.com.json',\n",
       " 'jordanessentials.com.json',\n",
       " 'alfaenergygroup.com.json',\n",
       " 'cennoxsafes.com.json',\n",
       " 'udcus.com.json',\n",
       " 'fts-intl.com.json',\n",
       " 'programmablepower.com.json',\n",
       " 'nmgco.com.json',\n",
       " 'inlandpackaging.com.json',\n",
       " 'fullstackacademy.com.json',\n",
       " 'ricoma.com.json',\n",
       " 'autelrobotics.com.json',\n",
       " 'cpack.com.json',\n",
       " 'pipedrive.com.json',\n",
       " 'mybankcnb.com.json',\n",
       " 'rolloinsurance.com.json',\n",
       " 'coretek.com.json',\n",
       " 'daytonchristian.com.json',\n",
       " 'c4plans.com.json',\n",
       " 'avisystems.com.json',\n",
       " 'greenslate.com.json',\n",
       " 'paxerahealth.com.json',\n",
       " 'safko.com.json',\n",
       " 'datanetworks.com.json',\n",
       " 'mydiscoverchiropractic.com.json',\n",
       " 'ipatientcare.com.json',\n",
       " 'tch-az.com.json',\n",
       " 'dreamztech.com.json',\n",
       " 'doctoralliance.com.json',\n",
       " 'regencytechnologies.com.json',\n",
       " 'roundstoneinsurance.com.json',\n",
       " 'appsassociates.com.json',\n",
       " 'zuzick.com.json',\n",
       " '100coaches.com.json',\n",
       " 'carter-express.com.json',\n",
       " 'oneworldglobalservices.com.json',\n",
       " 'indovance.com.json',\n",
       " 'kayalortho.com.json',\n",
       " 'purchasing-procurement-center.com.json',\n",
       " 'blackpointcyber.com.json',\n",
       " 'phi.com.json',\n",
       " 'atorusresearch.com.json',\n",
       " 'srmcorp.com.json',\n",
       " 'westburybankwi.com.json',\n",
       " 'emarquettebank.com.json',\n",
       " 'startvirtual.com.json',\n",
       " 'livingthedream.com.json',\n",
       " 'pipelinerx.com.json',\n",
       " 'tklresearch.com.json',\n",
       " 'coregistics.com.json',\n",
       " 'fortitude-re.com.json',\n",
       " 'soundinvestmentav.com.json',\n",
       " 'norlandintl.com.json',\n",
       " 'whitesharkmedia.com.json',\n",
       " 'phonexa.com.json',\n",
       " 'pmiaus.com.json',\n",
       " 'erinhills.com.json',\n",
       " 'thedaviscompanies.com.json',\n",
       " 'iconnect-corp.com.json',\n",
       " 'teledyne.com.json',\n",
       " 'netenrich.com.json',\n",
       " 'puppet.com.json',\n",
       " 'flinnsci.com.json',\n",
       " 'twocircles.com.json',\n",
       " 'hibu.com.json',\n",
       " 'hrworks-inc.com.json',\n",
       " 'protalix.com.json',\n",
       " 'fisherbarton.com.json',\n",
       " 'ironpigsbaseball.com.json',\n",
       " 'apptio.com.json',\n",
       " 'execinc.com.json',\n",
       " 'therta.com.json',\n",
       " 'plummer.com.json',\n",
       " 'neoshomemorial.com.json',\n",
       " 'gwccnet.com.json',\n",
       " '97thfloor.com.json',\n",
       " 'svclnk.com.json',\n",
       " 'lumel.com.json',\n",
       " 'shopstudio41.com.json',\n",
       " 'dextara.com.json',\n",
       " 'brownpalace.com.json',\n",
       " 'carrxerox.com.json',\n",
       " 'cuisinart.com.json',\n",
       " 'moss.com.json',\n",
       " 'raycomsports.com.json',\n",
       " 'boathouseinc.com.json',\n",
       " 'paduafranciscan.com.json',\n",
       " 'v3electric.com.json',\n",
       " 'dbisoftware.com.json',\n",
       " 'latn.com.json',\n",
       " 'evokewellness.com.json',\n",
       " 'samititechnology.com.json',\n",
       " 'transcendinfra.com.json',\n",
       " 'vyond.com.json',\n",
       " 'orexo.com.json',\n",
       " 'pchc.com.json',\n",
       " 'doyongovgrp.com.json',\n",
       " 'doingbetterbusiness.com.json',\n",
       " 'splicens.com.json',\n",
       " 'iyc.com.json',\n",
       " 'togetherwork.com.json',\n",
       " 'foodqualityandsafety.com.json',\n",
       " 'ghtltd.com.json',\n",
       " 'peakusg.com.json',\n",
       " 'larsontexts.com.json',\n",
       " 'snocasino.com.json',\n",
       " 'valdezicorp.com.json',\n",
       " 'quenchwater.com.json',\n",
       " 'rite-solutions.com.json',\n",
       " 'backstopsolutions.com.json',\n",
       " 'intex.com.json',\n",
       " 'siteglobal.com.json',\n",
       " 'broadvoice.com.json',\n",
       " 'obeyclothing.com.json',\n",
       " 'sharetec.com.json',\n",
       " 'safepointins.com.json',\n",
       " 'megcox.com.json',\n",
       " 'cbisecurity.com.json',\n",
       " 'computronix.com.json',\n",
       " 'lancerinsurance.com.json',\n",
       " 'communitymtg.com.json',\n",
       " 'edetek.com.json',\n",
       " 'energo.com.json',\n",
       " 'dickswingsandgrill.com.json',\n",
       " 'berkshiremedicalmanagement.com.json',\n",
       " 'interfaithmedical.com.json',\n",
       " 'energysage.com.json',\n",
       " 'simnsa.com.json',\n",
       " 'nwpump.com.json',\n",
       " 'mmsgroup.com.json',\n",
       " 'alphaengineering.com.json',\n",
       " 'akqa.com.json',\n",
       " 'userainbow.com.json',\n",
       " 'toughmudder.com.json',\n",
       " 'paychex.com.json',\n",
       " 'cbridgeinc.com.json',\n",
       " 'c-rock.com.json',\n",
       " 'cassiday.com.json',\n",
       " 'tonic3.com.json',\n",
       " 'myjavita.com.json',\n",
       " 'northstarmutual.com.json',\n",
       " 'bnpmedia.com.json',\n",
       " 'presstek.com.json',\n",
       " 'riggshealth.com.json',\n",
       " 'bakercommodities.com.json',\n",
       " 'starrregional.com.json',\n",
       " 'premiersurgical.com.json',\n",
       " 'performanceacademies.com.json',\n",
       " 'escapology.com.json',\n",
       " 'billingplatform.com.json',\n",
       " '12thtribe.com.json',\n",
       " 'planetdepos.com.json',\n",
       " 'quontic.com.json',\n",
       " 'skyboxsecurity.com.json',\n",
       " 'ottobockcare.com.json',\n",
       " 'domdiag.com.json',\n",
       " 'symmons.com.json',\n",
       " 'hanoverresearch.com.json',\n",
       " 'fusionstaffingpartners.com.json',\n",
       " 'alpinhaus.com.json',\n",
       " 'saukvalleybank.com.json',\n",
       " 'myclarkspns.com.json',\n",
       " 'obsidiansg.com.json',\n",
       " 'pchase.com.json',\n",
       " 'mtolympuspark.com.json',\n",
       " 'rutheckerdhall.com.json',\n",
       " 'aetnaplywood.com.json',\n",
       " 'nauticalventures.com.json',\n",
       " 'pcs-tech.com.json',\n",
       " 'aligneddc.com.json',\n",
       " 'bedsonline.com.json',\n",
       " 'websterfirst.com.json',\n",
       " 'sensei.com.json',\n",
       " 'ecslimited.com.json',\n",
       " 'alicat.com.json',\n",
       " 'boschmanufacturingsolutions.com.json',\n",
       " 'smc3.com.json',\n",
       " 'hapusa.com.json',\n",
       " 'lgensol-vt.com.json',\n",
       " 'agile6.com.json',\n",
       " 'geocontrol.com.json',\n",
       " 'clarkenersen.com.json',\n",
       " 'speedgs.com.json',\n",
       " 'suvidahealthcare.com.json',\n",
       " 'primarycolor.com.json',\n",
       " 'heartmath.com.json',\n",
       " 'mparticle.com.json',\n",
       " 'applegreenstores.com.json',\n",
       " 'myamazonguy.com.json',\n",
       " 'idstransportation.com.json',\n",
       " 'safetpros.com.json',\n",
       " 'mmimicro.com.json',\n",
       " 'tistatech.com.json',\n",
       " 'acsisinc.com.json',\n",
       " 'championsschool.com.json',\n",
       " 'egress.com.json',\n",
       " 'casscounty.com.json',\n",
       " 'creditcorponline.com.json',\n",
       " 'netgalley.com.json',\n",
       " 'seacoastunited.com.json',\n",
       " 'kukui.com.json',\n",
       " 'singtaousa.com.json',\n",
       " 'theabcbank.com.json',\n",
       " 'isncorp.com.json',\n",
       " 'kwch.com.json',\n",
       " 'artisllc.com.json',\n",
       " 'jackpotjunction.com.json',\n",
       " 'seta-international.com.json',\n",
       " 'caputomarkets.com.json',\n",
       " 'anchorbaypackaging.com.json',\n",
       " 'advancedch.com.json',\n",
       " 'alpek.com.json',\n",
       " 'neiengineering.com.json',\n",
       " 'kindlending.com.json',\n",
       " 'envivabiomass.com.json',\n",
       " 'lrmcenter.com.json',\n",
       " 'addisongroup.com.json',\n",
       " '919marketing.com.json',\n",
       " 'icagile.com.json',\n",
       " 'apricotsolar.com.json',\n",
       " 'skitaos.com.json',\n",
       " 'lockheedmartin.com.json',\n",
       " 'thechophouse.com.json',\n",
       " 'alwayscompassionate.com.json',\n",
       " 'adventknows.com.json',\n",
       " 'continuant.com.json',\n",
       " 'hce4biz.com.json',\n",
       " 'crawfordhoying.com.json',\n",
       " 'ghctk12.com.json',\n",
       " 'intermarkmgt.com.json',\n",
       " 'fitnessunlimited.com.json',\n",
       " 'fromyouflowers.com.json',\n",
       " 'mjhlifesciences.com.json',\n",
       " '586travel.com.json',\n",
       " 'delawarepark.com.json',\n",
       " 'messiahlutheran.com.json',\n",
       " 'carlwarren.com.json',\n",
       " 'goriteway.com.json',\n",
       " 'nw-rei.com.json',\n",
       " 'prepass.com.json',\n",
       " 'bluezones.com.json',\n",
       " 'cronin-co.com.json',\n",
       " 'joshuaspestcontrol.com.json',\n",
       " 'osgpc.com.json',\n",
       " 'aycofarms.com.json',\n",
       " 'rotolos.com.json',\n",
       " 'trypencil.com.json',\n",
       " 'alhi.com.json',\n",
       " 'corporate-interiors.com.json',\n",
       " 'rowmark.com.json',\n",
       " 'countryfreshinc.com.json',\n",
       " 'thesuite.com.json',\n",
       " 'gardenintel.com.json',\n",
       " 'avetta.com.json',\n",
       " 'airspan.com.json',\n",
       " 'high-voltage.com.json',\n",
       " 'tech-synergy.com.json',\n",
       " 'design-milk.com.json',\n",
       " 'avl.com.json',\n",
       " 'demandzen.com.json',\n",
       " 'associationsinternational.com.json',\n",
       " 'thekentcompanies.com.json',\n",
       " 'marsden.com.json',\n",
       " 'loka.com.json',\n",
       " 'kentik.com.json',\n",
       " 'centraltis.com.json',\n",
       " 'acmeoyster.com.json',\n",
       " 'koerber-supplychain.com.json',\n",
       " 'poppin.com.json',\n",
       " 'marcushotels.com.json',\n",
       " 'herregan.com.json',\n",
       " 'pakwest.com.json',\n",
       " 'owllabs.com.json',\n",
       " 'safeboats.com.json',\n",
       " 'vobile.com.json',\n",
       " 'kwikkaroftn.com.json',\n",
       " 'bbrpartners.com.json',\n",
       " 'newstore.com.json',\n",
       " 'ediblebrands.com.json',\n",
       " 'aspenmusicfestival.com.json',\n",
       " 'dicksteinshapiro.com.json',\n",
       " 'outbrain.com.json',\n",
       " 'gotolee.com.json',\n",
       " 'tipmont.com.json',\n",
       " 'greeneccc.com.json',\n",
       " 'bankfinancial.com.json',\n",
       " 'quayaustralia.com.json',\n",
       " 'vayahealth.com.json',\n",
       " 'curinos.com.json',\n",
       " 'agorapulse.com.json',\n",
       " 'campaignfinancial.com.json',\n",
       " 'msigusa.com.json',\n",
       " 'gasoc.com.json',\n",
       " 'vistadefense.com.json',\n",
       " 'morrisnichols.com.json',\n",
       " 'regencymovies.com.json',\n",
       " 'coarchitects.com.json',\n",
       " 'palmerdonavin.com.json',\n",
       " 'snapdocs.com.json',\n",
       " 'abelwomack.com.json',\n",
       " 'nourison.com.json',\n",
       " 'focusvision.com.json',\n",
       " 'kgip.com.json',\n",
       " 'encoreps.com.json',\n",
       " 'reyesbeveragegroup.com.json',\n",
       " 'incrediblehealth.com.json',\n",
       " 'mcclurevision.com.json',\n",
       " 'tangandcompany.com.json',\n",
       " 'amerihome.com.json',\n",
       " 'ipswrx.com.json',\n",
       " 'covenantwoods.com.json',\n",
       " 'iatse524.com.json',\n",
       " 'pennwaste.com.json',\n",
       " 'serckglobal.com.json',\n",
       " 'asthait.com.json',\n",
       " 'isgvalue.com.json',\n",
       " 'magicalelves.com.json',\n",
       " 'compass-md.com.json',\n",
       " 'dfhcompany.com.json',\n",
       " 'pbmhr.com.json',\n",
       " 'mycnhreman.com.json',\n",
       " 'theygsgroup.com.json',\n",
       " 'jrsusa.com.json',\n",
       " 'phoenixmetals.com.json',\n",
       " 'firemon.com.json',\n",
       " 'tsi-global.com.json',\n",
       " 'leetc.com.json',\n",
       " 'questrmg.com.json',\n",
       " 'equiniti.com.json',\n",
       " 'eventworksrentals.com.json',\n",
       " 'finatal.com.json',\n",
       " 'ssaandco.com.json',\n",
       " 'fox4news.com.json',\n",
       " 'ultra-ic.com.json',\n",
       " 'cco.com.json',\n",
       " 'bigleaguedreams.com.json',\n",
       " 'theremigroup.com.json',\n",
       " 'boldbusiness.com.json',\n",
       " 'jmacmedium.com.json',\n",
       " 'bmagroupglobal.com.json',\n",
       " 'cfna.com.json',\n",
       " 'acwellness.com.json',\n",
       " 'marriottgrand.com.json',\n",
       " 'wavemaker.com.json',\n",
       " 'tcectexas.com.json',\n",
       " 'whirleydrinkworks.com.json',\n",
       " 'mauielectric.com.json',\n",
       " 'navatargroup.com.json',\n",
       " 'mckinc.com.json',\n",
       " 'husseygaybell.com.json',\n",
       " 'bridgewater-interiors.com.json',\n",
       " 'townoftruckee.com.json',\n",
       " 'carelincmed.com.json',\n",
       " 'oshkoshdefense.com.json',\n",
       " '6river.com.json',\n",
       " 'premieramb.com.json',\n",
       " 'cfoselections.com.json',\n",
       " 'egnow.com.json',\n",
       " 'saltwaterinc.com.json',\n",
       " 'corneagen.com.json',\n",
       " 'goldbeltc6.com.json',\n",
       " 'myeasywireless.com.json',\n",
       " 'datos-insights.com.json',\n",
       " 'cape-inc.com.json',\n",
       " 'buchalter.com.json',\n",
       " 'control-associates.com.json',\n",
       " 'e15group.com.json',\n",
       " 'rssc.com.json',\n",
       " 'neweratech.com.json',\n",
       " 'chartindustries.com.json',\n",
       " 'wlfoods.com.json',\n",
       " 'electrosonic.com.json',\n",
       " 'bankofwashington.com.json',\n",
       " 'midwoodambulance.com.json',\n",
       " 'itcfederal.com.json',\n",
       " 'skyitgroup.com.json',\n",
       " 'arcomurray.com.json',\n",
       " 'rx-tech.com.json',\n",
       " 'btetechnologies.com.json',\n",
       " 'slidegenius.com.json',\n",
       " 'larsco.com.json',\n",
       " 'enterone.com.json',\n",
       " 'hammes.com.json',\n",
       " 'mobilexusa.com.json',\n",
       " 'credencegs.com.json',\n",
       " 'ececkids.com.json',\n",
       " 'unitedscrap.com.json',\n",
       " 'siouxsteel.com.json',\n",
       " 'mshanken.com.json',\n",
       " 'highlandfleets.com.json',\n",
       " 'larson.com.json',\n",
       " 'rebag.com.json',\n",
       " 'standardsalescompanylp.com.json',\n",
       " 'origene.com.json',\n",
       " 'amkor.com.json',\n",
       " 'relievant.com.json',\n",
       " 'ftsc.com.json',\n",
       " 'cpbev.com.json',\n",
       " 'reflexgroup.com.json',\n",
       " 'arcpt.com.json',\n",
       " 'cps-llc.com.json',\n",
       " 'rootstock.com.json',\n",
       " 'realtruck.com.json',\n",
       " 'kidzcare.com.json',\n",
       " 'flexera.com.json',\n",
       " 'carrolltonsprings.com.json',\n",
       " 'autofi.com.json',\n",
       " 'trianglesprings.com.json',\n",
       " 'forcemanagement.com.json',\n",
       " 'ntechworkforce.com.json',\n",
       " 'perimeter81.com.json',\n",
       " 'factualdata.com.json',\n",
       " 'clutter.com.json',\n",
       " 'seldatinc.com.json',\n",
       " 'fabtechinc.com.json',\n",
       " 'trachte.com.json',\n",
       " 'trexsolutionsllc.com.json',\n",
       " 'stuenterprises.com.json',\n",
       " 'benchmark-ny.com.json',\n",
       " 'deandorton.com.json',\n",
       " 'arauco.com.json',\n",
       " 'marathonts.com.json',\n",
       " 'axelerant.com.json',\n",
       " 'analogic.com.json',\n",
       " 'kenmarkeyewear.com.json',\n",
       " 'krdcpas.com.json',\n",
       " 'riotcolor.com.json',\n",
       " 'bstock.com.json',\n",
       " 'gorascal.com.json',\n",
       " 'quirkcars.com.json',\n",
       " 'herrmannultraschall.com.json',\n",
       " 'coadvantage.com.json',\n",
       " 'totemaritime.com.json',\n",
       " 'hotelequities.com.json',\n",
       " 'melissas.com.json',\n",
       " 'guidantglobal.com.json',\n",
       " 'trgscreen.com.json',\n",
       " 'laundrylux.com.json',\n",
       " '3genconsulting.com.json',\n",
       " 'jjwhiteinc.com.json',\n",
       " 'incohoinc.com.json',\n",
       " 'netco.com.json',\n",
       " 'edgenuity.com.json',\n",
       " 'tssbulletproof.com.json',\n",
       " 'acmetool.com.json',\n",
       " 'advantage-fi.com.json',\n",
       " 'tennovaclarksville.com.json',\n",
       " 'acuservecorp.com.json',\n",
       " 'officinadc.com.json',\n",
       " 'anco.com.json',\n",
       " 'interexy.com.json',\n",
       " 'kellogghansen.com.json',\n",
       " 'ticketmanager.com.json',\n",
       " 'resonanceglobal.com.json',\n",
       " 'safeandhealthyfamilies.com.json',\n",
       " 'iowaselect.com.json',\n",
       " 'manningtoncommercial.com.json',\n",
       " 'eliteorthopaedic.com.json',\n",
       " 'palms.com.json',\n",
       " 'tbsoc.com.json',\n",
       " 'celerocommerce.com.json',\n",
       " 'jbscarriers.com.json',\n",
       " 'ngdc.com.json',\n",
       " 'sunrisedetox.com.json',\n",
       " 'garlockflexibles.com.json',\n",
       " 'fourkites.com.json',\n",
       " 'assuredallies.com.json',\n",
       " 'apexcleanenergy.com.json',\n",
       " 'eurofins-viracor.com.json',\n",
       " 'identixweb.com.json',\n",
       " 'nisshamedical.com.json',\n",
       " 'deltatechops.com.json',\n",
       " 'roguefitness.com.json',\n",
       " 'mainstaymedical.com.json',\n",
       " 'race.com.json',\n",
       " 'ad1global.com.json',\n",
       " 'allenedwin.com.json',\n",
       " 'flynnohara.com.json',\n",
       " 'anconarealty.com.json',\n",
       " 'itstaffing.com.json',\n",
       " 'seattlesbest.com.json',\n",
       " 'nelsonmullins.com.json',\n",
       " 'highgate.com.json',\n",
       " 'bamboohealth.com.json',\n",
       " 'getunion.com.json',\n",
       " 'kddi.com.json',\n",
       " 'ojb.com.json',\n",
       " 'simplrflex.com.json',\n",
       " 'securitashealthcare.com.json',\n",
       " 'tradecentric.com.json',\n",
       " 'flatironcorp.com.json',\n",
       " 'medexpress.com.json',\n",
       " 'metropolitanwarehouse.com.json',\n",
       " 'jenis.com.json',\n",
       " 'cleco.com.json',\n",
       " 'epicmanagementlp.com.json',\n",
       " 'radltd.com.json',\n",
       " 'oscweb.com.json',\n",
       " 'bmdusa.com.json',\n",
       " 'voyagersopris.com.json',\n",
       " 'boncom.com.json',\n",
       " 'dealerware.com.json',\n",
       " 'corporatetools.com.json',\n",
       " 'ilc.com.json',\n",
       " 'clking.com.json',\n",
       " 'sutisoft.com.json',\n",
       " 'creativegraphicsmn.com.json',\n",
       " 'neighborimpact.com.json',\n",
       " 'liverpoolfcamerica.com.json',\n",
       " '5starnutrition.com.json',\n",
       " 'illumifin.com.json',\n",
       " 'abbott-associates.com.json',\n",
       " 'tinybuild.com.json',\n",
       " 'careporthealth.com.json',\n",
       " 'marquisinc.com.json',\n",
       " 'alpineintel.com.json',\n",
       " 'inspiramarketing.com.json',\n",
       " 'lithium.com.json',\n",
       " 'allata.com.json',\n",
       " 'benchling.com.json',\n",
       " 'archmereacademy.com.json',\n",
       " 'honorcu.com.json',\n",
       " 'carbissolutions.com.json',\n",
       " 'gozego.com.json',\n",
       " 'gruntstyle.com.json',\n",
       " 'thrutubing.com.json',\n",
       " 'bigclumber.com.json',\n",
       " 'dietl.com.json',\n",
       " 'indigoit.com.json',\n",
       " 'rowlett.com.json',\n",
       " 'eemfg.com.json',\n",
       " 'indemandinterpreting.com.json',\n",
       " 'alliedoil.com.json',\n",
       " 'usaajobs.com.json',\n",
       " 'bcmcontrols.com.json',\n",
       " 'gibbscox.com.json',\n",
       " 'apreehealth.com.json',\n",
       " 'autismlearningpartners.com.json',\n",
       " 'rvigroup.com.json',\n",
       " 'arraybc.com.json',\n",
       " 'fhnfinancial.com.json',\n",
       " 'leoburnett.com.json',\n",
       " 'tazmanian.com.json',\n",
       " 'povio.com.json',\n",
       " 'anjusoftware.com.json',\n",
       " 'matcormetalfab.com.json',\n",
       " 'iventuresolutions.com.json',\n",
       " 'danielandhenry.com.json',\n",
       " 'blankrome.com.json',\n",
       " 'tradeusa.com.json',\n",
       " 'easypickins.com.json',\n",
       " 'nmgcorp.com.json',\n",
       " 'altamareagroup.com.json',\n",
       " 'pacificbells.com.json',\n",
       " 'eskolaroofing.com.json',\n",
       " 'herodigital.com.json',\n",
       " 'corcoranperry.com.json',\n",
       " 'emergn.com.json',\n",
       " 'cancercenterofsouthflorida.com.json',\n",
       " 'castingnetworks.com.json',\n",
       " 'ecs-wmi.com.json',\n",
       " 'sagenet.com.json',\n",
       " 'hawaiifamilydentalcareers.com.json',\n",
       " 'scbt.com.json',\n",
       " 'colestl.com.json',\n",
       " 'montarebehavioralhealth.com.json',\n",
       " ...]"
      ]
     },
     "execution_count": 9,
     "metadata": {},
     "output_type": "execute_result"
    }
   ],
   "source": [
    "files_in_folder"
   ]
  },
  {
   "cell_type": "code",
   "execution_count": 34,
   "id": "PXf9s94Axg8U",
   "metadata": {
    "id": "PXf9s94Axg8U",
    "scrolled": true
   },
   "outputs": [
    {
     "name": "stdout",
     "output_type": "stream",
     "text": [
      "dict_keys(['url', 'timestamp', 'text_by_page_url', 'doc_id'])\n"
     ]
    }
   ],
   "source": [
    "for filename in files_in_folder:\n",
    "    if filename.endswith('.json'):\n",
    "        file_path = os.path.join(folder_path, filename)\n",
    "        doc = load_documents(file_path)\n",
    "        break\n",
    "print(doc.keys())"
   ]
  },
  {
   "cell_type": "code",
   "execution_count": null,
   "id": "cb4b9781-4d54-49b2-b801-420552ffafa1",
   "metadata": {},
   "outputs": [],
   "source": []
  },
  {
   "cell_type": "markdown",
   "id": "LTUgoion_dLj",
   "metadata": {
    "id": "LTUgoion_dLj"
   },
   "source": [
    "## 2.2 Pre-process documents.\n",
    "\n",
    "Feel free to explore and pre-process the data. You may want to clean or segment the documents as you see fit."
   ]
  },
  {
   "cell_type": "code",
   "execution_count": null,
   "id": "yI1cBtnDyOx0",
   "metadata": {
    "id": "yI1cBtnDyOx0"
   },
   "outputs": [],
   "source": [
    "def page_segment(docs):\n",
    "    \"\"\"You may prefer to load each page separately.\"\"\"\n",
    "    i = 0\n",
    "    page_segment = []\n",
    "    for s in list(docs['text_by_page_url'].values()):\n",
    "      page_segment.append({\"docID\": docs['doc_id'], \"pageID\": 'page_' + str(i), \"text\": s})\n",
    "      i += 1\n",
    "    return page_segment"
   ]
  },
  {
   "cell_type": "code",
   "execution_count": null,
   "id": "Sjl7Xp1Pw6ps",
   "metadata": {
    "id": "Sjl7Xp1Pw6ps"
   },
   "outputs": [],
   "source": [
    "def segment_documents(docs, chunk_size=500):\n",
    "    \"\"\"Segments documents into chunks of a given token size. Replace this function with your segmentation approach or maybe use the original document without segmentation.\"\"\"\n",
    "    segmented = []\n",
    "    for doc_id, content in docs.items():\n",
    "        for i in range(0, len(content), chunk_size):\n",
    "            segment = content[i : i + chunk_size]\n",
    "            segmented.append({\"id\": doc_id, \"text\": segment})\n",
    "    return segmented\n",
    "\n"
   ]
  },
  {
   "cell_type": "code",
   "execution_count": null,
   "id": "x_3mbRONy7M7",
   "metadata": {
    "id": "x_3mbRONy7M7"
   },
   "outputs": [],
   "source": [
    "def document_clean(docs):\n",
    "  \"\"\"\n",
    "  You may want to clean the dataset, add the code here.\n",
    "  \"\"\"\n",
    "  pass"
   ]
  },
  {
   "cell_type": "markdown",
   "id": "qrhr__MeK-hY",
   "metadata": {
    "id": "qrhr__MeK-hY"
   },
   "source": [
    "## 2.3 Document Indexing and Storage (Profiling)\n",
    "\n",
    "Feel free to choose different ways to indexing and storing the provided documents in a knowledge database.\n",
    "\n",
    "So that they can be retrieved in different ways according to your system design choices, such as search by keywords, vector representation, graph relation, and etc."
   ]
  },
  {
   "cell_type": "markdown",
   "id": "woyxfDBeN_mG",
   "metadata": {
    "id": "woyxfDBeN_mG"
   },
   "source": [
    "# 3. Retrieval Augmented Generation"
   ]
  },
  {
   "cell_type": "markdown",
   "id": "hSBIL9B-k1wE",
   "metadata": {
    "id": "hSBIL9B-k1wE"
   },
   "source": [
    "## 3.1 Load Knowledge Database"
   ]
  },
  {
   "cell_type": "markdown",
   "id": "7LOy1k_-lOu0",
   "metadata": {
    "id": "7LOy1k_-lOu0"
   },
   "source": []
  },
  {
   "cell_type": "markdown",
   "id": "X6jZ743wLayQ",
   "metadata": {
    "id": "X6jZ743wLayQ"
   },
   "source": [
    "## 3.2 Relevant Document Retrieval"
   ]
  },
  {
   "cell_type": "markdown",
   "id": "xj5pH-FATv6S",
   "metadata": {
    "id": "xj5pH-FATv6S"
   },
   "source": [
    "Feel free to check and improve your retrieval performance as it affect the generation results significantly."
   ]
  },
  {
   "cell_type": "code",
   "execution_count": null,
   "id": "6a647547",
   "metadata": {
    "id": "6a647547"
   },
   "outputs": [],
   "source": [
    "def retrieve_documents(query, db_path, embedding_model):\n",
    "  \"\"\"\n",
    "  retrieve relevant documents from the knowledge database to the query.\n",
    "  \"\"\"\n",
    "  return relevant_docs"
   ]
  },
  {
   "cell_type": "markdown",
   "id": "kYJCpsgHLoc-",
   "metadata": {
    "id": "kYJCpsgHLoc-"
   },
   "source": [
    "## 3.3 Response Generation"
   ]
  },
  {
   "cell_type": "markdown",
   "id": "TgE1qWd_UQA2",
   "metadata": {
    "id": "TgE1qWd_UQA2"
   },
   "source": [
    "Feel free to explore promp engineer to improve the quality of your generated response."
   ]
  },
  {
   "cell_type": "markdown",
   "id": "mhbpi5mcK3wy",
   "metadata": {
    "id": "mhbpi5mcK3wy"
   },
   "source": [
    "The retrieved documents are used as context to generate more relevant response. Gereral knowledge from the language model itself is also used."
   ]
  },
  {
   "cell_type": "code",
   "execution_count": null,
   "id": "nacBKD6UJRNH",
   "metadata": {
    "id": "nacBKD6UJRNH"
   },
   "outputs": [],
   "source": [
    "def generate_answer(query, retrieved_texts, prompt_template):\n",
    "    \"\"\"Generates an answer using retrieved documents and GPT-4.\"\"\"\n",
    "    return response"
   ]
  },
  {
   "cell_type": "code",
   "execution_count": null,
   "id": "-6xIzmDTn3I8",
   "metadata": {
    "id": "-6xIzmDTn3I8"
   },
   "outputs": [],
   "source": [
    "query = \"What company is located in 29010 Commerce Center Dr., Valencia, 91355, California, US?\"\n",
    "retrieved_docs = retrieve_documents(query, db_path, embedding_model)\n",
    "response = generate_answer(query, retrieved_texts, prompt_template)\n",
    "\n",
    "print(\"Query:\", query)\n",
    "print(\"Retrieved Documents:\", [doc.page_content for doc in retrieved_docs])\n",
    "print(\"Generated Answer:\", response)"
   ]
  },
  {
   "cell_type": "markdown",
   "id": "RK8CQELywSf1",
   "metadata": {
    "id": "RK8CQELywSf1"
   },
   "source": [
    "# 4. Evaluation"
   ]
  },
  {
   "cell_type": "markdown",
   "id": "hSankY--nVHm",
   "metadata": {
    "id": "hSankY--nVHm"
   },
   "source": [
    "Try as many examples to evaluate your system and improve your performance!\n",
    "\n",
    "As the final sysrtem will be evaluated from various aspects. Try to check different metrics when you evaluate. One trick is to do a \"strict RAG\" where the response is generated based on the retrieved documents only, i.e. no general knowledge from the LLMs will be used. This may be a good way to check if your retrieval part is working as expected. Note, that in the final system general knowledge from the LLMs are welcome. \"Strict RAG\" is only used as a way for you to check your performance :)"
   ]
  },
  {
   "cell_type": "code",
   "execution_count": 159,
   "id": "a76c1cbf-b0ba-43fa-8230-20aecb50af48",
   "metadata": {},
   "outputs": [],
   "source": [
    "df = pd.read_csv(\"./data/geofeature.csv\", header=None)\n",
    "df.drop_duplicates(subset=[0])\n",
    "df.to_csv(\"./data/geofeature.csv\")"
   ]
  }
 ],
 "metadata": {
  "colab": {
   "include_colab_link": true,
   "provenance": []
  },
  "kernelspec": {
   "display_name": "Python 3 (ipykernel)",
   "language": "python",
   "name": "python3"
  },
  "language_info": {
   "codemirror_mode": {
    "name": "ipython",
    "version": 3
   },
   "file_extension": ".py",
   "mimetype": "text/x-python",
   "name": "python",
   "nbconvert_exporter": "python",
   "pygments_lexer": "ipython3",
   "version": "3.12.3"
  }
 },
 "nbformat": 4,
 "nbformat_minor": 5
}
