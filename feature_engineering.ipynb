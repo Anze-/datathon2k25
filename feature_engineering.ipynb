{
 "cells": [
  {
   "cell_type": "markdown",
   "id": "0e2e2ce7",
   "metadata": {
    "colab_type": "text",
    "id": "view-in-github"
   },
   "source": [
    "<a href=\"https://colab.research.google.com/github/Anze-/datathon2k25/blob/alberto/feature_engineering.ipynb\" target=\"_parent\"><img src=\"https://colab.research.google.com/assets/colab-badge.svg\" alt=\"Open In Colab\"/></a>"
   ]
  },
  {
   "cell_type": "markdown",
   "id": "h0EPX9TBwTq6",
   "metadata": {
    "id": "h0EPX9TBwTq6"
   },
   "source": [
    "# Feature Engineering"
   ]
  },
  {
   "cell_type": "markdown",
   "id": "Ipz5In6W_NIx",
   "metadata": {
    "id": "Ipz5In6W_NIx"
   },
   "source": [
    "# 1. Set up working environment"
   ]
  },
  {
   "cell_type": "code",
   "execution_count": 297,
   "id": "a679911b-8c26-4519-9a57-78692c6f9903",
   "metadata": {},
   "outputs": [],
   "source": [
    "import pandas as pd\n",
    "import numpy as np\n",
    "import csv"
   ]
  },
  {
   "cell_type": "code",
   "execution_count": 240,
   "id": "a80UAVJcCkCM",
   "metadata": {
    "colab": {
     "base_uri": "https://localhost:8080/"
    },
    "id": "a80UAVJcCkCM",
    "outputId": "98c7b627-c634-48d4-b893-a157daae6583"
   },
   "outputs": [
    {
     "name": "stdout",
     "output_type": "stream",
     "text": [
      "Using device: cpu\n"
     ]
    }
   ],
   "source": [
    "# enable GPU if needed, GPU can speed up your vector embedding if you computing these vectors locally (not using API)\n",
    "\n",
    "import torch\n",
    "\n",
    "device = \"cuda\" if torch.cuda.is_available() else \"cpu\"\n",
    "print(f\"Using device: {device}\")"
   ]
  },
  {
   "cell_type": "code",
   "execution_count": 241,
   "id": "20ed41c7",
   "metadata": {
    "id": "20ed41c7"
   },
   "outputs": [],
   "source": [
    "import os\n",
    "import json\n",
    "import chromadb\n",
    "import openai\n",
    "from langchain.embeddings import HuggingFaceEmbeddings\n",
    "from langchain.vectorstores import Chroma\n",
    "from langchain.llms import OpenAI\n",
    "from langchain.chains import RetrievalQA\n",
    "\n",
    "# Set OpenAI API Key\n",
    "os.environ[\"OPENAI_API_KEY\"] = open('api.key').read()[:-1]"
   ]
  },
  {
   "cell_type": "markdown",
   "id": "EQPuHKS4QQjn",
   "metadata": {
    "id": "EQPuHKS4QQjn"
   },
   "source": [
    "# 2. Knowledge Base Preparation"
   ]
  },
  {
   "cell_type": "markdown",
   "id": "C1ZmEq85_XvG",
   "metadata": {
    "id": "C1ZmEq85_XvG"
   },
   "source": [
    "## 2.1 World Cities"
   ]
  },
  {
   "cell_type": "code",
   "execution_count": 242,
   "id": "15d7cc6b-605c-4046-975a-bfae2adab4c4",
   "metadata": {},
   "outputs": [],
   "source": [
    "cities_path = './data/geonames-all-cities-with-a-population-1000.csv'\n",
    "cdb = pd.read_csv(cities_path, sep=';', header=0)"
   ]
  },
  {
   "cell_type": "code",
   "execution_count": 243,
   "id": "f1d1e579-d7a1-44af-adc7-c13d67317673",
   "metadata": {
    "scrolled": true
   },
   "outputs": [
    {
     "data": {
      "text/html": [
       "<div>\n",
       "<style scoped>\n",
       "    .dataframe tbody tr th:only-of-type {\n",
       "        vertical-align: middle;\n",
       "    }\n",
       "\n",
       "    .dataframe tbody tr th {\n",
       "        vertical-align: top;\n",
       "    }\n",
       "\n",
       "    .dataframe thead th {\n",
       "        text-align: right;\n",
       "    }\n",
       "</style>\n",
       "<table border=\"1\" class=\"dataframe\">\n",
       "  <thead>\n",
       "    <tr style=\"text-align: right;\">\n",
       "      <th></th>\n",
       "      <th>Geoname ID</th>\n",
       "      <th>Name</th>\n",
       "      <th>ASCII Name</th>\n",
       "      <th>Alternate Names</th>\n",
       "      <th>Feature Class</th>\n",
       "      <th>Feature Code</th>\n",
       "      <th>Country Code</th>\n",
       "      <th>Country name EN</th>\n",
       "      <th>Country Code 2</th>\n",
       "      <th>Admin1 Code</th>\n",
       "      <th>Admin2 Code</th>\n",
       "      <th>Admin3 Code</th>\n",
       "      <th>Admin4 Code</th>\n",
       "      <th>Population</th>\n",
       "      <th>Elevation</th>\n",
       "      <th>DIgital Elevation Model</th>\n",
       "      <th>Timezone</th>\n",
       "      <th>Modification date</th>\n",
       "      <th>LABEL EN</th>\n",
       "      <th>Coordinates</th>\n",
       "    </tr>\n",
       "  </thead>\n",
       "  <tbody>\n",
       "    <tr>\n",
       "      <th>0</th>\n",
       "      <td>3948841</td>\n",
       "      <td>Huayllati</td>\n",
       "      <td>Huayllati</td>\n",
       "      <td>Huaillati,Huayllati</td>\n",
       "      <td>P</td>\n",
       "      <td>PPLA3</td>\n",
       "      <td>PE</td>\n",
       "      <td>Peru</td>\n",
       "      <td>NaN</td>\n",
       "      <td>03</td>\n",
       "      <td>0307</td>\n",
       "      <td>030704</td>\n",
       "      <td>NaN</td>\n",
       "      <td>515</td>\n",
       "      <td>NaN</td>\n",
       "      <td>3467</td>\n",
       "      <td>America/Lima</td>\n",
       "      <td>2020-05-13</td>\n",
       "      <td>Peru</td>\n",
       "      <td>-13.92862, -72.48496</td>\n",
       "    </tr>\n",
       "    <tr>\n",
       "      <th>6</th>\n",
       "      <td>2093967</td>\n",
       "      <td>Kimbe</td>\n",
       "      <td>Kimbe</td>\n",
       "      <td>Kimbe,jin bei,kymbh,Кимбе,کمبے,کیمبه,金貝</td>\n",
       "      <td>P</td>\n",
       "      <td>PPLA</td>\n",
       "      <td>PG</td>\n",
       "      <td>Papua New Guinea</td>\n",
       "      <td>NaN</td>\n",
       "      <td>17</td>\n",
       "      <td>NaN</td>\n",
       "      <td>NaN</td>\n",
       "      <td>NaN</td>\n",
       "      <td>18847</td>\n",
       "      <td>NaN</td>\n",
       "      <td>27</td>\n",
       "      <td>Pacific/Port_Moresby</td>\n",
       "      <td>2015-04-06</td>\n",
       "      <td>Papua New Guinea</td>\n",
       "      <td>-5.55085, 150.13766</td>\n",
       "    </tr>\n",
       "    <tr>\n",
       "      <th>7</th>\n",
       "      <td>1680116</td>\n",
       "      <td>NIA Valencia</td>\n",
       "      <td>NIA Valencia</td>\n",
       "      <td>Dakbayan sa Valencia,Kota Valencia,Lungsod ng ...</td>\n",
       "      <td>P</td>\n",
       "      <td>PPL</td>\n",
       "      <td>PH</td>\n",
       "      <td>Philippines</td>\n",
       "      <td>NaN</td>\n",
       "      <td>10</td>\n",
       "      <td>12</td>\n",
       "      <td>101321000</td>\n",
       "      <td>NaN</td>\n",
       "      <td>83591</td>\n",
       "      <td>NaN</td>\n",
       "      <td>310</td>\n",
       "      <td>Asia/Manila</td>\n",
       "      <td>2022-02-15</td>\n",
       "      <td>Philippines</td>\n",
       "      <td>7.90639, 125.09417</td>\n",
       "    </tr>\n",
       "    <tr>\n",
       "      <th>8</th>\n",
       "      <td>1680216</td>\n",
       "      <td>Upper Klinan</td>\n",
       "      <td>Upper Klinan</td>\n",
       "      <td>Upper Klinan</td>\n",
       "      <td>P</td>\n",
       "      <td>PPL</td>\n",
       "      <td>PH</td>\n",
       "      <td>Philippines</td>\n",
       "      <td>NaN</td>\n",
       "      <td>12</td>\n",
       "      <td>70</td>\n",
       "      <td>126312000</td>\n",
       "      <td>NaN</td>\n",
       "      <td>3768</td>\n",
       "      <td>NaN</td>\n",
       "      <td>288</td>\n",
       "      <td>Asia/Manila</td>\n",
       "      <td>2017-12-13</td>\n",
       "      <td>Philippines</td>\n",
       "      <td>6.22722, 125.12083</td>\n",
       "    </tr>\n",
       "    <tr>\n",
       "      <th>9</th>\n",
       "      <td>1680275</td>\n",
       "      <td>Unidos</td>\n",
       "      <td>Unidos</td>\n",
       "      <td>Unidos</td>\n",
       "      <td>P</td>\n",
       "      <td>PPL</td>\n",
       "      <td>PH</td>\n",
       "      <td>Philippines</td>\n",
       "      <td>NaN</td>\n",
       "      <td>10</td>\n",
       "      <td>42</td>\n",
       "      <td>104212000</td>\n",
       "      <td>NaN</td>\n",
       "      <td>2111</td>\n",
       "      <td>NaN</td>\n",
       "      <td>37</td>\n",
       "      <td>Asia/Manila</td>\n",
       "      <td>2017-12-13</td>\n",
       "      <td>Philippines</td>\n",
       "      <td>8.5942, 123.668</td>\n",
       "    </tr>\n",
       "    <tr>\n",
       "      <th>...</th>\n",
       "      <td>...</td>\n",
       "      <td>...</td>\n",
       "      <td>...</td>\n",
       "      <td>...</td>\n",
       "      <td>...</td>\n",
       "      <td>...</td>\n",
       "      <td>...</td>\n",
       "      <td>...</td>\n",
       "      <td>...</td>\n",
       "      <td>...</td>\n",
       "      <td>...</td>\n",
       "      <td>...</td>\n",
       "      <td>...</td>\n",
       "      <td>...</td>\n",
       "      <td>...</td>\n",
       "      <td>...</td>\n",
       "      <td>...</td>\n",
       "      <td>...</td>\n",
       "      <td>...</td>\n",
       "      <td>...</td>\n",
       "    </tr>\n",
       "    <tr>\n",
       "      <th>147019</th>\n",
       "      <td>2293089</td>\n",
       "      <td>Akréby</td>\n",
       "      <td>Akreby</td>\n",
       "      <td>Akrebi,Akreby,Akrébi,Akréby</td>\n",
       "      <td>P</td>\n",
       "      <td>PPL</td>\n",
       "      <td>CI</td>\n",
       "      <td>Côte d'Ivoire</td>\n",
       "      <td>NaN</td>\n",
       "      <td>94</td>\n",
       "      <td>NaN</td>\n",
       "      <td>NaN</td>\n",
       "      <td>NaN</td>\n",
       "      <td>3557</td>\n",
       "      <td>NaN</td>\n",
       "      <td>111</td>\n",
       "      <td>Africa/Abidjan</td>\n",
       "      <td>2023-12-21</td>\n",
       "      <td>Côte d'Ivoire</td>\n",
       "      <td>6.14352, -3.38539</td>\n",
       "    </tr>\n",
       "    <tr>\n",
       "      <th>147022</th>\n",
       "      <td>2293516</td>\n",
       "      <td>Obodroupa</td>\n",
       "      <td>Obodroupa</td>\n",
       "      <td>Abodioupa,Obodroupa</td>\n",
       "      <td>P</td>\n",
       "      <td>PPL</td>\n",
       "      <td>CI</td>\n",
       "      <td>Côte d'Ivoire</td>\n",
       "      <td>NaN</td>\n",
       "      <td>95</td>\n",
       "      <td>NaN</td>\n",
       "      <td>NaN</td>\n",
       "      <td>NaN</td>\n",
       "      <td>2676</td>\n",
       "      <td>NaN</td>\n",
       "      <td>244</td>\n",
       "      <td>Africa/Abidjan</td>\n",
       "      <td>2023-12-22</td>\n",
       "      <td>Côte d'Ivoire</td>\n",
       "      <td>6.0444, -5.79622</td>\n",
       "    </tr>\n",
       "    <tr>\n",
       "      <th>147023</th>\n",
       "      <td>2293534</td>\n",
       "      <td>Adiékro</td>\n",
       "      <td>Adiekro</td>\n",
       "      <td>Abiekro,Abiékro,Adiekro,Adiékro</td>\n",
       "      <td>P</td>\n",
       "      <td>PPL</td>\n",
       "      <td>CI</td>\n",
       "      <td>Côte d'Ivoire</td>\n",
       "      <td>NaN</td>\n",
       "      <td>90</td>\n",
       "      <td>NaN</td>\n",
       "      <td>NaN</td>\n",
       "      <td>NaN</td>\n",
       "      <td>2090</td>\n",
       "      <td>NaN</td>\n",
       "      <td>334</td>\n",
       "      <td>Africa/Abidjan</td>\n",
       "      <td>2023-12-23</td>\n",
       "      <td>Côte d'Ivoire</td>\n",
       "      <td>7.79953, -5.19611</td>\n",
       "    </tr>\n",
       "    <tr>\n",
       "      <th>147026</th>\n",
       "      <td>2596928</td>\n",
       "      <td>Gbéssé</td>\n",
       "      <td>Gbesse</td>\n",
       "      <td>Besse,Béssé,Gbesse,Gbéssé</td>\n",
       "      <td>P</td>\n",
       "      <td>PPL</td>\n",
       "      <td>CI</td>\n",
       "      <td>Côte d'Ivoire</td>\n",
       "      <td>NaN</td>\n",
       "      <td>82</td>\n",
       "      <td>NaN</td>\n",
       "      <td>NaN</td>\n",
       "      <td>NaN</td>\n",
       "      <td>2376</td>\n",
       "      <td>NaN</td>\n",
       "      <td>34</td>\n",
       "      <td>Africa/Abidjan</td>\n",
       "      <td>2023-12-22</td>\n",
       "      <td>Côte d'Ivoire</td>\n",
       "      <td>5.8394, -4.29264</td>\n",
       "    </tr>\n",
       "    <tr>\n",
       "      <th>147027</th>\n",
       "      <td>2596948</td>\n",
       "      <td>Ouéguié</td>\n",
       "      <td>Oueguie</td>\n",
       "      <td>Ouegue,Oueguie,Ouéguié,Ouégué</td>\n",
       "      <td>P</td>\n",
       "      <td>PPL</td>\n",
       "      <td>CI</td>\n",
       "      <td>Côte d'Ivoire</td>\n",
       "      <td>NaN</td>\n",
       "      <td>82</td>\n",
       "      <td>NaN</td>\n",
       "      <td>NaN</td>\n",
       "      <td>NaN</td>\n",
       "      <td>1948</td>\n",
       "      <td>NaN</td>\n",
       "      <td>42</td>\n",
       "      <td>Africa/Abidjan</td>\n",
       "      <td>2023-12-22</td>\n",
       "      <td>Côte d'Ivoire</td>\n",
       "      <td>5.82286, -4.22469</td>\n",
       "    </tr>\n",
       "  </tbody>\n",
       "</table>\n",
       "<p>120039 rows × 20 columns</p>\n",
       "</div>"
      ],
      "text/plain": [
       "        Geoname ID          Name    ASCII Name  \\\n",
       "0          3948841     Huayllati     Huayllati   \n",
       "6          2093967         Kimbe         Kimbe   \n",
       "7          1680116  NIA Valencia  NIA Valencia   \n",
       "8          1680216  Upper Klinan  Upper Klinan   \n",
       "9          1680275        Unidos        Unidos   \n",
       "...            ...           ...           ...   \n",
       "147019     2293089        Akréby        Akreby   \n",
       "147022     2293516     Obodroupa     Obodroupa   \n",
       "147023     2293534       Adiékro       Adiekro   \n",
       "147026     2596928        Gbéssé        Gbesse   \n",
       "147027     2596948       Ouéguié       Oueguie   \n",
       "\n",
       "                                          Alternate Names Feature Class  \\\n",
       "0                                     Huaillati,Huayllati             P   \n",
       "6                 Kimbe,jin bei,kymbh,Кимбе,کمبے,کیمبه,金貝             P   \n",
       "7       Dakbayan sa Valencia,Kota Valencia,Lungsod ng ...             P   \n",
       "8                                            Upper Klinan             P   \n",
       "9                                                  Unidos             P   \n",
       "...                                                   ...           ...   \n",
       "147019                        Akrebi,Akreby,Akrébi,Akréby             P   \n",
       "147022                                Abodioupa,Obodroupa             P   \n",
       "147023                    Abiekro,Abiékro,Adiekro,Adiékro             P   \n",
       "147026                          Besse,Béssé,Gbesse,Gbéssé             P   \n",
       "147027                      Ouegue,Oueguie,Ouéguié,Ouégué             P   \n",
       "\n",
       "       Feature Code Country Code   Country name EN Country Code 2 Admin1 Code  \\\n",
       "0             PPLA3           PE              Peru            NaN          03   \n",
       "6              PPLA           PG  Papua New Guinea            NaN          17   \n",
       "7               PPL           PH       Philippines            NaN          10   \n",
       "8               PPL           PH       Philippines            NaN          12   \n",
       "9               PPL           PH       Philippines            NaN          10   \n",
       "...             ...          ...               ...            ...         ...   \n",
       "147019          PPL           CI     Côte d'Ivoire            NaN          94   \n",
       "147022          PPL           CI     Côte d'Ivoire            NaN          95   \n",
       "147023          PPL           CI     Côte d'Ivoire            NaN          90   \n",
       "147026          PPL           CI     Côte d'Ivoire            NaN          82   \n",
       "147027          PPL           CI     Côte d'Ivoire            NaN          82   \n",
       "\n",
       "       Admin2 Code Admin3 Code Admin4 Code  Population  Elevation  \\\n",
       "0             0307      030704         NaN         515        NaN   \n",
       "6              NaN         NaN         NaN       18847        NaN   \n",
       "7               12   101321000         NaN       83591        NaN   \n",
       "8               70   126312000         NaN        3768        NaN   \n",
       "9               42   104212000         NaN        2111        NaN   \n",
       "...            ...         ...         ...         ...        ...   \n",
       "147019         NaN         NaN         NaN        3557        NaN   \n",
       "147022         NaN         NaN         NaN        2676        NaN   \n",
       "147023         NaN         NaN         NaN        2090        NaN   \n",
       "147026         NaN         NaN         NaN        2376        NaN   \n",
       "147027         NaN         NaN         NaN        1948        NaN   \n",
       "\n",
       "        DIgital Elevation Model              Timezone Modification date  \\\n",
       "0                          3467          America/Lima        2020-05-13   \n",
       "6                            27  Pacific/Port_Moresby        2015-04-06   \n",
       "7                           310           Asia/Manila        2022-02-15   \n",
       "8                           288           Asia/Manila        2017-12-13   \n",
       "9                            37           Asia/Manila        2017-12-13   \n",
       "...                         ...                   ...               ...   \n",
       "147019                      111        Africa/Abidjan        2023-12-21   \n",
       "147022                      244        Africa/Abidjan        2023-12-22   \n",
       "147023                      334        Africa/Abidjan        2023-12-23   \n",
       "147026                       34        Africa/Abidjan        2023-12-22   \n",
       "147027                       42        Africa/Abidjan        2023-12-22   \n",
       "\n",
       "                LABEL EN           Coordinates  \n",
       "0                   Peru  -13.92862, -72.48496  \n",
       "6       Papua New Guinea   -5.55085, 150.13766  \n",
       "7            Philippines    7.90639, 125.09417  \n",
       "8            Philippines    6.22722, 125.12083  \n",
       "9            Philippines       8.5942, 123.668  \n",
       "...                  ...                   ...  \n",
       "147019     Côte d'Ivoire     6.14352, -3.38539  \n",
       "147022     Côte d'Ivoire      6.0444, -5.79622  \n",
       "147023     Côte d'Ivoire     7.79953, -5.19611  \n",
       "147026     Côte d'Ivoire      5.8394, -4.29264  \n",
       "147027     Côte d'Ivoire     5.82286, -4.22469  \n",
       "\n",
       "[120039 rows x 20 columns]"
      ]
     },
     "execution_count": 243,
     "metadata": {},
     "output_type": "execute_result"
    }
   ],
   "source": [
    "cdb[~pd.isna(cdb['Alternate Names'])] "
   ]
  },
  {
   "cell_type": "code",
   "execution_count": 244,
   "id": "953b7a18-a0e1-4510-9a39-36e46075eec7",
   "metadata": {},
   "outputs": [
    {
     "data": {
      "text/plain": [
       "<Axes: >"
      ]
     },
     "execution_count": 244,
     "metadata": {},
     "output_type": "execute_result"
    },
    {
     "data": {
      "image/png": "[encoded data removed]",
      "text/plain": [
       "<Figure size 640x480 with 1 Axes>"
      ]
     },
     "metadata": {},
     "output_type": "display_data"
    }
   ],
   "source": [
    "cdb.sort_values('Population').Population.reset_index().plot(logy=True) # elbow cut @ 20k inhabitants"
   ]
  },
  {
   "cell_type": "code",
   "execution_count": 245,
   "id": "121a1554-7994-4621-bcb3-6aac31098180",
   "metadata": {},
   "outputs": [
    {
     "data": {
      "text/plain": [
       "<Axes: >"
      ]
     },
     "execution_count": 245,
     "metadata": {},
     "output_type": "execute_result"
    },
    {
     "data": {
      "image/png": "[encoded data removed]",
      "text/plain": [
       "<Figure size 640x480 with 1 Axes>"
      ]
     },
     "metadata": {},
     "output_type": "display_data"
    }
   ],
   "source": [
    "#US Only market\n",
    "cdb[cdb['Country Code'].isin(['US','PA','MX','CA','GB','AU', 'IE', 'BR', 'CH'])].sort_values('Population').Population.reset_index().plot(logy=True) # elbow cut @ 2k inhabitants isn't worth it"
   ]
  },
  {
   "cell_type": "code",
   "execution_count": 246,
   "id": "88dfaff6-56bc-4226-a825-f301b6c45894",
   "metadata": {},
   "outputs": [],
   "source": [
    "#cities of interest:\n",
    "cof = cdb[cdb['Country Code'].isin(['US','PA','MX','CA','GB','AU', 'IE', 'BR', 'CH'])]\n",
    "cof = cof[cof['Population']>10000]"
   ]
  },
  {
   "cell_type": "code",
   "execution_count": 247,
   "id": "150b4986-2c8c-48c5-8dcf-ff0d231be2dc",
   "metadata": {},
   "outputs": [
    {
     "data": {
      "text/html": [
       "<div>\n",
       "<style scoped>\n",
       "    .dataframe tbody tr th:only-of-type {\n",
       "        vertical-align: middle;\n",
       "    }\n",
       "\n",
       "    .dataframe tbody tr th {\n",
       "        vertical-align: top;\n",
       "    }\n",
       "\n",
       "    .dataframe thead th {\n",
       "        text-align: right;\n",
       "    }\n",
       "</style>\n",
       "<table border=\"1\" class=\"dataframe\">\n",
       "  <thead>\n",
       "    <tr style=\"text-align: right;\">\n",
       "      <th></th>\n",
       "      <th>Name</th>\n",
       "      <th>Admin1 Code</th>\n",
       "    </tr>\n",
       "  </thead>\n",
       "  <tbody>\n",
       "    <tr>\n",
       "      <th>954</th>\n",
       "      <td>Newark</td>\n",
       "      <td>DE</td>\n",
       "    </tr>\n",
       "    <tr>\n",
       "      <th>28123</th>\n",
       "      <td>Newark</td>\n",
       "      <td>OH</td>\n",
       "    </tr>\n",
       "    <tr>\n",
       "      <th>52466</th>\n",
       "      <td>Newark</td>\n",
       "      <td>NJ</td>\n",
       "    </tr>\n",
       "    <tr>\n",
       "      <th>84104</th>\n",
       "      <td>Newark</td>\n",
       "      <td>CA</td>\n",
       "    </tr>\n",
       "  </tbody>\n",
       "</table>\n",
       "</div>"
      ],
      "text/plain": [
       "         Name Admin1 Code\n",
       "954    Newark          DE\n",
       "28123  Newark          OH\n",
       "52466  Newark          NJ\n",
       "84104  Newark          CA"
      ]
     },
     "execution_count": 247,
     "metadata": {},
     "output_type": "execute_result"
    }
   ],
   "source": [
    "cof[cof.Name=='Newark'][['Name','Admin1 Code']]"
   ]
  },
  {
   "cell_type": "markdown",
   "id": "80811da5-4eb1-4c94-a098-30825309a608",
   "metadata": {},
   "source": [
    "## 2.2 US Cities"
   ]
  },
  {
   "cell_type": "code",
   "execution_count": 248,
   "id": "a802880e-4309-4876-99b3-3f1906ffa38c",
   "metadata": {},
   "outputs": [],
   "source": [
    "cities_path = './data/us-cities-demographics.csv'\n",
    "usc = pd.read_csv(cities_path, sep=';', header=0)\n"
   ]
  },
  {
   "cell_type": "code",
   "execution_count": 288,
   "id": "e5481e64-220d-4157-9f69-b7fc4942548e",
   "metadata": {},
   "outputs": [],
   "source": [
    "USCODES = usc['State Code'].unique()"
   ]
  },
  {
   "cell_type": "code",
   "execution_count": 249,
   "id": "6e271906-c63a-44db-8594-8bea196ad68e",
   "metadata": {},
   "outputs": [],
   "source": [
    "usc = usc[['City','State Code','Median Age','Male Population','Female Population','Foreign-born']].drop_duplicates()"
   ]
  },
  {
   "cell_type": "code",
   "execution_count": 250,
   "id": "b8a3b685-760c-4015-b1e7-dbdbf42dfc04",
   "metadata": {},
   "outputs": [],
   "source": [
    "merged_df = pd.merge(\n",
    "    cof,\n",
    "    usc,\n",
    "    left_on=['Name', 'Admin1 Code'],\n",
    "    right_on=['City', 'State Code'],\n",
    "    how='left'\n",
    ")"
   ]
  },
  {
   "cell_type": "code",
   "execution_count": 251,
   "id": "d1db2146-9b2c-496c-851e-6c94040face2",
   "metadata": {
    "scrolled": true
   },
   "outputs": [],
   "source": [
    "geo_df = merged_df[['ASCII Name', 'Alternate Names', 'Feature Class',\n",
    "       'Feature Code', 'Country Code',\n",
    "       'Admin1 Code', 'Population', 'Elevation','Timezone', 'Coordinates', 'City', 'State Code',\n",
    "       'Median Age', 'Male Population', 'Female Population', 'Foreign-born']]\n",
    "\n",
    "blacklist = ['Enterprise','Summit','Justice',\"Mobile\",\"Opportunity\",\"Mission\",\"Orange\",\"March\",\"Central\"]\n",
    "\n",
    "\n",
    "for wrd in blacklist:\n",
    "    geo_df = geo_df[geo_df['ASCII Name']!=wrd]"
   ]
  },
  {
   "cell_type": "markdown",
   "id": "21c08186-3320-46d6-b32d-c7d786a1c09e",
   "metadata": {},
   "source": [
    "## 2.3 Feature extraction"
   ]
  },
  {
   "cell_type": "code",
   "execution_count": 252,
   "id": "c36edf56-ae85-4339-b69b-4458ed9538ca",
   "metadata": {},
   "outputs": [
    {
     "data": {
      "text/plain": [
       "13144"
      ]
     },
     "execution_count": 252,
     "metadata": {},
     "output_type": "execute_result"
    }
   ],
   "source": [
    "folder_path = \"./data/hackathon_data/\"# Google drive path of the dataset\n",
    "files_in_folder = os.listdir(folder_path)\n",
    "len(files_in_folder)"
   ]
  },
  {
   "cell_type": "code",
   "execution_count": 253,
   "id": "e0c81a54-2f37-4d28-9842-e656de6c1ee8",
   "metadata": {},
   "outputs": [],
   "source": [
    "def load_documents(json_file):\n",
    "    \"\"\"Loads the JSON file.\"\"\"\n",
    "    with open(json_file, 'r') as f:\n",
    "      try:\n",
    "          data = json.load(f)\n",
    "          return data\n",
    "      except json.JSONDecodeError:\n",
    "          print(f\"Error reading {json_file}, it may not be a valid JSON file.\")\n",
    "    return []"
   ]
  },
  {
   "cell_type": "code",
   "execution_count": 294,
   "id": "99cfce88-c70e-4f91-a825-5cbc684d133f",
   "metadata": {
    "scrolled": true
   },
   "outputs": [],
   "source": [
    "def load_text(file=files_in_folder[0]):\n",
    "    print(file)\n",
    "    urldocs=load_documents(folder_path+file)['text_by_page_url']\n",
    "    return urldocs.values()"
   ]
  },
  {
   "cell_type": "code",
   "execution_count": null,
   "id": "7a4c452b-6fe8-4378-bb6c-5342a4730992",
   "metadata": {},
   "outputs": [],
   "source": []
  },
  {
   "cell_type": "code",
   "execution_count": 293,
   "id": "4f4cdb20-aea0-48b3-a34d-2086fe825898",
   "metadata": {},
   "outputs": [
    {
     "name": "stdout",
     "output_type": "stream",
     "text": [
      "skysolutions.com.json\n"
     ]
    },
    {
     "name": "stderr",
     "output_type": "stream",
     "text": [
      "\n",
      "\n",
      "Processing Docs:   0%|                                              | 0/70 [00:00<?, ?it/s]\u001b[A\u001b[A\n",
      "\n",
      "Processing Docs:  73%|██████████████████████████▏         | 51/70 [00:01<00:00, 179.27it/s]\u001b[A\u001b[A\n",
      "\n",
      "Processing Docs: 100%|█████████████████████████████████████| 70/70 [00:01<00:00, 40.73it/s]\u001b[A\u001b[A"
     ]
    },
    {
     "name": "stdout",
     "output_type": "stream",
     "text": [
      "we are in Herndon, VA\n"
     ]
    },
    {
     "name": "stderr",
     "output_type": "stream",
     "text": [
      "\n"
     ]
    }
   ],
   "source": [
    "import re\n",
    "from concurrent.futures import ThreadPoolExecutor\n",
    "from typing import List, Tuple\n",
    "from tqdm import tqdm\n",
    "\n",
    "# City list\n",
    "cities = geo_df['ASCII Name'].values\n",
    "cities_set = set(city.lower() for city in cities)\n",
    "\n",
    "# Regex for Title Case OR ALL CAPS\n",
    "pattern = re.compile(\n",
    "    r'\\b(?:' +\n",
    "    '|'.join(\n",
    "        rf'{re.escape(city.title())}|{re.escape(city.upper())}'\n",
    "        for city in cities_set\n",
    "    ) +\n",
    "    r')\\b'\n",
    ")\n",
    "\n",
    "# Match function — now returns position too\n",
    "def contains_city(text: str) -> Tuple[bool, str, int]:\n",
    "    match = pattern.search(text)\n",
    "    if match:\n",
    "        return True, match.group(0), match.start()\n",
    "    return False, \"\", -1\n",
    "\n",
    "# ✅ You asked to keep this unchanged — still works perfectly\n",
    "def process_documents(documents: List[str], max_workers: int = 4):\n",
    "    with ThreadPoolExecutor(max_workers=max_workers) as executor:\n",
    "        return list(tqdm(executor.map(contains_city, documents), total=len(documents), desc=\"Processing Docs\"))\n",
    "\n",
    "# Example documents\n",
    "docs = load_text()\n",
    "\n",
    "# Run it\n",
    "results = process_documents(docs)\n",
    "\n",
    "# Output results\n",
    "found_cities = []\n",
    "contexts = {}\n",
    "for doc, (found, city, pos) in zip(docs, results):\n",
    "    if found:\n",
    "        found_cities.append(city)\n",
    "        if city in contexts.keys(): # add context\n",
    "            contexts[city] = contexts[city]+' '+doc[pos:pos+30]\n",
    "        else: #create context\n",
    "            contexts[city] = doc[pos:pos+30]\n",
    "        #print(f\"{city}, Context: {doc[pos:pos+30]}\")\n",
    "\n",
    "found_cities = np.array(found_cities)\n",
    "\n",
    "# Get unique values and their counts\n",
    "cvalues, ccounts = np.unique(found_cities, return_counts=True)\n",
    "\n",
    "# Find the most frequent (mode)\n",
    "\n",
    "most_frequent = cvalues[np.argmax(ccounts)]\n",
    "top_context = contexts[most_frequent]\n",
    "\n",
    "\n",
    "# Now check if in the context\n",
    "\n",
    "# Build regex to match full words (case-sensitive)\n",
    "pattern = re.compile(r'\\b(?:' + '|'.join(re.escape(code) for code in USCODES) + r')\\b')\n",
    "\n",
    "# Find all matches\n",
    "code_matches = pattern.findall(top_context)\n",
    "\n",
    "# Find the most frequent one\n",
    "if code_matches:\n",
    "    values, counts = np.unique(code_matches, return_counts=True)\n",
    "    found_state = values[np.argmax(counts)]\n",
    "else:\n",
    "    found_state = None\n",
    "\n",
    "print(f'we are in {most_frequent}, {found_state}')"
   ]
  },
  {
   "cell_type": "markdown",
   "id": "cab386aa-3e4c-4936-90e9-5680bd948d01",
   "metadata": {},
   "source": [
    "## Now run it on the dataset"
   ]
  },
  {
   "cell_type": "code",
   "execution_count": 330,
   "id": "a5beda86-fc4c-4778-a195-a46899be32af",
   "metadata": {},
   "outputs": [],
   "source": [
    "cities = geo_df['ASCII Name'].values\n",
    "cities_set = set(city.lower() for city in cities)\n",
    "\n",
    "def extract_location(baseurl=files_in_folder[0],max_workers=4,disabletqdm=True):\n",
    "    # Documents\n",
    "    docs = load_text(file=baseurl)\n",
    "    \n",
    "    # City list\n",
    "    \n",
    "    # Regex for Title Case OR ALL CAPS\n",
    "    pattern = re.compile(\n",
    "        r'\\b(?:' +\n",
    "        '|'.join(\n",
    "            rf'{re.escape(city.title())}|{re.escape(city.upper())}'\n",
    "            for city in cities_set\n",
    "        ) +\n",
    "        r')\\b'\n",
    "    )\n",
    "    \n",
    "    # Match function — now returns position too\n",
    "    def contains_city(text: str) -> Tuple[bool, str, int]:\n",
    "        match = pattern.search(text)\n",
    "        if match:\n",
    "            return True, match.group(0), match.start()\n",
    "        return False, \"\", -1\n",
    "    \n",
    "    def process_documents(documents: List[str], max_workers: int = 4):\n",
    "        with ThreadPoolExecutor(max_workers=max_workers) as executor:\n",
    "            return list(tqdm(executor.map(contains_city, documents), total=len(documents), desc=\"Processing Docs\", disable=disabletqdm))\n",
    "    \n",
    "    # Run it\n",
    "    results = process_documents(docs,max_workers=max_workers)\n",
    "    \n",
    "    # Output results\n",
    "    found_cities = []\n",
    "    contexts = {}\n",
    "    for doc, (found, city, pos) in zip(docs, results):\n",
    "        if found:\n",
    "            found_cities.append(city)\n",
    "            if city in contexts.keys(): # add context\n",
    "                contexts[city] = contexts[city]+' '+doc[pos:pos+30]\n",
    "            else: #create context\n",
    "                contexts[city] = doc[pos:pos+30]\n",
    "            #print(f\"{city}, Context: {doc[pos:pos+30]}\")\n",
    "    \n",
    "    found_cities = np.array(found_cities)\n",
    "    \n",
    "    # Get unique values and their counts\n",
    "    cvalues, ccounts = np.unique(found_cities, return_counts=True)\n",
    "\n",
    "    if len(ccounts) == 0:\n",
    "        return {'city':None, 'state':None, 'context':None}\n",
    "        \n",
    "    # Find the most frequent (mode)\n",
    "    most_frequent = cvalues[np.argmax(ccounts)]\n",
    "    top_context = contexts[most_frequent]\n",
    "    \n",
    "    \n",
    "    # Now check if in the context\n",
    "  \n",
    "    # Build regex to match full words (case-sensitive)\n",
    "    pattern = re.compile(r'\\b(?:' + '|'.join(re.escape(code) for code in USCODES) + r')\\b')\n",
    "    \n",
    "    # Find all matches\n",
    "    code_matches = pattern.findall(top_context)\n",
    "    \n",
    "    # Find the most frequent one\n",
    "    if code_matches:\n",
    "        values, counts = np.unique(code_matches, return_counts=True)\n",
    "        found_state = values[np.argmax(counts)]\n",
    "    else:\n",
    "        found_state = None\n",
    "    \n",
    "    return {'city':most_frequent, 'state':found_state, 'context':top_context}"
   ]
  },
  {
   "cell_type": "code",
   "execution_count": 331,
   "id": "21d5dee9-a3f3-45a2-90c2-64e2638a7ebb",
   "metadata": {},
   "outputs": [
    {
     "data": {
      "text/plain": [
       "0"
      ]
     },
     "execution_count": 331,
     "metadata": {},
     "output_type": "execute_result"
    }
   ],
   "source": [
    "len(geo_df[geo_df['Elevation']==-1000])"
   ]
  },
  {
   "cell_type": "code",
   "execution_count": null,
   "id": "32ec28b7-ab1c-490d-bd4c-b8d78d2cfcac",
   "metadata": {
    "scrolled": true
   },
   "outputs": [
    {
     "name": "stderr",
     "output_type": "stream",
     "text": [
      "\n",
      "\n",
      "\n",
      "  0%|                                                            | 0/13077 [00:00<?, ?it/s]\u001b[A\u001b[A\u001b[A"
     ]
    },
    {
     "name": "stdout",
     "output_type": "stream",
     "text": [
      "affinityhealthcorp.com.json\n",
      "stadiumpeople.com.json\n"
     ]
    },
    {
     "name": "stderr",
     "output_type": "stream",
     "text": [
      "\n",
      "\n",
      "\n",
      "  0%|                                                  | 2/13077 [00:00<1:00:38,  3.59it/s]\u001b[A\u001b[A\u001b[A"
     ]
    },
    {
     "name": "stdout",
     "output_type": "stream",
     "text": [
      "gannettfleming.com.json\n"
     ]
    },
    {
     "name": "stderr",
     "output_type": "stream",
     "text": [
      "\n",
      "\n",
      "\n",
      "  0%|                                                 | 3/13077 [00:08<12:59:56,  3.58s/it]\u001b[A\u001b[A\u001b[A"
     ]
    },
    {
     "name": "stdout",
     "output_type": "stream",
     "text": [
      "imigroup.com.json\n"
     ]
    },
    {
     "name": "stderr",
     "output_type": "stream",
     "text": [
      "\n",
      "\n",
      "\n",
      "  0%|                                                 | 4/13077 [00:15<17:02:13,  4.69s/it]\u001b[A\u001b[A\u001b[A"
     ]
    },
    {
     "name": "stdout",
     "output_type": "stream",
     "text": [
      "trustapexinternational.com.json\n"
     ]
    },
    {
     "name": "stderr",
     "output_type": "stream",
     "text": [
      "\n",
      "\n",
      "\n",
      "  0%|                                                 | 5/13077 [00:25<24:03:55,  6.63s/it]\u001b[A\u001b[A\u001b[A"
     ]
    },
    {
     "name": "stdout",
     "output_type": "stream",
     "text": [
      "lumapps.com.json\n"
     ]
    },
    {
     "name": "stderr",
     "output_type": "stream",
     "text": [
      "\n",
      "\n",
      "\n",
      "  0%|                                                 | 6/13077 [00:34<26:25:42,  7.28s/it]\u001b[A\u001b[A\u001b[A"
     ]
    },
    {
     "name": "stdout",
     "output_type": "stream",
     "text": [
      "cardinals.com.json\n",
      "revisionenergy.com.json\n"
     ]
    },
    {
     "name": "stderr",
     "output_type": "stream",
     "text": [
      "\n",
      "\n",
      "\n",
      "  0%|                                                 | 8/13077 [00:34<13:53:57,  3.83s/it]\u001b[A\u001b[A\u001b[A"
     ]
    },
    {
     "name": "stdout",
     "output_type": "stream",
     "text": [
      "guthy-renker.com.json\n"
     ]
    },
    {
     "name": "stderr",
     "output_type": "stream",
     "text": [
      "\n",
      "\n",
      "\n",
      "  0%|                                                 | 9/13077 [00:42<17:44:23,  4.89s/it]\u001b[A\u001b[A\u001b[A"
     ]
    },
    {
     "name": "stdout",
     "output_type": "stream",
     "text": [
      "marqeta.com.json\n"
     ]
    },
    {
     "name": "stderr",
     "output_type": "stream",
     "text": [
      "\n",
      "\n",
      "\n",
      "  0%|                                                | 10/13077 [00:53<23:47:00,  6.55s/it]\u001b[A\u001b[A\u001b[A"
     ]
    },
    {
     "name": "stdout",
     "output_type": "stream",
     "text": [
      "mechatronics.com.json\n"
     ]
    },
    {
     "name": "stderr",
     "output_type": "stream",
     "text": [
      "\n",
      "\n",
      "\n",
      "  0%|                                                | 11/13077 [01:00<24:24:12,  6.72s/it]\u001b[A\u001b[A\u001b[A"
     ]
    },
    {
     "name": "stdout",
     "output_type": "stream",
     "text": [
      "rewterz.com.json\n"
     ]
    },
    {
     "name": "stderr",
     "output_type": "stream",
     "text": [
      "\n",
      "\n",
      "\n",
      "  0%|                                                | 12/13077 [01:21<38:57:04, 10.73s/it]\u001b[A\u001b[A\u001b[A"
     ]
    },
    {
     "name": "stdout",
     "output_type": "stream",
     "text": [
      "tektonlabs.com.json\n"
     ]
    },
    {
     "name": "stderr",
     "output_type": "stream",
     "text": [
      "\n",
      "\n",
      "\n",
      "  0%|                                                | 13/13077 [01:24<30:30:38,  8.41s/it]\u001b[A\u001b[A\u001b[A"
     ]
    },
    {
     "name": "stdout",
     "output_type": "stream",
     "text": [
      "georgetowncommunityhospital.com.json\n"
     ]
    },
    {
     "name": "stderr",
     "output_type": "stream",
     "text": [
      "\n",
      "\n",
      "\n",
      "  0%|                                                | 14/13077 [01:29<26:44:40,  7.37s/it]\u001b[A\u001b[A\u001b[A"
     ]
    },
    {
     "name": "stdout",
     "output_type": "stream",
     "text": [
      "sterlingequities.com.json\n"
     ]
    },
    {
     "name": "stderr",
     "output_type": "stream",
     "text": [
      "\n",
      "\n",
      "\n",
      "  0%|                                                | 15/13077 [01:30<20:15:09,  5.58s/it]\u001b[A\u001b[A\u001b[A"
     ]
    },
    {
     "name": "stdout",
     "output_type": "stream",
     "text": [
      "coverwallet.com.json\n"
     ]
    },
    {
     "name": "stderr",
     "output_type": "stream",
     "text": [
      "\n",
      "\n",
      "\n",
      "  0%|                                                | 16/13077 [01:37<22:20:00,  6.16s/it]\u001b[A\u001b[A\u001b[A"
     ]
    },
    {
     "name": "stdout",
     "output_type": "stream",
     "text": [
      "holyspiritretirementhome.com.json\n"
     ]
    },
    {
     "name": "stderr",
     "output_type": "stream",
     "text": [
      "\n",
      "\n",
      "\n",
      "  0%|                                                | 17/13077 [01:58<37:29:58, 10.34s/it]\u001b[A\u001b[A\u001b[A"
     ]
    },
    {
     "name": "stdout",
     "output_type": "stream",
     "text": [
      "senecaglobal.com.json\n"
     ]
    },
    {
     "name": "stderr",
     "output_type": "stream",
     "text": [
      "\n",
      "\n",
      "\n",
      "  0%|                                                | 18/13077 [02:08<37:58:22, 10.47s/it]\u001b[A\u001b[A\u001b[A"
     ]
    },
    {
     "name": "stdout",
     "output_type": "stream",
     "text": [
      "rwcatskills.com.json\n"
     ]
    },
    {
     "name": "stderr",
     "output_type": "stream",
     "text": [
      "\n",
      "\n",
      "\n",
      "  0%|                                                | 19/13077 [02:09<26:52:20,  7.41s/it]\u001b[A\u001b[A\u001b[A"
     ]
    },
    {
     "name": "stdout",
     "output_type": "stream",
     "text": [
      "emersonrogers.com.json\n"
     ]
    },
    {
     "name": "stderr",
     "output_type": "stream",
     "text": [
      "\n",
      "\n",
      "\n",
      "  0%|                                                | 20/13077 [02:17<27:28:50,  7.58s/it]\u001b[A\u001b[A\u001b[A"
     ]
    },
    {
     "name": "stdout",
     "output_type": "stream",
     "text": [
      "neogenomics.com.json\n"
     ]
    },
    {
     "name": "stderr",
     "output_type": "stream",
     "text": [
      "\n",
      "\n",
      "\n",
      "  0%|                                                | 21/13077 [02:17<19:41:12,  5.43s/it]\u001b[A\u001b[A\u001b[A"
     ]
    },
    {
     "name": "stdout",
     "output_type": "stream",
     "text": [
      "cctvcamerapros.com.json\n"
     ]
    },
    {
     "name": "stderr",
     "output_type": "stream",
     "text": [
      "\n",
      "\n",
      "\n",
      "  0%|                                                | 22/13077 [02:25<22:05:52,  6.09s/it]\u001b[A\u001b[A\u001b[A"
     ]
    },
    {
     "name": "stdout",
     "output_type": "stream",
     "text": [
      "thevillageshealth.com.json\n"
     ]
    },
    {
     "name": "stderr",
     "output_type": "stream",
     "text": [
      "\n",
      "\n",
      "\n",
      "  0%|                                                | 23/13077 [02:36<27:53:19,  7.69s/it]\u001b[A\u001b[A\u001b[A"
     ]
    },
    {
     "name": "stdout",
     "output_type": "stream",
     "text": [
      "cjadvertising.com.json\n"
     ]
    },
    {
     "name": "stderr",
     "output_type": "stream",
     "text": [
      "\n",
      "\n",
      "\n",
      "  0%|                                                | 24/13077 [02:42<26:04:21,  7.19s/it]\u001b[A\u001b[A\u001b[A"
     ]
    },
    {
     "name": "stdout",
     "output_type": "stream",
     "text": [
      "engageware.com.json\n"
     ]
    },
    {
     "name": "stderr",
     "output_type": "stream",
     "text": [
      "\n",
      "\n",
      "\n",
      "  0%|                                                | 25/13077 [02:54<30:47:22,  8.49s/it]\u001b[A\u001b[A\u001b[A"
     ]
    },
    {
     "name": "stdout",
     "output_type": "stream",
     "text": [
      "cbservice.com.json\n",
      "conceptrehab.com.json\n"
     ]
    },
    {
     "name": "stderr",
     "output_type": "stream",
     "text": [
      "\n",
      "\n",
      "\n",
      "  0%|                                                | 27/13077 [02:58<19:50:46,  5.47s/it]\u001b[A\u001b[A\u001b[A"
     ]
    },
    {
     "name": "stdout",
     "output_type": "stream",
     "text": [
      "answernet.com.json\n"
     ]
    },
    {
     "name": "stderr",
     "output_type": "stream",
     "text": [
      "\n",
      "\n",
      "\n",
      "  0%|                                                | 28/13077 [03:11<27:09:31,  7.49s/it]\u001b[A\u001b[A\u001b[A"
     ]
    },
    {
     "name": "stdout",
     "output_type": "stream",
     "text": [
      "s2cp.com.json\n"
     ]
    },
    {
     "name": "stderr",
     "output_type": "stream",
     "text": [
      "\n",
      "\n",
      "\n",
      "  0%|                                                | 29/13077 [03:13<22:02:36,  6.08s/it]\u001b[A\u001b[A\u001b[A"
     ]
    },
    {
     "name": "stdout",
     "output_type": "stream",
     "text": [
      "montessorieducation.com.json\n"
     ]
    },
    {
     "name": "stderr",
     "output_type": "stream",
     "text": [
      "\n",
      "\n",
      "\n",
      "  0%|                                                | 30/13077 [03:16<18:54:50,  5.22s/it]\u001b[A\u001b[A\u001b[A"
     ]
    },
    {
     "name": "stdout",
     "output_type": "stream",
     "text": [
      "inspire11.com.json\n"
     ]
    },
    {
     "name": "stderr",
     "output_type": "stream",
     "text": [
      "\n",
      "\n",
      "\n",
      "  0%|                                                | 31/13077 [03:29<26:26:59,  7.30s/it]\u001b[A\u001b[A\u001b[A"
     ]
    },
    {
     "name": "stdout",
     "output_type": "stream",
     "text": [
      "arvinas.com.json\n"
     ]
    },
    {
     "name": "stderr",
     "output_type": "stream",
     "text": [
      "\n",
      "\n",
      "\n",
      "  0%|                                               | 32/13077 [04:55<107:37:49, 29.70s/it]\u001b[A\u001b[A\u001b[A"
     ]
    },
    {
     "name": "stdout",
     "output_type": "stream",
     "text": [
      "constellationmutual.com.json\n",
      "aaitpro.com.json\n"
     ]
    },
    {
     "name": "stderr",
     "output_type": "stream",
     "text": [
      "\n",
      "\n",
      "\n",
      "  0%|                                                | 34/13077 [05:06<68:38:45, 18.95s/it]\u001b[A\u001b[A\u001b[A"
     ]
    },
    {
     "name": "stdout",
     "output_type": "stream",
     "text": [
      "citimed.com.json\n"
     ]
    },
    {
     "name": "stderr",
     "output_type": "stream",
     "text": [
      "\n",
      "\n",
      "\n",
      "  0%|▏                                               | 35/13077 [05:14<59:14:37, 16.35s/it]\u001b[A\u001b[A\u001b[A"
     ]
    },
    {
     "name": "stdout",
     "output_type": "stream",
     "text": [
      "virginiamedia.com.json\n"
     ]
    },
    {
     "name": "stderr",
     "output_type": "stream",
     "text": [
      "\n",
      "\n",
      "\n",
      "  0%|▏                                               | 36/13077 [05:45<72:25:47, 19.99s/it]\u001b[A\u001b[A\u001b[A"
     ]
    },
    {
     "name": "stdout",
     "output_type": "stream",
     "text": [
      "neevsystems.com.json\n"
     ]
    },
    {
     "name": "stderr",
     "output_type": "stream",
     "text": [
      "\n",
      "\n",
      "\n",
      "  0%|▏                                               | 37/13077 [05:59<67:13:05, 18.56s/it]\u001b[A\u001b[A\u001b[A"
     ]
    },
    {
     "name": "stdout",
     "output_type": "stream",
     "text": [
      "66degrees.com.json\n"
     ]
    },
    {
     "name": "stderr",
     "output_type": "stream",
     "text": [
      "\n",
      "\n",
      "\n",
      "  0%|▏                                               | 38/13077 [06:11<60:03:34, 16.58s/it]\u001b[A\u001b[A\u001b[A"
     ]
    },
    {
     "name": "stdout",
     "output_type": "stream",
     "text": [
      "evonsys.com.json\n"
     ]
    },
    {
     "name": "stderr",
     "output_type": "stream",
     "text": [
      "\n",
      "\n",
      "\n",
      "  0%|▏                                               | 39/13077 [06:32<64:09:32, 17.72s/it]\u001b[A\u001b[A\u001b[A"
     ]
    },
    {
     "name": "stdout",
     "output_type": "stream",
     "text": [
      "imta.com.json\n"
     ]
    },
    {
     "name": "stderr",
     "output_type": "stream",
     "text": [
      "\n",
      "\n",
      "\n",
      "  0%|▏                                               | 40/13077 [06:39<53:35:22, 14.80s/it]\u001b[A\u001b[A\u001b[A"
     ]
    },
    {
     "name": "stdout",
     "output_type": "stream",
     "text": [
      "chowbus.com.json\n"
     ]
    },
    {
     "name": "stderr",
     "output_type": "stream",
     "text": [
      "\n",
      "\n",
      "\n",
      "  0%|▏                                               | 41/13077 [06:41<39:44:15, 10.97s/it]\u001b[A\u001b[A\u001b[A"
     ]
    },
    {
     "name": "stdout",
     "output_type": "stream",
     "text": [
      "julyservices.com.json\n"
     ]
    },
    {
     "name": "stderr",
     "output_type": "stream",
     "text": [
      "\n",
      "\n",
      "\n",
      "  0%|▏                                               | 42/13077 [06:47<34:45:42,  9.60s/it]\u001b[A\u001b[A\u001b[A"
     ]
    },
    {
     "name": "stdout",
     "output_type": "stream",
     "text": [
      "benhamouglobalventures.com.json\n"
     ]
    },
    {
     "name": "stderr",
     "output_type": "stream",
     "text": [
      "\n",
      "\n",
      "\n",
      "  0%|▏                                               | 43/13077 [06:49<26:23:55,  7.29s/it]\u001b[A\u001b[A\u001b[A"
     ]
    },
    {
     "name": "stdout",
     "output_type": "stream",
     "text": [
      "ccok.com.json\n"
     ]
    },
    {
     "name": "stderr",
     "output_type": "stream",
     "text": [
      "\n",
      "\n",
      "\n",
      "  0%|▏                                               | 44/13077 [06:52<22:11:01,  6.13s/it]\u001b[A\u001b[A\u001b[A"
     ]
    },
    {
     "name": "stdout",
     "output_type": "stream",
     "text": [
      "alamoanahotelhonolulu.com.json\n"
     ]
    },
    {
     "name": "stderr",
     "output_type": "stream",
     "text": [
      "\n",
      "\n",
      "\n",
      "  0%|▏                                               | 45/13077 [06:53<16:20:47,  4.52s/it]\u001b[A\u001b[A\u001b[A"
     ]
    },
    {
     "name": "stdout",
     "output_type": "stream",
     "text": [
      "mooretransport.com.json\n"
     ]
    },
    {
     "name": "stderr",
     "output_type": "stream",
     "text": [
      "\n",
      "\n",
      "\n",
      "  0%|▏                                               | 46/13077 [06:53<11:45:38,  3.25s/it]\u001b[A\u001b[A\u001b[A"
     ]
    },
    {
     "name": "stdout",
     "output_type": "stream",
     "text": [
      "usfertility.com.json\n"
     ]
    },
    {
     "name": "stderr",
     "output_type": "stream",
     "text": [
      "\n",
      "\n",
      "\n",
      "  0%|▏                                               | 47/13077 [06:55<10:32:26,  2.91s/it]\u001b[A\u001b[A\u001b[A"
     ]
    },
    {
     "name": "stdout",
     "output_type": "stream",
     "text": [
      "marionso.com.json\n",
      "ucco.com.json\n"
     ]
    },
    {
     "name": "stderr",
     "output_type": "stream",
     "text": [
      "\n",
      "\n",
      "\n",
      "  0%|▏                                               | 49/13077 [07:04<13:00:31,  3.59s/it]\u001b[A\u001b[A\u001b[A"
     ]
    },
    {
     "name": "stdout",
     "output_type": "stream",
     "text": [
      "wolffolins.com.json\n"
     ]
    },
    {
     "name": "stderr",
     "output_type": "stream",
     "text": [
      "\n",
      "\n",
      "\n",
      "  0%|▏                                               | 50/13077 [07:08<12:49:39,  3.54s/it]\u001b[A\u001b[A\u001b[A"
     ]
    },
    {
     "name": "stdout",
     "output_type": "stream",
     "text": [
      "revionics.com.json\n"
     ]
    },
    {
     "name": "stderr",
     "output_type": "stream",
     "text": [
      "\n",
      "\n",
      "\n",
      "  0%|▏                                               | 51/13077 [07:18<19:05:36,  5.28s/it]\u001b[A\u001b[A\u001b[A"
     ]
    },
    {
     "name": "stdout",
     "output_type": "stream",
     "text": [
      "epiloglaser.com.json\n"
     ]
    },
    {
     "name": "stderr",
     "output_type": "stream",
     "text": [
      "\n",
      "\n",
      "\n",
      "  0%|▏                                               | 52/13077 [07:18<14:06:27,  3.90s/it]\u001b[A\u001b[A\u001b[A"
     ]
    },
    {
     "name": "stdout",
     "output_type": "stream",
     "text": [
      "sram.com.json\n"
     ]
    },
    {
     "name": "stderr",
     "output_type": "stream",
     "text": [
      "\n",
      "\n",
      "\n",
      "  0%|▏                                               | 53/13077 [07:19<10:51:47,  3.00s/it]\u001b[A\u001b[A\u001b[A"
     ]
    },
    {
     "name": "stdout",
     "output_type": "stream",
     "text": [
      "purvis.com.json\n"
     ]
    },
    {
     "name": "stderr",
     "output_type": "stream",
     "text": [
      "\n",
      "\n",
      "\n",
      "  0%|▏                                               | 54/13077 [07:29<18:23:11,  5.08s/it]\u001b[A\u001b[A\u001b[A"
     ]
    },
    {
     "name": "stdout",
     "output_type": "stream",
     "text": [
      "freshgravity.com.json\n"
     ]
    },
    {
     "name": "stderr",
     "output_type": "stream",
     "text": [
      "\n",
      "\n",
      "\n",
      "  0%|▏                                               | 55/13077 [07:35<19:52:15,  5.49s/it]\u001b[A\u001b[A\u001b[A"
     ]
    },
    {
     "name": "stdout",
     "output_type": "stream",
     "text": [
      "issaction.com.json\n"
     ]
    },
    {
     "name": "stderr",
     "output_type": "stream",
     "text": [
      "\n",
      "\n",
      "\n",
      "  0%|▏                                               | 56/13077 [07:40<18:47:17,  5.19s/it]\u001b[A\u001b[A\u001b[A"
     ]
    },
    {
     "name": "stdout",
     "output_type": "stream",
     "text": [
      "littletongroup.com.json\n"
     ]
    },
    {
     "name": "stderr",
     "output_type": "stream",
     "text": [
      "\n",
      "\n",
      "\n",
      "  0%|▏                                               | 57/13077 [07:41<14:27:57,  4.00s/it]\u001b[A\u001b[A\u001b[A"
     ]
    },
    {
     "name": "stdout",
     "output_type": "stream",
     "text": [
      "mainline.com.json\n"
     ]
    },
    {
     "name": "stderr",
     "output_type": "stream",
     "text": [
      "\n",
      "\n",
      "\n",
      "  0%|▏                                               | 58/13077 [07:54<24:13:25,  6.70s/it]\u001b[A\u001b[A\u001b[A"
     ]
    },
    {
     "name": "stdout",
     "output_type": "stream",
     "text": [
      "choate.com.json\n"
     ]
    },
    {
     "name": "stderr",
     "output_type": "stream",
     "text": [
      "\n",
      "\n",
      "\n",
      "  0%|▏                                               | 59/13077 [07:59<22:10:45,  6.13s/it]\u001b[A\u001b[A\u001b[A"
     ]
    },
    {
     "name": "stdout",
     "output_type": "stream",
     "text": [
      "c2spr.com.json\n"
     ]
    },
    {
     "name": "stderr",
     "output_type": "stream",
     "text": [
      "\n",
      "\n",
      "\n",
      "  0%|▏                                               | 60/13077 [08:05<22:30:29,  6.22s/it]\u001b[A\u001b[A\u001b[A"
     ]
    },
    {
     "name": "stdout",
     "output_type": "stream",
     "text": [
      "modjeski.com.json\n"
     ]
    },
    {
     "name": "stderr",
     "output_type": "stream",
     "text": [
      "\n",
      "\n",
      "\n",
      "  0%|▏                                               | 61/13077 [08:15<26:26:29,  7.31s/it]\u001b[A\u001b[A\u001b[A"
     ]
    },
    {
     "name": "stdout",
     "output_type": "stream",
     "text": [
      "duplionline.com.json\n"
     ]
    },
    {
     "name": "stderr",
     "output_type": "stream",
     "text": [
      "\n",
      "\n",
      "\n",
      "  0%|▏                                               | 62/13077 [08:16<19:17:51,  5.34s/it]\u001b[A\u001b[A\u001b[A"
     ]
    },
    {
     "name": "stdout",
     "output_type": "stream",
     "text": [
      "adesisinc.com.json\n"
     ]
    },
    {
     "name": "stderr",
     "output_type": "stream",
     "text": [
      "\n",
      "\n",
      "\n",
      "  0%|▏                                               | 63/13077 [08:24<22:06:20,  6.11s/it]\u001b[A\u001b[A\u001b[A"
     ]
    },
    {
     "name": "stdout",
     "output_type": "stream",
     "text": [
      "unitedpower.com.json\n"
     ]
    },
    {
     "name": "stderr",
     "output_type": "stream",
     "text": [
      "\n",
      "\n",
      "\n",
      "  0%|▏                                               | 64/13077 [08:26<17:32:30,  4.85s/it]\u001b[A\u001b[A\u001b[A\n",
      "\n",
      "\n",
      "  0%|▏                                               | 65/13077 [08:26<12:27:19,  3.45s/it]\u001b[A\u001b[A\u001b[A"
     ]
    },
    {
     "name": "stdout",
     "output_type": "stream",
     "text": [
      "gitano.com.json\n",
      "simondata.com.json\n"
     ]
    },
    {
     "name": "stderr",
     "output_type": "stream",
     "text": [
      "\n",
      "\n",
      "\n",
      "  1%|▏                                               | 66/13077 [08:27<10:16:03,  2.84s/it]\u001b[A\u001b[A\u001b[A"
     ]
    },
    {
     "name": "stdout",
     "output_type": "stream",
     "text": [
      "engagestar.com.json\n"
     ]
    },
    {
     "name": "stderr",
     "output_type": "stream",
     "text": [
      "\n",
      "\n",
      "\n",
      "  1%|▏                                               | 67/13077 [08:47<27:52:55,  7.72s/it]\u001b[A\u001b[A\u001b[A"
     ]
    },
    {
     "name": "stdout",
     "output_type": "stream",
     "text": [
      "silaservices.com.json\n"
     ]
    },
    {
     "name": "stderr",
     "output_type": "stream",
     "text": [
      "\n",
      "\n",
      "\n",
      "  1%|▏                                               | 68/13077 [08:50<22:59:57,  6.36s/it]\u001b[A\u001b[A\u001b[A"
     ]
    },
    {
     "name": "stdout",
     "output_type": "stream",
     "text": [
      "fpacp.com.json\n"
     ]
    },
    {
     "name": "stderr",
     "output_type": "stream",
     "text": [
      "\n",
      "\n",
      "\n",
      "  1%|▎                                               | 69/13077 [08:55<21:45:54,  6.02s/it]\u001b[A\u001b[A\u001b[A"
     ]
    },
    {
     "name": "stdout",
     "output_type": "stream",
     "text": [
      "alpha-sense.com.json\n"
     ]
    },
    {
     "name": "stderr",
     "output_type": "stream",
     "text": [
      "\n",
      "\n",
      "\n",
      "  1%|▎                                               | 70/13077 [08:57<17:52:17,  4.95s/it]\u001b[A\u001b[A\u001b[A"
     ]
    },
    {
     "name": "stdout",
     "output_type": "stream",
     "text": [
      "harveyssupermarkets.com.json\n"
     ]
    },
    {
     "name": "stderr",
     "output_type": "stream",
     "text": [
      "\n",
      "\n",
      "\n",
      "  1%|▎                                               | 71/13077 [09:13<29:56:15,  8.29s/it]\u001b[A\u001b[A\u001b[A"
     ]
    },
    {
     "name": "stdout",
     "output_type": "stream",
     "text": [
      "alcivia.com.json\n"
     ]
    },
    {
     "name": "stderr",
     "output_type": "stream",
     "text": [
      "\n",
      "\n",
      "\n",
      "  1%|▎                                               | 72/13077 [09:24<32:16:23,  8.93s/it]\u001b[A\u001b[A\u001b[A"
     ]
    },
    {
     "name": "stdout",
     "output_type": "stream",
     "text": [
      "rlginc.com.json\n"
     ]
    },
    {
     "name": "stderr",
     "output_type": "stream",
     "text": [
      "\n",
      "\n",
      "\n",
      "  1%|▎                                               | 73/13077 [09:26<24:33:54,  6.80s/it]\u001b[A\u001b[A\u001b[A"
     ]
    },
    {
     "name": "stdout",
     "output_type": "stream",
     "text": [
      "buildgc.com.json\n"
     ]
    },
    {
     "name": "stderr",
     "output_type": "stream",
     "text": [
      "\n",
      "\n",
      "\n",
      "  1%|▎                                               | 74/13077 [09:30<21:48:37,  6.04s/it]\u001b[A\u001b[A\u001b[A"
     ]
    },
    {
     "name": "stdout",
     "output_type": "stream",
     "text": [
      "beekley.com.json\n"
     ]
    },
    {
     "name": "stderr",
     "output_type": "stream",
     "text": [
      "\n",
      "\n",
      "\n",
      "  1%|▎                                               | 75/13077 [09:41<26:43:39,  7.40s/it]\u001b[A\u001b[A\u001b[A"
     ]
    },
    {
     "name": "stdout",
     "output_type": "stream",
     "text": [
      "imperfect.com.json\n",
      "combinedtransport.com.json\n"
     ]
    },
    {
     "name": "stderr",
     "output_type": "stream",
     "text": [
      "\n",
      "\n",
      "\n",
      "  1%|▎                                               | 77/13077 [09:44<17:33:04,  4.86s/it]\u001b[A\u001b[A\u001b[A"
     ]
    },
    {
     "name": "stdout",
     "output_type": "stream",
     "text": [
      "nsre.com.json\n"
     ]
    },
    {
     "name": "stderr",
     "output_type": "stream",
     "text": [
      "\n",
      "\n",
      "\n",
      "  1%|▎                                               | 78/13077 [09:54<21:50:39,  6.05s/it]\u001b[A\u001b[A\u001b[A"
     ]
    },
    {
     "name": "stdout",
     "output_type": "stream",
     "text": [
      "iengineering.com.json\n"
     ]
    },
    {
     "name": "stderr",
     "output_type": "stream",
     "text": [
      "\n",
      "\n",
      "\n",
      "  1%|▎                                               | 79/13077 [09:59<21:06:32,  5.85s/it]\u001b[A\u001b[A\u001b[A"
     ]
    },
    {
     "name": "stdout",
     "output_type": "stream",
     "text": [
      "mimeridian.com.json\n"
     ]
    },
    {
     "name": "stderr",
     "output_type": "stream",
     "text": [
      "\n",
      "\n",
      "\n",
      "  1%|▎                                               | 80/13077 [10:01<17:27:44,  4.84s/it]\u001b[A\u001b[A\u001b[A"
     ]
    },
    {
     "name": "stdout",
     "output_type": "stream",
     "text": [
      "canuscorp.com.json\n"
     ]
    },
    {
     "name": "stderr",
     "output_type": "stream",
     "text": [
      "\n",
      "\n",
      "\n",
      "  1%|▎                                               | 81/13077 [10:07<18:26:11,  5.11s/it]\u001b[A\u001b[A\u001b[A"
     ]
    },
    {
     "name": "stdout",
     "output_type": "stream",
     "text": [
      "wvmb.com.json\n"
     ]
    },
    {
     "name": "stderr",
     "output_type": "stream",
     "text": [
      "\n",
      "\n",
      "\n",
      "  1%|▎                                               | 82/13077 [10:08<13:39:51,  3.79s/it]\u001b[A\u001b[A\u001b[A"
     ]
    },
    {
     "name": "stdout",
     "output_type": "stream",
     "text": [
      "corexpartners.com.json\n"
     ]
    },
    {
     "name": "stderr",
     "output_type": "stream",
     "text": [
      "\n",
      "\n",
      "\n",
      "  1%|▎                                               | 83/13077 [10:26<29:03:47,  8.05s/it]\u001b[A\u001b[A\u001b[A"
     ]
    },
    {
     "name": "stdout",
     "output_type": "stream",
     "text": [
      "flatrivergroup.com.json\n"
     ]
    },
    {
     "name": "stderr",
     "output_type": "stream",
     "text": [
      "\n",
      "\n",
      "\n",
      "  1%|▎                                               | 84/13077 [10:32<26:17:42,  7.29s/it]\u001b[A\u001b[A\u001b[A"
     ]
    },
    {
     "name": "stdout",
     "output_type": "stream",
     "text": [
      "walshbrothers.com.json\n"
     ]
    },
    {
     "name": "stderr",
     "output_type": "stream",
     "text": [
      "\n",
      "\n",
      "\n",
      "  1%|▎                                               | 85/13077 [10:41<29:00:22,  8.04s/it]\u001b[A\u001b[A\u001b[A"
     ]
    },
    {
     "name": "stdout",
     "output_type": "stream",
     "text": [
      "dashlane.com.json\n"
     ]
    },
    {
     "name": "stderr",
     "output_type": "stream",
     "text": [
      "\n",
      "\n",
      "\n",
      "  1%|▎                                               | 86/13077 [10:49<28:55:07,  8.01s/it]\u001b[A\u001b[A\u001b[A"
     ]
    },
    {
     "name": "stdout",
     "output_type": "stream",
     "text": [
      "colsongroup.com.json\n"
     ]
    },
    {
     "name": "stderr",
     "output_type": "stream",
     "text": [
      "\n",
      "\n",
      "\n",
      "  1%|▎                                               | 87/13077 [10:54<25:42:40,  7.13s/it]\u001b[A\u001b[A\u001b[A"
     ]
    },
    {
     "name": "stdout",
     "output_type": "stream",
     "text": [
      "tilebar.com.json\n"
     ]
    },
    {
     "name": "stderr",
     "output_type": "stream",
     "text": [
      "\n",
      "\n",
      "\n",
      "  1%|▎                                               | 88/13077 [10:55<18:52:05,  5.23s/it]\u001b[A\u001b[A\u001b[A"
     ]
    },
    {
     "name": "stdout",
     "output_type": "stream",
     "text": [
      "concerthealth.com.json\n"
     ]
    },
    {
     "name": "stderr",
     "output_type": "stream",
     "text": [
      "\n",
      "\n",
      "\n",
      "  1%|▎                                               | 89/13077 [10:58<16:38:59,  4.62s/it]\u001b[A\u001b[A\u001b[A"
     ]
    },
    {
     "name": "stdout",
     "output_type": "stream",
     "text": [
      "tuckeralbin.com.json\n",
      "aprco.com.json\n"
     ]
    },
    {
     "name": "stderr",
     "output_type": "stream",
     "text": [
      "\n",
      "\n",
      "\n",
      "  1%|▎                                               | 91/13077 [11:15<23:00:52,  6.38s/it]\u001b[A\u001b[A\u001b[A"
     ]
    },
    {
     "name": "stdout",
     "output_type": "stream",
     "text": [
      "maxwellkates.com.json\n"
     ]
    },
    {
     "name": "stderr",
     "output_type": "stream",
     "text": [
      "\n",
      "\n",
      "\n",
      "  1%|▎                                               | 92/13077 [11:29<29:21:12,  8.14s/it]\u001b[A\u001b[A\u001b[A"
     ]
    },
    {
     "name": "stdout",
     "output_type": "stream",
     "text": [
      "theviswagroup.com.json\n"
     ]
    },
    {
     "name": "stderr",
     "output_type": "stream",
     "text": [
      "\n",
      "\n",
      "\n",
      "  1%|▎                                               | 93/13077 [11:33<25:46:19,  7.15s/it]\u001b[A\u001b[A\u001b[A"
     ]
    },
    {
     "name": "stdout",
     "output_type": "stream",
     "text": [
      "e360.com.json\n"
     ]
    },
    {
     "name": "stderr",
     "output_type": "stream",
     "text": [
      "\n",
      "\n",
      "\n",
      "  1%|▎                                               | 94/13077 [11:44<29:15:32,  8.11s/it]\u001b[A\u001b[A\u001b[A"
     ]
    },
    {
     "name": "stdout",
     "output_type": "stream",
     "text": [
      "cardinalstaffing.com.json\n"
     ]
    },
    {
     "name": "stderr",
     "output_type": "stream",
     "text": [
      "\n",
      "\n",
      "\n",
      "  1%|▎                                               | 95/13077 [11:51<28:09:43,  7.81s/it]\u001b[A\u001b[A\u001b[A"
     ]
    },
    {
     "name": "stdout",
     "output_type": "stream",
     "text": [
      "precisionglobal.com.json\n"
     ]
    },
    {
     "name": "stderr",
     "output_type": "stream",
     "text": [
      "\n",
      "\n",
      "\n",
      "  1%|▎                                              | 96/13077 [15:02<216:46:53, 60.12s/it]\u001b[A\u001b[A\u001b[A"
     ]
    },
    {
     "name": "stdout",
     "output_type": "stream",
     "text": [
      "cottoninc.com.json\n"
     ]
    },
    {
     "name": "stderr",
     "output_type": "stream",
     "text": [
      "\n",
      "\n",
      "\n",
      "  1%|▎                                              | 97/13077 [15:04<155:41:53, 43.18s/it]\u001b[A\u001b[A\u001b[A"
     ]
    },
    {
     "name": "stdout",
     "output_type": "stream",
     "text": [
      "spectratechinc.com.json\n"
     ]
    },
    {
     "name": "stderr",
     "output_type": "stream",
     "text": [
      "\n",
      "\n",
      "\n",
      "  1%|▎                                              | 98/13077 [15:09<116:20:49, 32.27s/it]\u001b[A\u001b[A\u001b[A"
     ]
    },
    {
     "name": "stdout",
     "output_type": "stream",
     "text": [
      "alphaconsulting.com.json\n"
     ]
    },
    {
     "name": "stderr",
     "output_type": "stream",
     "text": [
      "\n",
      "\n",
      "\n",
      "  1%|▎                                              | 99/13077 [15:29<103:01:56, 28.58s/it]\u001b[A\u001b[A\u001b[A"
     ]
    },
    {
     "name": "stdout",
     "output_type": "stream",
     "text": [
      "mellottcompany.com.json\n"
     ]
    },
    {
     "name": "stderr",
     "output_type": "stream",
     "text": [
      "\n",
      "\n",
      "\n",
      "  1%|▎                                              | 100/13077 [15:34<77:30:19, 21.50s/it]\u001b[A\u001b[A\u001b[A"
     ]
    },
    {
     "name": "stdout",
     "output_type": "stream",
     "text": [
      "acelerolearning.com.json\n"
     ]
    },
    {
     "name": "stderr",
     "output_type": "stream",
     "text": [
      "\n",
      "\n",
      "\n",
      "  1%|▎                                              | 101/13077 [15:37<58:12:00, 16.15s/it]\u001b[A\u001b[A\u001b[A"
     ]
    },
    {
     "name": "stdout",
     "output_type": "stream",
     "text": [
      "fontainemodification.com.json\n"
     ]
    },
    {
     "name": "stderr",
     "output_type": "stream",
     "text": [
      "\n",
      "\n",
      "\n",
      "  1%|▎                                              | 102/13077 [15:38<41:15:28, 11.45s/it]\u001b[A\u001b[A\u001b[A"
     ]
    },
    {
     "name": "stdout",
     "output_type": "stream",
     "text": [
      "healthmark-group.com.json\n"
     ]
    },
    {
     "name": "stderr",
     "output_type": "stream",
     "text": [
      "\n",
      "\n",
      "\n",
      "  1%|▎                                              | 103/13077 [15:56<48:42:51, 13.52s/it]\u001b[A\u001b[A\u001b[A"
     ]
    },
    {
     "name": "stdout",
     "output_type": "stream",
     "text": [
      "dedicatednurses.com.json\n"
     ]
    },
    {
     "name": "stderr",
     "output_type": "stream",
     "text": [
      "\n",
      "\n",
      "\n",
      "  1%|▎                                              | 104/13077 [16:02<40:30:18, 11.24s/it]\u001b[A\u001b[A\u001b[A"
     ]
    },
    {
     "name": "stdout",
     "output_type": "stream",
     "text": [
      "gubagoo.com.json\n"
     ]
    },
    {
     "name": "stderr",
     "output_type": "stream",
     "text": [
      "\n",
      "\n",
      "\n",
      "  1%|▍                                              | 105/13077 [16:11<38:14:44, 10.61s/it]\u001b[A\u001b[A\u001b[A"
     ]
    },
    {
     "name": "stdout",
     "output_type": "stream",
     "text": [
      "cancapital.com.json\n"
     ]
    },
    {
     "name": "stderr",
     "output_type": "stream",
     "text": [
      "\n",
      "\n",
      "\n",
      "  1%|▍                                              | 106/13077 [16:15<31:17:39,  8.69s/it]\u001b[A\u001b[A\u001b[A"
     ]
    },
    {
     "name": "stdout",
     "output_type": "stream",
     "text": [
      "hansoll.com.json\n"
     ]
    },
    {
     "name": "stderr",
     "output_type": "stream",
     "text": [
      "\n",
      "\n",
      "\n",
      "  1%|▍                                              | 107/13077 [16:26<33:13:39,  9.22s/it]\u001b[A\u001b[A\u001b[A"
     ]
    },
    {
     "name": "stdout",
     "output_type": "stream",
     "text": [
      "advisenltd.com.json\n"
     ]
    },
    {
     "name": "stderr",
     "output_type": "stream",
     "text": [
      "\n",
      "\n",
      "\n",
      "  1%|▍                                              | 108/13077 [16:34<31:40:34,  8.79s/it]\u001b[A\u001b[A\u001b[A"
     ]
    },
    {
     "name": "stdout",
     "output_type": "stream",
     "text": [
      "ftxcs.com.json\n"
     ]
    },
    {
     "name": "stderr",
     "output_type": "stream",
     "text": [
      "\n",
      "\n",
      "\n",
      "  1%|▍                                              | 109/13077 [17:00<50:07:42, 13.92s/it]\u001b[A\u001b[A\u001b[A"
     ]
    },
    {
     "name": "stdout",
     "output_type": "stream",
     "text": [
      "tfeconnect.com.json\n"
     ]
    },
    {
     "name": "stderr",
     "output_type": "stream",
     "text": [
      "\n",
      "\n",
      "\n",
      "  1%|▍                                              | 110/13077 [17:09<45:03:25, 12.51s/it]\u001b[A\u001b[A\u001b[A"
     ]
    },
    {
     "name": "stdout",
     "output_type": "stream",
     "text": [
      "teamavoq.com.json\n"
     ]
    },
    {
     "name": "stderr",
     "output_type": "stream",
     "text": [
      "\n",
      "\n",
      "\n",
      "  1%|▍                                              | 111/13077 [17:24<48:23:09, 13.43s/it]\u001b[A\u001b[A\u001b[A"
     ]
    },
    {
     "name": "stdout",
     "output_type": "stream",
     "text": [
      "portcanaveral.com.json\n"
     ]
    },
    {
     "name": "stderr",
     "output_type": "stream",
     "text": [
      "\n",
      "\n",
      "\n",
      "  1%|▍                                              | 112/13077 [17:27<36:24:18, 10.11s/it]\u001b[A\u001b[A\u001b[A\n",
      "\n",
      "\n",
      "  1%|▍                                              | 113/13077 [17:27<25:41:46,  7.14s/it]\u001b[A\u001b[A\u001b[A"
     ]
    },
    {
     "name": "stdout",
     "output_type": "stream",
     "text": [
      "silverstatecu.com.json\n",
      "ffvamutual.com.json\n"
     ]
    },
    {
     "name": "stderr",
     "output_type": "stream",
     "text": [
      "\n",
      "\n",
      "\n",
      "  1%|▍                                              | 114/13077 [17:36<27:36:48,  7.67s/it]\u001b[A\u001b[A\u001b[A"
     ]
    },
    {
     "name": "stdout",
     "output_type": "stream",
     "text": [
      "cityshieldllc.com.json\n",
      "kramerbev.com.json\n"
     ]
    },
    {
     "name": "stderr",
     "output_type": "stream",
     "text": [
      "\n",
      "\n",
      "\n",
      "  1%|▍                                             | 116/13077 [20:22<153:03:17, 42.51s/it]\u001b[A\u001b[A\u001b[A"
     ]
    },
    {
     "name": "stdout",
     "output_type": "stream",
     "text": [
      "pathstream.com.json\n"
     ]
    },
    {
     "name": "stderr",
     "output_type": "stream",
     "text": [
      "\n",
      "\n",
      "\n",
      "  1%|▍                                             | 117/13077 [20:25<117:22:18, 32.60s/it]\u001b[A\u001b[A\u001b[A"
     ]
    },
    {
     "name": "stdout",
     "output_type": "stream",
     "text": [
      "forwardaircorp.com.json\n"
     ]
    },
    {
     "name": "stderr",
     "output_type": "stream",
     "text": [
      "\n",
      "\n",
      "\n",
      "  1%|▍                                              | 118/13077 [20:25<86:53:48, 24.14s/it]\u001b[A\u001b[A\u001b[A"
     ]
    },
    {
     "name": "stdout",
     "output_type": "stream",
     "text": [
      "berjeinc.com.json\n"
     ]
    },
    {
     "name": "stderr",
     "output_type": "stream",
     "text": [
      "\n",
      "\n",
      "\n",
      "  1%|▍                                              | 119/13077 [20:27<64:56:23, 18.04s/it]\u001b[A\u001b[A\u001b[A"
     ]
    },
    {
     "name": "stdout",
     "output_type": "stream",
     "text": [
      "chevysmd.com.json\n"
     ]
    },
    {
     "name": "stderr",
     "output_type": "stream",
     "text": [
      "\n",
      "\n",
      "\n",
      "  1%|▍                                              | 120/13077 [20:30<50:08:47, 13.93s/it]\u001b[A\u001b[A\u001b[A"
     ]
    },
    {
     "name": "stdout",
     "output_type": "stream",
     "text": [
      "everstorypartners.com.json\n"
     ]
    },
    {
     "name": "stderr",
     "output_type": "stream",
     "text": [
      "\n",
      "\n",
      "\n",
      "  1%|▍                                              | 121/13077 [20:31<36:51:16, 10.24s/it]\u001b[A\u001b[A\u001b[A"
     ]
    },
    {
     "name": "stdout",
     "output_type": "stream",
     "text": [
      "cambridgecomputer.com.json\n"
     ]
    },
    {
     "name": "stderr",
     "output_type": "stream",
     "text": [
      "\n",
      "\n",
      "\n",
      "  1%|▍                                              | 122/13077 [20:31<26:35:30,  7.39s/it]\u001b[A\u001b[A\u001b[A"
     ]
    },
    {
     "name": "stdout",
     "output_type": "stream",
     "text": [
      "dbi-cc.com.json\n"
     ]
    },
    {
     "name": "stderr",
     "output_type": "stream",
     "text": [
      "\n",
      "\n",
      "\n",
      "  1%|▍                                              | 123/13077 [20:37<24:55:35,  6.93s/it]\u001b[A\u001b[A\u001b[A"
     ]
    },
    {
     "name": "stdout",
     "output_type": "stream",
     "text": [
      "apiiro.com.json\n"
     ]
    },
    {
     "name": "stderr",
     "output_type": "stream",
     "text": [
      "\n",
      "\n",
      "\n",
      "  1%|▍                                              | 124/13077 [20:48<28:55:30,  8.04s/it]\u001b[A\u001b[A\u001b[A"
     ]
    },
    {
     "name": "stdout",
     "output_type": "stream",
     "text": [
      "globaldots.com.json\n"
     ]
    },
    {
     "name": "stderr",
     "output_type": "stream",
     "text": [
      "\n",
      "\n",
      "\n",
      "  1%|▍                                              | 125/13077 [20:55<27:51:22,  7.74s/it]\u001b[A\u001b[A\u001b[A"
     ]
    },
    {
     "name": "stdout",
     "output_type": "stream",
     "text": [
      "eeintl.com.json\n"
     ]
    },
    {
     "name": "stderr",
     "output_type": "stream",
     "text": [
      "\n",
      "\n",
      "\n",
      "  1%|▍                                              | 126/13077 [21:28<54:51:06, 15.25s/it]\u001b[A\u001b[A\u001b[A"
     ]
    },
    {
     "name": "stdout",
     "output_type": "stream",
     "text": [
      "cgsmedicare.com.json\n"
     ]
    },
    {
     "name": "stderr",
     "output_type": "stream",
     "text": [
      "\n",
      "\n",
      "\n",
      "  1%|▍                                              | 127/13077 [21:30<41:09:18, 11.44s/it]\u001b[A\u001b[A\u001b[A"
     ]
    },
    {
     "name": "stdout",
     "output_type": "stream",
     "text": [
      "advisor360.com.json\n"
     ]
    },
    {
     "name": "stderr",
     "output_type": "stream",
     "text": [
      "\n",
      "\n",
      "\n",
      "  1%|▍                                              | 128/13077 [21:42<41:38:54, 11.58s/it]\u001b[A\u001b[A\u001b[A"
     ]
    },
    {
     "name": "stdout",
     "output_type": "stream",
     "text": [
      "hawksoft.com.json\n"
     ]
    },
    {
     "name": "stderr",
     "output_type": "stream",
     "text": [
      "\n",
      "\n",
      "\n",
      "  1%|▍                                              | 129/13077 [21:57<44:39:29, 12.42s/it]\u001b[A\u001b[A\u001b[A"
     ]
    },
    {
     "name": "stdout",
     "output_type": "stream",
     "text": [
      "forwardslope.com.json\n"
     ]
    },
    {
     "name": "stderr",
     "output_type": "stream",
     "text": [
      "\n",
      "\n",
      "\n",
      "  1%|▍                                              | 130/13077 [22:05<40:06:59, 11.15s/it]\u001b[A\u001b[A\u001b[A"
     ]
    },
    {
     "name": "stdout",
     "output_type": "stream",
     "text": [
      "fsbwa.com.json\n"
     ]
    },
    {
     "name": "stderr",
     "output_type": "stream",
     "text": [
      "\n",
      "\n",
      "\n",
      "  1%|▍                                              | 131/13077 [22:11<34:53:40,  9.70s/it]\u001b[A\u001b[A\u001b[A"
     ]
    },
    {
     "name": "stdout",
     "output_type": "stream",
     "text": [
      "greenrisetech.com.json\n"
     ]
    },
    {
     "name": "stderr",
     "output_type": "stream",
     "text": [
      "\n",
      "\n",
      "\n",
      "  1%|▍                                              | 132/13077 [22:11<24:41:06,  6.86s/it]\u001b[A\u001b[A\u001b[A\n",
      "\n",
      "\n",
      "  1%|▍                                              | 134/13077 [22:12<13:23:59,  3.73s/it]\u001b[A\u001b[A\u001b[A"
     ]
    },
    {
     "name": "stdout",
     "output_type": "stream",
     "text": [
      "cakwarriors.com.json\n",
      "scgdesignsolution.com.json\n",
      "hollywoodgulfcoast.com.json\n"
     ]
    },
    {
     "name": "stderr",
     "output_type": "stream",
     "text": [
      "\n",
      "\n",
      "\n",
      "  1%|▍                                              | 135/13077 [22:21<18:05:43,  5.03s/it]\u001b[A\u001b[A\u001b[A"
     ]
    },
    {
     "name": "stdout",
     "output_type": "stream",
     "text": [
      "rivierahealthresort.com.json\n"
     ]
    },
    {
     "name": "stderr",
     "output_type": "stream",
     "text": [
      "\n",
      "\n",
      "\n",
      "  1%|▍                                              | 136/13077 [22:26<18:25:25,  5.13s/it]\u001b[A\u001b[A\u001b[A"
     ]
    },
    {
     "name": "stdout",
     "output_type": "stream",
     "text": [
      "edgeindtech.com.json\n",
      "whatifinnovation.com.json\n"
     ]
    },
    {
     "name": "stderr",
     "output_type": "stream",
     "text": [
      "\n",
      "\n",
      "\n",
      "  1%|▍                                              | 138/13077 [22:33<15:43:16,  4.37s/it]\u001b[A\u001b[A\u001b[A"
     ]
    },
    {
     "name": "stdout",
     "output_type": "stream",
     "text": [
      "mspcommunications.com.json\n"
     ]
    },
    {
     "name": "stderr",
     "output_type": "stream",
     "text": [
      "\n",
      "\n",
      "\n",
      "  1%|▍                                              | 139/13077 [22:38<16:31:15,  4.60s/it]\u001b[A\u001b[A\u001b[A"
     ]
    },
    {
     "name": "stdout",
     "output_type": "stream",
     "text": [
      "methode.com.json\n"
     ]
    },
    {
     "name": "stderr",
     "output_type": "stream",
     "text": [
      "\n",
      "\n",
      "\n",
      "  1%|▌                                              | 140/13077 [22:41<14:52:28,  4.14s/it]\u001b[A\u001b[A\u001b[A"
     ]
    },
    {
     "name": "stdout",
     "output_type": "stream",
     "text": [
      "destinycorp.com.json\n"
     ]
    },
    {
     "name": "stderr",
     "output_type": "stream",
     "text": [
      "\n",
      "\n",
      "\n",
      "  1%|▌                                              | 141/13077 [22:51<20:08:33,  5.61s/it]\u001b[A\u001b[A\u001b[A"
     ]
    },
    {
     "name": "stdout",
     "output_type": "stream",
     "text": [
      "sclv.com.json\n",
      "ncnelink.com.json\n"
     ]
    },
    {
     "name": "stderr",
     "output_type": "stream",
     "text": [
      "\n",
      "\n",
      "\n",
      "  1%|▌                                              | 143/13077 [22:52<12:15:50,  3.41s/it]\u001b[A\u001b[A\u001b[A"
     ]
    },
    {
     "name": "stdout",
     "output_type": "stream",
     "text": [
      "safelitesolutions.com.json\n"
     ]
    },
    {
     "name": "stderr",
     "output_type": "stream",
     "text": [
      "\n",
      "\n",
      "\n",
      "  1%|▌                                              | 144/13077 [22:58<14:27:31,  4.02s/it]\u001b[A\u001b[A\u001b[A"
     ]
    },
    {
     "name": "stdout",
     "output_type": "stream",
     "text": [
      "trssllc.com.json\n"
     ]
    },
    {
     "name": "stderr",
     "output_type": "stream",
     "text": [
      "\n",
      "\n",
      "\n",
      "  1%|▌                                              | 145/13077 [23:09<21:06:46,  5.88s/it]\u001b[A\u001b[A\u001b[A"
     ]
    },
    {
     "name": "stdout",
     "output_type": "stream",
     "text": [
      "vigitrust.com.json\n"
     ]
    },
    {
     "name": "stderr",
     "output_type": "stream",
     "text": [
      "\n",
      "\n",
      "\n",
      "  1%|▌                                              | 146/13077 [23:17<23:32:14,  6.55s/it]\u001b[A\u001b[A\u001b[A"
     ]
    },
    {
     "name": "stdout",
     "output_type": "stream",
     "text": [
      "idealconcepts.com.json\n"
     ]
    },
    {
     "name": "stderr",
     "output_type": "stream",
     "text": [
      "\n",
      "\n",
      "\n",
      "  1%|▌                                              | 147/13077 [23:24<23:07:05,  6.44s/it]\u001b[A\u001b[A\u001b[A"
     ]
    },
    {
     "name": "stdout",
     "output_type": "stream",
     "text": [
      "nflfilms.com.json\n",
      "onestream.com.json\n"
     ]
    },
    {
     "name": "stderr",
     "output_type": "stream",
     "text": [
      "\n",
      "\n",
      "\n",
      "  1%|▌                                              | 149/13077 [23:29<17:08:26,  4.77s/it]\u001b[A\u001b[A\u001b[A"
     ]
    },
    {
     "name": "stdout",
     "output_type": "stream",
     "text": [
      "southworks.com.json\n"
     ]
    },
    {
     "name": "stderr",
     "output_type": "stream",
     "text": [
      "\n",
      "\n",
      "\n",
      "  1%|▌                                              | 150/13077 [23:33<16:54:18,  4.71s/it]\u001b[A\u001b[A\u001b[A"
     ]
    },
    {
     "name": "stdout",
     "output_type": "stream",
     "text": [
      "aacd.com.json\n"
     ]
    },
    {
     "name": "stderr",
     "output_type": "stream",
     "text": [
      "\n",
      "\n",
      "\n",
      "  1%|▌                                              | 151/13077 [23:34<13:30:27,  3.76s/it]\u001b[A\u001b[A\u001b[A"
     ]
    },
    {
     "name": "stdout",
     "output_type": "stream",
     "text": [
      "chelsio.com.json\n"
     ]
    },
    {
     "name": "stderr",
     "output_type": "stream",
     "text": [
      "\n",
      "\n",
      "\n",
      "  1%|▌                                              | 152/13077 [23:40<15:43:26,  4.38s/it]\u001b[A\u001b[A\u001b[A"
     ]
    },
    {
     "name": "stdout",
     "output_type": "stream",
     "text": [
      "ptsmc.com.json\n"
     ]
    },
    {
     "name": "stderr",
     "output_type": "stream",
     "text": [
      "\n",
      "\n",
      "\n",
      "  1%|▌                                              | 153/13077 [23:41<11:35:47,  3.23s/it]\u001b[A\u001b[A\u001b[A"
     ]
    },
    {
     "name": "stdout",
     "output_type": "stream",
     "text": [
      "cdcloans.com.json\n"
     ]
    },
    {
     "name": "stderr",
     "output_type": "stream",
     "text": [
      "\n",
      "\n",
      "\n",
      "  1%|▌                                              | 154/13077 [23:58<26:16:12,  7.32s/it]\u001b[A\u001b[A\u001b[A"
     ]
    },
    {
     "name": "stdout",
     "output_type": "stream",
     "text": [
      "thehaunedge.com.json\n",
      "ceris.com.json\n"
     ]
    },
    {
     "name": "stderr",
     "output_type": "stream",
     "text": [
      "\n",
      "\n",
      "\n",
      "  1%|▌                                              | 156/13077 [24:02<17:47:04,  4.96s/it]\u001b[A\u001b[A\u001b[A"
     ]
    },
    {
     "name": "stdout",
     "output_type": "stream",
     "text": [
      "ouhealth.com.json\n"
     ]
    },
    {
     "name": "stderr",
     "output_type": "stream",
     "text": [
      "\n",
      "\n",
      "\n",
      "  1%|▌                                              | 157/13077 [24:06<17:05:07,  4.76s/it]\u001b[A\u001b[A\u001b[A"
     ]
    },
    {
     "name": "stdout",
     "output_type": "stream",
     "text": [
      "stluciesheriff.com.json\n"
     ]
    },
    {
     "name": "stderr",
     "output_type": "stream",
     "text": [
      "\n",
      "\n",
      "\n",
      "  1%|▌                                              | 158/13077 [24:19<24:35:17,  6.85s/it]\u001b[A\u001b[A\u001b[A"
     ]
    },
    {
     "name": "stdout",
     "output_type": "stream",
     "text": [
      "fcbcure.com.json\n"
     ]
    },
    {
     "name": "stderr",
     "output_type": "stream",
     "text": [
      "\n",
      "\n",
      "\n",
      "  1%|▌                                              | 159/13077 [24:20<18:33:59,  5.17s/it]\u001b[A\u001b[A\u001b[A"
     ]
    },
    {
     "name": "stdout",
     "output_type": "stream",
     "text": [
      "lives2residential.com.json\n"
     ]
    },
    {
     "name": "stderr",
     "output_type": "stream",
     "text": [
      "\n",
      "\n",
      "\n",
      "  1%|▌                                              | 160/13077 [24:21<14:21:57,  4.00s/it]\u001b[A\u001b[A\u001b[A"
     ]
    },
    {
     "name": "stdout",
     "output_type": "stream",
     "text": [
      "burgerrehab.com.json\n"
     ]
    },
    {
     "name": "stderr",
     "output_type": "stream",
     "text": [
      "\n",
      "\n",
      "\n",
      "  1%|▌                                              | 161/13077 [24:29<18:37:09,  5.19s/it]\u001b[A\u001b[A\u001b[A"
     ]
    },
    {
     "name": "stdout",
     "output_type": "stream",
     "text": [
      "nedelta.com.json\n",
      "wrsystems.com.json\n"
     ]
    },
    {
     "name": "stderr",
     "output_type": "stream",
     "text": [
      "\n",
      "\n",
      "\n",
      "  1%|▌                                              | 163/13077 [24:31<12:01:54,  3.35s/it]\u001b[A\u001b[A\u001b[A"
     ]
    },
    {
     "name": "stdout",
     "output_type": "stream",
     "text": [
      "valoris.com.json\n"
     ]
    },
    {
     "name": "stderr",
     "output_type": "stream",
     "text": [
      "\n",
      "\n",
      "\n",
      "  1%|▌                                              | 164/13077 [24:33<10:30:10,  2.93s/it]\u001b[A\u001b[A\u001b[A"
     ]
    },
    {
     "name": "stdout",
     "output_type": "stream",
     "text": [
      "marwoodgroup.com.json\n"
     ]
    },
    {
     "name": "stderr",
     "output_type": "stream",
     "text": [
      "\n",
      "\n",
      "\n",
      "  1%|▌                                              | 165/13077 [24:38<12:44:14,  3.55s/it]\u001b[A\u001b[A\u001b[A"
     ]
    },
    {
     "name": "stdout",
     "output_type": "stream",
     "text": [
      "juvo.com.json\n"
     ]
    },
    {
     "name": "stderr",
     "output_type": "stream",
     "text": [
      "\n",
      "\n",
      "\n",
      "  1%|▌                                               | 166/13077 [24:39<9:35:52,  2.68s/it]\u001b[A\u001b[A\u001b[A"
     ]
    },
    {
     "name": "stdout",
     "output_type": "stream",
     "text": [
      "rbtcpas.com.json\n"
     ]
    },
    {
     "name": "stderr",
     "output_type": "stream",
     "text": [
      "\n",
      "\n",
      "\n",
      "  1%|▌                                              | 167/13077 [24:50<18:40:56,  5.21s/it]\u001b[A\u001b[A\u001b[A"
     ]
    },
    {
     "name": "stdout",
     "output_type": "stream",
     "text": [
      "elmecommunities.com.json\n"
     ]
    },
    {
     "name": "stderr",
     "output_type": "stream",
     "text": [
      "\n",
      "\n",
      "\n",
      "  1%|▌                                              | 168/13077 [24:55<18:15:57,  5.09s/it]\u001b[A\u001b[A\u001b[A"
     ]
    },
    {
     "name": "stdout",
     "output_type": "stream",
     "text": [
      "wmu.com.json\n"
     ]
    },
    {
     "name": "stderr",
     "output_type": "stream",
     "text": [
      "\n",
      "\n",
      "\n",
      "  1%|▌                                              | 169/13077 [25:02<19:49:32,  5.53s/it]\u001b[A\u001b[A\u001b[A"
     ]
    },
    {
     "name": "stdout",
     "output_type": "stream",
     "text": [
      "centuryrehab.com.json\n"
     ]
    },
    {
     "name": "stderr",
     "output_type": "stream",
     "text": [
      "\n",
      "\n",
      "\n",
      "  1%|▌                                              | 170/13077 [25:10<22:08:28,  6.18s/it]\u001b[A\u001b[A\u001b[A"
     ]
    },
    {
     "name": "stdout",
     "output_type": "stream",
     "text": [
      "houseofparliament.com.json\n",
      "atspnw.com.json\n"
     ]
    },
    {
     "name": "stderr",
     "output_type": "stream",
     "text": [
      "\n",
      "\n",
      "\n",
      "  1%|▌                                              | 172/13077 [25:11<13:40:41,  3.82s/it]\u001b[A\u001b[A\u001b[A"
     ]
    },
    {
     "name": "stdout",
     "output_type": "stream",
     "text": [
      "mysmilemagic.com.json\n"
     ]
    },
    {
     "name": "stderr",
     "output_type": "stream",
     "text": [
      "\n",
      "\n",
      "\n",
      "  1%|▌                                              | 173/13077 [25:14<12:25:15,  3.47s/it]\u001b[A\u001b[A\u001b[A"
     ]
    },
    {
     "name": "stdout",
     "output_type": "stream",
     "text": [
      "cafepressinc.com.json\n"
     ]
    },
    {
     "name": "stderr",
     "output_type": "stream",
     "text": [
      "\n",
      "\n",
      "\n",
      "  1%|▋                                              | 174/13077 [25:25<19:37:35,  5.48s/it]\u001b[A\u001b[A\u001b[A"
     ]
    },
    {
     "name": "stdout",
     "output_type": "stream",
     "text": [
      "cnb1901.com.json\n"
     ]
    },
    {
     "name": "stderr",
     "output_type": "stream",
     "text": [
      "\n",
      "\n",
      "\n",
      "  1%|▋                                              | 175/13077 [25:31<19:48:43,  5.53s/it]\u001b[A\u001b[A\u001b[A"
     ]
    },
    {
     "name": "stdout",
     "output_type": "stream",
     "text": [
      "unitedfinancialfreedom.com.json\n"
     ]
    },
    {
     "name": "stderr",
     "output_type": "stream",
     "text": [
      "\n",
      "\n",
      "\n",
      "  1%|▋                                              | 176/13077 [25:42<25:08:45,  7.02s/it]\u001b[A\u001b[A\u001b[A"
     ]
    },
    {
     "name": "stdout",
     "output_type": "stream",
     "text": [
      "acscrops.com.json\n"
     ]
    },
    {
     "name": "stderr",
     "output_type": "stream",
     "text": [
      "\n",
      "\n",
      "\n",
      "  1%|▋                                              | 177/13077 [25:52<28:57:57,  8.08s/it]\u001b[A\u001b[A\u001b[A"
     ]
    },
    {
     "name": "stdout",
     "output_type": "stream",
     "text": [
      "sawmillclub.com.json\n"
     ]
    },
    {
     "name": "stderr",
     "output_type": "stream",
     "text": [
      "\n",
      "\n",
      "\n",
      "  1%|▋                                              | 178/13077 [25:53<21:04:01,  5.88s/it]\u001b[A\u001b[A\u001b[A"
     ]
    },
    {
     "name": "stdout",
     "output_type": "stream",
     "text": [
      "twochairs.com.json\n"
     ]
    },
    {
     "name": "stderr",
     "output_type": "stream",
     "text": [
      "\n",
      "\n",
      "\n",
      "  1%|▋                                              | 179/13077 [25:58<20:09:44,  5.63s/it]\u001b[A\u001b[A\u001b[A"
     ]
    },
    {
     "name": "stdout",
     "output_type": "stream",
     "text": [
      "walmartdataventures.com.json\n"
     ]
    },
    {
     "name": "stderr",
     "output_type": "stream",
     "text": [
      "\n",
      "\n",
      "\n",
      "  1%|▋                                              | 180/13077 [26:05<21:33:07,  6.02s/it]\u001b[A\u001b[A\u001b[A"
     ]
    },
    {
     "name": "stdout",
     "output_type": "stream",
     "text": [
      "avidbank.com.json\n"
     ]
    },
    {
     "name": "stderr",
     "output_type": "stream",
     "text": [
      "\n",
      "\n",
      "\n",
      "  1%|▋                                              | 181/13077 [26:18<28:58:37,  8.09s/it]\u001b[A\u001b[A\u001b[A"
     ]
    },
    {
     "name": "stdout",
     "output_type": "stream",
     "text": [
      "transak.com.json\n"
     ]
    },
    {
     "name": "stderr",
     "output_type": "stream",
     "text": [
      "\n",
      "\n",
      "\n",
      "  1%|▋                                              | 182/13077 [26:18<20:40:09,  5.77s/it]\u001b[A\u001b[A\u001b[A"
     ]
    },
    {
     "name": "stdout",
     "output_type": "stream",
     "text": [
      "buckleypowder.com.json\n"
     ]
    },
    {
     "name": "stderr",
     "output_type": "stream",
     "text": [
      "\n",
      "\n",
      "\n",
      "  1%|▋                                              | 183/13077 [26:30<26:53:01,  7.51s/it]\u001b[A\u001b[A\u001b[A"
     ]
    },
    {
     "name": "stdout",
     "output_type": "stream",
     "text": [
      "nortonchildrens.com.json\n",
      "automationservice.com.json\n",
      "spectralink.com.json\n"
     ]
    },
    {
     "name": "stderr",
     "output_type": "stream",
     "text": [
      "\n",
      "\n",
      "\n",
      "  1%|▋                                              | 186/13077 [26:41<19:04:59,  5.33s/it]\u001b[A\u001b[A\u001b[A"
     ]
    },
    {
     "name": "stdout",
     "output_type": "stream",
     "text": [
      "conceptltd.com.json\n"
     ]
    },
    {
     "name": "stderr",
     "output_type": "stream",
     "text": [
      "\n",
      "\n",
      "\n",
      "  1%|▋                                              | 187/13077 [26:56<26:35:14,  7.43s/it]\u001b[A\u001b[A\u001b[A"
     ]
    },
    {
     "name": "stdout",
     "output_type": "stream",
     "text": [
      "partnerize.com.json\n"
     ]
    },
    {
     "name": "stderr",
     "output_type": "stream",
     "text": [
      "\n",
      "\n",
      "\n",
      "  1%|▋                                              | 188/13077 [27:02<25:07:40,  7.02s/it]\u001b[A\u001b[A\u001b[A"
     ]
    },
    {
     "name": "stdout",
     "output_type": "stream",
     "text": [
      "parsebiosciences.com.json\n"
     ]
    },
    {
     "name": "stderr",
     "output_type": "stream",
     "text": [
      "\n",
      "\n",
      "\n",
      "  1%|▋                                              | 189/13077 [27:16<32:09:42,  8.98s/it]\u001b[A\u001b[A\u001b[A"
     ]
    },
    {
     "name": "stdout",
     "output_type": "stream",
     "text": [
      "areteir.com.json\n"
     ]
    },
    {
     "name": "stderr",
     "output_type": "stream",
     "text": [
      "\n",
      "\n",
      "\n",
      "  1%|▋                                              | 190/13077 [27:23<29:43:04,  8.30s/it]\u001b[A\u001b[A\u001b[A"
     ]
    },
    {
     "name": "stdout",
     "output_type": "stream",
     "text": [
      "onshoreoutsourcing.com.json\n"
     ]
    },
    {
     "name": "stderr",
     "output_type": "stream",
     "text": [
      "\n",
      "\n",
      "\n",
      "  1%|▋                                              | 191/13077 [27:26<24:29:15,  6.84s/it]\u001b[A\u001b[A\u001b[A"
     ]
    },
    {
     "name": "stdout",
     "output_type": "stream",
     "text": [
      "plant-partners.com.json\n"
     ]
    },
    {
     "name": "stderr",
     "output_type": "stream",
     "text": [
      "\n",
      "\n",
      "\n",
      "  1%|▋                                              | 192/13077 [27:27<18:30:33,  5.17s/it]\u001b[A\u001b[A\u001b[A"
     ]
    },
    {
     "name": "stdout",
     "output_type": "stream",
     "text": [
      "grammerlogistics.com.json\n"
     ]
    },
    {
     "name": "stderr",
     "output_type": "stream",
     "text": [
      "\n",
      "\n",
      "\n",
      "  1%|▋                                              | 193/13077 [27:32<19:08:50,  5.35s/it]\u001b[A\u001b[A\u001b[A"
     ]
    },
    {
     "name": "stdout",
     "output_type": "stream",
     "text": [
      "accessnurse.com.json\n"
     ]
    },
    {
     "name": "stderr",
     "output_type": "stream",
     "text": [
      "\n",
      "\n",
      "\n",
      "  1%|▋                                              | 194/13077 [27:47<28:31:20,  7.97s/it]\u001b[A\u001b[A\u001b[A"
     ]
    },
    {
     "name": "stdout",
     "output_type": "stream",
     "text": [
      "curtinmaritime.com.json\n"
     ]
    },
    {
     "name": "stderr",
     "output_type": "stream",
     "text": [
      "\n",
      "\n",
      "\n",
      "  1%|▋                                              | 195/13077 [27:47<20:32:22,  5.74s/it]\u001b[A\u001b[A\u001b[A\n",
      "\n",
      "\n",
      "  1%|▋                                              | 196/13077 [27:47<14:38:35,  4.09s/it]\u001b[A\u001b[A\u001b[A"
     ]
    },
    {
     "name": "stdout",
     "output_type": "stream",
     "text": [
      "archatl.com.json\n",
      "dover.com.json\n",
      "nelsonbrothers.com.json\n"
     ]
    },
    {
     "name": "stderr",
     "output_type": "stream",
     "text": [
      "\n",
      "\n",
      "\n",
      "  2%|▋                                               | 198/13077 [27:48<8:52:13,  2.48s/it]\u001b[A\u001b[A\u001b[A"
     ]
    },
    {
     "name": "stdout",
     "output_type": "stream",
     "text": [
      "nextlevelsports.com.json\n",
      "lighthouseindia.com.json\n"
     ]
    },
    {
     "name": "stderr",
     "output_type": "stream",
     "text": [
      "\n",
      "\n",
      "\n",
      "  2%|▋                                              | 200/13077 [28:00<13:25:49,  3.75s/it]\u001b[A\u001b[A\u001b[A"
     ]
    },
    {
     "name": "stdout",
     "output_type": "stream",
     "text": [
      "dhjj.com.json\n"
     ]
    },
    {
     "name": "stderr",
     "output_type": "stream",
     "text": [
      "\n",
      "\n",
      "\n",
      "  2%|▋                                              | 201/13077 [28:03<13:16:22,  3.71s/it]\u001b[A\u001b[A\u001b[A"
     ]
    },
    {
     "name": "stdout",
     "output_type": "stream",
     "text": [
      "inhometherapy.com.json\n"
     ]
    },
    {
     "name": "stderr",
     "output_type": "stream",
     "text": [
      "\n",
      "\n",
      "\n",
      "  2%|▋                                              | 202/13077 [28:12<17:35:23,  4.92s/it]\u001b[A\u001b[A\u001b[A"
     ]
    },
    {
     "name": "stdout",
     "output_type": "stream",
     "text": [
      "forkliftsystems.com.json\n"
     ]
    },
    {
     "name": "stderr",
     "output_type": "stream",
     "text": [
      "\n",
      "\n",
      "\n",
      "  2%|▋                                              | 203/13077 [28:29<28:15:42,  7.90s/it]\u001b[A\u001b[A\u001b[A"
     ]
    },
    {
     "name": "stdout",
     "output_type": "stream",
     "text": [
      "govos.com.json\n"
     ]
    },
    {
     "name": "stderr",
     "output_type": "stream",
     "text": [
      "\n",
      "\n",
      "\n",
      "  2%|▋                                              | 204/13077 [28:50<40:44:20, 11.39s/it]\u001b[A\u001b[A\u001b[A"
     ]
    },
    {
     "name": "stdout",
     "output_type": "stream",
     "text": [
      "sior.com.json\n"
     ]
    },
    {
     "name": "stderr",
     "output_type": "stream",
     "text": [
      "\n",
      "\n",
      "\n",
      "  2%|▋                                              | 205/13077 [28:50<30:03:29,  8.41s/it]\u001b[A\u001b[A\u001b[A"
     ]
    },
    {
     "name": "stdout",
     "output_type": "stream",
     "text": [
      "wellnow.com.json\n"
     ]
    },
    {
     "name": "stderr",
     "output_type": "stream",
     "text": [
      "\n",
      "\n",
      "\n",
      "  2%|▋                                              | 206/13077 [28:53<24:01:36,  6.72s/it]\u001b[A\u001b[A\u001b[A"
     ]
    },
    {
     "name": "stdout",
     "output_type": "stream",
     "text": [
      "ndieng.com.json\n"
     ]
    },
    {
     "name": "stderr",
     "output_type": "stream",
     "text": [
      "\n",
      "\n",
      "\n",
      "  2%|▋                                              | 207/13077 [28:56<20:22:52,  5.70s/it]\u001b[A\u001b[A\u001b[A"
     ]
    },
    {
     "name": "stdout",
     "output_type": "stream",
     "text": [
      "bpcs.com.json\n"
     ]
    },
    {
     "name": "stderr",
     "output_type": "stream",
     "text": [
      "\n",
      "\n",
      "\n",
      "  2%|▋                                              | 208/13077 [29:06<24:46:59,  6.93s/it]\u001b[A\u001b[A\u001b[A"
     ]
    },
    {
     "name": "stdout",
     "output_type": "stream",
     "text": [
      "aemcorp.com.json\n"
     ]
    },
    {
     "name": "stderr",
     "output_type": "stream",
     "text": [
      "\n",
      "\n",
      "\n",
      "  2%|▊                                              | 209/13077 [29:19<30:42:14,  8.59s/it]\u001b[A\u001b[A\u001b[A"
     ]
    },
    {
     "name": "stdout",
     "output_type": "stream",
     "text": [
      "parkhill.com.json\n"
     ]
    },
    {
     "name": "stderr",
     "output_type": "stream",
     "text": [
      "\n",
      "\n",
      "\n",
      "  2%|▊                                              | 210/13077 [29:21<24:06:41,  6.75s/it]\u001b[A\u001b[A\u001b[A"
     ]
    },
    {
     "name": "stdout",
     "output_type": "stream",
     "text": [
      "clever.com.json\n"
     ]
    },
    {
     "name": "stderr",
     "output_type": "stream",
     "text": [
      "\n",
      "\n",
      "\n",
      "  2%|▊                                              | 211/13077 [29:35<31:48:34,  8.90s/it]\u001b[A\u001b[A\u001b[A"
     ]
    },
    {
     "name": "stdout",
     "output_type": "stream",
     "text": [
      "revvaviation.com.json\n"
     ]
    },
    {
     "name": "stderr",
     "output_type": "stream",
     "text": [
      "\n",
      "\n",
      "\n",
      "  2%|▊                                              | 212/13077 [29:36<23:27:14,  6.56s/it]\u001b[A\u001b[A\u001b[A"
     ]
    },
    {
     "name": "stdout",
     "output_type": "stream",
     "text": [
      "harvesthousepublishers.com.json\n"
     ]
    },
    {
     "name": "stderr",
     "output_type": "stream",
     "text": [
      "\n",
      "\n",
      "\n",
      "  2%|▊                                              | 213/13077 [29:43<24:02:14,  6.73s/it]\u001b[A\u001b[A\u001b[A"
     ]
    },
    {
     "name": "stdout",
     "output_type": "stream",
     "text": [
      "nortechsys.com.json\n"
     ]
    },
    {
     "name": "stderr",
     "output_type": "stream",
     "text": [
      "\n",
      "\n",
      "\n",
      "  2%|▊                                              | 214/13077 [29:52<26:10:42,  7.33s/it]\u001b[A\u001b[A\u001b[A"
     ]
    },
    {
     "name": "stdout",
     "output_type": "stream",
     "text": [
      "cbwarburg.com.json\n"
     ]
    },
    {
     "name": "stderr",
     "output_type": "stream",
     "text": [
      "\n",
      "\n",
      "\n",
      "  2%|▊                                              | 215/13077 [29:58<24:37:37,  6.89s/it]\u001b[A\u001b[A\u001b[A"
     ]
    },
    {
     "name": "stdout",
     "output_type": "stream",
     "text": [
      "esrtreit.com.json\n"
     ]
    },
    {
     "name": "stderr",
     "output_type": "stream",
     "text": [
      "\n",
      "\n",
      "\n",
      "  2%|▊                                              | 216/13077 [30:09<28:54:18,  8.09s/it]\u001b[A\u001b[A\u001b[A"
     ]
    },
    {
     "name": "stdout",
     "output_type": "stream",
     "text": [
      "prg.com.json\n"
     ]
    },
    {
     "name": "stderr",
     "output_type": "stream",
     "text": [
      "\n",
      "\n",
      "\n",
      "  2%|▊                                              | 217/13077 [30:22<34:15:45,  9.59s/it]\u001b[A\u001b[A\u001b[A"
     ]
    },
    {
     "name": "stdout",
     "output_type": "stream",
     "text": [
      "newlinlaw.com.json\n"
     ]
    },
    {
     "name": "stderr",
     "output_type": "stream",
     "text": [
      "\n",
      "\n",
      "\n",
      "  2%|▊                                              | 218/13077 [30:37<40:10:58, 11.25s/it]\u001b[A\u001b[A\u001b[A"
     ]
    },
    {
     "name": "stdout",
     "output_type": "stream",
     "text": [
      "goldcoastbeverage.com.json\n"
     ]
    },
    {
     "name": "stderr",
     "output_type": "stream",
     "text": [
      "\n",
      "\n",
      "\n",
      "  2%|▊                                              | 219/13077 [30:38<29:39:06,  8.30s/it]\u001b[A\u001b[A\u001b[A"
     ]
    },
    {
     "name": "stdout",
     "output_type": "stream",
     "text": [
      "steelers.com.json\n"
     ]
    },
    {
     "name": "stderr",
     "output_type": "stream",
     "text": [
      "\n",
      "\n",
      "\n",
      "  2%|▊                                              | 220/13077 [30:39<21:42:49,  6.08s/it]\u001b[A\u001b[A\u001b[A"
     ]
    },
    {
     "name": "stdout",
     "output_type": "stream",
     "text": [
      "allcampus.com.json\n"
     ]
    },
    {
     "name": "stderr",
     "output_type": "stream",
     "text": [
      "\n",
      "\n",
      "\n",
      "  2%|▊                                              | 221/13077 [30:45<21:20:01,  5.97s/it]\u001b[A\u001b[A\u001b[A"
     ]
    },
    {
     "name": "stdout",
     "output_type": "stream",
     "text": [
      "mersofmich.com.json\n"
     ]
    },
    {
     "name": "stderr",
     "output_type": "stream",
     "text": [
      "\n",
      "\n",
      "\n",
      "  2%|▊                                              | 222/13077 [30:52<22:13:39,  6.22s/it]\u001b[A\u001b[A\u001b[A"
     ]
    },
    {
     "name": "stdout",
     "output_type": "stream",
     "text": [
      "traulsen.com.json\n"
     ]
    },
    {
     "name": "stderr",
     "output_type": "stream",
     "text": [
      "\n",
      "\n",
      "\n",
      "  2%|▊                                              | 223/13077 [30:52<16:05:35,  4.51s/it]\u001b[A\u001b[A\u001b[A"
     ]
    },
    {
     "name": "stdout",
     "output_type": "stream",
     "text": [
      "micromerchantsystems.com.json\n"
     ]
    },
    {
     "name": "stderr",
     "output_type": "stream",
     "text": [
      "\n",
      "\n",
      "\n",
      "  2%|▊                                              | 224/13077 [30:53<11:57:50,  3.35s/it]\u001b[A\u001b[A\u001b[A"
     ]
    },
    {
     "name": "stdout",
     "output_type": "stream",
     "text": [
      "davispolk.com.json\n"
     ]
    },
    {
     "name": "stderr",
     "output_type": "stream",
     "text": [
      "\n",
      "\n",
      "\n",
      "  2%|▊                                              | 225/13077 [31:06<22:26:04,  6.28s/it]\u001b[A\u001b[A\u001b[A"
     ]
    },
    {
     "name": "stdout",
     "output_type": "stream",
     "text": [
      "collectivelyinc.com.json\n"
     ]
    },
    {
     "name": "stderr",
     "output_type": "stream",
     "text": [
      "\n",
      "\n",
      "\n",
      "  2%|▊                                              | 226/13077 [31:11<21:00:46,  5.89s/it]\u001b[A\u001b[A\u001b[A"
     ]
    },
    {
     "name": "stdout",
     "output_type": "stream",
     "text": [
      "kramerlevin.com.json\n"
     ]
    },
    {
     "name": "stderr",
     "output_type": "stream",
     "text": [
      "\n",
      "\n",
      "\n",
      "  2%|▊                                              | 227/13077 [31:17<20:53:50,  5.85s/it]\u001b[A\u001b[A\u001b[A"
     ]
    },
    {
     "name": "stdout",
     "output_type": "stream",
     "text": [
      "errg.com.json\n"
     ]
    },
    {
     "name": "stderr",
     "output_type": "stream",
     "text": [
      "\n",
      "\n",
      "\n",
      "  2%|▊                                              | 228/13077 [31:18<16:23:56,  4.59s/it]\u001b[A\u001b[A\u001b[A"
     ]
    },
    {
     "name": "stdout",
     "output_type": "stream",
     "text": [
      "waggonerstrucking.com.json\n"
     ]
    },
    {
     "name": "stderr",
     "output_type": "stream",
     "text": [
      "\n",
      "\n",
      "\n",
      "  2%|▊                                              | 229/13077 [31:21<14:21:08,  4.02s/it]\u001b[A\u001b[A\u001b[A\n",
      "\n",
      "\n",
      "  2%|▊                                              | 230/13077 [31:21<10:10:25,  2.85s/it]\u001b[A\u001b[A\u001b[A"
     ]
    },
    {
     "name": "stdout",
     "output_type": "stream",
     "text": [
      "ckha.com.json\n",
      "memesmediagroup.com.json\n"
     ]
    },
    {
     "name": "stderr",
     "output_type": "stream",
     "text": [
      "\n",
      "\n",
      "\n",
      "  2%|▊                                               | 231/13077 [31:21<7:25:49,  2.08s/it]\u001b[A\u001b[A\u001b[A\n",
      "\n",
      "\n",
      "  2%|▊                                               | 232/13077 [31:22<5:23:30,  1.51s/it]\u001b[A\u001b[A\u001b[A"
     ]
    },
    {
     "name": "stdout",
     "output_type": "stream",
     "text": [
      "fruitgrowers.com.json\n",
      "doeandcompany.com.json\n"
     ]
    },
    {
     "name": "stderr",
     "output_type": "stream",
     "text": [
      "\n",
      "\n",
      "\n",
      "  2%|▊                                               | 233/13077 [31:23<5:30:17,  1.54s/it]\u001b[A\u001b[A\u001b[A"
     ]
    },
    {
     "name": "stdout",
     "output_type": "stream",
     "text": [
      "superegoholding.com.json\n"
     ]
    },
    {
     "name": "stderr",
     "output_type": "stream",
     "text": [
      "\n",
      "\n",
      "\n",
      "  2%|▊                                             | 234/13077 [33:45<156:06:41, 43.76s/it]\u001b[A\u001b[A\u001b[A\n",
      "\n",
      "\n",
      "  2%|▊                                             | 235/13077 [33:46<109:23:51, 30.67s/it]\u001b[A\u001b[A\u001b[A"
     ]
    },
    {
     "name": "stdout",
     "output_type": "stream",
     "text": [
      "ticasino.com.json\n",
      "aitacs.com.json\n"
     ]
    },
    {
     "name": "stderr",
     "output_type": "stream",
     "text": [
      "\n",
      "\n",
      "\n",
      "  2%|▊                                              | 236/13077 [34:01<92:36:28, 25.96s/it]\u001b[A\u001b[A\u001b[A"
     ]
    },
    {
     "name": "stdout",
     "output_type": "stream",
     "text": [
      "orhp.com.json\n"
     ]
    },
    {
     "name": "stderr",
     "output_type": "stream",
     "text": [
      "\n",
      "\n",
      "\n",
      "  2%|▊                                              | 237/13077 [34:04<68:08:25, 19.10s/it]\u001b[A\u001b[A\u001b[A"
     ]
    },
    {
     "name": "stdout",
     "output_type": "stream",
     "text": [
      "saintsbaseball.com.json\n"
     ]
    },
    {
     "name": "stderr",
     "output_type": "stream",
     "text": [
      "\n",
      "\n",
      "\n",
      "  2%|▊                                              | 238/13077 [34:05<49:00:13, 13.74s/it]\u001b[A\u001b[A\u001b[A"
     ]
    },
    {
     "name": "stdout",
     "output_type": "stream",
     "text": [
      "spartasystems.com.json\n"
     ]
    },
    {
     "name": "stderr",
     "output_type": "stream",
     "text": [
      "\n",
      "\n",
      "\n",
      "  2%|▊                                              | 239/13077 [34:18<48:28:42, 13.59s/it]\u001b[A\u001b[A\u001b[A"
     ]
    },
    {
     "name": "stdout",
     "output_type": "stream",
     "text": [
      "coremark.com.json\n"
     ]
    },
    {
     "name": "stderr",
     "output_type": "stream",
     "text": [
      "\n",
      "\n",
      "\n",
      "  2%|▊                                              | 240/13077 [34:22<38:31:08, 10.80s/it]\u001b[A\u001b[A\u001b[A"
     ]
    },
    {
     "name": "stdout",
     "output_type": "stream",
     "text": [
      "acclaro.com.json\n"
     ]
    },
    {
     "name": "stderr",
     "output_type": "stream",
     "text": [
      "\n",
      "\n",
      "\n",
      "  2%|▊                                              | 241/13077 [34:30<35:36:53,  9.99s/it]\u001b[A\u001b[A\u001b[A"
     ]
    },
    {
     "name": "stdout",
     "output_type": "stream",
     "text": [
      "mtci.com.json\n"
     ]
    },
    {
     "name": "stderr",
     "output_type": "stream",
     "text": [
      "\n",
      "\n",
      "\n",
      "  2%|▊                                              | 242/13077 [34:46<41:00:03, 11.50s/it]\u001b[A\u001b[A\u001b[A"
     ]
    },
    {
     "name": "stdout",
     "output_type": "stream",
     "text": [
      "thepoho.com.json\n"
     ]
    },
    {
     "name": "stderr",
     "output_type": "stream",
     "text": [
      "\n",
      "\n",
      "\n",
      "  2%|▊                                              | 243/13077 [34:46<29:04:42,  8.16s/it]\u001b[A\u001b[A\u001b[A"
     ]
    },
    {
     "name": "stdout",
     "output_type": "stream",
     "text": [
      "fillingstation.com.json\n"
     ]
    },
    {
     "name": "stderr",
     "output_type": "stream",
     "text": [
      "\n",
      "\n",
      "\n",
      "  2%|▉                                              | 244/13077 [35:14<50:38:06, 14.20s/it]\u001b[A\u001b[A\u001b[A"
     ]
    },
    {
     "name": "stdout",
     "output_type": "stream",
     "text": [
      "systemskills.com.json\n"
     ]
    },
    {
     "name": "stderr",
     "output_type": "stream",
     "text": [
      "\n",
      "\n",
      "\n",
      "  2%|▉                                              | 245/13077 [35:21<42:20:17, 11.88s/it]\u001b[A\u001b[A\u001b[A"
     ]
    },
    {
     "name": "stdout",
     "output_type": "stream",
     "text": [
      "elevolearning.com.json\n"
     ]
    },
    {
     "name": "stderr",
     "output_type": "stream",
     "text": [
      "\n",
      "\n",
      "\n",
      "  2%|▉                                              | 246/13077 [35:22<30:50:15,  8.65s/it]\u001b[A\u001b[A\u001b[A"
     ]
    },
    {
     "name": "stdout",
     "output_type": "stream",
     "text": [
      "bowersandkubota.com.json\n"
     ]
    },
    {
     "name": "stderr",
     "output_type": "stream",
     "text": [
      "\n",
      "\n",
      "\n",
      "  2%|▉                                              | 247/13077 [35:22<22:17:37,  6.26s/it]\u001b[A\u001b[A\u001b[A"
     ]
    },
    {
     "name": "stdout",
     "output_type": "stream",
     "text": [
      "amtelco.com.json\n"
     ]
    },
    {
     "name": "stderr",
     "output_type": "stream",
     "text": [
      "\n",
      "\n",
      "\n",
      "  2%|▉                                              | 248/13077 [35:40<34:35:50,  9.71s/it]\u001b[A\u001b[A\u001b[A"
     ]
    },
    {
     "name": "stdout",
     "output_type": "stream",
     "text": [
      "landolakes.com.json\n"
     ]
    },
    {
     "name": "stderr",
     "output_type": "stream",
     "text": [
      "\n",
      "\n",
      "\n",
      "  2%|▉                                              | 249/13077 [35:42<26:35:18,  7.46s/it]\u001b[A\u001b[A\u001b[A"
     ]
    },
    {
     "name": "stdout",
     "output_type": "stream",
     "text": [
      "usebounce.com.json\n"
     ]
    },
    {
     "name": "stderr",
     "output_type": "stream",
     "text": [
      "\n",
      "\n",
      "\n",
      "  2%|▉                                              | 250/13077 [35:44<20:16:05,  5.69s/it]\u001b[A\u001b[A\u001b[A"
     ]
    },
    {
     "name": "stdout",
     "output_type": "stream",
     "text": [
      "g-w.com.json\n"
     ]
    },
    {
     "name": "stderr",
     "output_type": "stream",
     "text": [
      "\n",
      "\n",
      "\n",
      "  2%|▉                                              | 251/13077 [35:51<21:34:58,  6.06s/it]\u001b[A\u001b[A\u001b[A"
     ]
    },
    {
     "name": "stdout",
     "output_type": "stream",
     "text": [
      "carolinafoodsinc.com.json\n"
     ]
    },
    {
     "name": "stderr",
     "output_type": "stream",
     "text": [
      "\n",
      "\n",
      "\n",
      "  2%|▉                                              | 252/13077 [35:51<15:32:05,  4.36s/it]\u001b[A\u001b[A\u001b[A"
     ]
    },
    {
     "name": "stdout",
     "output_type": "stream",
     "text": [
      "blueworldpools.com.json\n"
     ]
    },
    {
     "name": "stderr",
     "output_type": "stream",
     "text": [
      "\n",
      "\n",
      "\n",
      "  2%|▉                                              | 253/13077 [35:58<18:06:06,  5.08s/it]\u001b[A\u001b[A\u001b[A\n",
      "\n",
      "\n",
      "  2%|▉                                              | 254/13077 [35:58<12:50:29,  3.61s/it]\u001b[A\u001b[A\u001b[A"
     ]
    },
    {
     "name": "stdout",
     "output_type": "stream",
     "text": [
      "atlantiscasino.com.json\n",
      "mozarcmedical.com.json\n"
     ]
    },
    {
     "name": "stderr",
     "output_type": "stream",
     "text": [
      "\n",
      "\n",
      "\n",
      "  2%|▉                                              | 255/13077 [36:08<19:28:37,  5.47s/it]\u001b[A\u001b[A\u001b[A"
     ]
    },
    {
     "name": "stdout",
     "output_type": "stream",
     "text": [
      "custompax.com.json\n"
     ]
    },
    {
     "name": "stderr",
     "output_type": "stream",
     "text": [
      "\n",
      "\n",
      "\n",
      "  2%|▉                                              | 256/13077 [36:14<20:02:27,  5.63s/it]\u001b[A\u001b[A\u001b[A"
     ]
    },
    {
     "name": "stdout",
     "output_type": "stream",
     "text": [
      "insightpartners.com.json\n"
     ]
    },
    {
     "name": "stderr",
     "output_type": "stream",
     "text": [
      "\n",
      "\n",
      "\n",
      "  2%|▉                                              | 257/13077 [36:51<53:26:18, 15.01s/it]\u001b[A\u001b[A\u001b[A"
     ]
    },
    {
     "name": "stdout",
     "output_type": "stream",
     "text": [
      "skaeng.com.json\n"
     ]
    },
    {
     "name": "stderr",
     "output_type": "stream",
     "text": [
      "\n",
      "\n",
      "\n",
      "  2%|▉                                              | 258/13077 [36:52<38:38:05, 10.85s/it]\u001b[A\u001b[A\u001b[A"
     ]
    },
    {
     "name": "stdout",
     "output_type": "stream",
     "text": [
      "nhcares.com.json\n"
     ]
    },
    {
     "name": "stderr",
     "output_type": "stream",
     "text": [
      "\n",
      "\n",
      "\n",
      "  2%|▉                                              | 259/13077 [37:37<75:20:53, 21.16s/it]\u001b[A\u001b[A\u001b[A"
     ]
    },
    {
     "name": "stdout",
     "output_type": "stream",
     "text": [
      "blueoptima.com.json\n"
     ]
    },
    {
     "name": "stderr",
     "output_type": "stream",
     "text": [
      "\n",
      "\n",
      "\n",
      "  2%|▉                                              | 260/13077 [37:48<64:09:40, 18.02s/it]\u001b[A\u001b[A\u001b[A"
     ]
    },
    {
     "name": "stdout",
     "output_type": "stream",
     "text": [
      "jifiti.com.json\n"
     ]
    },
    {
     "name": "stderr",
     "output_type": "stream",
     "text": [
      "\n",
      "\n",
      "\n",
      "  2%|▉                                              | 261/13077 [38:05<63:21:27, 17.80s/it]\u001b[A\u001b[A\u001b[A"
     ]
    },
    {
     "name": "stdout",
     "output_type": "stream",
     "text": [
      "kidsinthegame.com.json\n"
     ]
    },
    {
     "name": "stderr",
     "output_type": "stream",
     "text": [
      "\n",
      "\n",
      "\n",
      "  2%|▉                                              | 262/13077 [38:10<49:25:17, 13.88s/it]\u001b[A\u001b[A\u001b[A"
     ]
    },
    {
     "name": "stdout",
     "output_type": "stream",
     "text": [
      "decodedadvertising.com.json\n"
     ]
    },
    {
     "name": "stderr",
     "output_type": "stream",
     "text": [
      "\n",
      "\n",
      "\n",
      "  2%|▉                                              | 263/13077 [38:14<39:06:40, 10.99s/it]\u001b[A\u001b[A\u001b[A"
     ]
    },
    {
     "name": "stdout",
     "output_type": "stream",
     "text": [
      "schmidtsche-schack.com.json\n"
     ]
    },
    {
     "name": "stderr",
     "output_type": "stream",
     "text": [
      "\n",
      "\n",
      "\n",
      "  2%|▉                                              | 264/13077 [38:20<33:26:32,  9.40s/it]\u001b[A\u001b[A\u001b[A"
     ]
    },
    {
     "name": "stdout",
     "output_type": "stream",
     "text": [
      "knotion.com.json\n"
     ]
    },
    {
     "name": "stderr",
     "output_type": "stream",
     "text": [
      "\n",
      "\n",
      "\n",
      "  2%|▉                                              | 265/13077 [38:27<30:42:48,  8.63s/it]\u001b[A\u001b[A\u001b[A"
     ]
    },
    {
     "name": "stdout",
     "output_type": "stream",
     "text": [
      "forbrightbank.com.json\n"
     ]
    },
    {
     "name": "stderr",
     "output_type": "stream",
     "text": [
      "\n",
      "\n",
      "\n",
      "  2%|▉                                              | 266/13077 [38:29<24:03:39,  6.76s/it]\u001b[A\u001b[A\u001b[A"
     ]
    },
    {
     "name": "stdout",
     "output_type": "stream",
     "text": [
      "uniloy.com.json\n"
     ]
    },
    {
     "name": "stderr",
     "output_type": "stream",
     "text": [
      "\n",
      "\n",
      "\n",
      "  2%|▉                                              | 267/13077 [38:35<22:40:16,  6.37s/it]\u001b[A\u001b[A\u001b[A"
     ]
    },
    {
     "name": "stdout",
     "output_type": "stream",
     "text": [
      "applebuscompany.com.json\n"
     ]
    },
    {
     "name": "stderr",
     "output_type": "stream",
     "text": [
      "\n",
      "\n",
      "\n",
      "  2%|▉                                              | 268/13077 [38:38<19:56:15,  5.60s/it]\u001b[A\u001b[A\u001b[A"
     ]
    },
    {
     "name": "stdout",
     "output_type": "stream",
     "text": [
      "lgcypower.com.json\n"
     ]
    },
    {
     "name": "stderr",
     "output_type": "stream",
     "text": [
      "\n",
      "\n",
      "\n",
      "  2%|▉                                              | 269/13077 [38:53<29:21:41,  8.25s/it]\u001b[A\u001b[A\u001b[A"
     ]
    },
    {
     "name": "stdout",
     "output_type": "stream",
     "text": [
      "valcor.com.json\n"
     ]
    },
    {
     "name": "stderr",
     "output_type": "stream",
     "text": [
      "\n",
      "\n",
      "\n",
      "  2%|▉                                              | 270/13077 [39:01<28:44:39,  8.08s/it]\u001b[A\u001b[A\u001b[A"
     ]
    },
    {
     "name": "stdout",
     "output_type": "stream",
     "text": [
      "keoliscs.com.json\n",
      "cchphealthplan.com.json\n"
     ]
    },
    {
     "name": "stderr",
     "output_type": "stream",
     "text": [
      "\n",
      "\n",
      "\n",
      "  2%|▉                                              | 272/13077 [39:04<18:18:43,  5.15s/it]\u001b[A\u001b[A\u001b[A"
     ]
    },
    {
     "name": "stdout",
     "output_type": "stream",
     "text": [
      "ultimatepail.com.json\n"
     ]
    },
    {
     "name": "stderr",
     "output_type": "stream",
     "text": [
      "\n",
      "\n",
      "\n",
      "  2%|▉                                              | 273/13077 [39:08<17:10:48,  4.83s/it]\u001b[A\u001b[A\u001b[A"
     ]
    },
    {
     "name": "stdout",
     "output_type": "stream",
     "text": [
      "definitivehc.com.json\n"
     ]
    },
    {
     "name": "stderr",
     "output_type": "stream",
     "text": [
      "\n",
      "\n",
      "\n",
      "  2%|▉                                              | 274/13077 [39:20<24:01:12,  6.75s/it]\u001b[A\u001b[A\u001b[A"
     ]
    },
    {
     "name": "stdout",
     "output_type": "stream",
     "text": [
      "qualizeal.com.json\n"
     ]
    },
    {
     "name": "stderr",
     "output_type": "stream",
     "text": [
      "\n",
      "\n",
      "\n",
      "  2%|▉                                              | 275/13077 [39:34<30:55:19,  8.70s/it]\u001b[A\u001b[A\u001b[A"
     ]
    },
    {
     "name": "stdout",
     "output_type": "stream",
     "text": [
      "jcmh.com.json\n",
      "conceptsnrec.com.json\n"
     ]
    },
    {
     "name": "stderr",
     "output_type": "stream",
     "text": [
      "\n",
      "\n",
      "\n",
      "  2%|▉                                              | 277/13077 [39:42<23:18:25,  6.56s/it]\u001b[A\u001b[A\u001b[A"
     ]
    },
    {
     "name": "stdout",
     "output_type": "stream",
     "text": [
      "coraphysicaltherapy.com.json\n"
     ]
    },
    {
     "name": "stderr",
     "output_type": "stream",
     "text": [
      "\n",
      "\n",
      "\n",
      "  2%|▉                                              | 278/13077 [39:43<18:52:47,  5.31s/it]\u001b[A\u001b[A\u001b[A"
     ]
    },
    {
     "name": "stdout",
     "output_type": "stream",
     "text": [
      "nvisionu.com.json\n"
     ]
    },
    {
     "name": "stderr",
     "output_type": "stream",
     "text": [
      "\n",
      "\n",
      "\n",
      "  2%|█                                              | 279/13077 [40:11<39:21:41, 11.07s/it]\u001b[A\u001b[A\u001b[A"
     ]
    },
    {
     "name": "stdout",
     "output_type": "stream",
     "text": [
      "thelittlenell.com.json\n"
     ]
    },
    {
     "name": "stderr",
     "output_type": "stream",
     "text": [
      "\n",
      "\n",
      "\n",
      "  2%|█                                              | 280/13077 [40:11<29:09:53,  8.20s/it]\u001b[A\u001b[A\u001b[A"
     ]
    },
    {
     "name": "stdout",
     "output_type": "stream",
     "text": [
      "scyap.com.json\n"
     ]
    },
    {
     "name": "stderr",
     "output_type": "stream",
     "text": [
      "\n",
      "\n",
      "\n",
      "  2%|█                                              | 281/13077 [40:14<23:42:04,  6.67s/it]\u001b[A\u001b[A\u001b[A"
     ]
    },
    {
     "name": "stdout",
     "output_type": "stream",
     "text": [
      "oneparkfinancial.com.json\n"
     ]
    },
    {
     "name": "stderr",
     "output_type": "stream",
     "text": [
      "\n",
      "\n",
      "\n",
      "  2%|█                                              | 282/13077 [40:26<29:44:14,  8.37s/it]\u001b[A\u001b[A\u001b[A"
     ]
    },
    {
     "name": "stdout",
     "output_type": "stream",
     "text": [
      "azacp.com.json\n"
     ]
    },
    {
     "name": "stderr",
     "output_type": "stream",
     "text": [
      "\n",
      "\n",
      "\n",
      "  2%|█                                              | 283/13077 [40:30<24:41:22,  6.95s/it]\u001b[A\u001b[A\u001b[A"
     ]
    },
    {
     "name": "stdout",
     "output_type": "stream",
     "text": [
      "stillwatermedical.com.json\n",
      "carwashadvisory.com.json\n"
     ]
    },
    {
     "name": "stderr",
     "output_type": "stream",
     "text": [
      "\n",
      "\n",
      "\n",
      "  2%|█                                              | 285/13077 [40:36<18:02:00,  5.08s/it]\u001b[A\u001b[A\u001b[A"
     ]
    },
    {
     "name": "stdout",
     "output_type": "stream",
     "text": [
      "mcdonaldcarano.com.json\n"
     ]
    },
    {
     "name": "stderr",
     "output_type": "stream",
     "text": [
      "\n",
      "\n",
      "\n",
      "  2%|█                                              | 286/13077 [40:42<19:13:37,  5.41s/it]\u001b[A\u001b[A\u001b[A"
     ]
    },
    {
     "name": "stdout",
     "output_type": "stream",
     "text": [
      "nassco.com.json\n"
     ]
    },
    {
     "name": "stderr",
     "output_type": "stream",
     "text": [
      "\n",
      "\n",
      "\n",
      "  2%|█                                              | 287/13077 [40:46<18:19:25,  5.16s/it]\u001b[A\u001b[A\u001b[A"
     ]
    },
    {
     "name": "stdout",
     "output_type": "stream",
     "text": [
      "audintel.com.json\n"
     ]
    },
    {
     "name": "stderr",
     "output_type": "stream",
     "text": [
      "\n",
      "\n",
      "\n",
      "  2%|█                                              | 288/13077 [41:10<36:00:48, 10.14s/it]\u001b[A\u001b[A\u001b[A"
     ]
    },
    {
     "name": "stdout",
     "output_type": "stream",
     "text": [
      "abelsontaylor.com.json\n"
     ]
    },
    {
     "name": "stderr",
     "output_type": "stream",
     "text": [
      "\n",
      "\n",
      "\n",
      "  2%|█                                              | 289/13077 [41:14<29:41:10,  8.36s/it]\u001b[A\u001b[A\u001b[A"
     ]
    },
    {
     "name": "stdout",
     "output_type": "stream",
     "text": [
      "partnersinpediatrics.com.json\n"
     ]
    },
    {
     "name": "stderr",
     "output_type": "stream",
     "text": [
      "\n",
      "\n",
      "\n",
      "  2%|█                                              | 290/13077 [41:18<25:46:00,  7.25s/it]\u001b[A\u001b[A\u001b[A"
     ]
    },
    {
     "name": "stdout",
     "output_type": "stream",
     "text": [
      "safrandatasystemsus.com.json\n"
     ]
    },
    {
     "name": "stderr",
     "output_type": "stream",
     "text": [
      "\n",
      "\n",
      "\n",
      "  2%|█                                              | 291/13077 [41:26<26:33:22,  7.48s/it]\u001b[A\u001b[A\u001b[A"
     ]
    },
    {
     "name": "stdout",
     "output_type": "stream",
     "text": [
      "blackboardk12.com.json\n"
     ]
    },
    {
     "name": "stderr",
     "output_type": "stream",
     "text": [
      "\n",
      "\n",
      "\n",
      "  2%|█                                              | 292/13077 [41:32<24:30:06,  6.90s/it]\u001b[A\u001b[A\u001b[A"
     ]
    },
    {
     "name": "stdout",
     "output_type": "stream",
     "text": [
      "ceestaffing.com.json\n"
     ]
    },
    {
     "name": "stderr",
     "output_type": "stream",
     "text": [
      "\n",
      "\n",
      "\n",
      "  2%|█                                              | 293/13077 [41:32<17:53:35,  5.04s/it]\u001b[A\u001b[A\u001b[A"
     ]
    },
    {
     "name": "stdout",
     "output_type": "stream",
     "text": [
      "area17.com.json\n"
     ]
    },
    {
     "name": "stderr",
     "output_type": "stream",
     "text": [
      "\n",
      "\n",
      "\n",
      "  2%|█                                              | 294/13077 [41:40<21:02:48,  5.93s/it]\u001b[A\u001b[A\u001b[A"
     ]
    },
    {
     "name": "stdout",
     "output_type": "stream",
     "text": [
      "avbmarketing.com.json\n"
     ]
    },
    {
     "name": "stderr",
     "output_type": "stream",
     "text": [
      "\n",
      "\n",
      "\n",
      "  2%|█                                              | 295/13077 [41:54<29:38:40,  8.35s/it]\u001b[A\u001b[A\u001b[A"
     ]
    },
    {
     "name": "stdout",
     "output_type": "stream",
     "text": [
      "swkidney.com.json\n"
     ]
    },
    {
     "name": "stderr",
     "output_type": "stream",
     "text": [
      "\n",
      "\n",
      "\n",
      "  2%|█                                              | 296/13077 [42:05<32:21:49,  9.12s/it]\u001b[A\u001b[A\u001b[A"
     ]
    },
    {
     "name": "stdout",
     "output_type": "stream",
     "text": [
      "nozzlenolen.com.json\n"
     ]
    },
    {
     "name": "stderr",
     "output_type": "stream",
     "text": [
      "\n",
      "\n",
      "\n",
      "  2%|█                                              | 297/13077 [42:09<26:30:59,  7.47s/it]\u001b[A\u001b[A\u001b[A"
     ]
    },
    {
     "name": "stdout",
     "output_type": "stream",
     "text": [
      "billingsleyco.com.json\n"
     ]
    },
    {
     "name": "stderr",
     "output_type": "stream",
     "text": [
      "\n",
      "\n",
      "\n",
      "  2%|█                                              | 298/13077 [42:33<44:12:03, 12.45s/it]\u001b[A\u001b[A\u001b[A"
     ]
    },
    {
     "name": "stdout",
     "output_type": "stream",
     "text": [
      "mybenefitsplus.com.json\n"
     ]
    },
    {
     "name": "stderr",
     "output_type": "stream",
     "text": [
      "\n",
      "\n",
      "\n",
      "  2%|█                                              | 299/13077 [42:37<34:34:32,  9.74s/it]\u001b[A\u001b[A\u001b[A"
     ]
    },
    {
     "name": "stdout",
     "output_type": "stream",
     "text": [
      "wabashvalleyeggs.com.json\n"
     ]
    },
    {
     "name": "stderr",
     "output_type": "stream",
     "text": [
      "\n",
      "\n",
      "\n",
      "  2%|█                                              | 300/13077 [42:39<26:51:00,  7.57s/it]\u001b[A\u001b[A\u001b[A"
     ]
    },
    {
     "name": "stdout",
     "output_type": "stream",
     "text": [
      "henselphelps.com.json\n"
     ]
    },
    {
     "name": "stderr",
     "output_type": "stream",
     "text": [
      "\n",
      "\n",
      "\n",
      "  2%|█                                              | 301/13077 [42:39<19:02:28,  5.37s/it]\u001b[A\u001b[A\u001b[A"
     ]
    },
    {
     "name": "stdout",
     "output_type": "stream",
     "text": [
      "mindcolorautism.com.json\n"
     ]
    },
    {
     "name": "stderr",
     "output_type": "stream",
     "text": [
      "\n",
      "\n",
      "\n",
      "  2%|█                                              | 302/13077 [42:39<13:36:38,  3.84s/it]\u001b[A\u001b[A\u001b[A"
     ]
    },
    {
     "name": "stdout",
     "output_type": "stream",
     "text": [
      "velaninfo.com.json\n"
     ]
    },
    {
     "name": "stderr",
     "output_type": "stream",
     "text": [
      "\n",
      "\n",
      "\n",
      "  2%|█                                              | 303/13077 [42:50<21:09:40,  5.96s/it]\u001b[A\u001b[A\u001b[A"
     ]
    },
    {
     "name": "stdout",
     "output_type": "stream",
     "text": [
      "shinetechsoftware.com.json\n"
     ]
    },
    {
     "name": "stderr",
     "output_type": "stream",
     "text": [
      "\n",
      "\n",
      "\n",
      "  2%|█                                              | 304/13077 [43:35<62:06:25, 17.50s/it]\u001b[A\u001b[A\u001b[A"
     ]
    },
    {
     "name": "stdout",
     "output_type": "stream",
     "text": [
      "rell.com.json\n"
     ]
    },
    {
     "name": "stderr",
     "output_type": "stream",
     "text": [
      "\n",
      "\n",
      "\n",
      "  2%|█                                              | 305/13077 [43:40<48:45:26, 13.74s/it]\u001b[A\u001b[A\u001b[A"
     ]
    },
    {
     "name": "stdout",
     "output_type": "stream",
     "text": [
      "alvitacare.com.json\n"
     ]
    },
    {
     "name": "stderr",
     "output_type": "stream",
     "text": [
      "\n",
      "\n",
      "\n",
      "  2%|█                                              | 306/13077 [43:43<37:31:11, 10.58s/it]\u001b[A\u001b[A\u001b[A\n",
      "\n",
      "\n",
      "  2%|█                                              | 307/13077 [43:43<26:22:45,  7.44s/it]\u001b[A\u001b[A\u001b[A"
     ]
    },
    {
     "name": "stdout",
     "output_type": "stream",
     "text": [
      "kwplatinumrealty.com.json\n",
      "saratogacasino.com.json\n",
      "preferredbank.com.json\n"
     ]
    },
    {
     "name": "stderr",
     "output_type": "stream",
     "text": [
      "\n",
      "\n",
      "\n",
      "  2%|█                                              | 309/13077 [43:48<18:26:42,  5.20s/it]\u001b[A\u001b[A\u001b[A"
     ]
    },
    {
     "name": "stdout",
     "output_type": "stream",
     "text": [
      "visto.com.json\n"
     ]
    },
    {
     "name": "stderr",
     "output_type": "stream",
     "text": [
      "\n",
      "\n",
      "\n",
      "  2%|█                                              | 310/13077 [43:49<14:45:47,  4.16s/it]\u001b[A\u001b[A\u001b[A"
     ]
    },
    {
     "name": "stdout",
     "output_type": "stream",
     "text": [
      "bubbakoos.com.json\n"
     ]
    },
    {
     "name": "stderr",
     "output_type": "stream",
     "text": [
      "\n",
      "\n",
      "\n",
      "  2%|█                                              | 311/13077 [43:50<11:26:12,  3.23s/it]\u001b[A\u001b[A\u001b[A"
     ]
    },
    {
     "name": "stdout",
     "output_type": "stream",
     "text": [
      "integrisit.com.json\n"
     ]
    },
    {
     "name": "stderr",
     "output_type": "stream",
     "text": [
      "\n",
      "\n",
      "\n",
      "  2%|█▏                                              | 312/13077 [43:50<8:46:00,  2.47s/it]\u001b[A\u001b[A\u001b[A"
     ]
    },
    {
     "name": "stdout",
     "output_type": "stream",
     "text": [
      "camurren.com.json\n"
     ]
    },
    {
     "name": "stderr",
     "output_type": "stream",
     "text": [
      "\n",
      "\n",
      "\n",
      "  2%|█▏                                              | 313/13077 [43:53<8:57:46,  2.53s/it]\u001b[A\u001b[A\u001b[A"
     ]
    },
    {
     "name": "stdout",
     "output_type": "stream",
     "text": [
      "westell.com.json\n"
     ]
    },
    {
     "name": "stderr",
     "output_type": "stream",
     "text": [
      "\n",
      "\n",
      "\n",
      "  2%|█▏                                              | 314/13077 [43:54<6:55:22,  1.95s/it]\u001b[A\u001b[A\u001b[A"
     ]
    },
    {
     "name": "stdout",
     "output_type": "stream",
     "text": [
      "phelpssecurity.com.json\n"
     ]
    },
    {
     "name": "stderr",
     "output_type": "stream",
     "text": [
      "\n",
      "\n",
      "\n",
      "  2%|█▏                                              | 315/13077 [43:55<5:54:36,  1.67s/it]\u001b[A\u001b[A\u001b[A"
     ]
    },
    {
     "name": "stdout",
     "output_type": "stream",
     "text": [
      "evconnect.com.json\n"
     ]
    },
    {
     "name": "stderr",
     "output_type": "stream",
     "text": [
      "\n",
      "\n",
      "\n",
      "  2%|█▏                                              | 316/13077 [43:59<9:20:09,  2.63s/it]\u001b[A\u001b[A\u001b[A"
     ]
    },
    {
     "name": "stdout",
     "output_type": "stream",
     "text": [
      "parkbank.com.json\n"
     ]
    },
    {
     "name": "stderr",
     "output_type": "stream",
     "text": [
      "\n",
      "\n",
      "\n",
      "  2%|█▏                                             | 317/13077 [44:05<12:41:18,  3.58s/it]\u001b[A\u001b[A\u001b[A"
     ]
    },
    {
     "name": "stdout",
     "output_type": "stream",
     "text": [
      "suffolk.com.json\n",
      "integratedhealthcarestaffing.com.json\n"
     ]
    },
    {
     "name": "stderr",
     "output_type": "stream",
     "text": [
      "\n",
      "\n",
      "\n",
      "  2%|█▏                                             | 319/13077 [44:23<21:09:57,  5.97s/it]\u001b[A\u001b[A\u001b[A"
     ]
    },
    {
     "name": "stdout",
     "output_type": "stream",
     "text": [
      "soniresources.com.json\n"
     ]
    },
    {
     "name": "stderr",
     "output_type": "stream",
     "text": [
      "\n",
      "\n",
      "\n",
      "  2%|█▏                                             | 320/13077 [44:28<20:37:39,  5.82s/it]\u001b[A\u001b[A\u001b[A"
     ]
    },
    {
     "name": "stdout",
     "output_type": "stream",
     "text": [
      "lncurtis.com.json\n"
     ]
    },
    {
     "name": "stderr",
     "output_type": "stream",
     "text": [
      "\n",
      "\n",
      "\n",
      "  2%|█▏                                             | 321/13077 [44:39<25:33:36,  7.21s/it]\u001b[A\u001b[A\u001b[A"
     ]
    },
    {
     "name": "stdout",
     "output_type": "stream",
     "text": [
      "techvedika.com.json\n"
     ]
    },
    {
     "name": "stderr",
     "output_type": "stream",
     "text": [
      "\n",
      "\n",
      "\n",
      "  2%|█▏                                             | 322/13077 [44:53<32:00:15,  9.03s/it]\u001b[A\u001b[A\u001b[A"
     ]
    },
    {
     "name": "stdout",
     "output_type": "stream",
     "text": [
      "corporatevisions.com.json\n"
     ]
    },
    {
     "name": "stderr",
     "output_type": "stream",
     "text": [
      "\n",
      "\n",
      "\n",
      "  2%|█▏                                             | 323/13077 [45:00<29:14:42,  8.25s/it]\u001b[A\u001b[A\u001b[A"
     ]
    },
    {
     "name": "stdout",
     "output_type": "stream",
     "text": [
      "mediadc.com.json\n"
     ]
    },
    {
     "name": "stderr",
     "output_type": "stream",
     "text": [
      "\n",
      "\n",
      "\n",
      "  2%|█▏                                             | 324/13077 [45:01<22:13:40,  6.27s/it]\u001b[A\u001b[A\u001b[A"
     ]
    },
    {
     "name": "stdout",
     "output_type": "stream",
     "text": [
      "srhc.com.json\n"
     ]
    },
    {
     "name": "stderr",
     "output_type": "stream",
     "text": [
      "\n",
      "\n",
      "\n",
      "  2%|█▏                                             | 325/13077 [45:02<17:12:32,  4.86s/it]\u001b[A\u001b[A\u001b[A"
     ]
    },
    {
     "name": "stdout",
     "output_type": "stream",
     "text": [
      "vestmark.com.json\n"
     ]
    },
    {
     "name": "stderr",
     "output_type": "stream",
     "text": [
      "\n",
      "\n",
      "\n",
      "  2%|█▏                                             | 326/13077 [45:15<24:52:46,  7.02s/it]\u001b[A\u001b[A\u001b[A\n",
      "\n",
      "\n",
      "  3%|█▏                                             | 327/13077 [45:15<17:39:17,  4.98s/it]\u001b[A\u001b[A\u001b[A"
     ]
    },
    {
     "name": "stdout",
     "output_type": "stream",
     "text": [
      "strosechurch.com.json\n",
      "dashdevs.com.json\n"
     ]
    },
    {
     "name": "stderr",
     "output_type": "stream",
     "text": [
      "\n",
      "\n",
      "\n",
      "  3%|█▏                                             | 328/13077 [45:38<37:23:16, 10.56s/it]\u001b[A\u001b[A\u001b[A"
     ]
    },
    {
     "name": "stdout",
     "output_type": "stream",
     "text": [
      "redpanda.com.json\n"
     ]
    },
    {
     "name": "stderr",
     "output_type": "stream",
     "text": [
      "\n",
      "\n",
      "\n",
      "  3%|█▏                                             | 329/13077 [45:40<27:41:46,  7.82s/it]\u001b[A\u001b[A\u001b[A"
     ]
    },
    {
     "name": "stdout",
     "output_type": "stream",
     "text": [
      "victorious.com.json\n"
     ]
    },
    {
     "name": "stderr",
     "output_type": "stream",
     "text": [
      "\n",
      "\n",
      "\n",
      "  3%|█▏                                             | 330/13077 [45:48<28:24:55,  8.03s/it]\u001b[A\u001b[A\u001b[A"
     ]
    },
    {
     "name": "stdout",
     "output_type": "stream",
     "text": [
      "feditc.com.json\n"
     ]
    },
    {
     "name": "stderr",
     "output_type": "stream",
     "text": [
      "\n",
      "\n",
      "\n",
      "  3%|█▏                                             | 331/13077 [45:54<25:58:36,  7.34s/it]\u001b[A\u001b[A\u001b[A\n",
      "\n",
      "\n",
      "  3%|█▏                                             | 332/13077 [45:54<18:19:58,  5.18s/it]\u001b[A\u001b[A\u001b[A"
     ]
    },
    {
     "name": "stdout",
     "output_type": "stream",
     "text": [
      "dana-co.com.json\n",
      "huseculinary.com.json\n"
     ]
    },
    {
     "name": "stderr",
     "output_type": "stream",
     "text": [
      "\n",
      "\n",
      "\n",
      "  3%|█▏                                             | 333/13077 [45:58<16:24:42,  4.64s/it]\u001b[A\u001b[A\u001b[A"
     ]
    },
    {
     "name": "stdout",
     "output_type": "stream",
     "text": [
      "cleaninc.com.json\n"
     ]
    },
    {
     "name": "stderr",
     "output_type": "stream",
     "text": [
      "\n",
      "\n",
      "\n",
      "  3%|█▏                                             | 334/13077 [46:04<18:50:44,  5.32s/it]\u001b[A\u001b[A\u001b[A"
     ]
    },
    {
     "name": "stdout",
     "output_type": "stream",
     "text": [
      "completehealth.com.json\n"
     ]
    },
    {
     "name": "stderr",
     "output_type": "stream",
     "text": [
      "\n",
      "\n",
      "\n",
      "  3%|█▏                                             | 335/13077 [46:07<16:18:31,  4.61s/it]\u001b[A\u001b[A\u001b[A"
     ]
    },
    {
     "name": "stdout",
     "output_type": "stream",
     "text": [
      "metrobps.com.json\n"
     ]
    },
    {
     "name": "stderr",
     "output_type": "stream",
     "text": [
      "\n",
      "\n",
      "\n",
      "  3%|█▏                                             | 336/13077 [46:21<25:57:09,  7.33s/it]\u001b[A\u001b[A\u001b[A"
     ]
    },
    {
     "name": "stdout",
     "output_type": "stream",
     "text": [
      "dksassociates.com.json\n"
     ]
    },
    {
     "name": "stderr",
     "output_type": "stream",
     "text": [
      "\n",
      "\n",
      "\n",
      "  3%|█▏                                             | 337/13077 [46:22<19:07:40,  5.41s/it]\u001b[A\u001b[A\u001b[A"
     ]
    },
    {
     "name": "stdout",
     "output_type": "stream",
     "text": [
      "aircond.com.json\n"
     ]
    },
    {
     "name": "stderr",
     "output_type": "stream",
     "text": [
      "\n",
      "\n",
      "\n",
      "  3%|█▏                                            | 338/13077 [47:52<108:27:55, 30.65s/it]\u001b[A\u001b[A\u001b[A"
     ]
    },
    {
     "name": "stdout",
     "output_type": "stream",
     "text": [
      "hayscountytx.com.json\n"
     ]
    },
    {
     "name": "stderr",
     "output_type": "stream",
     "text": [
      "\n",
      "\n",
      "\n",
      "  3%|█▏                                             | 339/13077 [47:52<76:32:36, 21.63s/it]\u001b[A\u001b[A\u001b[A"
     ]
    },
    {
     "name": "stdout",
     "output_type": "stream",
     "text": [
      "columbushospitality.com.json\n"
     ]
    },
    {
     "name": "stderr",
     "output_type": "stream",
     "text": [
      "\n",
      "\n",
      "\n",
      "  3%|█▏                                             | 340/13077 [48:13<75:27:01, 21.33s/it]\u001b[A\u001b[A\u001b[A"
     ]
    },
    {
     "name": "stdout",
     "output_type": "stream",
     "text": [
      "vitaehs.com.json\n"
     ]
    },
    {
     "name": "stderr",
     "output_type": "stream",
     "text": [
      "\n",
      "\n",
      "\n",
      "  3%|█▏                                             | 341/13077 [48:18<58:16:40, 16.47s/it]\u001b[A\u001b[A\u001b[A"
     ]
    },
    {
     "name": "stdout",
     "output_type": "stream",
     "text": [
      "ezeefiber.com.json\n"
     ]
    },
    {
     "name": "stderr",
     "output_type": "stream",
     "text": [
      "\n",
      "\n",
      "\n",
      "  3%|█▏                                             | 342/13077 [48:21<44:19:35, 12.53s/it]\u001b[A\u001b[A\u001b[A"
     ]
    },
    {
     "name": "stdout",
     "output_type": "stream",
     "text": [
      "clearbridgetech.com.json\n"
     ]
    },
    {
     "name": "stderr",
     "output_type": "stream",
     "text": [
      "\n",
      "\n",
      "\n",
      "  3%|█▏                                             | 343/13077 [48:23<32:30:19,  9.19s/it]\u001b[A\u001b[A\u001b[A"
     ]
    },
    {
     "name": "stdout",
     "output_type": "stream",
     "text": [
      "diabsolut.com.json\n"
     ]
    },
    {
     "name": "stderr",
     "output_type": "stream",
     "text": [
      "\n",
      "\n",
      "\n",
      "  3%|█▏                                             | 344/13077 [48:43<44:04:34, 12.46s/it]\u001b[A\u001b[A\u001b[A"
     ]
    },
    {
     "name": "stdout",
     "output_type": "stream",
     "text": [
      "roneengineers.com.json\n"
     ]
    },
    {
     "name": "stderr",
     "output_type": "stream",
     "text": [
      "\n",
      "\n",
      "\n",
      "  3%|█▏                                             | 345/13077 [48:45<32:46:04,  9.27s/it]\u001b[A\u001b[A\u001b[A"
     ]
    },
    {
     "name": "stdout",
     "output_type": "stream",
     "text": [
      "attainaba.com.json\n"
     ]
    },
    {
     "name": "stderr",
     "output_type": "stream",
     "text": [
      "\n",
      "\n",
      "\n",
      "  3%|█▏                                             | 346/13077 [48:54<33:27:09,  9.46s/it]\u001b[A\u001b[A\u001b[A"
     ]
    },
    {
     "name": "stdout",
     "output_type": "stream",
     "text": [
      "cwlp.com.json\n"
     ]
    },
    {
     "name": "stderr",
     "output_type": "stream",
     "text": [
      "\n",
      "\n",
      "\n",
      "  3%|█▏                                             | 347/13077 [48:59<28:35:47,  8.09s/it]\u001b[A\u001b[A\u001b[A"
     ]
    },
    {
     "name": "stdout",
     "output_type": "stream",
     "text": [
      "cmishipmanagement.com.json\n",
      "bankatfirstnational.com.json\n"
     ]
    },
    {
     "name": "stderr",
     "output_type": "stream",
     "text": [
      "\n",
      "\n",
      "\n",
      "  3%|█▎                                             | 349/13077 [49:00<16:02:18,  4.54s/it]\u001b[A\u001b[A\u001b[A"
     ]
    },
    {
     "name": "stdout",
     "output_type": "stream",
     "text": [
      "dataentryindia.com.json\n"
     ]
    },
    {
     "name": "stderr",
     "output_type": "stream",
     "text": [
      "\n",
      "\n",
      "\n",
      "  3%|█▎                                             | 350/13077 [49:22<31:31:53,  8.92s/it]\u001b[A\u001b[A\u001b[A"
     ]
    },
    {
     "name": "stdout",
     "output_type": "stream",
     "text": [
      "c3insurance.com.json\n"
     ]
    },
    {
     "name": "stderr",
     "output_type": "stream",
     "text": [
      "\n",
      "\n",
      "\n",
      "  3%|█▎                                             | 351/13077 [49:31<31:07:34,  8.81s/it]\u001b[A\u001b[A\u001b[A"
     ]
    },
    {
     "name": "stdout",
     "output_type": "stream",
     "text": [
      "modulemd.com.json\n"
     ]
    },
    {
     "name": "stderr",
     "output_type": "stream",
     "text": [
      "\n",
      "\n",
      "\n",
      "  3%|█▎                                             | 352/13077 [49:57<47:28:06, 13.43s/it]\u001b[A\u001b[A\u001b[A"
     ]
    },
    {
     "name": "stdout",
     "output_type": "stream",
     "text": [
      "cliffhousemaine.com.json\n"
     ]
    },
    {
     "name": "stderr",
     "output_type": "stream",
     "text": [
      "\n",
      "\n",
      "\n",
      "  3%|█▎                                             | 353/13077 [49:59<36:53:12, 10.44s/it]\u001b[A\u001b[A\u001b[A"
     ]
    },
    {
     "name": "stdout",
     "output_type": "stream",
     "text": [
      "cloudangles.com.json\n"
     ]
    },
    {
     "name": "stderr",
     "output_type": "stream",
     "text": [
      "\n",
      "\n",
      "\n",
      "  3%|█▎                                             | 354/13077 [50:03<29:29:48,  8.35s/it]\u001b[A\u001b[A\u001b[A"
     ]
    },
    {
     "name": "stdout",
     "output_type": "stream",
     "text": [
      "medleycompany.com.json\n"
     ]
    },
    {
     "name": "stderr",
     "output_type": "stream",
     "text": [
      "\n",
      "\n",
      "\n",
      "  3%|█▎                                             | 355/13077 [50:03<21:33:04,  6.10s/it]\u001b[A\u001b[A\u001b[A"
     ]
    },
    {
     "name": "stdout",
     "output_type": "stream",
     "text": [
      "unitil.com.json\n"
     ]
    },
    {
     "name": "stderr",
     "output_type": "stream",
     "text": [
      "\n",
      "\n",
      "\n",
      "  3%|█▎                                             | 356/13077 [50:04<16:02:01,  4.54s/it]\u001b[A\u001b[A\u001b[A"
     ]
    },
    {
     "name": "stdout",
     "output_type": "stream",
     "text": [
      "farmjournalmedia.com.json\n"
     ]
    },
    {
     "name": "stderr",
     "output_type": "stream",
     "text": [
      "\n",
      "\n",
      "\n",
      "  3%|█▎                                             | 357/13077 [50:07<14:10:44,  4.01s/it]\u001b[A\u001b[A\u001b[A"
     ]
    },
    {
     "name": "stdout",
     "output_type": "stream",
     "text": [
      "ndala.com.json\n"
     ]
    },
    {
     "name": "stderr",
     "output_type": "stream",
     "text": [
      "\n",
      "\n",
      "\n",
      "  3%|█▎                                             | 358/13077 [50:25<28:51:01,  8.17s/it]\u001b[A\u001b[A\u001b[A"
     ]
    },
    {
     "name": "stdout",
     "output_type": "stream",
     "text": [
      "valoremreply.com.json\n"
     ]
    },
    {
     "name": "stderr",
     "output_type": "stream",
     "text": [
      "\n",
      "\n",
      "\n",
      "  3%|█▎                                             | 359/13077 [50:45<41:10:37, 11.66s/it]\u001b[A\u001b[A\u001b[A"
     ]
    },
    {
     "name": "stdout",
     "output_type": "stream",
     "text": [
      "fairmont-kea-lani.com.json\n"
     ]
    },
    {
     "name": "stderr",
     "output_type": "stream",
     "text": [
      "\n",
      "\n",
      "\n",
      "  3%|█▎                                             | 360/13077 [50:50<34:50:17,  9.86s/it]\u001b[A\u001b[A\u001b[A"
     ]
    },
    {
     "name": "stdout",
     "output_type": "stream",
     "text": [
      "gilautomation.com.json\n"
     ]
    },
    {
     "name": "stderr",
     "output_type": "stream",
     "text": [
      "\n",
      "\n",
      "\n",
      "  3%|█▎                                             | 361/13077 [51:03<38:19:43, 10.85s/it]\u001b[A\u001b[A\u001b[A"
     ]
    },
    {
     "name": "stdout",
     "output_type": "stream",
     "text": [
      "caro-nut.com.json\n"
     ]
    },
    {
     "name": "stderr",
     "output_type": "stream",
     "text": [
      "\n",
      "\n",
      "\n",
      "  3%|█▎                                             | 362/13077 [51:04<27:59:23,  7.92s/it]\u001b[A\u001b[A\u001b[A"
     ]
    },
    {
     "name": "stdout",
     "output_type": "stream",
     "text": [
      "newlight.com.json\n"
     ]
    },
    {
     "name": "stderr",
     "output_type": "stream",
     "text": [
      "\n",
      "\n",
      "\n",
      "  3%|█▎                                             | 363/13077 [51:05<20:06:44,  5.69s/it]\u001b[A\u001b[A\u001b[A"
     ]
    },
    {
     "name": "stdout",
     "output_type": "stream",
     "text": [
      "ceriumnetworks.com.json\n"
     ]
    },
    {
     "name": "stderr",
     "output_type": "stream",
     "text": [
      "\n",
      "\n",
      "\n",
      "  3%|█▎                                             | 364/13077 [51:21<30:38:03,  8.67s/it]\u001b[A\u001b[A\u001b[A"
     ]
    },
    {
     "name": "stdout",
     "output_type": "stream",
     "text": [
      "personcenteredservices.com.json\n"
     ]
    },
    {
     "name": "stderr",
     "output_type": "stream",
     "text": [
      "\n",
      "\n",
      "\n",
      "  3%|█▎                                             | 365/13077 [51:24<25:04:18,  7.10s/it]\u001b[A\u001b[A\u001b[A"
     ]
    },
    {
     "name": "stdout",
     "output_type": "stream",
     "text": [
      "tjfact.com.json\n"
     ]
    },
    {
     "name": "stderr",
     "output_type": "stream",
     "text": [
      "\n",
      "\n",
      "\n",
      "  3%|█▎                                             | 366/13077 [51:45<39:46:43, 11.27s/it]\u001b[A\u001b[A\u001b[A"
     ]
    },
    {
     "name": "stdout",
     "output_type": "stream",
     "text": [
      "cafortune.com.json\n"
     ]
    },
    {
     "name": "stderr",
     "output_type": "stream",
     "text": [
      "\n",
      "\n",
      "\n",
      "  3%|█▎                                             | 367/13077 [51:45<28:22:42,  8.04s/it]\u001b[A\u001b[A\u001b[A"
     ]
    },
    {
     "name": "stdout",
     "output_type": "stream",
     "text": [
      "florencehc.com.json\n"
     ]
    },
    {
     "name": "stderr",
     "output_type": "stream",
     "text": [
      "\n",
      "\n",
      "\n",
      "  3%|█▎                                             | 368/13077 [51:47<21:30:03,  6.09s/it]\u001b[A\u001b[A\u001b[A"
     ]
    },
    {
     "name": "stdout",
     "output_type": "stream",
     "text": [
      "jordanessentials.com.json\n"
     ]
    },
    {
     "name": "stderr",
     "output_type": "stream",
     "text": [
      "\n",
      "\n",
      "\n",
      "  3%|█▎                                             | 369/13077 [51:55<23:09:37,  6.56s/it]\u001b[A\u001b[A\u001b[A"
     ]
    },
    {
     "name": "stdout",
     "output_type": "stream",
     "text": [
      "alfaenergygroup.com.json\n"
     ]
    },
    {
     "name": "stderr",
     "output_type": "stream",
     "text": [
      "\n",
      "\n",
      "\n",
      "  3%|█▎                                             | 370/13077 [52:17<39:54:29, 11.31s/it]\u001b[A\u001b[A\u001b[A"
     ]
    },
    {
     "name": "stdout",
     "output_type": "stream",
     "text": [
      "cennoxsafes.com.json\n"
     ]
    },
    {
     "name": "stderr",
     "output_type": "stream",
     "text": [
      "\n",
      "\n",
      "\n",
      "  3%|█▎                                             | 371/13077 [52:23<33:47:46,  9.58s/it]\u001b[A\u001b[A\u001b[A"
     ]
    },
    {
     "name": "stdout",
     "output_type": "stream",
     "text": [
      "udcus.com.json\n"
     ]
    },
    {
     "name": "stderr",
     "output_type": "stream",
     "text": [
      "\n",
      "\n",
      "\n",
      "  3%|█▎                                             | 372/13077 [52:29<30:14:15,  8.57s/it]\u001b[A\u001b[A\u001b[A"
     ]
    },
    {
     "name": "stdout",
     "output_type": "stream",
     "text": [
      "fts-intl.com.json\n"
     ]
    },
    {
     "name": "stderr",
     "output_type": "stream",
     "text": [
      "\n",
      "\n",
      "\n",
      "  3%|█▎                                             | 373/13077 [52:29<21:23:23,  6.06s/it]\u001b[A\u001b[A\u001b[A"
     ]
    },
    {
     "name": "stdout",
     "output_type": "stream",
     "text": [
      "programmablepower.com.json\n"
     ]
    },
    {
     "name": "stderr",
     "output_type": "stream",
     "text": [
      "\n",
      "\n",
      "\n",
      "  3%|█▎                                             | 374/13077 [52:32<18:21:52,  5.20s/it]\u001b[A\u001b[A\u001b[A"
     ]
    },
    {
     "name": "stdout",
     "output_type": "stream",
     "text": [
      "nmgco.com.json\n",
      "inlandpackaging.com.json\n"
     ]
    },
    {
     "name": "stderr",
     "output_type": "stream",
     "text": [
      "\n",
      "\n",
      "\n",
      "  3%|█▎                                             | 376/13077 [52:35<12:23:28,  3.51s/it]\u001b[A\u001b[A\u001b[A"
     ]
    },
    {
     "name": "stdout",
     "output_type": "stream",
     "text": [
      "fullstackacademy.com.json\n"
     ]
    },
    {
     "name": "stderr",
     "output_type": "stream",
     "text": [
      "\n",
      "\n",
      "\n",
      "  3%|█▎                                             | 377/13077 [52:40<13:34:16,  3.85s/it]\u001b[A\u001b[A\u001b[A"
     ]
    },
    {
     "name": "stdout",
     "output_type": "stream",
     "text": [
      "ricoma.com.json\n"
     ]
    },
    {
     "name": "stderr",
     "output_type": "stream",
     "text": [
      "\n",
      "\n",
      "\n",
      "  3%|█▎                                             | 378/13077 [52:55<23:34:15,  6.68s/it]\u001b[A\u001b[A\u001b[A"
     ]
    },
    {
     "name": "stdout",
     "output_type": "stream",
     "text": [
      "autelrobotics.com.json\n"
     ]
    },
    {
     "name": "stderr",
     "output_type": "stream",
     "text": [
      "\n",
      "\n",
      "\n",
      "  3%|█▎                                             | 379/13077 [53:07<29:02:50,  8.24s/it]\u001b[A\u001b[A\u001b[A"
     ]
    },
    {
     "name": "stdout",
     "output_type": "stream",
     "text": [
      "cpack.com.json\n"
     ]
    },
    {
     "name": "stderr",
     "output_type": "stream",
     "text": [
      "\n",
      "\n",
      "\n",
      "  3%|█▎                                             | 380/13077 [53:10<23:49:39,  6.76s/it]\u001b[A\u001b[A\u001b[A"
     ]
    },
    {
     "name": "stdout",
     "output_type": "stream",
     "text": [
      "pipedrive.com.json\n"
     ]
    },
    {
     "name": "stderr",
     "output_type": "stream",
     "text": [
      "\n",
      "\n",
      "\n",
      "  3%|█▎                                             | 381/13077 [53:18<24:34:56,  6.97s/it]\u001b[A\u001b[A\u001b[A"
     ]
    },
    {
     "name": "stdout",
     "output_type": "stream",
     "text": [
      "mybankcnb.com.json\n"
     ]
    },
    {
     "name": "stderr",
     "output_type": "stream",
     "text": [
      "\n",
      "\n",
      "\n",
      "  3%|█▎                                             | 382/13077 [53:18<18:12:33,  5.16s/it]\u001b[A\u001b[A\u001b[A"
     ]
    },
    {
     "name": "stdout",
     "output_type": "stream",
     "text": [
      "rolloinsurance.com.json\n"
     ]
    },
    {
     "name": "stderr",
     "output_type": "stream",
     "text": [
      "\n",
      "\n",
      "\n",
      "  3%|█▍                                             | 383/13077 [53:25<19:38:45,  5.57s/it]\u001b[A\u001b[A\u001b[A"
     ]
    },
    {
     "name": "stdout",
     "output_type": "stream",
     "text": [
      "coretek.com.json\n"
     ]
    },
    {
     "name": "stderr",
     "output_type": "stream",
     "text": [
      "\n",
      "\n",
      "\n",
      "  3%|█▍                                             | 384/13077 [53:40<29:32:26,  8.38s/it]\u001b[A\u001b[A\u001b[A"
     ]
    },
    {
     "name": "stdout",
     "output_type": "stream",
     "text": [
      "daytonchristian.com.json\n"
     ]
    },
    {
     "name": "stderr",
     "output_type": "stream",
     "text": [
      "\n",
      "\n",
      "\n",
      "  3%|█▍                                             | 385/13077 [53:47<28:12:07,  8.00s/it]\u001b[A\u001b[A\u001b[A"
     ]
    },
    {
     "name": "stdout",
     "output_type": "stream",
     "text": [
      "c4plans.com.json\n"
     ]
    },
    {
     "name": "stderr",
     "output_type": "stream",
     "text": [
      "\n",
      "\n",
      "\n",
      "  3%|█▍                                             | 386/13077 [53:48<20:27:33,  5.80s/it]\u001b[A\u001b[A\u001b[A"
     ]
    },
    {
     "name": "stdout",
     "output_type": "stream",
     "text": [
      "avisystems.com.json\n"
     ]
    },
    {
     "name": "stderr",
     "output_type": "stream",
     "text": [
      "\n",
      "\n",
      "\n",
      "  3%|█▍                                             | 387/13077 [53:52<19:06:17,  5.42s/it]\u001b[A\u001b[A\u001b[A"
     ]
    },
    {
     "name": "stdout",
     "output_type": "stream",
     "text": [
      "greenslate.com.json\n"
     ]
    },
    {
     "name": "stderr",
     "output_type": "stream",
     "text": [
      "\n",
      "\n",
      "\n",
      "  3%|█▍                                             | 388/13077 [53:54<14:46:12,  4.19s/it]\u001b[A\u001b[A\u001b[A"
     ]
    },
    {
     "name": "stdout",
     "output_type": "stream",
     "text": [
      "paxerahealth.com.json\n"
     ]
    },
    {
     "name": "stderr",
     "output_type": "stream",
     "text": [
      "\n",
      "\n",
      "\n",
      "  3%|█▍                                             | 389/13077 [54:11<28:35:59,  8.11s/it]\u001b[A\u001b[A\u001b[A"
     ]
    },
    {
     "name": "stdout",
     "output_type": "stream",
     "text": [
      "safko.com.json\n"
     ]
    },
    {
     "name": "stderr",
     "output_type": "stream",
     "text": [
      "\n",
      "\n",
      "\n",
      "  3%|█▍                                             | 390/13077 [54:18<27:44:48,  7.87s/it]\u001b[A\u001b[A\u001b[A"
     ]
    },
    {
     "name": "stdout",
     "output_type": "stream",
     "text": [
      "datanetworks.com.json\n"
     ]
    },
    {
     "name": "stderr",
     "output_type": "stream",
     "text": [
      "\n",
      "\n",
      "\n",
      "  3%|█▍                                             | 391/13077 [54:29<30:16:23,  8.59s/it]\u001b[A\u001b[A\u001b[A"
     ]
    },
    {
     "name": "stdout",
     "output_type": "stream",
     "text": [
      "mydiscoverchiropractic.com.json\n"
     ]
    },
    {
     "name": "stderr",
     "output_type": "stream",
     "text": [
      "\n",
      "\n",
      "\n",
      "  3%|█▍                                             | 392/13077 [54:34<27:07:34,  7.70s/it]\u001b[A\u001b[A\u001b[A"
     ]
    },
    {
     "name": "stdout",
     "output_type": "stream",
     "text": [
      "ipatientcare.com.json\n"
     ]
    },
    {
     "name": "stderr",
     "output_type": "stream",
     "text": [
      "\n",
      "\n",
      "\n",
      "  3%|█▍                                             | 393/13077 [54:37<21:39:48,  6.15s/it]\u001b[A\u001b[A\u001b[A"
     ]
    },
    {
     "name": "stdout",
     "output_type": "stream",
     "text": [
      "tch-az.com.json\n"
     ]
    },
    {
     "name": "stderr",
     "output_type": "stream",
     "text": [
      "\n",
      "\n",
      "\n",
      "  3%|█▍                                             | 394/13077 [55:00<40:01:04, 11.36s/it]\u001b[A\u001b[A\u001b[A"
     ]
    },
    {
     "name": "stdout",
     "output_type": "stream",
     "text": [
      "dreamztech.com.json\n"
     ]
    },
    {
     "name": "stderr",
     "output_type": "stream",
     "text": [
      "\n",
      "\n",
      "\n",
      "  3%|█▍                                             | 395/13077 [55:27<55:52:58, 15.86s/it]\u001b[A\u001b[A\u001b[A"
     ]
    },
    {
     "name": "stdout",
     "output_type": "stream",
     "text": [
      "doctoralliance.com.json\n"
     ]
    },
    {
     "name": "stderr",
     "output_type": "stream",
     "text": [
      "\n",
      "\n",
      "\n",
      "  3%|█▍                                             | 396/13077 [55:29<41:32:57, 11.80s/it]\u001b[A\u001b[A\u001b[A"
     ]
    },
    {
     "name": "stdout",
     "output_type": "stream",
     "text": [
      "regencytechnologies.com.json\n"
     ]
    },
    {
     "name": "stderr",
     "output_type": "stream",
     "text": [
      "\n",
      "\n",
      "\n",
      "  3%|█▍                                             | 397/13077 [55:30<30:05:39,  8.54s/it]\u001b[A\u001b[A\u001b[A"
     ]
    },
    {
     "name": "stdout",
     "output_type": "stream",
     "text": [
      "roundstoneinsurance.com.json\n"
     ]
    },
    {
     "name": "stderr",
     "output_type": "stream",
     "text": [
      "\n",
      "\n",
      "\n",
      "  3%|█▍                                             | 398/13077 [55:33<23:58:43,  6.81s/it]\u001b[A\u001b[A\u001b[A"
     ]
    },
    {
     "name": "stdout",
     "output_type": "stream",
     "text": [
      "appsassociates.com.json\n"
     ]
    },
    {
     "name": "stderr",
     "output_type": "stream",
     "text": [
      "\n",
      "\n",
      "\n",
      "  3%|█▍                                             | 399/13077 [55:43<27:45:16,  7.88s/it]\u001b[A\u001b[A\u001b[A"
     ]
    },
    {
     "name": "stdout",
     "output_type": "stream",
     "text": [
      "zuzick.com.json\n"
     ]
    },
    {
     "name": "stderr",
     "output_type": "stream",
     "text": [
      "\n",
      "\n",
      "\n",
      "  3%|█▍                                             | 400/13077 [55:44<21:02:06,  5.97s/it]\u001b[A\u001b[A\u001b[A"
     ]
    },
    {
     "name": "stdout",
     "output_type": "stream",
     "text": [
      "100coaches.com.json\n"
     ]
    },
    {
     "name": "stderr",
     "output_type": "stream",
     "text": [
      "\n",
      "\n",
      "\n",
      "  3%|█▍                                             | 401/13077 [55:47<17:13:20,  4.89s/it]\u001b[A\u001b[A\u001b[A"
     ]
    },
    {
     "name": "stdout",
     "output_type": "stream",
     "text": [
      "carter-express.com.json\n"
     ]
    },
    {
     "name": "stderr",
     "output_type": "stream",
     "text": [
      "\n",
      "\n",
      "\n",
      "  3%|█▍                                             | 402/13077 [55:47<12:16:11,  3.48s/it]\u001b[A\u001b[A\u001b[A"
     ]
    },
    {
     "name": "stdout",
     "output_type": "stream",
     "text": [
      "oneworldglobalservices.com.json\n"
     ]
    },
    {
     "name": "stderr",
     "output_type": "stream",
     "text": [
      "\n",
      "\n",
      "\n",
      "  3%|█▍                                             | 403/13077 [56:01<23:17:21,  6.62s/it]\u001b[A\u001b[A\u001b[A"
     ]
    },
    {
     "name": "stdout",
     "output_type": "stream",
     "text": [
      "indovance.com.json\n"
     ]
    },
    {
     "name": "stderr",
     "output_type": "stream",
     "text": [
      "\n",
      "\n",
      "\n",
      "  3%|█▍                                             | 404/13077 [56:06<21:57:20,  6.24s/it]\u001b[A\u001b[A\u001b[A"
     ]
    },
    {
     "name": "stdout",
     "output_type": "stream",
     "text": [
      "kayalortho.com.json\n"
     ]
    },
    {
     "name": "stderr",
     "output_type": "stream",
     "text": [
      "\n",
      "\n",
      "\n",
      "  3%|█▍                                             | 405/13077 [57:26<98:59:41, 28.12s/it]\u001b[A\u001b[A\u001b[A"
     ]
    },
    {
     "name": "stdout",
     "output_type": "stream",
     "text": [
      "purchasing-procurement-center.com.json\n"
     ]
    },
    {
     "name": "stderr",
     "output_type": "stream",
     "text": [
      "\n",
      "\n",
      "\n",
      "  3%|█▍                                             | 406/13077 [57:33<77:11:07, 21.93s/it]\u001b[A\u001b[A\u001b[A"
     ]
    },
    {
     "name": "stdout",
     "output_type": "stream",
     "text": [
      "blackpointcyber.com.json\n"
     ]
    },
    {
     "name": "stderr",
     "output_type": "stream",
     "text": [
      "\n",
      "\n",
      "\n",
      "  3%|█▍                                            | 407/13077 [58:17<100:58:07, 28.69s/it]\u001b[A\u001b[A\u001b[A"
     ]
    },
    {
     "name": "stdout",
     "output_type": "stream",
     "text": [
      "phi.com.json\n"
     ]
    },
    {
     "name": "stderr",
     "output_type": "stream",
     "text": [
      "\n",
      "\n",
      "\n",
      "  3%|█▍                                             | 408/13077 [58:18<71:18:32, 20.26s/it]\u001b[A\u001b[A\u001b[A"
     ]
    },
    {
     "name": "stdout",
     "output_type": "stream",
     "text": [
      "atorusresearch.com.json\n"
     ]
    },
    {
     "name": "stderr",
     "output_type": "stream",
     "text": [
      "\n",
      "\n",
      "\n",
      "  3%|█▍                                             | 409/13077 [58:26<57:58:22, 16.47s/it]\u001b[A\u001b[A\u001b[A"
     ]
    },
    {
     "name": "stdout",
     "output_type": "stream",
     "text": [
      "srmcorp.com.json\n"
     ]
    },
    {
     "name": "stderr",
     "output_type": "stream",
     "text": [
      "\n",
      "\n",
      "\n",
      "  3%|█▍                                             | 410/13077 [58:33<48:37:00, 13.82s/it]\u001b[A\u001b[A\u001b[A"
     ]
    },
    {
     "name": "stdout",
     "output_type": "stream",
     "text": [
      "westburybankwi.com.json\n"
     ]
    },
    {
     "name": "stderr",
     "output_type": "stream",
     "text": [
      "\n",
      "\n",
      "\n",
      "  3%|█▍                                             | 411/13077 [58:34<34:27:44,  9.80s/it]\u001b[A\u001b[A\u001b[A"
     ]
    },
    {
     "name": "stdout",
     "output_type": "stream",
     "text": [
      "emarquettebank.com.json\n",
      "startvirtual.com.json\n"
     ]
    },
    {
     "name": "stderr",
     "output_type": "stream",
     "text": [
      "\n",
      "\n",
      "\n",
      "  3%|█▍                                             | 413/13077 [58:55<36:07:37, 10.27s/it]\u001b[A\u001b[A\u001b[A"
     ]
    },
    {
     "name": "stdout",
     "output_type": "stream",
     "text": [
      "livingthedream.com.json\n"
     ]
    },
    {
     "name": "stderr",
     "output_type": "stream",
     "text": [
      "\n",
      "\n",
      "\n",
      "  3%|█▍                                             | 414/13077 [58:56<27:42:43,  7.88s/it]\u001b[A\u001b[A\u001b[A"
     ]
    },
    {
     "name": "stdout",
     "output_type": "stream",
     "text": [
      "pipelinerx.com.json\n"
     ]
    },
    {
     "name": "stderr",
     "output_type": "stream",
     "text": [
      "\n",
      "\n",
      "\n",
      "  3%|█▍                                             | 415/13077 [59:15<37:45:11, 10.73s/it]\u001b[A\u001b[A\u001b[A"
     ]
    },
    {
     "name": "stdout",
     "output_type": "stream",
     "text": [
      "tklresearch.com.json\n"
     ]
    },
    {
     "name": "stderr",
     "output_type": "stream",
     "text": [
      "\n",
      "\n",
      "\n",
      "  3%|█▍                                             | 416/13077 [59:37<48:31:01, 13.80s/it]\u001b[A\u001b[A\u001b[A"
     ]
    },
    {
     "name": "stdout",
     "output_type": "stream",
     "text": [
      "coregistics.com.json\n"
     ]
    },
    {
     "name": "stderr",
     "output_type": "stream",
     "text": [
      "\n",
      "\n",
      "\n",
      "  3%|█▍                                             | 417/13077 [59:49<46:52:41, 13.33s/it]\u001b[A\u001b[A\u001b[A"
     ]
    },
    {
     "name": "stdout",
     "output_type": "stream",
     "text": [
      "fortitude-re.com.json\n"
     ]
    },
    {
     "name": "stderr",
     "output_type": "stream",
     "text": [
      "\n",
      "\n",
      "\n",
      "  3%|█▍                                           | 418/13077 [1:00:08<52:42:48, 14.99s/it]\u001b[A\u001b[A\u001b[A"
     ]
    },
    {
     "name": "stdout",
     "output_type": "stream",
     "text": [
      "soundinvestmentav.com.json\n"
     ]
    },
    {
     "name": "stderr",
     "output_type": "stream",
     "text": [
      "\n",
      "\n",
      "\n",
      "  3%|█▍                                           | 419/13077 [1:00:12<41:50:34, 11.90s/it]\u001b[A\u001b[A\u001b[A"
     ]
    },
    {
     "name": "stdout",
     "output_type": "stream",
     "text": [
      "norlandintl.com.json\n"
     ]
    },
    {
     "name": "stderr",
     "output_type": "stream",
     "text": [
      "\n",
      "\n",
      "\n",
      "  3%|█▍                                           | 420/13077 [1:00:13<30:15:45,  8.61s/it]\u001b[A\u001b[A\u001b[A"
     ]
    },
    {
     "name": "stdout",
     "output_type": "stream",
     "text": [
      "whitesharkmedia.com.json\n"
     ]
    },
    {
     "name": "stderr",
     "output_type": "stream",
     "text": [
      "\n",
      "\n",
      "\n",
      "  3%|█▍                                           | 421/13077 [1:00:28<36:39:31, 10.43s/it]\u001b[A\u001b[A\u001b[A"
     ]
    },
    {
     "name": "stdout",
     "output_type": "stream",
     "text": [
      "phonexa.com.json\n"
     ]
    },
    {
     "name": "stderr",
     "output_type": "stream",
     "text": [
      "\n",
      "\n",
      "\n",
      "  3%|█▍                                           | 422/13077 [1:00:40<38:09:27, 10.85s/it]\u001b[A\u001b[A\u001b[A"
     ]
    },
    {
     "name": "stdout",
     "output_type": "stream",
     "text": [
      "pmiaus.com.json\n"
     ]
    },
    {
     "name": "stderr",
     "output_type": "stream",
     "text": [
      "\n",
      "\n",
      "\n",
      "  3%|█▍                                           | 423/13077 [1:00:47<34:02:22,  9.68s/it]\u001b[A\u001b[A\u001b[A"
     ]
    },
    {
     "name": "stdout",
     "output_type": "stream",
     "text": [
      "erinhills.com.json\n"
     ]
    },
    {
     "name": "stderr",
     "output_type": "stream",
     "text": [
      "\n",
      "\n",
      "\n",
      "  3%|█▍                                           | 424/13077 [1:00:50<27:47:56,  7.91s/it]\u001b[A\u001b[A\u001b[A"
     ]
    },
    {
     "name": "stdout",
     "output_type": "stream",
     "text": [
      "thedaviscompanies.com.json\n"
     ]
    },
    {
     "name": "stderr",
     "output_type": "stream",
     "text": [
      "\n",
      "\n",
      "\n",
      "  3%|█▍                                           | 425/13077 [1:00:51<20:00:32,  5.69s/it]\u001b[A\u001b[A\u001b[A"
     ]
    },
    {
     "name": "stdout",
     "output_type": "stream",
     "text": [
      "iconnect-corp.com.json\n"
     ]
    },
    {
     "name": "stderr",
     "output_type": "stream",
     "text": [
      "\n",
      "\n",
      "\n",
      "  3%|█▍                                           | 426/13077 [1:01:00<23:28:40,  6.68s/it]\u001b[A\u001b[A\u001b[A\n",
      "\n",
      "\n",
      "  3%|█▍                                           | 427/13077 [1:01:00<16:36:28,  4.73s/it]\u001b[A\u001b[A\u001b[A"
     ]
    },
    {
     "name": "stdout",
     "output_type": "stream",
     "text": [
      "teledyne.com.json\n",
      "netenrich.com.json\n"
     ]
    },
    {
     "name": "stderr",
     "output_type": "stream",
     "text": [
      "\n",
      "\n",
      "\n",
      "  3%|█▍                                           | 428/13077 [1:01:17<29:36:25,  8.43s/it]\u001b[A\u001b[A\u001b[A"
     ]
    },
    {
     "name": "stdout",
     "output_type": "stream",
     "text": [
      "puppet.com.json\n"
     ]
    },
    {
     "name": "stderr",
     "output_type": "stream",
     "text": [
      "\n",
      "\n",
      "\n",
      "  3%|█▍                                           | 429/13077 [1:01:40<45:07:08, 12.84s/it]\u001b[A\u001b[A\u001b[A"
     ]
    },
    {
     "name": "stdout",
     "output_type": "stream",
     "text": [
      "flinnsci.com.json\n"
     ]
    },
    {
     "name": "stderr",
     "output_type": "stream",
     "text": [
      "\n",
      "\n",
      "\n",
      "  3%|█▍                                           | 430/13077 [1:01:51<42:28:52, 12.09s/it]\u001b[A\u001b[A\u001b[A"
     ]
    },
    {
     "name": "stdout",
     "output_type": "stream",
     "text": [
      "twocircles.com.json\n"
     ]
    },
    {
     "name": "stderr",
     "output_type": "stream",
     "text": [
      "\n",
      "\n",
      "\n",
      "  3%|█▍                                           | 431/13077 [1:01:54<33:43:27,  9.60s/it]\u001b[A\u001b[A\u001b[A"
     ]
    },
    {
     "name": "stdout",
     "output_type": "stream",
     "text": [
      "hibu.com.json\n"
     ]
    },
    {
     "name": "stderr",
     "output_type": "stream",
     "text": [
      "\n",
      "\n",
      "\n",
      "  3%|█▍                                           | 432/13077 [1:02:02<31:49:31,  9.06s/it]\u001b[A\u001b[A\u001b[A"
     ]
    },
    {
     "name": "stdout",
     "output_type": "stream",
     "text": [
      "hrworks-inc.com.json\n"
     ]
    },
    {
     "name": "stderr",
     "output_type": "stream",
     "text": [
      "\n",
      "\n",
      "\n",
      "  3%|█▍                                           | 433/13077 [1:02:11<31:36:07,  9.00s/it]\u001b[A\u001b[A\u001b[A"
     ]
    },
    {
     "name": "stdout",
     "output_type": "stream",
     "text": [
      "protalix.com.json\n"
     ]
    },
    {
     "name": "stderr",
     "output_type": "stream",
     "text": [
      "\n",
      "\n",
      "\n",
      "  3%|█▍                                           | 434/13077 [1:02:22<33:28:54,  9.53s/it]\u001b[A\u001b[A\u001b[A"
     ]
    },
    {
     "name": "stdout",
     "output_type": "stream",
     "text": [
      "fisherbarton.com.json\n",
      "ironpigsbaseball.com.json\n"
     ]
    },
    {
     "name": "stderr",
     "output_type": "stream",
     "text": [
      "\n",
      "\n",
      "\n",
      "  3%|█▌                                           | 436/13077 [1:02:24<19:39:15,  5.60s/it]\u001b[A\u001b[A\u001b[A"
     ]
    },
    {
     "name": "stdout",
     "output_type": "stream",
     "text": [
      "apptio.com.json\n"
     ]
    },
    {
     "name": "stderr",
     "output_type": "stream",
     "text": [
      "\n",
      "\n",
      "\n",
      "  3%|█▌                                           | 437/13077 [1:02:36<25:10:31,  7.17s/it]\u001b[A\u001b[A\u001b[A"
     ]
    },
    {
     "name": "stdout",
     "output_type": "stream",
     "text": [
      "execinc.com.json\n"
     ]
    },
    {
     "name": "stderr",
     "output_type": "stream",
     "text": [
      "\n",
      "\n",
      "\n",
      "  3%|█▌                                           | 438/13077 [1:02:44<26:03:12,  7.42s/it]\u001b[A\u001b[A\u001b[A"
     ]
    },
    {
     "name": "stdout",
     "output_type": "stream",
     "text": [
      "therta.com.json\n"
     ]
    },
    {
     "name": "stderr",
     "output_type": "stream",
     "text": [
      "\n",
      "\n",
      "\n",
      "  3%|█▌                                           | 439/13077 [1:02:44<19:22:23,  5.52s/it]\u001b[A\u001b[A\u001b[A"
     ]
    },
    {
     "name": "stdout",
     "output_type": "stream",
     "text": [
      "plummer.com.json\n"
     ]
    },
    {
     "name": "stderr",
     "output_type": "stream",
     "text": [
      "\n",
      "\n",
      "\n",
      "  3%|█▌                                           | 440/13077 [1:02:47<16:21:43,  4.66s/it]\u001b[A\u001b[A\u001b[A"
     ]
    },
    {
     "name": "stdout",
     "output_type": "stream",
     "text": [
      "neoshomemorial.com.json\n"
     ]
    },
    {
     "name": "stderr",
     "output_type": "stream",
     "text": [
      "\n",
      "\n",
      "\n",
      "  3%|█▌                                           | 441/13077 [1:03:00<24:49:02,  7.07s/it]\u001b[A\u001b[A\u001b[A"
     ]
    },
    {
     "name": "stdout",
     "output_type": "stream",
     "text": [
      "gwccnet.com.json\n"
     ]
    },
    {
     "name": "stderr",
     "output_type": "stream",
     "text": [
      "\n",
      "\n",
      "\n",
      "  3%|█▌                                           | 442/13077 [1:03:07<25:10:42,  7.17s/it]\u001b[A\u001b[A\u001b[A"
     ]
    },
    {
     "name": "stdout",
     "output_type": "stream",
     "text": [
      "97thfloor.com.json\n"
     ]
    },
    {
     "name": "stderr",
     "output_type": "stream",
     "text": [
      "\n",
      "\n",
      "\n",
      "  3%|█▌                                           | 443/13077 [1:03:16<26:29:02,  7.55s/it]\u001b[A\u001b[A\u001b[A"
     ]
    },
    {
     "name": "stdout",
     "output_type": "stream",
     "text": [
      "svclnk.com.json\n"
     ]
    },
    {
     "name": "stderr",
     "output_type": "stream",
     "text": [
      "\n",
      "\n",
      "\n",
      "  3%|█▌                                           | 444/13077 [1:03:21<24:32:03,  6.99s/it]\u001b[A\u001b[A\u001b[A"
     ]
    },
    {
     "name": "stdout",
     "output_type": "stream",
     "text": [
      "lumel.com.json\n"
     ]
    },
    {
     "name": "stderr",
     "output_type": "stream",
     "text": [
      "\n",
      "\n",
      "\n",
      "  3%|█▌                                           | 445/13077 [1:03:46<43:20:12, 12.35s/it]\u001b[A\u001b[A\u001b[A"
     ]
    },
    {
     "name": "stdout",
     "output_type": "stream",
     "text": [
      "shopstudio41.com.json\n"
     ]
    },
    {
     "name": "stderr",
     "output_type": "stream",
     "text": [
      "\n",
      "\n",
      "\n",
      "  3%|█▌                                           | 446/13077 [1:03:47<30:49:28,  8.79s/it]\u001b[A\u001b[A\u001b[A"
     ]
    },
    {
     "name": "stdout",
     "output_type": "stream",
     "text": [
      "dextara.com.json\n"
     ]
    },
    {
     "name": "stderr",
     "output_type": "stream",
     "text": [
      "\n",
      "\n",
      "\n",
      "  3%|█▌                                           | 447/13077 [1:04:10<45:50:07, 13.06s/it]\u001b[A\u001b[A\u001b[A"
     ]
    },
    {
     "name": "stdout",
     "output_type": "stream",
     "text": [
      "brownpalace.com.json\n"
     ]
    },
    {
     "name": "stderr",
     "output_type": "stream",
     "text": [
      "\n",
      "\n",
      "\n",
      "  3%|█▌                                           | 448/13077 [1:04:15<36:56:41, 10.53s/it]\u001b[A\u001b[A\u001b[A"
     ]
    },
    {
     "name": "stdout",
     "output_type": "stream",
     "text": [
      "carrxerox.com.json\n"
     ]
    },
    {
     "name": "stderr",
     "output_type": "stream",
     "text": [
      "\n",
      "\n",
      "\n",
      "  3%|█▌                                           | 449/13077 [1:04:21<33:02:49,  9.42s/it]\u001b[A\u001b[A\u001b[A"
     ]
    },
    {
     "name": "stdout",
     "output_type": "stream",
     "text": [
      "cuisinart.com.json\n"
     ]
    },
    {
     "name": "stderr",
     "output_type": "stream",
     "text": [
      "\n",
      "\n",
      "\n",
      "  3%|█▌                                           | 450/13077 [1:04:23<24:24:53,  6.96s/it]\u001b[A\u001b[A\u001b[A"
     ]
    },
    {
     "name": "stdout",
     "output_type": "stream",
     "text": [
      "moss.com.json\n"
     ]
    },
    {
     "name": "stderr",
     "output_type": "stream",
     "text": [
      "\n",
      "\n",
      "\n",
      "  3%|█▌                                           | 451/13077 [1:04:24<18:40:47,  5.33s/it]\u001b[A\u001b[A\u001b[A"
     ]
    },
    {
     "name": "stdout",
     "output_type": "stream",
     "text": [
      "raycomsports.com.json\n"
     ]
    },
    {
     "name": "stderr",
     "output_type": "stream",
     "text": [
      "\n",
      "\n",
      "\n",
      "  3%|█▌                                           | 452/13077 [1:04:28<17:34:55,  5.01s/it]\u001b[A\u001b[A\u001b[A"
     ]
    },
    {
     "name": "stdout",
     "output_type": "stream",
     "text": [
      "boathouseinc.com.json\n"
     ]
    },
    {
     "name": "stderr",
     "output_type": "stream",
     "text": [
      "\n",
      "\n",
      "\n",
      "  3%|█▌                                           | 453/13077 [1:04:32<15:52:57,  4.53s/it]\u001b[A\u001b[A\u001b[A"
     ]
    },
    {
     "name": "stdout",
     "output_type": "stream",
     "text": [
      "paduafranciscan.com.json\n"
     ]
    },
    {
     "name": "stderr",
     "output_type": "stream",
     "text": [
      "\n",
      "\n",
      "\n",
      "  3%|█▌                                           | 454/13077 [1:04:32<11:20:14,  3.23s/it]\u001b[A\u001b[A\u001b[A"
     ]
    },
    {
     "name": "stdout",
     "output_type": "stream",
     "text": [
      "v3electric.com.json\n"
     ]
    },
    {
     "name": "stderr",
     "output_type": "stream",
     "text": [
      "\n",
      "\n",
      "\n",
      "  3%|█▌                                           | 455/13077 [1:04:38<14:46:47,  4.22s/it]\u001b[A\u001b[A\u001b[A"
     ]
    },
    {
     "name": "stdout",
     "output_type": "stream",
     "text": [
      "dbisoftware.com.json\n"
     ]
    },
    {
     "name": "stderr",
     "output_type": "stream",
     "text": [
      "\n",
      "\n",
      "\n",
      "  3%|█▌                                           | 456/13077 [1:04:41<12:31:00,  3.57s/it]\u001b[A\u001b[A\u001b[A"
     ]
    },
    {
     "name": "stdout",
     "output_type": "stream",
     "text": [
      "latn.com.json\n"
     ]
    },
    {
     "name": "stderr",
     "output_type": "stream",
     "text": [
      "\n",
      "\n",
      "\n",
      "  3%|█▌                                           | 457/13077 [1:04:47<15:54:07,  4.54s/it]\u001b[A\u001b[A\u001b[A"
     ]
    },
    {
     "name": "stdout",
     "output_type": "stream",
     "text": [
      "evokewellness.com.json\n"
     ]
    },
    {
     "name": "stderr",
     "output_type": "stream",
     "text": [
      "\n",
      "\n",
      "\n",
      "  4%|█▌                                           | 458/13077 [1:04:48<12:21:23,  3.53s/it]\u001b[A\u001b[A\u001b[A"
     ]
    },
    {
     "name": "stdout",
     "output_type": "stream",
     "text": [
      "samititechnology.com.json\n"
     ]
    },
    {
     "name": "stderr",
     "output_type": "stream",
     "text": [
      "\n",
      "\n",
      "\n",
      "  4%|█▌                                           | 459/13077 [1:04:52<12:04:54,  3.45s/it]\u001b[A\u001b[A\u001b[A"
     ]
    },
    {
     "name": "stdout",
     "output_type": "stream",
     "text": [
      "transcendinfra.com.json\n"
     ]
    },
    {
     "name": "stderr",
     "output_type": "stream",
     "text": [
      "\n",
      "\n",
      "\n",
      "  4%|█▌                                           | 460/13077 [1:04:58<14:36:38,  4.17s/it]\u001b[A\u001b[A\u001b[A"
     ]
    },
    {
     "name": "stdout",
     "output_type": "stream",
     "text": [
      "vyond.com.json\n"
     ]
    },
    {
     "name": "stderr",
     "output_type": "stream",
     "text": [
      "\n",
      "\n",
      "\n",
      "  4%|█▌                                           | 461/13077 [1:05:08<21:33:58,  6.15s/it]\u001b[A\u001b[A\u001b[A"
     ]
    },
    {
     "name": "stdout",
     "output_type": "stream",
     "text": [
      "orexo.com.json\n"
     ]
    },
    {
     "name": "stderr",
     "output_type": "stream",
     "text": [
      "\n",
      "\n",
      "\n",
      "  4%|█▌                                           | 462/13077 [1:05:14<20:33:33,  5.87s/it]\u001b[A\u001b[A\u001b[A"
     ]
    },
    {
     "name": "stdout",
     "output_type": "stream",
     "text": [
      "pchc.com.json\n"
     ]
    },
    {
     "name": "stderr",
     "output_type": "stream",
     "text": [
      "\n",
      "\n",
      "\n",
      "  4%|█▌                                           | 463/13077 [1:05:16<17:17:35,  4.94s/it]\u001b[A\u001b[A\u001b[A"
     ]
    },
    {
     "name": "stdout",
     "output_type": "stream",
     "text": [
      "doyongovgrp.com.json\n"
     ]
    },
    {
     "name": "stderr",
     "output_type": "stream",
     "text": [
      "\n",
      "\n",
      "\n",
      "  4%|█▌                                           | 464/13077 [1:05:22<18:00:31,  5.14s/it]\u001b[A\u001b[A\u001b[A"
     ]
    },
    {
     "name": "stdout",
     "output_type": "stream",
     "text": [
      "doingbetterbusiness.com.json\n"
     ]
    },
    {
     "name": "stderr",
     "output_type": "stream",
     "text": [
      "\n",
      "\n",
      "\n",
      "  4%|█▌                                           | 465/13077 [1:05:23<13:20:26,  3.81s/it]\u001b[A\u001b[A\u001b[A"
     ]
    },
    {
     "name": "stdout",
     "output_type": "stream",
     "text": [
      "splicens.com.json\n"
     ]
    },
    {
     "name": "stderr",
     "output_type": "stream",
     "text": [
      "\n",
      "\n",
      "\n",
      "  4%|█▋                                            | 466/13077 [1:05:23<9:54:42,  2.83s/it]\u001b[A\u001b[A\u001b[A"
     ]
    },
    {
     "name": "stdout",
     "output_type": "stream",
     "text": [
      "iyc.com.json\n"
     ]
    },
    {
     "name": "stderr",
     "output_type": "stream",
     "text": [
      "\n",
      "\n",
      "\n",
      "  4%|█▋                                            | 467/13077 [1:05:24<7:32:00,  2.15s/it]\u001b[A\u001b[A\u001b[A"
     ]
    },
    {
     "name": "stdout",
     "output_type": "stream",
     "text": [
      "togetherwork.com.json\n"
     ]
    },
    {
     "name": "stderr",
     "output_type": "stream",
     "text": [
      "\n",
      "\n",
      "\n",
      "  4%|█▌                                           | 468/13077 [1:06:53<99:31:31, 28.42s/it]\u001b[A\u001b[A\u001b[A"
     ]
    },
    {
     "name": "stdout",
     "output_type": "stream",
     "text": [
      "foodqualityandsafety.com.json\n"
     ]
    },
    {
     "name": "stderr",
     "output_type": "stream",
     "text": [
      "\n",
      "\n",
      "\n",
      "  4%|█▌                                           | 469/13077 [1:06:58<74:24:47, 21.25s/it]\u001b[A\u001b[A\u001b[A"
     ]
    },
    {
     "name": "stdout",
     "output_type": "stream",
     "text": [
      "ghtltd.com.json\n"
     ]
    },
    {
     "name": "stderr",
     "output_type": "stream",
     "text": [
      "\n",
      "\n",
      "\n",
      "  4%|█▌                                           | 470/13077 [1:07:05<59:49:34, 17.08s/it]\u001b[A\u001b[A\u001b[A"
     ]
    },
    {
     "name": "stdout",
     "output_type": "stream",
     "text": [
      "peakusg.com.json\n"
     ]
    },
    {
     "name": "stderr",
     "output_type": "stream",
     "text": [
      "\n",
      "\n",
      "\n",
      "  4%|█▌                                           | 471/13077 [1:07:09<45:48:31, 13.08s/it]\u001b[A\u001b[A\u001b[A"
     ]
    },
    {
     "name": "stdout",
     "output_type": "stream",
     "text": [
      "larsontexts.com.json\n"
     ]
    },
    {
     "name": "stderr",
     "output_type": "stream",
     "text": [
      "\n",
      "\n",
      "\n",
      "  4%|█▌                                           | 472/13077 [1:07:12<35:13:25, 10.06s/it]\u001b[A\u001b[A\u001b[A"
     ]
    },
    {
     "name": "stdout",
     "output_type": "stream",
     "text": [
      "snocasino.com.json\n"
     ]
    },
    {
     "name": "stderr",
     "output_type": "stream",
     "text": [
      "\n",
      "\n",
      "\n",
      "  4%|█▋                                           | 473/13077 [1:07:22<34:54:10,  9.97s/it]\u001b[A\u001b[A\u001b[A"
     ]
    },
    {
     "name": "stdout",
     "output_type": "stream",
     "text": [
      "valdezicorp.com.json\n"
     ]
    },
    {
     "name": "stderr",
     "output_type": "stream",
     "text": [
      "\n",
      "\n",
      "\n",
      "  4%|█▋                                           | 474/13077 [1:07:27<29:21:00,  8.38s/it]\u001b[A\u001b[A\u001b[A"
     ]
    },
    {
     "name": "stdout",
     "output_type": "stream",
     "text": [
      "quenchwater.com.json\n"
     ]
    },
    {
     "name": "stderr",
     "output_type": "stream",
     "text": [
      "\n",
      "\n",
      "\n",
      "  4%|█▋                                           | 475/13077 [1:07:34<28:34:09,  8.16s/it]\u001b[A\u001b[A\u001b[A"
     ]
    },
    {
     "name": "stdout",
     "output_type": "stream",
     "text": [
      "rite-solutions.com.json\n"
     ]
    },
    {
     "name": "stderr",
     "output_type": "stream",
     "text": [
      "\n",
      "\n",
      "\n",
      "  4%|█▋                                           | 476/13077 [1:08:02<49:12:20, 14.06s/it]\u001b[A\u001b[A\u001b[A"
     ]
    },
    {
     "name": "stdout",
     "output_type": "stream",
     "text": [
      "backstopsolutions.com.json\n"
     ]
    },
    {
     "name": "stderr",
     "output_type": "stream",
     "text": [
      "\n",
      "\n",
      "\n",
      "  4%|█▋                                           | 477/13077 [1:08:10<43:13:32, 12.35s/it]\u001b[A\u001b[A\u001b[A"
     ]
    },
    {
     "name": "stdout",
     "output_type": "stream",
     "text": [
      "intex.com.json\n"
     ]
    },
    {
     "name": "stderr",
     "output_type": "stream",
     "text": [
      "\n",
      "\n",
      "\n",
      "  4%|█▋                                           | 478/13077 [1:08:13<32:44:25,  9.36s/it]\u001b[A\u001b[A\u001b[A"
     ]
    },
    {
     "name": "stdout",
     "output_type": "stream",
     "text": [
      "siteglobal.com.json\n"
     ]
    },
    {
     "name": "stderr",
     "output_type": "stream",
     "text": [
      "\n",
      "\n",
      "\n",
      "  4%|█▋                                           | 479/13077 [1:08:13<23:32:52,  6.73s/it]\u001b[A\u001b[A\u001b[A"
     ]
    },
    {
     "name": "stdout",
     "output_type": "stream",
     "text": [
      "broadvoice.com.json\n"
     ]
    },
    {
     "name": "stderr",
     "output_type": "stream",
     "text": [
      "\n",
      "\n",
      "\n",
      "  4%|█▋                                           | 480/13077 [1:08:32<36:35:17, 10.46s/it]\u001b[A\u001b[A\u001b[A"
     ]
    },
    {
     "name": "stdout",
     "output_type": "stream",
     "text": [
      "obeyclothing.com.json\n"
     ]
    },
    {
     "name": "stderr",
     "output_type": "stream",
     "text": [
      "\n",
      "\n",
      "\n",
      "  4%|█▋                                           | 481/13077 [1:08:34<27:34:36,  7.88s/it]\u001b[A\u001b[A\u001b[A"
     ]
    },
    {
     "name": "stdout",
     "output_type": "stream",
     "text": [
      "sharetec.com.json\n"
     ]
    },
    {
     "name": "stderr",
     "output_type": "stream",
     "text": [
      "\n",
      "\n",
      "\n",
      "  4%|█▋                                           | 482/13077 [1:08:41<26:33:08,  7.59s/it]\u001b[A\u001b[A\u001b[A\n",
      "\n",
      "\n",
      "  4%|█▋                                           | 483/13077 [1:08:41<18:47:41,  5.37s/it]\u001b[A\u001b[A\u001b[A"
     ]
    },
    {
     "name": "stdout",
     "output_type": "stream",
     "text": [
      "safepointins.com.json\n",
      "megcox.com.json\n"
     ]
    },
    {
     "name": "stderr",
     "output_type": "stream",
     "text": [
      "\n",
      "\n",
      "\n",
      "  4%|█▋                                           | 484/13077 [1:08:46<18:05:21,  5.17s/it]\u001b[A\u001b[A\u001b[A"
     ]
    },
    {
     "name": "stdout",
     "output_type": "stream",
     "text": [
      "cbisecurity.com.json\n"
     ]
    },
    {
     "name": "stderr",
     "output_type": "stream",
     "text": [
      "\n",
      "\n",
      "\n",
      "  4%|█▋                                           | 485/13077 [1:09:12<39:25:47, 11.27s/it]\u001b[A\u001b[A\u001b[A"
     ]
    },
    {
     "name": "stdout",
     "output_type": "stream",
     "text": [
      "computronix.com.json\n"
     ]
    },
    {
     "name": "stderr",
     "output_type": "stream",
     "text": [
      "\n",
      "\n",
      "\n",
      "  4%|█▋                                           | 486/13077 [1:09:37<54:11:06, 15.49s/it]\u001b[A\u001b[A\u001b[A"
     ]
    },
    {
     "name": "stdout",
     "output_type": "stream",
     "text": [
      "lancerinsurance.com.json\n"
     ]
    },
    {
     "name": "stderr",
     "output_type": "stream",
     "text": [
      "\n",
      "\n",
      "\n",
      "  4%|█▋                                           | 487/13077 [1:09:43<44:24:03, 12.70s/it]\u001b[A\u001b[A\u001b[A"
     ]
    },
    {
     "name": "stdout",
     "output_type": "stream",
     "text": [
      "communitymtg.com.json\n"
     ]
    },
    {
     "name": "stderr",
     "output_type": "stream",
     "text": [
      "\n",
      "\n",
      "\n",
      "  4%|█▋                                           | 488/13077 [1:09:44<31:34:47,  9.03s/it]\u001b[A\u001b[A\u001b[A"
     ]
    },
    {
     "name": "stdout",
     "output_type": "stream",
     "text": [
      "edetek.com.json\n"
     ]
    },
    {
     "name": "stderr",
     "output_type": "stream",
     "text": [
      "\n",
      "\n",
      "\n",
      "  4%|█▋                                           | 489/13077 [1:09:46<24:29:47,  7.01s/it]\u001b[A\u001b[A\u001b[A"
     ]
    },
    {
     "name": "stdout",
     "output_type": "stream",
     "text": [
      "energo.com.json\n"
     ]
    },
    {
     "name": "stderr",
     "output_type": "stream",
     "text": [
      "\n",
      "\n",
      "\n",
      "  4%|█▋                                           | 490/13077 [1:09:57<28:38:11,  8.19s/it]\u001b[A\u001b[A\u001b[A"
     ]
    },
    {
     "name": "stdout",
     "output_type": "stream",
     "text": [
      "dickswingsandgrill.com.json\n"
     ]
    },
    {
     "name": "stderr",
     "output_type": "stream",
     "text": [
      "\n",
      "\n",
      "\n",
      "  4%|█▋                                           | 491/13077 [1:10:01<23:54:39,  6.84s/it]\u001b[A\u001b[A\u001b[A\n",
      "\n",
      "\n",
      "  4%|█▋                                           | 492/13077 [1:10:01<16:54:15,  4.84s/it]\u001b[A\u001b[A\u001b[A"
     ]
    },
    {
     "name": "stdout",
     "output_type": "stream",
     "text": [
      "berkshiremedicalmanagement.com.json\n",
      "interfaithmedical.com.json\n",
      "energysage.com.json\n"
     ]
    },
    {
     "name": "stderr",
     "output_type": "stream",
     "text": [
      "\n",
      "\n",
      "\n",
      "  4%|█▋                                           | 494/13077 [1:10:11<17:12:38,  4.92s/it]\u001b[A\u001b[A\u001b[A"
     ]
    },
    {
     "name": "stdout",
     "output_type": "stream",
     "text": [
      "simnsa.com.json\n"
     ]
    },
    {
     "name": "stderr",
     "output_type": "stream",
     "text": [
      "\n",
      "\n",
      "\n",
      "  4%|█▋                                           | 495/13077 [1:10:19<20:15:09,  5.79s/it]\u001b[A\u001b[A\u001b[A"
     ]
    },
    {
     "name": "stdout",
     "output_type": "stream",
     "text": [
      "nwpump.com.json\n"
     ]
    },
    {
     "name": "stderr",
     "output_type": "stream",
     "text": [
      "\n",
      "\n",
      "\n",
      "  4%|█▋                                           | 496/13077 [1:10:22<17:33:24,  5.02s/it]\u001b[A\u001b[A\u001b[A"
     ]
    },
    {
     "name": "stdout",
     "output_type": "stream",
     "text": [
      "mmsgroup.com.json\n"
     ]
    },
    {
     "name": "stderr",
     "output_type": "stream",
     "text": [
      "\n",
      "\n",
      "\n",
      "  4%|█▋                                           | 497/13077 [1:10:35<25:30:29,  7.30s/it]\u001b[A\u001b[A\u001b[A"
     ]
    },
    {
     "name": "stdout",
     "output_type": "stream",
     "text": [
      "alphaengineering.com.json\n"
     ]
    },
    {
     "name": "stderr",
     "output_type": "stream",
     "text": [
      "\n",
      "\n",
      "\n",
      "  4%|█▋                                           | 498/13077 [1:10:38<20:49:20,  5.96s/it]\u001b[A\u001b[A\u001b[A"
     ]
    },
    {
     "name": "stdout",
     "output_type": "stream",
     "text": [
      "akqa.com.json\n"
     ]
    },
    {
     "name": "stderr",
     "output_type": "stream",
     "text": [
      "\n",
      "\n",
      "\n",
      "  4%|█▋                                           | 499/13077 [1:10:49<25:40:25,  7.35s/it]\u001b[A\u001b[A\u001b[A"
     ]
    },
    {
     "name": "stdout",
     "output_type": "stream",
     "text": [
      "userainbow.com.json\n"
     ]
    },
    {
     "name": "stderr",
     "output_type": "stream",
     "text": [
      "\n",
      "\n",
      "\n",
      "  4%|█▋                                           | 500/13077 [1:10:51<20:29:53,  5.87s/it]\u001b[A\u001b[A\u001b[A"
     ]
    },
    {
     "name": "stdout",
     "output_type": "stream",
     "text": [
      "toughmudder.com.json\n"
     ]
    },
    {
     "name": "stderr",
     "output_type": "stream",
     "text": [
      "\n",
      "\n",
      "\n",
      "  4%|█▋                                           | 501/13077 [1:10:59<22:45:13,  6.51s/it]\u001b[A\u001b[A\u001b[A"
     ]
    },
    {
     "name": "stdout",
     "output_type": "stream",
     "text": [
      "paychex.com.json\n"
     ]
    },
    {
     "name": "stderr",
     "output_type": "stream",
     "text": [
      "\n",
      "\n",
      "\n",
      "  4%|█▋                                           | 502/13077 [1:11:08<25:31:34,  7.31s/it]\u001b[A\u001b[A\u001b[A"
     ]
    },
    {
     "name": "stdout",
     "output_type": "stream",
     "text": [
      "cbridgeinc.com.json\n"
     ]
    },
    {
     "name": "stderr",
     "output_type": "stream",
     "text": [
      "\n",
      "\n",
      "\n",
      "  4%|█▋                                           | 503/13077 [1:11:12<22:06:11,  6.33s/it]\u001b[A\u001b[A\u001b[A"
     ]
    },
    {
     "name": "stdout",
     "output_type": "stream",
     "text": [
      "c-rock.com.json\n"
     ]
    },
    {
     "name": "stderr",
     "output_type": "stream",
     "text": [
      "\n",
      "\n",
      "\n",
      "  4%|█▋                                           | 504/13077 [1:11:13<15:45:30,  4.51s/it]\u001b[A\u001b[A\u001b[A"
     ]
    },
    {
     "name": "stdout",
     "output_type": "stream",
     "text": [
      "cassiday.com.json\n"
     ]
    },
    {
     "name": "stderr",
     "output_type": "stream",
     "text": [
      "\n",
      "\n",
      "\n",
      "  4%|█▋                                           | 505/13077 [1:11:13<11:38:34,  3.33s/it]\u001b[A\u001b[A\u001b[A"
     ]
    },
    {
     "name": "stdout",
     "output_type": "stream",
     "text": [
      "tonic3.com.json\n"
     ]
    },
    {
     "name": "stderr",
     "output_type": "stream",
     "text": [
      "\n",
      "\n",
      "\n",
      "  4%|█▋                                           | 506/13077 [1:11:16<10:57:19,  3.14s/it]\u001b[A\u001b[A\u001b[A"
     ]
    },
    {
     "name": "stdout",
     "output_type": "stream",
     "text": [
      "myjavita.com.json\n",
      "northstarmutual.com.json\n"
     ]
    },
    {
     "name": "stderr",
     "output_type": "stream",
     "text": [
      "\n",
      "\n",
      "\n",
      "  4%|█▊                                            | 508/13077 [1:11:21<9:52:00,  2.83s/it]\u001b[A\u001b[A\u001b[A"
     ]
    },
    {
     "name": "stdout",
     "output_type": "stream",
     "text": [
      "bnpmedia.com.json\n"
     ]
    },
    {
     "name": "stderr",
     "output_type": "stream",
     "text": [
      "\n",
      "\n",
      "\n",
      "  4%|█▊                                           | 509/13077 [1:11:46<29:13:05,  8.37s/it]\u001b[A\u001b[A\u001b[A"
     ]
    },
    {
     "name": "stdout",
     "output_type": "stream",
     "text": [
      "presstek.com.json\n"
     ]
    },
    {
     "name": "stderr",
     "output_type": "stream",
     "text": [
      "\n",
      "\n",
      "\n",
      "  4%|█▊                                           | 510/13077 [1:11:47<22:29:26,  6.44s/it]\u001b[A\u001b[A\u001b[A"
     ]
    },
    {
     "name": "stdout",
     "output_type": "stream",
     "text": [
      "riggshealth.com.json\n"
     ]
    },
    {
     "name": "stderr",
     "output_type": "stream",
     "text": [
      "\n",
      "\n",
      "\n",
      "  4%|█▊                                           | 511/13077 [1:12:00<28:21:07,  8.12s/it]\u001b[A\u001b[A\u001b[A"
     ]
    },
    {
     "name": "stdout",
     "output_type": "stream",
     "text": [
      "bakercommodities.com.json\n"
     ]
    },
    {
     "name": "stderr",
     "output_type": "stream",
     "text": [
      "\n",
      "\n",
      "\n",
      "  4%|█▊                                           | 512/13077 [1:12:05<25:53:40,  7.42s/it]\u001b[A\u001b[A\u001b[A"
     ]
    },
    {
     "name": "stdout",
     "output_type": "stream",
     "text": [
      "starrregional.com.json\n"
     ]
    },
    {
     "name": "stderr",
     "output_type": "stream",
     "text": [
      "\n",
      "\n",
      "\n",
      "  4%|█▊                                           | 513/13077 [1:12:13<26:46:17,  7.67s/it]\u001b[A\u001b[A\u001b[A"
     ]
    },
    {
     "name": "stdout",
     "output_type": "stream",
     "text": [
      "premiersurgical.com.json\n"
     ]
    },
    {
     "name": "stderr",
     "output_type": "stream",
     "text": [
      "\n",
      "\n",
      "\n",
      "  4%|█▊                                           | 514/13077 [1:12:19<24:22:45,  6.99s/it]\u001b[A\u001b[A\u001b[A"
     ]
    },
    {
     "name": "stdout",
     "output_type": "stream",
     "text": [
      "performanceacademies.com.json\n"
     ]
    },
    {
     "name": "stderr",
     "output_type": "stream",
     "text": [
      "\n",
      "\n",
      "\n",
      "  4%|█▊                                           | 515/13077 [1:12:21<19:21:20,  5.55s/it]\u001b[A\u001b[A\u001b[A"
     ]
    },
    {
     "name": "stdout",
     "output_type": "stream",
     "text": [
      "escapology.com.json\n"
     ]
    },
    {
     "name": "stderr",
     "output_type": "stream",
     "text": [
      "\n",
      "\n",
      "\n",
      "  4%|█▊                                           | 516/13077 [1:12:25<18:16:11,  5.24s/it]\u001b[A\u001b[A\u001b[A"
     ]
    },
    {
     "name": "stdout",
     "output_type": "stream",
     "text": [
      "billingplatform.com.json\n"
     ]
    },
    {
     "name": "stderr",
     "output_type": "stream",
     "text": [
      "\n",
      "\n",
      "\n",
      "  4%|█▊                                           | 517/13077 [1:12:31<18:54:16,  5.42s/it]\u001b[A\u001b[A\u001b[A"
     ]
    },
    {
     "name": "stdout",
     "output_type": "stream",
     "text": [
      "12thtribe.com.json\n"
     ]
    },
    {
     "name": "stderr",
     "output_type": "stream",
     "text": [
      "\n",
      "\n",
      "\n",
      "  4%|█▊                                           | 518/13077 [1:12:32<14:06:25,  4.04s/it]\u001b[A\u001b[A\u001b[A"
     ]
    },
    {
     "name": "stdout",
     "output_type": "stream",
     "text": [
      "planetdepos.com.json\n"
     ]
    },
    {
     "name": "stderr",
     "output_type": "stream",
     "text": [
      "\n",
      "\n",
      "\n",
      "  4%|█▊                                           | 519/13077 [1:12:41<19:14:41,  5.52s/it]\u001b[A\u001b[A\u001b[A"
     ]
    },
    {
     "name": "stdout",
     "output_type": "stream",
     "text": [
      "quontic.com.json\n"
     ]
    },
    {
     "name": "stderr",
     "output_type": "stream",
     "text": [
      "\n",
      "\n",
      "\n",
      "  4%|█▊                                           | 520/13077 [1:12:47<19:40:13,  5.64s/it]\u001b[A\u001b[A\u001b[A"
     ]
    },
    {
     "name": "stdout",
     "output_type": "stream",
     "text": [
      "skyboxsecurity.com.json\n"
     ]
    },
    {
     "name": "stderr",
     "output_type": "stream",
     "text": [
      "\n",
      "\n",
      "\n",
      "  4%|█▊                                           | 521/13077 [1:12:48<14:26:38,  4.14s/it]\u001b[A\u001b[A\u001b[A"
     ]
    },
    {
     "name": "stdout",
     "output_type": "stream",
     "text": [
      "ottobockcare.com.json\n"
     ]
    },
    {
     "name": "stderr",
     "output_type": "stream",
     "text": [
      "\n",
      "\n",
      "\n",
      "  4%|█▊                                           | 522/13077 [1:13:02<25:07:18,  7.20s/it]\u001b[A\u001b[A\u001b[A"
     ]
    },
    {
     "name": "stdout",
     "output_type": "stream",
     "text": [
      "domdiag.com.json\n"
     ]
    },
    {
     "name": "stderr",
     "output_type": "stream",
     "text": [
      "\n",
      "\n",
      "\n",
      "  4%|█▊                                           | 523/13077 [1:13:25<41:34:32, 11.92s/it]\u001b[A\u001b[A\u001b[A"
     ]
    },
    {
     "name": "stdout",
     "output_type": "stream",
     "text": [
      "symmons.com.json\n"
     ]
    },
    {
     "name": "stderr",
     "output_type": "stream",
     "text": [
      "\n",
      "\n",
      "\n",
      "  4%|█▊                                          | 524/13077 [1:15:02<130:57:43, 37.56s/it]\u001b[A\u001b[A\u001b[A"
     ]
    },
    {
     "name": "stdout",
     "output_type": "stream",
     "text": [
      "hanoverresearch.com.json\n"
     ]
    },
    {
     "name": "stderr",
     "output_type": "stream",
     "text": [
      "\n",
      "\n",
      "\n",
      "  4%|█▊                                           | 525/13077 [1:15:03<92:03:21, 26.40s/it]\u001b[A\u001b[A\u001b[A"
     ]
    },
    {
     "name": "stdout",
     "output_type": "stream",
     "text": [
      "fusionstaffingpartners.com.json\n"
     ]
    },
    {
     "name": "stderr",
     "output_type": "stream",
     "text": [
      "\n",
      "\n",
      "\n",
      "  4%|█▊                                           | 526/13077 [1:15:03<65:09:24, 18.69s/it]\u001b[A\u001b[A\u001b[A"
     ]
    },
    {
     "name": "stdout",
     "output_type": "stream",
     "text": [
      "alpinhaus.com.json\n"
     ]
    },
    {
     "name": "stderr",
     "output_type": "stream",
     "text": [
      "\n",
      "\n",
      "\n",
      "  4%|█▊                                           | 527/13077 [1:15:05<46:52:04, 13.44s/it]\u001b[A\u001b[A\u001b[A"
     ]
    },
    {
     "name": "stdout",
     "output_type": "stream",
     "text": [
      "saukvalleybank.com.json\n"
     ]
    },
    {
     "name": "stderr",
     "output_type": "stream",
     "text": [
      "\n",
      "\n",
      "\n",
      "  4%|█▊                                           | 528/13077 [1:15:05<33:12:54,  9.53s/it]\u001b[A\u001b[A\u001b[A"
     ]
    },
    {
     "name": "stdout",
     "output_type": "stream",
     "text": [
      "myclarkspns.com.json\n",
      "obsidiansg.com.json\n"
     ]
    },
    {
     "name": "stderr",
     "output_type": "stream",
     "text": [
      "\n",
      "\n",
      "\n",
      "  4%|█▊                                           | 530/13077 [1:15:14<25:34:46,  7.34s/it]\u001b[A\u001b[A\u001b[A"
     ]
    },
    {
     "name": "stdout",
     "output_type": "stream",
     "text": [
      "pchase.com.json\n"
     ]
    },
    {
     "name": "stderr",
     "output_type": "stream",
     "text": [
      "\n",
      "\n",
      "\n",
      "  4%|█▊                                           | 531/13077 [1:15:15<19:46:04,  5.67s/it]\u001b[A\u001b[A\u001b[A"
     ]
    },
    {
     "name": "stdout",
     "output_type": "stream",
     "text": [
      "mtolympuspark.com.json\n"
     ]
    },
    {
     "name": "stderr",
     "output_type": "stream",
     "text": [
      "\n",
      "\n",
      "\n",
      "  4%|█▊                                           | 532/13077 [1:15:20<19:07:01,  5.49s/it]\u001b[A\u001b[A\u001b[A"
     ]
    },
    {
     "name": "stdout",
     "output_type": "stream",
     "text": [
      "rutheckerdhall.com.json\n"
     ]
    },
    {
     "name": "stderr",
     "output_type": "stream",
     "text": [
      "\n",
      "\n",
      "\n",
      "  4%|█▊                                           | 533/13077 [1:15:21<14:36:42,  4.19s/it]\u001b[A\u001b[A\u001b[A"
     ]
    },
    {
     "name": "stdout",
     "output_type": "stream",
     "text": [
      "aetnaplywood.com.json\n"
     ]
    },
    {
     "name": "stderr",
     "output_type": "stream",
     "text": [
      "\n",
      "\n",
      "\n",
      "  4%|█▊                                           | 534/13077 [1:15:21<11:07:11,  3.19s/it]\u001b[A\u001b[A\u001b[A"
     ]
    },
    {
     "name": "stdout",
     "output_type": "stream",
     "text": [
      "nauticalventures.com.json\n"
     ]
    },
    {
     "name": "stderr",
     "output_type": "stream",
     "text": [
      "\n",
      "\n",
      "\n",
      "  4%|█▉                                            | 535/13077 [1:15:22<8:24:54,  2.42s/it]\u001b[A\u001b[A\u001b[A"
     ]
    },
    {
     "name": "stdout",
     "output_type": "stream",
     "text": [
      "pcs-tech.com.json\n"
     ]
    },
    {
     "name": "stderr",
     "output_type": "stream",
     "text": [
      "\n",
      "\n",
      "\n",
      "  4%|█▊                                           | 536/13077 [1:15:35<19:36:19,  5.63s/it]\u001b[A\u001b[A\u001b[A"
     ]
    },
    {
     "name": "stdout",
     "output_type": "stream",
     "text": [
      "aligneddc.com.json\n"
     ]
    },
    {
     "name": "stderr",
     "output_type": "stream",
     "text": [
      "\n",
      "\n",
      "\n",
      "  4%|█▊                                           | 537/13077 [1:15:40<19:01:20,  5.46s/it]\u001b[A\u001b[A\u001b[A"
     ]
    },
    {
     "name": "stdout",
     "output_type": "stream",
     "text": [
      "bedsonline.com.json\n"
     ]
    },
    {
     "name": "stderr",
     "output_type": "stream",
     "text": [
      "\n",
      "\n",
      "\n",
      "  4%|█▊                                           | 538/13077 [1:15:41<14:24:24,  4.14s/it]\u001b[A\u001b[A\u001b[A"
     ]
    },
    {
     "name": "stdout",
     "output_type": "stream",
     "text": [
      "websterfirst.com.json\n"
     ]
    },
    {
     "name": "stderr",
     "output_type": "stream",
     "text": [
      "\n",
      "\n",
      "\n",
      "  4%|█▊                                           | 539/13077 [1:15:42<10:58:20,  3.15s/it]\u001b[A\u001b[A\u001b[A"
     ]
    },
    {
     "name": "stdout",
     "output_type": "stream",
     "text": [
      "sensei.com.json\n"
     ]
    },
    {
     "name": "stderr",
     "output_type": "stream",
     "text": [
      "\n",
      "\n",
      "\n",
      "  4%|█▊                                           | 540/13077 [1:15:49<14:50:49,  4.26s/it]\u001b[A\u001b[A\u001b[A"
     ]
    },
    {
     "name": "stdout",
     "output_type": "stream",
     "text": [
      "ecslimited.com.json\n"
     ]
    },
    {
     "name": "stderr",
     "output_type": "stream",
     "text": [
      "\n",
      "\n",
      "\n",
      "  4%|█▊                                           | 541/13077 [1:15:50<11:12:05,  3.22s/it]\u001b[A\u001b[A\u001b[A"
     ]
    },
    {
     "name": "stdout",
     "output_type": "stream",
     "text": [
      "alicat.com.json\n"
     ]
    },
    {
     "name": "stderr",
     "output_type": "stream",
     "text": [
      "\n",
      "\n",
      "\n",
      "  4%|█▊                                           | 542/13077 [1:15:57<15:06:17,  4.34s/it]\u001b[A\u001b[A\u001b[A"
     ]
    },
    {
     "name": "stdout",
     "output_type": "stream",
     "text": [
      "boschmanufacturingsolutions.com.json\n"
     ]
    },
    {
     "name": "stderr",
     "output_type": "stream",
     "text": [
      "\n",
      "\n",
      "\n",
      "  4%|█▊                                           | 543/13077 [1:15:57<10:53:35,  3.13s/it]\u001b[A\u001b[A\u001b[A"
     ]
    },
    {
     "name": "stdout",
     "output_type": "stream",
     "text": [
      "smc3.com.json\n"
     ]
    },
    {
     "name": "stderr",
     "output_type": "stream",
     "text": [
      "\n",
      "\n",
      "\n",
      "  4%|█▊                                           | 544/13077 [1:16:04<14:46:01,  4.24s/it]\u001b[A\u001b[A\u001b[A"
     ]
    },
    {
     "name": "stdout",
     "output_type": "stream",
     "text": [
      "hapusa.com.json\n"
     ]
    },
    {
     "name": "stderr",
     "output_type": "stream",
     "text": [
      "\n",
      "\n",
      "\n",
      "  4%|█▉                                           | 545/13077 [1:16:09<15:39:53,  4.50s/it]\u001b[A\u001b[A\u001b[A"
     ]
    },
    {
     "name": "stdout",
     "output_type": "stream",
     "text": [
      "lgensol-vt.com.json\n"
     ]
    },
    {
     "name": "stderr",
     "output_type": "stream",
     "text": [
      "\n",
      "\n",
      "\n",
      "  4%|█▊                                          | 546/13077 [1:19:06<195:39:57, 56.21s/it]\u001b[A\u001b[A\u001b[A"
     ]
    },
    {
     "name": "stdout",
     "output_type": "stream",
     "text": [
      "agile6.com.json\n"
     ]
    },
    {
     "name": "stderr",
     "output_type": "stream",
     "text": [
      "\n",
      "\n",
      "\n",
      "  4%|█▊                                          | 547/13077 [1:19:11<141:44:37, 40.72s/it]\u001b[A\u001b[A\u001b[A\n",
      "\n",
      "\n",
      "  4%|█▉                                           | 548/13077 [1:19:11<99:26:12, 28.57s/it]\u001b[A\u001b[A\u001b[A"
     ]
    },
    {
     "name": "stdout",
     "output_type": "stream",
     "text": [
      "geocontrol.com.json\n",
      "clarkenersen.com.json\n"
     ]
    },
    {
     "name": "stderr",
     "output_type": "stream",
     "text": [
      "\n",
      "\n",
      "\n",
      "  4%|█▉                                           | 549/13077 [1:19:25<84:30:14, 24.28s/it]\u001b[A\u001b[A\u001b[A"
     ]
    },
    {
     "name": "stdout",
     "output_type": "stream",
     "text": [
      "speedgs.com.json\n"
     ]
    },
    {
     "name": "stderr",
     "output_type": "stream",
     "text": [
      "\n",
      "\n",
      "\n",
      "  4%|█▉                                           | 550/13077 [1:19:27<61:20:05, 17.63s/it]\u001b[A\u001b[A\u001b[A"
     ]
    },
    {
     "name": "stdout",
     "output_type": "stream",
     "text": [
      "suvidahealthcare.com.json\n"
     ]
    },
    {
     "name": "stderr",
     "output_type": "stream",
     "text": [
      "\n",
      "\n",
      "\n",
      "  4%|█▉                                           | 551/13077 [1:19:30<45:28:29, 13.07s/it]\u001b[A\u001b[A\u001b[A"
     ]
    },
    {
     "name": "stdout",
     "output_type": "stream",
     "text": [
      "primarycolor.com.json\n"
     ]
    },
    {
     "name": "stderr",
     "output_type": "stream",
     "text": [
      "\n",
      "\n",
      "\n",
      "  4%|█▉                                           | 552/13077 [1:19:32<34:34:27,  9.94s/it]\u001b[A\u001b[A\u001b[A"
     ]
    },
    {
     "name": "stdout",
     "output_type": "stream",
     "text": [
      "heartmath.com.json\n"
     ]
    },
    {
     "name": "stderr",
     "output_type": "stream",
     "text": [
      "\n",
      "\n",
      "\n",
      "  4%|█▉                                           | 553/13077 [1:19:42<34:48:52, 10.01s/it]\u001b[A\u001b[A\u001b[A"
     ]
    },
    {
     "name": "stdout",
     "output_type": "stream",
     "text": [
      "mparticle.com.json\n"
     ]
    },
    {
     "name": "stderr",
     "output_type": "stream",
     "text": [
      "\n",
      "\n",
      "\n",
      "  4%|█▉                                           | 554/13077 [1:19:49<30:47:22,  8.85s/it]\u001b[A\u001b[A\u001b[A"
     ]
    },
    {
     "name": "stdout",
     "output_type": "stream",
     "text": [
      "applegreenstores.com.json\n"
     ]
    },
    {
     "name": "stderr",
     "output_type": "stream",
     "text": [
      "\n",
      "\n",
      "\n",
      "  4%|█▉                                           | 555/13077 [1:19:56<29:15:59,  8.41s/it]\u001b[A\u001b[A\u001b[A"
     ]
    },
    {
     "name": "stdout",
     "output_type": "stream",
     "text": [
      "myamazonguy.com.json\n"
     ]
    },
    {
     "name": "stderr",
     "output_type": "stream",
     "text": [
      "\n",
      "\n",
      "\n",
      "  4%|█▉                                           | 556/13077 [1:20:08<33:14:54,  9.56s/it]\u001b[A\u001b[A\u001b[A"
     ]
    },
    {
     "name": "stdout",
     "output_type": "stream",
     "text": [
      "idstransportation.com.json\n",
      "safetpros.com.json\n"
     ]
    },
    {
     "name": "stderr",
     "output_type": "stream",
     "text": [
      "\n",
      "\n",
      "\n",
      "  4%|█▉                                           | 558/13077 [1:20:29<34:24:47,  9.90s/it]\u001b[A\u001b[A\u001b[A"
     ]
    },
    {
     "name": "stdout",
     "output_type": "stream",
     "text": [
      "mmimicro.com.json\n"
     ]
    },
    {
     "name": "stderr",
     "output_type": "stream",
     "text": [
      "\n",
      "\n",
      "\n",
      "  4%|█▉                                           | 559/13077 [1:20:47<41:52:32, 12.04s/it]\u001b[A\u001b[A\u001b[A"
     ]
    },
    {
     "name": "stdout",
     "output_type": "stream",
     "text": [
      "tistatech.com.json\n"
     ]
    },
    {
     "name": "stderr",
     "output_type": "stream",
     "text": [
      "\n",
      "\n",
      "\n",
      "  4%|█▉                                           | 560/13077 [1:20:53<36:06:36, 10.39s/it]\u001b[A\u001b[A\u001b[A"
     ]
    },
    {
     "name": "stdout",
     "output_type": "stream",
     "text": [
      "acsisinc.com.json\n"
     ]
    },
    {
     "name": "stderr",
     "output_type": "stream",
     "text": [
      "\n",
      "\n",
      "\n",
      "  4%|█▉                                           | 561/13077 [1:21:01<33:59:53,  9.78s/it]\u001b[A\u001b[A\u001b[A"
     ]
    },
    {
     "name": "stdout",
     "output_type": "stream",
     "text": [
      "championsschool.com.json\n"
     ]
    },
    {
     "name": "stderr",
     "output_type": "stream",
     "text": [
      "\n",
      "\n",
      "\n",
      "  4%|█▉                                           | 562/13077 [1:21:05<27:48:01,  8.00s/it]\u001b[A\u001b[A\u001b[A"
     ]
    },
    {
     "name": "stdout",
     "output_type": "stream",
     "text": [
      "egress.com.json\n"
     ]
    },
    {
     "name": "stderr",
     "output_type": "stream",
     "text": [
      "\n",
      "\n",
      "\n",
      "  4%|█▉                                           | 563/13077 [1:21:20<35:33:27, 10.23s/it]\u001b[A\u001b[A\u001b[A"
     ]
    },
    {
     "name": "stdout",
     "output_type": "stream",
     "text": [
      "casscounty.com.json\n"
     ]
    },
    {
     "name": "stderr",
     "output_type": "stream",
     "text": [
      "\n",
      "\n",
      "\n",
      "  4%|█▉                                           | 564/13077 [1:21:44<48:30:16, 13.95s/it]\u001b[A\u001b[A\u001b[A"
     ]
    },
    {
     "name": "stdout",
     "output_type": "stream",
     "text": [
      "creditcorponline.com.json\n"
     ]
    },
    {
     "name": "stderr",
     "output_type": "stream",
     "text": [
      "\n",
      "\n",
      "\n",
      "  4%|█▉                                           | 565/13077 [1:21:49<39:34:56, 11.39s/it]\u001b[A\u001b[A\u001b[A"
     ]
    },
    {
     "name": "stdout",
     "output_type": "stream",
     "text": [
      "netgalley.com.json\n"
     ]
    },
    {
     "name": "stderr",
     "output_type": "stream",
     "text": [
      "\n",
      "\n",
      "\n",
      "  4%|█▉                                           | 566/13077 [1:21:53<31:46:24,  9.14s/it]\u001b[A\u001b[A\u001b[A"
     ]
    },
    {
     "name": "stdout",
     "output_type": "stream",
     "text": [
      "seacoastunited.com.json\n"
     ]
    },
    {
     "name": "stderr",
     "output_type": "stream",
     "text": [
      "\n",
      "\n",
      "\n",
      "  4%|█▉                                           | 567/13077 [1:21:58<27:44:39,  7.98s/it]\u001b[A\u001b[A\u001b[A"
     ]
    },
    {
     "name": "stdout",
     "output_type": "stream",
     "text": [
      "kukui.com.json\n"
     ]
    },
    {
     "name": "stderr",
     "output_type": "stream",
     "text": [
      "\n",
      "\n",
      "\n",
      "  4%|█▉                                           | 568/13077 [1:22:01<23:02:44,  6.63s/it]\u001b[A\u001b[A\u001b[A"
     ]
    },
    {
     "name": "stdout",
     "output_type": "stream",
     "text": [
      "singtaousa.com.json\n"
     ]
    },
    {
     "name": "stderr",
     "output_type": "stream",
     "text": [
      "\n",
      "\n",
      "\n",
      "  4%|█▉                                           | 569/13077 [1:22:04<19:16:20,  5.55s/it]\u001b[A\u001b[A\u001b[A"
     ]
    },
    {
     "name": "stdout",
     "output_type": "stream",
     "text": [
      "theabcbank.com.json\n"
     ]
    },
    {
     "name": "stderr",
     "output_type": "stream",
     "text": [
      "\n",
      "\n",
      "\n",
      "  4%|█▉                                           | 570/13077 [1:22:10<19:53:48,  5.73s/it]\u001b[A\u001b[A\u001b[A"
     ]
    },
    {
     "name": "stdout",
     "output_type": "stream",
     "text": [
      "isncorp.com.json\n"
     ]
    },
    {
     "name": "stderr",
     "output_type": "stream",
     "text": [
      "\n",
      "\n",
      "\n",
      "  4%|█▉                                           | 571/13077 [1:22:13<16:13:46,  4.67s/it]\u001b[A\u001b[A\u001b[A"
     ]
    },
    {
     "name": "stdout",
     "output_type": "stream",
     "text": [
      "kwch.com.json\n"
     ]
    },
    {
     "name": "stderr",
     "output_type": "stream",
     "text": [
      "\n",
      "\n",
      "\n",
      "  4%|█▉                                           | 572/13077 [1:22:13<12:18:57,  3.55s/it]\u001b[A\u001b[A\u001b[A"
     ]
    },
    {
     "name": "stdout",
     "output_type": "stream",
     "text": [
      "artisllc.com.json\n"
     ]
    },
    {
     "name": "stderr",
     "output_type": "stream",
     "text": [
      "\n",
      "\n",
      "\n",
      "  4%|█▉                                          | 573/13077 [1:24:21<140:58:33, 40.59s/it]\u001b[A\u001b[A\u001b[A"
     ]
    },
    {
     "name": "stdout",
     "output_type": "stream",
     "text": [
      "jackpotjunction.com.json\n"
     ]
    },
    {
     "name": "stderr",
     "output_type": "stream",
     "text": [
      "\n",
      "\n",
      "\n",
      "  4%|█▉                                          | 574/13077 [1:24:34<112:17:47, 32.33s/it]\u001b[A\u001b[A\u001b[A"
     ]
    },
    {
     "name": "stdout",
     "output_type": "stream",
     "text": [
      "seta-international.com.json\n"
     ]
    },
    {
     "name": "stderr",
     "output_type": "stream",
     "text": [
      "\n",
      "\n",
      "\n",
      "  4%|█▉                                           | 575/13077 [1:24:39<84:26:33, 24.32s/it]\u001b[A\u001b[A\u001b[A"
     ]
    },
    {
     "name": "stdout",
     "output_type": "stream",
     "text": [
      "caputomarkets.com.json\n"
     ]
    },
    {
     "name": "stderr",
     "output_type": "stream",
     "text": [
      "\n",
      "\n",
      "\n",
      "  4%|█▉                                           | 576/13077 [1:24:41<60:55:16, 17.54s/it]\u001b[A\u001b[A\u001b[A"
     ]
    },
    {
     "name": "stdout",
     "output_type": "stream",
     "text": [
      "anchorbaypackaging.com.json\n"
     ]
    },
    {
     "name": "stderr",
     "output_type": "stream",
     "text": [
      "\n",
      "\n",
      "\n",
      "  4%|█▉                                           | 577/13077 [1:25:19<82:17:55, 23.70s/it]\u001b[A\u001b[A\u001b[A"
     ]
    },
    {
     "name": "stdout",
     "output_type": "stream",
     "text": [
      "advancedch.com.json\n"
     ]
    },
    {
     "name": "stderr",
     "output_type": "stream",
     "text": [
      "\n",
      "\n",
      "\n",
      "  4%|█▉                                           | 578/13077 [1:25:20<59:04:14, 17.01s/it]\u001b[A\u001b[A\u001b[A"
     ]
    },
    {
     "name": "stdout",
     "output_type": "stream",
     "text": [
      "alpek.com.json\n"
     ]
    },
    {
     "name": "stderr",
     "output_type": "stream",
     "text": [
      "\n",
      "\n",
      "\n",
      "  4%|█▉                                           | 579/13077 [1:25:43<64:18:44, 18.52s/it]\u001b[A\u001b[A\u001b[A"
     ]
    },
    {
     "name": "stdout",
     "output_type": "stream",
     "text": [
      "neiengineering.com.json\n"
     ]
    },
    {
     "name": "stderr",
     "output_type": "stream",
     "text": [
      "\n",
      "\n",
      "\n",
      "  4%|█▉                                           | 580/13077 [1:25:53<55:42:07, 16.05s/it]\u001b[A\u001b[A\u001b[A"
     ]
    },
    {
     "name": "stdout",
     "output_type": "stream",
     "text": [
      "kindlending.com.json\n"
     ]
    },
    {
     "name": "stderr",
     "output_type": "stream",
     "text": [
      "\n",
      "\n",
      "\n",
      "  4%|█▉                                           | 581/13077 [1:25:56<41:51:56, 12.06s/it]\u001b[A\u001b[A\u001b[A"
     ]
    },
    {
     "name": "stdout",
     "output_type": "stream",
     "text": [
      "envivabiomass.com.json\n"
     ]
    },
    {
     "name": "stderr",
     "output_type": "stream",
     "text": [
      "\n",
      "\n",
      "\n",
      "  4%|██                                           | 582/13077 [1:26:05<39:19:55, 11.33s/it]\u001b[A\u001b[A\u001b[A"
     ]
    },
    {
     "name": "stdout",
     "output_type": "stream",
     "text": [
      "lrmcenter.com.json\n"
     ]
    },
    {
     "name": "stderr",
     "output_type": "stream",
     "text": [
      "\n",
      "\n",
      "\n",
      "  4%|██                                           | 583/13077 [1:26:16<38:46:16, 11.17s/it]\u001b[A\u001b[A\u001b[A"
     ]
    },
    {
     "name": "stdout",
     "output_type": "stream",
     "text": [
      "addisongroup.com.json\n"
     ]
    },
    {
     "name": "stderr",
     "output_type": "stream",
     "text": [
      "\n",
      "\n",
      "\n",
      "  4%|██                                           | 584/13077 [1:26:18<29:19:15,  8.45s/it]\u001b[A\u001b[A\u001b[A"
     ]
    },
    {
     "name": "stdout",
     "output_type": "stream",
     "text": [
      "919marketing.com.json\n"
     ]
    },
    {
     "name": "stderr",
     "output_type": "stream",
     "text": [
      "\n",
      "\n",
      "\n",
      "  4%|██                                           | 585/13077 [1:26:23<25:52:38,  7.46s/it]\u001b[A\u001b[A\u001b[A"
     ]
    },
    {
     "name": "stdout",
     "output_type": "stream",
     "text": [
      "icagile.com.json\n"
     ]
    },
    {
     "name": "stderr",
     "output_type": "stream",
     "text": [
      "\n",
      "\n",
      "\n",
      "  4%|██                                           | 586/13077 [1:26:46<41:46:17, 12.04s/it]\u001b[A\u001b[A\u001b[A"
     ]
    },
    {
     "name": "stdout",
     "output_type": "stream",
     "text": [
      "apricotsolar.com.json\n"
     ]
    },
    {
     "name": "stderr",
     "output_type": "stream",
     "text": [
      "\n",
      "\n",
      "\n",
      "  4%|██                                           | 587/13077 [1:26:58<42:02:37, 12.12s/it]\u001b[A\u001b[A\u001b[A"
     ]
    },
    {
     "name": "stdout",
     "output_type": "stream",
     "text": [
      "skitaos.com.json\n"
     ]
    },
    {
     "name": "stderr",
     "output_type": "stream",
     "text": [
      "\n",
      "\n",
      "\n",
      "  4%|██                                           | 588/13077 [1:27:03<33:51:48,  9.76s/it]\u001b[A\u001b[A\u001b[A"
     ]
    },
    {
     "name": "stdout",
     "output_type": "stream",
     "text": [
      "lockheedmartin.com.json\n",
      "thechophouse.com.json\n"
     ]
    },
    {
     "name": "stderr",
     "output_type": "stream",
     "text": [
      "\n",
      "\n",
      "\n",
      "  5%|██                                           | 590/13077 [1:27:09<23:18:14,  6.72s/it]\u001b[A\u001b[A\u001b[A"
     ]
    },
    {
     "name": "stdout",
     "output_type": "stream",
     "text": [
      "alwayscompassionate.com.json\n"
     ]
    },
    {
     "name": "stderr",
     "output_type": "stream",
     "text": [
      "\n",
      "\n",
      "\n",
      "  5%|██                                           | 591/13077 [1:27:13<21:13:35,  6.12s/it]\u001b[A\u001b[A\u001b[A"
     ]
    },
    {
     "name": "stdout",
     "output_type": "stream",
     "text": [
      "adventknows.com.json\n"
     ]
    },
    {
     "name": "stderr",
     "output_type": "stream",
     "text": [
      "\n",
      "\n",
      "\n",
      "  5%|██                                           | 592/13077 [1:27:15<17:25:53,  5.03s/it]\u001b[A\u001b[A\u001b[A"
     ]
    },
    {
     "name": "stdout",
     "output_type": "stream",
     "text": [
      "continuant.com.json\n"
     ]
    },
    {
     "name": "stderr",
     "output_type": "stream",
     "text": [
      "\n",
      "\n",
      "\n",
      "  5%|██                                           | 593/13077 [1:27:32<28:57:59,  8.35s/it]\u001b[A\u001b[A\u001b[A"
     ]
    },
    {
     "name": "stdout",
     "output_type": "stream",
     "text": [
      "hce4biz.com.json\n",
      "crawfordhoying.com.json\n"
     ]
    },
    {
     "name": "stderr",
     "output_type": "stream",
     "text": [
      "\n",
      "\n",
      "\n",
      "  5%|██                                           | 595/13077 [1:27:41<22:29:33,  6.49s/it]\u001b[A\u001b[A\u001b[A"
     ]
    },
    {
     "name": "stdout",
     "output_type": "stream",
     "text": [
      "ghctk12.com.json\n"
     ]
    },
    {
     "name": "stderr",
     "output_type": "stream",
     "text": [
      "\n",
      "\n",
      "\n",
      "  5%|██                                           | 596/13077 [1:27:41<17:36:49,  5.08s/it]\u001b[A\u001b[A\u001b[A"
     ]
    },
    {
     "name": "stdout",
     "output_type": "stream",
     "text": [
      "intermarkmgt.com.json\n"
     ]
    },
    {
     "name": "stderr",
     "output_type": "stream",
     "text": [
      "\n",
      "\n",
      "\n",
      "  5%|██                                           | 597/13077 [1:27:43<14:24:52,  4.16s/it]\u001b[A\u001b[A\u001b[A"
     ]
    },
    {
     "name": "stdout",
     "output_type": "stream",
     "text": [
      "fitnessunlimited.com.json\n"
     ]
    },
    {
     "name": "stderr",
     "output_type": "stream",
     "text": [
      "\n",
      "\n",
      "\n",
      "  5%|██                                           | 598/13077 [1:27:59<26:06:20,  7.53s/it]\u001b[A\u001b[A\u001b[A"
     ]
    },
    {
     "name": "stdout",
     "output_type": "stream",
     "text": [
      "fromyouflowers.com.json\n"
     ]
    },
    {
     "name": "stderr",
     "output_type": "stream",
     "text": [
      "\n",
      "\n",
      "\n",
      "  5%|██                                           | 599/13077 [1:28:01<20:51:50,  6.02s/it]\u001b[A\u001b[A\u001b[A"
     ]
    },
    {
     "name": "stdout",
     "output_type": "stream",
     "text": [
      "mjhlifesciences.com.json\n"
     ]
    },
    {
     "name": "stderr",
     "output_type": "stream",
     "text": [
      "\n",
      "\n",
      "\n",
      "  5%|██                                           | 600/13077 [1:28:13<26:04:08,  7.52s/it]\u001b[A\u001b[A\u001b[A"
     ]
    },
    {
     "name": "stdout",
     "output_type": "stream",
     "text": [
      "586travel.com.json\n"
     ]
    },
    {
     "name": "stderr",
     "output_type": "stream",
     "text": [
      "\n",
      "\n",
      "\n",
      "  5%|██                                           | 601/13077 [1:28:15<21:03:39,  6.08s/it]\u001b[A\u001b[A\u001b[A"
     ]
    },
    {
     "name": "stdout",
     "output_type": "stream",
     "text": [
      "delawarepark.com.json\n"
     ]
    },
    {
     "name": "stderr",
     "output_type": "stream",
     "text": [
      "\n",
      "\n",
      "\n",
      "  5%|██                                           | 602/13077 [1:29:24<84:33:47, 24.40s/it]\u001b[A\u001b[A\u001b[A"
     ]
    },
    {
     "name": "stdout",
     "output_type": "stream",
     "text": [
      "messiahlutheran.com.json\n"
     ]
    },
    {
     "name": "stderr",
     "output_type": "stream",
     "text": [
      "\n",
      "\n",
      "\n",
      "  5%|██                                           | 603/13077 [1:29:35<70:25:34, 20.33s/it]\u001b[A\u001b[A\u001b[A"
     ]
    },
    {
     "name": "stdout",
     "output_type": "stream",
     "text": [
      "carlwarren.com.json\n"
     ]
    },
    {
     "name": "stderr",
     "output_type": "stream",
     "text": [
      "\n",
      "\n",
      "\n",
      "  5%|██                                           | 604/13077 [1:29:47<62:13:29, 17.96s/it]\u001b[A\u001b[A\u001b[A"
     ]
    },
    {
     "name": "stdout",
     "output_type": "stream",
     "text": [
      "goriteway.com.json\n"
     ]
    },
    {
     "name": "stderr",
     "output_type": "stream",
     "text": [
      "\n",
      "\n",
      "\n",
      "  5%|██                                           | 605/13077 [1:29:53<49:53:02, 14.40s/it]\u001b[A\u001b[A\u001b[A"
     ]
    },
    {
     "name": "stdout",
     "output_type": "stream",
     "text": [
      "nw-rei.com.json\n"
     ]
    },
    {
     "name": "stderr",
     "output_type": "stream",
     "text": [
      "\n",
      "\n",
      "\n",
      "  5%|██                                           | 606/13077 [1:30:12<54:21:27, 15.69s/it]\u001b[A\u001b[A\u001b[A"
     ]
    },
    {
     "name": "stdout",
     "output_type": "stream",
     "text": [
      "prepass.com.json\n"
     ]
    },
    {
     "name": "stderr",
     "output_type": "stream",
     "text": [
      "\n",
      "\n",
      "\n",
      "  5%|██                                           | 607/13077 [1:30:42<69:05:12, 19.94s/it]\u001b[A\u001b[A\u001b[A"
     ]
    },
    {
     "name": "stdout",
     "output_type": "stream",
     "text": [
      "bluezones.com.json\n"
     ]
    },
    {
     "name": "stderr",
     "output_type": "stream",
     "text": [
      "\n",
      "\n",
      "\n",
      "  5%|██                                           | 608/13077 [1:30:55<61:48:32, 17.85s/it]\u001b[A\u001b[A\u001b[A"
     ]
    },
    {
     "name": "stdout",
     "output_type": "stream",
     "text": [
      "cronin-co.com.json\n"
     ]
    },
    {
     "name": "stderr",
     "output_type": "stream",
     "text": [
      "\n",
      "\n",
      "\n",
      "  5%|██                                           | 609/13077 [1:30:58<47:01:14, 13.58s/it]\u001b[A\u001b[A\u001b[A"
     ]
    },
    {
     "name": "stdout",
     "output_type": "stream",
     "text": [
      "joshuaspestcontrol.com.json\n"
     ]
    },
    {
     "name": "stderr",
     "output_type": "stream",
     "text": [
      "\n",
      "\n",
      "\n",
      "  5%|██                                           | 610/13077 [1:30:59<33:18:29,  9.62s/it]\u001b[A\u001b[A\u001b[A"
     ]
    },
    {
     "name": "stdout",
     "output_type": "stream",
     "text": [
      "osgpc.com.json\n"
     ]
    },
    {
     "name": "stderr",
     "output_type": "stream",
     "text": [
      "\n",
      "\n",
      "\n",
      "  5%|██                                           | 611/13077 [1:30:59<23:59:21,  6.93s/it]\u001b[A\u001b[A\u001b[A"
     ]
    },
    {
     "name": "stdout",
     "output_type": "stream",
     "text": [
      "aycofarms.com.json\n"
     ]
    },
    {
     "name": "stderr",
     "output_type": "stream",
     "text": [
      "\n",
      "\n",
      "\n",
      "  5%|██                                           | 612/13077 [1:31:03<20:34:51,  5.94s/it]\u001b[A\u001b[A\u001b[A"
     ]
    },
    {
     "name": "stdout",
     "output_type": "stream",
     "text": [
      "rotolos.com.json\n"
     ]
    },
    {
     "name": "stderr",
     "output_type": "stream",
     "text": [
      "\n",
      "\n",
      "\n",
      "  5%|██                                           | 613/13077 [1:31:10<22:07:00,  6.39s/it]\u001b[A\u001b[A\u001b[A"
     ]
    },
    {
     "name": "stdout",
     "output_type": "stream",
     "text": [
      "trypencil.com.json\n"
     ]
    },
    {
     "name": "stderr",
     "output_type": "stream",
     "text": [
      "\n",
      "\n",
      "\n",
      "  5%|██                                           | 614/13077 [1:31:15<20:15:21,  5.85s/it]\u001b[A\u001b[A\u001b[A"
     ]
    },
    {
     "name": "stdout",
     "output_type": "stream",
     "text": [
      "alhi.com.json\n"
     ]
    },
    {
     "name": "stderr",
     "output_type": "stream",
     "text": [
      "\n",
      "\n",
      "\n",
      "  5%|██                                           | 615/13077 [1:31:15<14:34:23,  4.21s/it]\u001b[A\u001b[A\u001b[A"
     ]
    },
    {
     "name": "stdout",
     "output_type": "stream",
     "text": [
      "corporate-interiors.com.json\n"
     ]
    },
    {
     "name": "stderr",
     "output_type": "stream",
     "text": [
      "\n",
      "\n",
      "\n",
      "  5%|██                                           | 616/13077 [1:31:23<18:04:56,  5.22s/it]\u001b[A\u001b[A\u001b[A"
     ]
    },
    {
     "name": "stdout",
     "output_type": "stream",
     "text": [
      "rowmark.com.json\n"
     ]
    },
    {
     "name": "stderr",
     "output_type": "stream",
     "text": [
      "\n",
      "\n",
      "\n",
      "  5%|██                                           | 617/13077 [1:31:32<22:24:08,  6.47s/it]\u001b[A\u001b[A\u001b[A"
     ]
    },
    {
     "name": "stdout",
     "output_type": "stream",
     "text": [
      "countryfreshinc.com.json\n"
     ]
    },
    {
     "name": "stderr",
     "output_type": "stream",
     "text": [
      "\n",
      "\n",
      "\n",
      "  5%|██▏                                          | 618/13077 [1:31:43<26:44:51,  7.73s/it]\u001b[A\u001b[A\u001b[A"
     ]
    },
    {
     "name": "stdout",
     "output_type": "stream",
     "text": [
      "thesuite.com.json\n"
     ]
    },
    {
     "name": "stderr",
     "output_type": "stream",
     "text": [
      "\n",
      "\n",
      "\n",
      "  5%|██▏                                          | 619/13077 [1:31:48<23:40:43,  6.84s/it]\u001b[A\u001b[A\u001b[A"
     ]
    },
    {
     "name": "stdout",
     "output_type": "stream",
     "text": [
      "gardenintel.com.json\n"
     ]
    },
    {
     "name": "stderr",
     "output_type": "stream",
     "text": [
      "\n",
      "\n",
      "\n",
      "  5%|██▏                                          | 620/13077 [1:31:48<16:56:27,  4.90s/it]\u001b[A\u001b[A\u001b[A"
     ]
    },
    {
     "name": "stdout",
     "output_type": "stream",
     "text": [
      "avetta.com.json\n"
     ]
    },
    {
     "name": "stderr",
     "output_type": "stream",
     "text": [
      "\n",
      "\n",
      "\n",
      "  5%|██▏                                          | 621/13077 [1:31:55<18:46:32,  5.43s/it]\u001b[A\u001b[A\u001b[A"
     ]
    },
    {
     "name": "stdout",
     "output_type": "stream",
     "text": [
      "airspan.com.json\n"
     ]
    },
    {
     "name": "stderr",
     "output_type": "stream",
     "text": [
      "\n",
      "\n",
      "\n",
      "  5%|██▏                                          | 622/13077 [1:32:10<29:05:36,  8.41s/it]\u001b[A\u001b[A\u001b[A"
     ]
    },
    {
     "name": "stdout",
     "output_type": "stream",
     "text": [
      "high-voltage.com.json\n"
     ]
    },
    {
     "name": "stderr",
     "output_type": "stream",
     "text": [
      "\n",
      "\n",
      "\n",
      "  5%|██▏                                          | 623/13077 [1:32:20<30:11:50,  8.73s/it]\u001b[A\u001b[A\u001b[A"
     ]
    },
    {
     "name": "stdout",
     "output_type": "stream",
     "text": [
      "tech-synergy.com.json\n"
     ]
    },
    {
     "name": "stderr",
     "output_type": "stream",
     "text": [
      "\n",
      "\n",
      "\n",
      "  5%|██▏                                          | 624/13077 [1:32:34<35:56:09, 10.39s/it]\u001b[A\u001b[A\u001b[A"
     ]
    },
    {
     "name": "stdout",
     "output_type": "stream",
     "text": [
      "design-milk.com.json\n"
     ]
    },
    {
     "name": "stderr",
     "output_type": "stream",
     "text": [
      "\n",
      "\n",
      "\n",
      "  5%|██▏                                          | 625/13077 [1:32:40<31:04:23,  8.98s/it]\u001b[A\u001b[A\u001b[A"
     ]
    },
    {
     "name": "stdout",
     "output_type": "stream",
     "text": [
      "avl.com.json\n"
     ]
    },
    {
     "name": "stderr",
     "output_type": "stream",
     "text": [
      "\n",
      "\n",
      "\n",
      "  5%|██▏                                          | 626/13077 [1:32:57<39:22:11, 11.38s/it]\u001b[A\u001b[A\u001b[A"
     ]
    },
    {
     "name": "stdout",
     "output_type": "stream",
     "text": [
      "demandzen.com.json\n"
     ]
    },
    {
     "name": "stderr",
     "output_type": "stream",
     "text": [
      "\n",
      "\n",
      "\n",
      "  5%|██                                          | 627/13077 [1:34:49<144:32:57, 41.80s/it]\u001b[A\u001b[A\u001b[A"
     ]
    },
    {
     "name": "stdout",
     "output_type": "stream",
     "text": [
      "associationsinternational.com.json\n"
     ]
    },
    {
     "name": "stderr",
     "output_type": "stream",
     "text": [
      "\n",
      "\n",
      "\n",
      "  5%|██                                          | 628/13077 [1:34:50<102:14:09, 29.56s/it]\u001b[A\u001b[A\u001b[A"
     ]
    },
    {
     "name": "stdout",
     "output_type": "stream",
     "text": [
      "thekentcompanies.com.json\n"
     ]
    },
    {
     "name": "stderr",
     "output_type": "stream",
     "text": [
      "\n",
      "\n",
      "\n",
      "  5%|██▏                                          | 629/13077 [1:34:51<71:58:58, 20.82s/it]\u001b[A\u001b[A\u001b[A"
     ]
    },
    {
     "name": "stdout",
     "output_type": "stream",
     "text": [
      "marsden.com.json\n"
     ]
    },
    {
     "name": "stderr",
     "output_type": "stream",
     "text": [
      "\n",
      "\n",
      "\n",
      "  5%|██                                          | 630/13077 [1:35:41<102:14:16, 29.57s/it]\u001b[A\u001b[A\u001b[A"
     ]
    },
    {
     "name": "stdout",
     "output_type": "stream",
     "text": [
      "loka.com.json\n"
     ]
    },
    {
     "name": "stderr",
     "output_type": "stream",
     "text": [
      "\n",
      "\n",
      "\n",
      "  5%|██▏                                          | 631/13077 [1:35:46<77:10:43, 22.32s/it]\u001b[A\u001b[A\u001b[A"
     ]
    },
    {
     "name": "stdout",
     "output_type": "stream",
     "text": [
      "kentik.com.json\n"
     ]
    },
    {
     "name": "stderr",
     "output_type": "stream",
     "text": [
      "\n",
      "\n",
      "\n",
      "  5%|██▏                                          | 632/13077 [1:35:52<60:28:17, 17.49s/it]\u001b[A\u001b[A\u001b[A"
     ]
    },
    {
     "name": "stdout",
     "output_type": "stream",
     "text": [
      "centraltis.com.json\n"
     ]
    },
    {
     "name": "stderr",
     "output_type": "stream",
     "text": [
      "\n",
      "\n",
      "\n",
      "  5%|██▏                                          | 633/13077 [1:35:57<47:18:02, 13.68s/it]\u001b[A\u001b[A\u001b[A"
     ]
    },
    {
     "name": "stdout",
     "output_type": "stream",
     "text": [
      "acmeoyster.com.json\n"
     ]
    },
    {
     "name": "stderr",
     "output_type": "stream",
     "text": [
      "\n",
      "\n",
      "\n",
      "  5%|██▏                                          | 634/13077 [1:36:13<49:10:09, 14.23s/it]\u001b[A\u001b[A\u001b[A"
     ]
    },
    {
     "name": "stdout",
     "output_type": "stream",
     "text": [
      "koerber-supplychain.com.json\n"
     ]
    },
    {
     "name": "stderr",
     "output_type": "stream",
     "text": [
      "\n",
      "\n",
      "\n",
      "  5%|██▏                                          | 635/13077 [1:36:14<35:42:26, 10.33s/it]\u001b[A\u001b[A\u001b[A"
     ]
    },
    {
     "name": "stdout",
     "output_type": "stream",
     "text": [
      "poppin.com.json\n"
     ]
    },
    {
     "name": "stderr",
     "output_type": "stream",
     "text": [
      "\n",
      "\n",
      "\n",
      "  5%|██▏                                          | 636/13077 [1:36:20<31:31:41,  9.12s/it]\u001b[A\u001b[A\u001b[A"
     ]
    },
    {
     "name": "stdout",
     "output_type": "stream",
     "text": [
      "marcushotels.com.json\n"
     ]
    },
    {
     "name": "stderr",
     "output_type": "stream",
     "text": [
      "\n",
      "\n",
      "\n",
      "  5%|██▏                                          | 637/13077 [1:36:27<28:57:07,  8.38s/it]\u001b[A\u001b[A\u001b[A"
     ]
    },
    {
     "name": "stdout",
     "output_type": "stream",
     "text": [
      "herregan.com.json\n"
     ]
    },
    {
     "name": "stderr",
     "output_type": "stream",
     "text": [
      "\n",
      "\n",
      "\n",
      "  5%|██▏                                          | 638/13077 [1:36:27<20:35:53,  5.96s/it]\u001b[A\u001b[A\u001b[A\n",
      "\n",
      "\n",
      "  5%|██▏                                          | 639/13077 [1:36:27<14:33:23,  4.21s/it]\u001b[A\u001b[A\u001b[A"
     ]
    },
    {
     "name": "stdout",
     "output_type": "stream",
     "text": [
      "pakwest.com.json\n",
      "owllabs.com.json\n"
     ]
    },
    {
     "name": "stderr",
     "output_type": "stream",
     "text": [
      "\n",
      "\n",
      "\n",
      "  5%|██▏                                          | 640/13077 [1:36:43<26:57:07,  7.80s/it]\u001b[A\u001b[A\u001b[A"
     ]
    },
    {
     "name": "stdout",
     "output_type": "stream",
     "text": [
      "safeboats.com.json\n"
     ]
    },
    {
     "name": "stderr",
     "output_type": "stream",
     "text": [
      "\n",
      "\n",
      "\n",
      "  5%|██▏                                          | 641/13077 [1:37:04<40:03:27, 11.60s/it]\u001b[A\u001b[A\u001b[A"
     ]
    },
    {
     "name": "stdout",
     "output_type": "stream",
     "text": [
      "vobile.com.json\n"
     ]
    },
    {
     "name": "stderr",
     "output_type": "stream",
     "text": [
      "\n",
      "\n",
      "\n",
      "  5%|██▏                                          | 642/13077 [1:37:07<31:27:25,  9.11s/it]\u001b[A\u001b[A\u001b[A"
     ]
    },
    {
     "name": "stdout",
     "output_type": "stream",
     "text": [
      "kwikkaroftn.com.json\n"
     ]
    },
    {
     "name": "stderr",
     "output_type": "stream",
     "text": [
      "\n",
      "\n",
      "\n",
      "  5%|██▏                                          | 643/13077 [1:37:11<25:36:24,  7.41s/it]\u001b[A\u001b[A\u001b[A"
     ]
    },
    {
     "name": "stdout",
     "output_type": "stream",
     "text": [
      "bbrpartners.com.json\n"
     ]
    },
    {
     "name": "stderr",
     "output_type": "stream",
     "text": [
      "\n",
      "\n",
      "\n",
      "  5%|██▏                                          | 644/13077 [1:37:15<22:46:00,  6.59s/it]\u001b[A\u001b[A\u001b[A"
     ]
    },
    {
     "name": "stdout",
     "output_type": "stream",
     "text": [
      "newstore.com.json\n"
     ]
    },
    {
     "name": "stderr",
     "output_type": "stream",
     "text": [
      "\n",
      "\n",
      "\n",
      "  5%|██▏                                          | 645/13077 [1:37:39<40:26:34, 11.71s/it]\u001b[A\u001b[A\u001b[A"
     ]
    },
    {
     "name": "stdout",
     "output_type": "stream",
     "text": [
      "ediblebrands.com.json\n"
     ]
    },
    {
     "name": "stderr",
     "output_type": "stream",
     "text": [
      "\n",
      "\n",
      "\n",
      "  5%|██▏                                          | 646/13077 [1:37:45<34:23:53,  9.96s/it]\u001b[A\u001b[A\u001b[A"
     ]
    },
    {
     "name": "stdout",
     "output_type": "stream",
     "text": [
      "aspenmusicfestival.com.json\n"
     ]
    },
    {
     "name": "stderr",
     "output_type": "stream",
     "text": [
      "\n",
      "\n",
      "\n",
      "  5%|██▏                                          | 647/13077 [1:38:05<44:39:23, 12.93s/it]\u001b[A\u001b[A\u001b[A"
     ]
    },
    {
     "name": "stdout",
     "output_type": "stream",
     "text": [
      "dicksteinshapiro.com.json\n"
     ]
    },
    {
     "name": "stderr",
     "output_type": "stream",
     "text": [
      "\n",
      "\n",
      "\n",
      "  5%|██▏                                          | 648/13077 [1:38:12<38:50:53, 11.25s/it]\u001b[A\u001b[A\u001b[A"
     ]
    },
    {
     "name": "stdout",
     "output_type": "stream",
     "text": [
      "outbrain.com.json\n"
     ]
    },
    {
     "name": "stderr",
     "output_type": "stream",
     "text": [
      "\n",
      "\n",
      "\n",
      "  5%|██▏                                          | 649/13077 [1:38:18<33:18:56,  9.65s/it]\u001b[A\u001b[A\u001b[A"
     ]
    },
    {
     "name": "stdout",
     "output_type": "stream",
     "text": [
      "gotolee.com.json\n",
      "tipmont.com.json\n"
     ]
    },
    {
     "name": "stderr",
     "output_type": "stream",
     "text": [
      "\n",
      "\n",
      "\n",
      "  5%|██▏                                          | 651/13077 [1:38:19<18:53:41,  5.47s/it]\u001b[A\u001b[A\u001b[A"
     ]
    },
    {
     "name": "stdout",
     "output_type": "stream",
     "text": [
      "greeneccc.com.json\n"
     ]
    },
    {
     "name": "stderr",
     "output_type": "stream",
     "text": [
      "\n",
      "\n",
      "\n",
      "  5%|██▏                                          | 652/13077 [1:38:20<14:57:50,  4.34s/it]\u001b[A\u001b[A\u001b[A"
     ]
    },
    {
     "name": "stdout",
     "output_type": "stream",
     "text": [
      "bankfinancial.com.json\n"
     ]
    },
    {
     "name": "stderr",
     "output_type": "stream",
     "text": [
      "\n",
      "\n",
      "\n",
      "  5%|██▏                                          | 653/13077 [1:38:30<19:55:29,  5.77s/it]\u001b[A\u001b[A\u001b[A"
     ]
    },
    {
     "name": "stdout",
     "output_type": "stream",
     "text": [
      "quayaustralia.com.json\n"
     ]
    },
    {
     "name": "stderr",
     "output_type": "stream",
     "text": [
      "\n",
      "\n",
      "\n",
      "  5%|██▎                                          | 654/13077 [1:38:31<15:36:25,  4.52s/it]\u001b[A\u001b[A\u001b[A\n",
      "\n",
      "\n",
      "  5%|██▎                                          | 655/13077 [1:38:31<11:25:33,  3.31s/it]\u001b[A\u001b[A\u001b[A"
     ]
    },
    {
     "name": "stdout",
     "output_type": "stream",
     "text": [
      "vayahealth.com.json\n",
      "curinos.com.json\n"
     ]
    },
    {
     "name": "stderr",
     "output_type": "stream",
     "text": [
      "\n",
      "\n",
      "\n",
      "  5%|██▎                                          | 656/13077 [1:38:41<17:33:48,  5.09s/it]\u001b[A\u001b[A\u001b[A"
     ]
    },
    {
     "name": "stdout",
     "output_type": "stream",
     "text": [
      "agorapulse.com.json\n"
     ]
    },
    {
     "name": "stderr",
     "output_type": "stream",
     "text": [
      "\n",
      "\n",
      "\n",
      "  5%|██▎                                          | 657/13077 [1:38:58<29:56:53,  8.68s/it]\u001b[A\u001b[A\u001b[A"
     ]
    },
    {
     "name": "stdout",
     "output_type": "stream",
     "text": [
      "campaignfinancial.com.json\n"
     ]
    },
    {
     "name": "stderr",
     "output_type": "stream",
     "text": [
      "\n",
      "\n",
      "\n",
      "  5%|██▎                                          | 658/13077 [1:38:59<21:52:39,  6.34s/it]\u001b[A\u001b[A\u001b[A"
     ]
    },
    {
     "name": "stdout",
     "output_type": "stream",
     "text": [
      "msigusa.com.json\n"
     ]
    },
    {
     "name": "stderr",
     "output_type": "stream",
     "text": [
      "\n",
      "\n",
      "\n",
      "  5%|██▎                                          | 659/13077 [1:39:07<23:35:10,  6.84s/it]\u001b[A\u001b[A\u001b[A"
     ]
    },
    {
     "name": "stdout",
     "output_type": "stream",
     "text": [
      "gasoc.com.json\n"
     ]
    },
    {
     "name": "stderr",
     "output_type": "stream",
     "text": [
      "\n",
      "\n",
      "\n",
      "  5%|██▎                                          | 660/13077 [1:39:26<35:59:52, 10.44s/it]\u001b[A\u001b[A\u001b[A"
     ]
    },
    {
     "name": "stdout",
     "output_type": "stream",
     "text": [
      "vistadefense.com.json\n"
     ]
    },
    {
     "name": "stderr",
     "output_type": "stream",
     "text": [
      "\n",
      "\n",
      "\n",
      "  5%|██▎                                          | 661/13077 [1:39:27<25:47:19,  7.48s/it]\u001b[A\u001b[A\u001b[A"
     ]
    },
    {
     "name": "stdout",
     "output_type": "stream",
     "text": [
      "morrisnichols.com.json\n"
     ]
    },
    {
     "name": "stderr",
     "output_type": "stream",
     "text": [
      "\n",
      "\n",
      "\n",
      "  5%|██▎                                          | 662/13077 [1:39:29<20:33:50,  5.96s/it]\u001b[A\u001b[A\u001b[A"
     ]
    },
    {
     "name": "stdout",
     "output_type": "stream",
     "text": [
      "regencymovies.com.json\n"
     ]
    },
    {
     "name": "stderr",
     "output_type": "stream",
     "text": [
      "\n",
      "\n",
      "\n",
      "  5%|██▎                                          | 663/13077 [1:39:30<15:26:45,  4.48s/it]\u001b[A\u001b[A\u001b[A"
     ]
    },
    {
     "name": "stdout",
     "output_type": "stream",
     "text": [
      "coarchitects.com.json\n"
     ]
    },
    {
     "name": "stderr",
     "output_type": "stream",
     "text": [
      "\n",
      "\n",
      "\n",
      "  5%|██▎                                          | 664/13077 [1:39:31<12:00:26,  3.48s/it]\u001b[A\u001b[A\u001b[A"
     ]
    },
    {
     "name": "stdout",
     "output_type": "stream",
     "text": [
      "palmerdonavin.com.json\n"
     ]
    },
    {
     "name": "stderr",
     "output_type": "stream",
     "text": [
      "\n",
      "\n",
      "\n",
      "  5%|██▎                                          | 665/13077 [1:39:39<16:22:21,  4.75s/it]\u001b[A\u001b[A\u001b[A"
     ]
    },
    {
     "name": "stdout",
     "output_type": "stream",
     "text": [
      "snapdocs.com.json\n"
     ]
    },
    {
     "name": "stderr",
     "output_type": "stream",
     "text": [
      "\n",
      "\n",
      "\n",
      "  5%|██▎                                          | 666/13077 [1:39:45<17:42:46,  5.14s/it]\u001b[A\u001b[A\u001b[A"
     ]
    },
    {
     "name": "stdout",
     "output_type": "stream",
     "text": [
      "abelwomack.com.json\n"
     ]
    },
    {
     "name": "stderr",
     "output_type": "stream",
     "text": [
      "\n",
      "\n",
      "\n",
      "  5%|██▎                                          | 667/13077 [1:39:46<13:20:22,  3.87s/it]\u001b[A\u001b[A\u001b[A"
     ]
    },
    {
     "name": "stdout",
     "output_type": "stream",
     "text": [
      "nourison.com.json\n"
     ]
    },
    {
     "name": "stderr",
     "output_type": "stream",
     "text": [
      "\n",
      "\n",
      "\n",
      "  5%|██▎                                          | 668/13077 [1:39:47<10:21:58,  3.01s/it]\u001b[A\u001b[A\u001b[A"
     ]
    },
    {
     "name": "stdout",
     "output_type": "stream",
     "text": [
      "focusvision.com.json\n"
     ]
    },
    {
     "name": "stderr",
     "output_type": "stream",
     "text": [
      "\n",
      "\n",
      "\n",
      "  5%|██▎                                           | 669/13077 [1:39:48<8:05:41,  2.35s/it]\u001b[A\u001b[A\u001b[A"
     ]
    },
    {
     "name": "stdout",
     "output_type": "stream",
     "text": [
      "kgip.com.json\n"
     ]
    },
    {
     "name": "stderr",
     "output_type": "stream",
     "text": [
      "\n",
      "\n",
      "\n",
      "  5%|██▎                                          | 670/13077 [1:40:00<18:08:08,  5.26s/it]\u001b[A\u001b[A\u001b[A"
     ]
    },
    {
     "name": "stdout",
     "output_type": "stream",
     "text": [
      "encoreps.com.json\n",
      "reyesbeveragegroup.com.json\n"
     ]
    },
    {
     "name": "stderr",
     "output_type": "stream",
     "text": [
      "\n",
      "\n",
      "\n",
      "  5%|██▎                                          | 672/13077 [1:40:05<13:50:25,  4.02s/it]\u001b[A\u001b[A\u001b[A"
     ]
    },
    {
     "name": "stdout",
     "output_type": "stream",
     "text": [
      "incrediblehealth.com.json\n"
     ]
    },
    {
     "name": "stderr",
     "output_type": "stream",
     "text": [
      "\n",
      "\n",
      "\n",
      "  5%|██▎                                          | 673/13077 [1:40:10<15:14:06,  4.42s/it]\u001b[A\u001b[A\u001b[A"
     ]
    },
    {
     "name": "stdout",
     "output_type": "stream",
     "text": [
      "mcclurevision.com.json\n"
     ]
    },
    {
     "name": "stderr",
     "output_type": "stream",
     "text": [
      "\n",
      "\n",
      "\n",
      "  5%|██▎                                          | 674/13077 [1:40:23<22:16:30,  6.47s/it]\u001b[A\u001b[A\u001b[A"
     ]
    },
    {
     "name": "stdout",
     "output_type": "stream",
     "text": [
      "tangandcompany.com.json\n"
     ]
    },
    {
     "name": "stderr",
     "output_type": "stream",
     "text": [
      "\n",
      "\n",
      "\n",
      "  5%|██▎                                          | 675/13077 [1:40:27<20:06:30,  5.84s/it]\u001b[A\u001b[A\u001b[A"
     ]
    },
    {
     "name": "stdout",
     "output_type": "stream",
     "text": [
      "amerihome.com.json\n"
     ]
    },
    {
     "name": "stderr",
     "output_type": "stream",
     "text": [
      "\n",
      "\n",
      "\n",
      "  5%|██▎                                          | 676/13077 [1:40:42<28:55:38,  8.40s/it]\u001b[A\u001b[A\u001b[A"
     ]
    },
    {
     "name": "stdout",
     "output_type": "stream",
     "text": [
      "ipswrx.com.json\n",
      "covenantwoods.com.json\n"
     ]
    },
    {
     "name": "stderr",
     "output_type": "stream",
     "text": [
      "\n",
      "\n",
      "\n",
      "  5%|██▎                                          | 678/13077 [1:40:51<23:01:24,  6.68s/it]\u001b[A\u001b[A\u001b[A"
     ]
    },
    {
     "name": "stdout",
     "output_type": "stream",
     "text": [
      "iatse524.com.json\n"
     ]
    },
    {
     "name": "stderr",
     "output_type": "stream",
     "text": [
      "\n",
      "\n",
      "\n",
      "  5%|██▎                                          | 679/13077 [1:40:52<18:03:34,  5.24s/it]\u001b[A\u001b[A\u001b[A"
     ]
    },
    {
     "name": "stdout",
     "output_type": "stream",
     "text": [
      "pennwaste.com.json\n"
     ]
    },
    {
     "name": "stderr",
     "output_type": "stream",
     "text": [
      "\n",
      "\n",
      "\n",
      "  5%|██▎                                          | 680/13077 [1:40:53<14:59:15,  4.35s/it]\u001b[A\u001b[A\u001b[A"
     ]
    },
    {
     "name": "stdout",
     "output_type": "stream",
     "text": [
      "serckglobal.com.json\n"
     ]
    },
    {
     "name": "stderr",
     "output_type": "stream",
     "text": [
      "\n",
      "\n",
      "\n",
      "  5%|██▎                                          | 681/13077 [1:41:02<19:13:43,  5.58s/it]\u001b[A\u001b[A\u001b[A"
     ]
    },
    {
     "name": "stdout",
     "output_type": "stream",
     "text": [
      "asthait.com.json\n"
     ]
    },
    {
     "name": "stderr",
     "output_type": "stream",
     "text": [
      "\n",
      "\n",
      "\n",
      "  5%|██▎                                          | 682/13077 [1:41:42<51:27:40, 14.95s/it]\u001b[A\u001b[A\u001b[A"
     ]
    },
    {
     "name": "stdout",
     "output_type": "stream",
     "text": [
      "isgvalue.com.json\n"
     ]
    },
    {
     "name": "stderr",
     "output_type": "stream",
     "text": [
      "\n",
      "\n",
      "\n",
      "  5%|██▎                                         | 683/13077 [1:44:04<175:57:23, 51.11s/it]\u001b[A\u001b[A\u001b[A\n",
      "\n",
      "\n",
      "  5%|██▎                                          | 685/13077 [1:44:04<97:18:41, 28.27s/it]\u001b[A\u001b[A\u001b[A"
     ]
    },
    {
     "name": "stdout",
     "output_type": "stream",
     "text": [
      "magicalelves.com.json\n",
      "compass-md.com.json\n",
      "dfhcompany.com.json\n"
     ]
    },
    {
     "name": "stderr",
     "output_type": "stream",
     "text": [
      "\n",
      "\n",
      "\n",
      "  5%|██▎                                          | 686/13077 [1:44:07<75:52:45, 22.05s/it]\u001b[A\u001b[A\u001b[A"
     ]
    },
    {
     "name": "stdout",
     "output_type": "stream",
     "text": [
      "pbmhr.com.json\n"
     ]
    },
    {
     "name": "stderr",
     "output_type": "stream",
     "text": [
      "\n",
      "\n",
      "\n",
      "  5%|██▎                                          | 687/13077 [1:44:08<56:53:39, 16.53s/it]\u001b[A\u001b[A\u001b[A"
     ]
    },
    {
     "name": "stdout",
     "output_type": "stream",
     "text": [
      "mycnhreman.com.json\n"
     ]
    },
    {
     "name": "stderr",
     "output_type": "stream",
     "text": [
      "\n",
      "\n",
      "\n",
      "  5%|██▎                                          | 688/13077 [1:44:21<53:43:12, 15.61s/it]\u001b[A\u001b[A\u001b[A"
     ]
    },
    {
     "name": "stdout",
     "output_type": "stream",
     "text": [
      "theygsgroup.com.json\n"
     ]
    },
    {
     "name": "stderr",
     "output_type": "stream",
     "text": [
      "\n",
      "\n",
      "\n",
      "  5%|██▎                                          | 689/13077 [1:44:25<43:00:09, 12.50s/it]\u001b[A\u001b[A\u001b[A"
     ]
    },
    {
     "name": "stdout",
     "output_type": "stream",
     "text": [
      "jrsusa.com.json\n"
     ]
    },
    {
     "name": "stderr",
     "output_type": "stream",
     "text": [
      "\n",
      "\n",
      "\n",
      "  5%|██▎                                          | 690/13077 [1:44:33<39:01:52, 11.34s/it]\u001b[A\u001b[A\u001b[A"
     ]
    },
    {
     "name": "stdout",
     "output_type": "stream",
     "text": [
      "phoenixmetals.com.json\n"
     ]
    },
    {
     "name": "stderr",
     "output_type": "stream",
     "text": [
      "\n",
      "\n",
      "\n",
      "  5%|██▍                                          | 691/13077 [1:45:07<60:55:42, 17.71s/it]\u001b[A\u001b[A\u001b[A"
     ]
    },
    {
     "name": "stdout",
     "output_type": "stream",
     "text": [
      "firemon.com.json\n"
     ]
    },
    {
     "name": "stderr",
     "output_type": "stream",
     "text": [
      "\n",
      "\n",
      "\n",
      "  5%|██▍                                          | 692/13077 [1:45:16<52:36:24, 15.29s/it]\u001b[A\u001b[A\u001b[A"
     ]
    },
    {
     "name": "stdout",
     "output_type": "stream",
     "text": [
      "tsi-global.com.json\n"
     ]
    },
    {
     "name": "stderr",
     "output_type": "stream",
     "text": [
      "\n",
      "\n",
      "\n",
      "  5%|██▍                                          | 693/13077 [1:45:26<46:54:10, 13.63s/it]\u001b[A\u001b[A\u001b[A"
     ]
    },
    {
     "name": "stdout",
     "output_type": "stream",
     "text": [
      "leetc.com.json\n"
     ]
    },
    {
     "name": "stderr",
     "output_type": "stream",
     "text": [
      "\n",
      "\n",
      "\n",
      "  5%|██▍                                          | 694/13077 [1:45:27<33:38:25,  9.78s/it]\u001b[A\u001b[A\u001b[A"
     ]
    },
    {
     "name": "stdout",
     "output_type": "stream",
     "text": [
      "questrmg.com.json\n"
     ]
    },
    {
     "name": "stderr",
     "output_type": "stream",
     "text": [
      "\n",
      "\n",
      "\n",
      "  5%|██▍                                          | 695/13077 [1:45:27<24:03:45,  7.00s/it]\u001b[A\u001b[A\u001b[A"
     ]
    },
    {
     "name": "stdout",
     "output_type": "stream",
     "text": [
      "equiniti.com.json\n"
     ]
    },
    {
     "name": "stderr",
     "output_type": "stream",
     "text": [
      "\n",
      "\n",
      "\n",
      "  5%|██▍                                          | 696/13077 [1:45:41<31:37:00,  9.19s/it]\u001b[A\u001b[A\u001b[A"
     ]
    },
    {
     "name": "stdout",
     "output_type": "stream",
     "text": [
      "eventworksrentals.com.json\n"
     ]
    },
    {
     "name": "stderr",
     "output_type": "stream",
     "text": [
      "\n",
      "\n",
      "\n",
      "  5%|██▍                                          | 697/13077 [1:45:42<23:14:43,  6.76s/it]\u001b[A\u001b[A\u001b[A"
     ]
    },
    {
     "name": "stdout",
     "output_type": "stream",
     "text": [
      "finatal.com.json\n"
     ]
    },
    {
     "name": "stderr",
     "output_type": "stream",
     "text": [
      "\n",
      "\n",
      "\n",
      "  5%|██▍                                          | 698/13077 [1:45:48<21:36:40,  6.28s/it]\u001b[A\u001b[A\u001b[A"
     ]
    },
    {
     "name": "stdout",
     "output_type": "stream",
     "text": [
      "ssaandco.com.json\n"
     ]
    },
    {
     "name": "stderr",
     "output_type": "stream",
     "text": [
      "\n",
      "\n",
      "\n",
      "  5%|██▍                                          | 699/13077 [1:45:54<21:47:23,  6.34s/it]\u001b[A\u001b[A\u001b[A\n",
      "\n",
      "\n",
      "  5%|██▍                                          | 700/13077 [1:45:54<15:22:01,  4.47s/it]\u001b[A\u001b[A\u001b[A"
     ]
    },
    {
     "name": "stdout",
     "output_type": "stream",
     "text": [
      "fox4news.com.json\n",
      "ultra-ic.com.json\n"
     ]
    },
    {
     "name": "stderr",
     "output_type": "stream",
     "text": [
      "\n",
      "\n",
      "\n",
      "  5%|██▍                                          | 701/13077 [1:45:59<15:43:32,  4.57s/it]\u001b[A\u001b[A\u001b[A"
     ]
    },
    {
     "name": "stdout",
     "output_type": "stream",
     "text": [
      "cco.com.json\n"
     ]
    },
    {
     "name": "stderr",
     "output_type": "stream",
     "text": [
      "\n",
      "\n",
      "\n",
      "  5%|██▍                                          | 702/13077 [1:46:01<12:40:08,  3.69s/it]\u001b[A\u001b[A\u001b[A"
     ]
    },
    {
     "name": "stdout",
     "output_type": "stream",
     "text": [
      "bigleaguedreams.com.json\n"
     ]
    },
    {
     "name": "stderr",
     "output_type": "stream",
     "text": [
      "\n",
      "\n",
      "\n",
      "  5%|██▍                                          | 703/13077 [1:46:02<10:21:25,  3.01s/it]\u001b[A\u001b[A\u001b[A"
     ]
    },
    {
     "name": "stdout",
     "output_type": "stream",
     "text": [
      "theremigroup.com.json\n"
     ]
    },
    {
     "name": "stderr",
     "output_type": "stream",
     "text": [
      "\n",
      "\n",
      "\n",
      "  5%|██▍                                          | 704/13077 [1:46:09<14:27:28,  4.21s/it]\u001b[A\u001b[A\u001b[A"
     ]
    },
    {
     "name": "stdout",
     "output_type": "stream",
     "text": [
      "boldbusiness.com.json\n"
     ]
    },
    {
     "name": "stderr",
     "output_type": "stream",
     "text": [
      "\n",
      "\n",
      "\n",
      "  5%|██▍                                          | 705/13077 [1:46:28<30:05:51,  8.76s/it]\u001b[A\u001b[A\u001b[A"
     ]
    },
    {
     "name": "stdout",
     "output_type": "stream",
     "text": [
      "jmacmedium.com.json\n"
     ]
    },
    {
     "name": "stderr",
     "output_type": "stream",
     "text": [
      "\n",
      "\n",
      "\n",
      "  5%|██▍                                          | 706/13077 [1:46:31<23:25:30,  6.82s/it]\u001b[A\u001b[A\u001b[A"
     ]
    },
    {
     "name": "stdout",
     "output_type": "stream",
     "text": [
      "bmagroupglobal.com.json\n"
     ]
    },
    {
     "name": "stderr",
     "output_type": "stream",
     "text": [
      "\n",
      "\n",
      "\n",
      "  5%|██▍                                          | 707/13077 [1:46:42<28:16:27,  8.23s/it]\u001b[A\u001b[A\u001b[A"
     ]
    },
    {
     "name": "stdout",
     "output_type": "stream",
     "text": [
      "cfna.com.json\n"
     ]
    },
    {
     "name": "stderr",
     "output_type": "stream",
     "text": [
      "\n",
      "\n",
      "\n",
      "  5%|██▍                                          | 708/13077 [1:46:53<31:23:36,  9.14s/it]\u001b[A\u001b[A\u001b[A"
     ]
    },
    {
     "name": "stdout",
     "output_type": "stream",
     "text": [
      "acwellness.com.json\n"
     ]
    },
    {
     "name": "stderr",
     "output_type": "stream",
     "text": [
      "\n",
      "\n",
      "\n",
      "  5%|██▍                                          | 709/13077 [1:46:54<22:57:39,  6.68s/it]\u001b[A\u001b[A\u001b[A"
     ]
    },
    {
     "name": "stdout",
     "output_type": "stream",
     "text": [
      "marriottgrand.com.json\n",
      "wavemaker.com.json\n"
     ]
    },
    {
     "name": "stderr",
     "output_type": "stream",
     "text": [
      "\n",
      "\n",
      "\n",
      "  5%|██▍                                          | 711/13077 [1:47:08<23:16:58,  6.78s/it]\u001b[A\u001b[A\u001b[A"
     ]
    },
    {
     "name": "stdout",
     "output_type": "stream",
     "text": [
      "tcectexas.com.json\n"
     ]
    },
    {
     "name": "stderr",
     "output_type": "stream",
     "text": [
      "\n",
      "\n",
      "\n",
      "  5%|██▍                                          | 712/13077 [1:47:21<28:25:53,  8.28s/it]\u001b[A\u001b[A\u001b[A"
     ]
    },
    {
     "name": "stdout",
     "output_type": "stream",
     "text": [
      "whirleydrinkworks.com.json\n"
     ]
    },
    {
     "name": "stderr",
     "output_type": "stream",
     "text": [
      "\n",
      "\n",
      "\n",
      "  5%|██▍                                          | 713/13077 [1:47:33<31:36:48,  9.20s/it]\u001b[A\u001b[A\u001b[A"
     ]
    },
    {
     "name": "stdout",
     "output_type": "stream",
     "text": [
      "mauielectric.com.json\n",
      "navatargroup.com.json\n"
     ]
    },
    {
     "name": "stderr",
     "output_type": "stream",
     "text": [
      "\n",
      "\n",
      "\n",
      "  5%|██▍                                          | 715/13077 [1:47:41<23:54:05,  6.96s/it]\u001b[A\u001b[A\u001b[A"
     ]
    },
    {
     "name": "stdout",
     "output_type": "stream",
     "text": [
      "mckinc.com.json\n"
     ]
    },
    {
     "name": "stderr",
     "output_type": "stream",
     "text": [
      "\n",
      "\n",
      "\n",
      "  5%|██▍                                          | 716/13077 [1:47:41<18:36:45,  5.42s/it]\u001b[A\u001b[A\u001b[A"
     ]
    },
    {
     "name": "stdout",
     "output_type": "stream",
     "text": [
      "husseygaybell.com.json\n"
     ]
    },
    {
     "name": "stderr",
     "output_type": "stream",
     "text": [
      "\n",
      "\n",
      "\n",
      "  5%|██▍                                          | 717/13077 [1:47:50<21:46:26,  6.34s/it]\u001b[A\u001b[A\u001b[A"
     ]
    },
    {
     "name": "stdout",
     "output_type": "stream",
     "text": [
      "bridgewater-interiors.com.json\n"
     ]
    },
    {
     "name": "stderr",
     "output_type": "stream",
     "text": [
      "\n",
      "\n",
      "\n",
      "  5%|██▍                                          | 718/13077 [1:47:57<22:02:24,  6.42s/it]\u001b[A\u001b[A\u001b[A"
     ]
    },
    {
     "name": "stdout",
     "output_type": "stream",
     "text": [
      "townoftruckee.com.json\n"
     ]
    }
   ],
   "source": [
    "for file in tqdm(files_in_folder[67:]):\n",
    "    info = extract_location(baseurl=file,max_workers=30)\n",
    "    geodata = geo_df[(geo_df['ASCII Name']==info['city']) & (geo_df['Admin1 Code']==info['state'])]\n",
    "    if len(geodata)==0:\n",
    "        with open('./data/geofeature.csv', mode='a', newline='') as geo_out:\n",
    "            writer = csv.writer(geo_out)\n",
    "            writer.writerow([file,len(geodata),info['context']])\n",
    "    else:\n",
    "        with open('./data/geofeature.csv', mode='a', newline='') as geo_out:\n",
    "            writer = csv.writer(geo_out)\n",
    "            writer.writerow([file,len(geodata),geodata.to_json()])"
   ]
  },
  {
   "cell_type": "code",
   "execution_count": 281,
   "id": "73234116-1fa8-4955-a6aa-1296839a3a5b",
   "metadata": {},
   "outputs": [
    {
     "name": "stdout",
     "output_type": "stream",
     "text": [
      "2\n"
     ]
    }
   ],
   "source": []
  },
  {
   "cell_type": "markdown",
   "id": "f0be4a63-2ead-475b-bdd4-db500ccb7b38",
   "metadata": {},
   "source": [
    "## other..."
   ]
  },
  {
   "cell_type": "code",
   "execution_count": null,
   "id": "dabd1db5-e125-4d39-9ddd-f426a40c915a",
   "metadata": {},
   "outputs": [],
   "source": []
  },
  {
   "cell_type": "code",
   "execution_count": 36,
   "id": "7rVVlmZ3KMTJ",
   "metadata": {
    "colab": {
     "base_uri": "https://localhost:8080/"
    },
    "id": "7rVVlmZ3KMTJ",
    "outputId": "fcec9119-9c8c-4a96-88c8-9e8fc863ea13"
   },
   "outputs": [
    {
     "data": {
      "text/plain": [
       "13144"
      ]
     },
     "execution_count": 36,
     "metadata": {},
     "output_type": "execute_result"
    }
   ],
   "source": []
  },
  {
   "cell_type": "code",
   "execution_count": 37,
   "id": "AdSRf4xB_KWM",
   "metadata": {
    "id": "AdSRf4xB_KWM"
   },
   "outputs": [],
   "source": []
  },
  {
   "cell_type": "code",
   "execution_count": 9,
   "id": "d9ed7302-b64b-4ede-8d20-3bab250245d4",
   "metadata": {
    "collapsed": true,
    "jupyter": {
     "outputs_hidden": true
    }
   },
   "outputs": [
    {
     "data": {
      "text/plain": [
       "['skysolutions.com.json',\n",
       " 'richardsonsports.com.json',\n",
       " 'wilson-company.com.json',\n",
       " 'westernallied.com.json',\n",
       " 'bluescopebuildings.com.json',\n",
       " 'cobbemc.com.json',\n",
       " 'is4s.com.json',\n",
       " 'berkleyselect.com.json',\n",
       " 'webbwheel.com.json',\n",
       " 'sygmanetwork.com.json',\n",
       " 'smma.com.json',\n",
       " 'cgicontainersales.com.json',\n",
       " 'nydig.com.json',\n",
       " 'protranslating.com.json',\n",
       " 'traditionalbank.com.json',\n",
       " 'percona.com.json',\n",
       " 'lawnlove.com.json',\n",
       " 'elementsdesign.com.json',\n",
       " 'pghwong.com.json',\n",
       " 'fwcook.com.json',\n",
       " 'sofistadium.com.json',\n",
       " 'sfopera.com.json',\n",
       " 'helenwellsagency.com.json',\n",
       " 'russdaviswholesale.com.json',\n",
       " 'irissoftware.com.json',\n",
       " 'klarquist.com.json',\n",
       " 'govtact.com.json',\n",
       " 'lowlandsgroup.com.json',\n",
       " 'kingseducation.com.json',\n",
       " 'qualcareinc.com.json',\n",
       " 'mymotomart.com.json',\n",
       " 'chartbeat.com.json',\n",
       " 'kongbasileconsulting.com.json',\n",
       " 'javacity.com.json',\n",
       " 'saintmarks.com.json',\n",
       " 'finchpaper.com.json',\n",
       " 'optoro.com.json',\n",
       " 'paccarparts.com.json',\n",
       " 'tendercarehh.com.json',\n",
       " 'ftei.com.json',\n",
       " 'lessen.com.json',\n",
       " 'runkandpratt.com.json',\n",
       " 'utblogistics.com.json',\n",
       " 'kochmodular.com.json',\n",
       " 'packhealth.com.json',\n",
       " 'barclaysus.com.json',\n",
       " 'fhlbtopeka.com.json',\n",
       " 'netspend.com.json',\n",
       " 'redclassic.com.json',\n",
       " 'solutionsbytext.com.json',\n",
       " 'miltoncat.com.json',\n",
       " 'guardianpharmacy.com.json',\n",
       " 'financialpartners.com.json',\n",
       " 'delfina.com.json',\n",
       " 'frontgatetickets.com.json',\n",
       " 'feinewengland.com.json',\n",
       " 'laposadadesantafe.com.json',\n",
       " 'getrapl.com.json',\n",
       " 'interlake-steamship.com.json',\n",
       " 'hal-inc.com.json',\n",
       " 'sparkadvisors.com.json',\n",
       " 'joinatlantis.com.json',\n",
       " 'milenderwhite.com.json',\n",
       " 'ishir.com.json',\n",
       " 'touchstoneinvestments.com.json',\n",
       " 'vlkarchitects.com.json',\n",
       " 'brightcoreenergy.com.json',\n",
       " 'affinityhealthcorp.com.json',\n",
       " 'stadiumpeople.com.json',\n",
       " 'gannettfleming.com.json',\n",
       " 'imigroup.com.json',\n",
       " 'trustapexinternational.com.json',\n",
       " 'lumapps.com.json',\n",
       " 'cardinals.com.json',\n",
       " 'revisionenergy.com.json',\n",
       " 'guthy-renker.com.json',\n",
       " 'marqeta.com.json',\n",
       " 'mechatronics.com.json',\n",
       " 'rewterz.com.json',\n",
       " 'tektonlabs.com.json',\n",
       " 'georgetowncommunityhospital.com.json',\n",
       " 'sterlingequities.com.json',\n",
       " 'coverwallet.com.json',\n",
       " 'holyspiritretirementhome.com.json',\n",
       " 'senecaglobal.com.json',\n",
       " 'rwcatskills.com.json',\n",
       " 'emersonrogers.com.json',\n",
       " 'neogenomics.com.json',\n",
       " 'cctvcamerapros.com.json',\n",
       " 'thevillageshealth.com.json',\n",
       " 'cjadvertising.com.json',\n",
       " 'engageware.com.json',\n",
       " 'cbservice.com.json',\n",
       " 'conceptrehab.com.json',\n",
       " 'answernet.com.json',\n",
       " 's2cp.com.json',\n",
       " 'montessorieducation.com.json',\n",
       " 'inspire11.com.json',\n",
       " 'arvinas.com.json',\n",
       " 'constellationmutual.com.json',\n",
       " 'aaitpro.com.json',\n",
       " 'citimed.com.json',\n",
       " 'virginiamedia.com.json',\n",
       " 'neevsystems.com.json',\n",
       " '66degrees.com.json',\n",
       " 'evonsys.com.json',\n",
       " 'imta.com.json',\n",
       " 'chowbus.com.json',\n",
       " 'julyservices.com.json',\n",
       " 'benhamouglobalventures.com.json',\n",
       " 'ccok.com.json',\n",
       " 'alamoanahotelhonolulu.com.json',\n",
       " 'mooretransport.com.json',\n",
       " 'usfertility.com.json',\n",
       " 'marionso.com.json',\n",
       " 'ucco.com.json',\n",
       " 'wolffolins.com.json',\n",
       " 'revionics.com.json',\n",
       " 'epiloglaser.com.json',\n",
       " 'sram.com.json',\n",
       " 'purvis.com.json',\n",
       " 'freshgravity.com.json',\n",
       " 'issaction.com.json',\n",
       " 'littletongroup.com.json',\n",
       " 'mainline.com.json',\n",
       " 'choate.com.json',\n",
       " 'c2spr.com.json',\n",
       " 'modjeski.com.json',\n",
       " 'duplionline.com.json',\n",
       " 'adesisinc.com.json',\n",
       " 'unitedpower.com.json',\n",
       " 'gitano.com.json',\n",
       " 'simondata.com.json',\n",
       " 'engagestar.com.json',\n",
       " 'silaservices.com.json',\n",
       " 'fpacp.com.json',\n",
       " 'alpha-sense.com.json',\n",
       " 'harveyssupermarkets.com.json',\n",
       " 'alcivia.com.json',\n",
       " 'rlginc.com.json',\n",
       " 'buildgc.com.json',\n",
       " 'beekley.com.json',\n",
       " 'imperfect.com.json',\n",
       " 'combinedtransport.com.json',\n",
       " 'nsre.com.json',\n",
       " 'iengineering.com.json',\n",
       " 'mimeridian.com.json',\n",
       " 'canuscorp.com.json',\n",
       " 'wvmb.com.json',\n",
       " 'corexpartners.com.json',\n",
       " 'flatrivergroup.com.json',\n",
       " 'walshbrothers.com.json',\n",
       " 'dashlane.com.json',\n",
       " 'colsongroup.com.json',\n",
       " 'tilebar.com.json',\n",
       " 'concerthealth.com.json',\n",
       " 'tuckeralbin.com.json',\n",
       " 'aprco.com.json',\n",
       " 'maxwellkates.com.json',\n",
       " 'theviswagroup.com.json',\n",
       " 'e360.com.json',\n",
       " 'cardinalstaffing.com.json',\n",
       " 'precisionglobal.com.json',\n",
       " 'cottoninc.com.json',\n",
       " 'spectratechinc.com.json',\n",
       " 'alphaconsulting.com.json',\n",
       " 'mellottcompany.com.json',\n",
       " 'acelerolearning.com.json',\n",
       " 'fontainemodification.com.json',\n",
       " 'healthmark-group.com.json',\n",
       " 'dedicatednurses.com.json',\n",
       " 'gubagoo.com.json',\n",
       " 'cancapital.com.json',\n",
       " 'hansoll.com.json',\n",
       " 'advisenltd.com.json',\n",
       " 'ftxcs.com.json',\n",
       " 'tfeconnect.com.json',\n",
       " 'teamavoq.com.json',\n",
       " 'portcanaveral.com.json',\n",
       " 'silverstatecu.com.json',\n",
       " 'ffvamutual.com.json',\n",
       " 'cityshieldllc.com.json',\n",
       " 'kramerbev.com.json',\n",
       " 'pathstream.com.json',\n",
       " 'forwardaircorp.com.json',\n",
       " 'berjeinc.com.json',\n",
       " 'chevysmd.com.json',\n",
       " 'everstorypartners.com.json',\n",
       " 'cambridgecomputer.com.json',\n",
       " 'dbi-cc.com.json',\n",
       " 'apiiro.com.json',\n",
       " 'globaldots.com.json',\n",
       " 'eeintl.com.json',\n",
       " 'cgsmedicare.com.json',\n",
       " 'advisor360.com.json',\n",
       " 'hawksoft.com.json',\n",
       " 'forwardslope.com.json',\n",
       " 'fsbwa.com.json',\n",
       " 'greenrisetech.com.json',\n",
       " 'cakwarriors.com.json',\n",
       " 'scgdesignsolution.com.json',\n",
       " 'hollywoodgulfcoast.com.json',\n",
       " 'rivierahealthresort.com.json',\n",
       " 'edgeindtech.com.json',\n",
       " 'whatifinnovation.com.json',\n",
       " 'mspcommunications.com.json',\n",
       " 'methode.com.json',\n",
       " 'destinycorp.com.json',\n",
       " 'sclv.com.json',\n",
       " 'ncnelink.com.json',\n",
       " 'safelitesolutions.com.json',\n",
       " 'trssllc.com.json',\n",
       " 'vigitrust.com.json',\n",
       " 'idealconcepts.com.json',\n",
       " 'nflfilms.com.json',\n",
       " 'onestream.com.json',\n",
       " 'southworks.com.json',\n",
       " 'aacd.com.json',\n",
       " 'chelsio.com.json',\n",
       " 'ptsmc.com.json',\n",
       " 'cdcloans.com.json',\n",
       " 'thehaunedge.com.json',\n",
       " 'ceris.com.json',\n",
       " 'ouhealth.com.json',\n",
       " 'stluciesheriff.com.json',\n",
       " 'fcbcure.com.json',\n",
       " 'lives2residential.com.json',\n",
       " 'burgerrehab.com.json',\n",
       " 'nedelta.com.json',\n",
       " 'wrsystems.com.json',\n",
       " 'valoris.com.json',\n",
       " 'marwoodgroup.com.json',\n",
       " 'juvo.com.json',\n",
       " 'rbtcpas.com.json',\n",
       " 'elmecommunities.com.json',\n",
       " 'wmu.com.json',\n",
       " 'centuryrehab.com.json',\n",
       " 'houseofparliament.com.json',\n",
       " 'atspnw.com.json',\n",
       " 'mysmilemagic.com.json',\n",
       " 'cafepressinc.com.json',\n",
       " 'cnb1901.com.json',\n",
       " 'unitedfinancialfreedom.com.json',\n",
       " 'acscrops.com.json',\n",
       " 'sawmillclub.com.json',\n",
       " 'twochairs.com.json',\n",
       " 'walmartdataventures.com.json',\n",
       " 'avidbank.com.json',\n",
       " 'transak.com.json',\n",
       " 'buckleypowder.com.json',\n",
       " 'nortonchildrens.com.json',\n",
       " 'automationservice.com.json',\n",
       " 'spectralink.com.json',\n",
       " 'conceptltd.com.json',\n",
       " 'partnerize.com.json',\n",
       " 'parsebiosciences.com.json',\n",
       " 'areteir.com.json',\n",
       " 'onshoreoutsourcing.com.json',\n",
       " 'plant-partners.com.json',\n",
       " 'grammerlogistics.com.json',\n",
       " 'accessnurse.com.json',\n",
       " 'curtinmaritime.com.json',\n",
       " 'archatl.com.json',\n",
       " 'dover.com.json',\n",
       " 'nelsonbrothers.com.json',\n",
       " 'nextlevelsports.com.json',\n",
       " 'lighthouseindia.com.json',\n",
       " 'dhjj.com.json',\n",
       " 'inhometherapy.com.json',\n",
       " 'forkliftsystems.com.json',\n",
       " 'govos.com.json',\n",
       " 'sior.com.json',\n",
       " 'wellnow.com.json',\n",
       " 'ndieng.com.json',\n",
       " 'bpcs.com.json',\n",
       " 'aemcorp.com.json',\n",
       " 'parkhill.com.json',\n",
       " 'clever.com.json',\n",
       " 'revvaviation.com.json',\n",
       " 'harvesthousepublishers.com.json',\n",
       " 'nortechsys.com.json',\n",
       " 'cbwarburg.com.json',\n",
       " 'esrtreit.com.json',\n",
       " 'prg.com.json',\n",
       " 'newlinlaw.com.json',\n",
       " 'goldcoastbeverage.com.json',\n",
       " 'steelers.com.json',\n",
       " 'allcampus.com.json',\n",
       " 'mersofmich.com.json',\n",
       " 'traulsen.com.json',\n",
       " 'micromerchantsystems.com.json',\n",
       " 'davispolk.com.json',\n",
       " 'collectivelyinc.com.json',\n",
       " 'kramerlevin.com.json',\n",
       " 'errg.com.json',\n",
       " 'waggonerstrucking.com.json',\n",
       " 'ckha.com.json',\n",
       " 'memesmediagroup.com.json',\n",
       " 'fruitgrowers.com.json',\n",
       " 'doeandcompany.com.json',\n",
       " 'superegoholding.com.json',\n",
       " 'ticasino.com.json',\n",
       " 'aitacs.com.json',\n",
       " 'orhp.com.json',\n",
       " 'saintsbaseball.com.json',\n",
       " 'spartasystems.com.json',\n",
       " 'coremark.com.json',\n",
       " 'acclaro.com.json',\n",
       " 'mtci.com.json',\n",
       " 'thepoho.com.json',\n",
       " 'fillingstation.com.json',\n",
       " 'systemskills.com.json',\n",
       " 'elevolearning.com.json',\n",
       " 'bowersandkubota.com.json',\n",
       " 'amtelco.com.json',\n",
       " 'landolakes.com.json',\n",
       " 'usebounce.com.json',\n",
       " 'g-w.com.json',\n",
       " 'carolinafoodsinc.com.json',\n",
       " 'blueworldpools.com.json',\n",
       " 'atlantiscasino.com.json',\n",
       " 'mozarcmedical.com.json',\n",
       " 'custompax.com.json',\n",
       " 'insightpartners.com.json',\n",
       " 'skaeng.com.json',\n",
       " 'nhcares.com.json',\n",
       " 'blueoptima.com.json',\n",
       " 'jifiti.com.json',\n",
       " 'kidsinthegame.com.json',\n",
       " 'decodedadvertising.com.json',\n",
       " 'schmidtsche-schack.com.json',\n",
       " 'knotion.com.json',\n",
       " 'forbrightbank.com.json',\n",
       " 'uniloy.com.json',\n",
       " 'applebuscompany.com.json',\n",
       " 'lgcypower.com.json',\n",
       " 'valcor.com.json',\n",
       " 'keoliscs.com.json',\n",
       " 'cchphealthplan.com.json',\n",
       " 'ultimatepail.com.json',\n",
       " 'definitivehc.com.json',\n",
       " 'qualizeal.com.json',\n",
       " 'jcmh.com.json',\n",
       " 'conceptsnrec.com.json',\n",
       " 'coraphysicaltherapy.com.json',\n",
       " 'nvisionu.com.json',\n",
       " 'thelittlenell.com.json',\n",
       " 'scyap.com.json',\n",
       " 'oneparkfinancial.com.json',\n",
       " 'azacp.com.json',\n",
       " 'stillwatermedical.com.json',\n",
       " 'carwashadvisory.com.json',\n",
       " 'mcdonaldcarano.com.json',\n",
       " 'nassco.com.json',\n",
       " 'audintel.com.json',\n",
       " 'abelsontaylor.com.json',\n",
       " 'partnersinpediatrics.com.json',\n",
       " 'safrandatasystemsus.com.json',\n",
       " 'blackboardk12.com.json',\n",
       " 'ceestaffing.com.json',\n",
       " 'area17.com.json',\n",
       " 'avbmarketing.com.json',\n",
       " 'swkidney.com.json',\n",
       " 'nozzlenolen.com.json',\n",
       " 'billingsleyco.com.json',\n",
       " 'mybenefitsplus.com.json',\n",
       " 'wabashvalleyeggs.com.json',\n",
       " 'henselphelps.com.json',\n",
       " 'mindcolorautism.com.json',\n",
       " 'velaninfo.com.json',\n",
       " 'shinetechsoftware.com.json',\n",
       " 'rell.com.json',\n",
       " 'alvitacare.com.json',\n",
       " 'kwplatinumrealty.com.json',\n",
       " 'saratogacasino.com.json',\n",
       " 'preferredbank.com.json',\n",
       " 'visto.com.json',\n",
       " 'bubbakoos.com.json',\n",
       " 'integrisit.com.json',\n",
       " 'camurren.com.json',\n",
       " 'westell.com.json',\n",
       " 'phelpssecurity.com.json',\n",
       " 'evconnect.com.json',\n",
       " 'parkbank.com.json',\n",
       " 'suffolk.com.json',\n",
       " 'integratedhealthcarestaffing.com.json',\n",
       " 'soniresources.com.json',\n",
       " 'lncurtis.com.json',\n",
       " 'techvedika.com.json',\n",
       " 'corporatevisions.com.json',\n",
       " 'mediadc.com.json',\n",
       " 'srhc.com.json',\n",
       " 'vestmark.com.json',\n",
       " 'strosechurch.com.json',\n",
       " 'dashdevs.com.json',\n",
       " 'redpanda.com.json',\n",
       " 'victorious.com.json',\n",
       " 'feditc.com.json',\n",
       " 'dana-co.com.json',\n",
       " 'huseculinary.com.json',\n",
       " 'cleaninc.com.json',\n",
       " 'completehealth.com.json',\n",
       " 'metrobps.com.json',\n",
       " 'dksassociates.com.json',\n",
       " 'aircond.com.json',\n",
       " 'hayscountytx.com.json',\n",
       " 'columbushospitality.com.json',\n",
       " 'vitaehs.com.json',\n",
       " 'ezeefiber.com.json',\n",
       " 'clearbridgetech.com.json',\n",
       " 'diabsolut.com.json',\n",
       " 'roneengineers.com.json',\n",
       " 'attainaba.com.json',\n",
       " 'cwlp.com.json',\n",
       " 'cmishipmanagement.com.json',\n",
       " 'bankatfirstnational.com.json',\n",
       " 'dataentryindia.com.json',\n",
       " 'c3insurance.com.json',\n",
       " 'modulemd.com.json',\n",
       " 'cliffhousemaine.com.json',\n",
       " 'cloudangles.com.json',\n",
       " 'medleycompany.com.json',\n",
       " 'unitil.com.json',\n",
       " 'farmjournalmedia.com.json',\n",
       " 'ndala.com.json',\n",
       " 'valoremreply.com.json',\n",
       " 'fairmont-kea-lani.com.json',\n",
       " 'gilautomation.com.json',\n",
       " 'caro-nut.com.json',\n",
       " 'newlight.com.json',\n",
       " 'ceriumnetworks.com.json',\n",
       " 'personcenteredservices.com.json',\n",
       " 'tjfact.com.json',\n",
       " 'cafortune.com.json',\n",
       " 'florencehc.com.json',\n",
       " 'jordanessentials.com.json',\n",
       " 'alfaenergygroup.com.json',\n",
       " 'cennoxsafes.com.json',\n",
       " 'udcus.com.json',\n",
       " 'fts-intl.com.json',\n",
       " 'programmablepower.com.json',\n",
       " 'nmgco.com.json',\n",
       " 'inlandpackaging.com.json',\n",
       " 'fullstackacademy.com.json',\n",
       " 'ricoma.com.json',\n",
       " 'autelrobotics.com.json',\n",
       " 'cpack.com.json',\n",
       " 'pipedrive.com.json',\n",
       " 'mybankcnb.com.json',\n",
       " 'rolloinsurance.com.json',\n",
       " 'coretek.com.json',\n",
       " 'daytonchristian.com.json',\n",
       " 'c4plans.com.json',\n",
       " 'avisystems.com.json',\n",
       " 'greenslate.com.json',\n",
       " 'paxerahealth.com.json',\n",
       " 'safko.com.json',\n",
       " 'datanetworks.com.json',\n",
       " 'mydiscoverchiropractic.com.json',\n",
       " 'ipatientcare.com.json',\n",
       " 'tch-az.com.json',\n",
       " 'dreamztech.com.json',\n",
       " 'doctoralliance.com.json',\n",
       " 'regencytechnologies.com.json',\n",
       " 'roundstoneinsurance.com.json',\n",
       " 'appsassociates.com.json',\n",
       " 'zuzick.com.json',\n",
       " '100coaches.com.json',\n",
       " 'carter-express.com.json',\n",
       " 'oneworldglobalservices.com.json',\n",
       " 'indovance.com.json',\n",
       " 'kayalortho.com.json',\n",
       " 'purchasing-procurement-center.com.json',\n",
       " 'blackpointcyber.com.json',\n",
       " 'phi.com.json',\n",
       " 'atorusresearch.com.json',\n",
       " 'srmcorp.com.json',\n",
       " 'westburybankwi.com.json',\n",
       " 'emarquettebank.com.json',\n",
       " 'startvirtual.com.json',\n",
       " 'livingthedream.com.json',\n",
       " 'pipelinerx.com.json',\n",
       " 'tklresearch.com.json',\n",
       " 'coregistics.com.json',\n",
       " 'fortitude-re.com.json',\n",
       " 'soundinvestmentav.com.json',\n",
       " 'norlandintl.com.json',\n",
       " 'whitesharkmedia.com.json',\n",
       " 'phonexa.com.json',\n",
       " 'pmiaus.com.json',\n",
       " 'erinhills.com.json',\n",
       " 'thedaviscompanies.com.json',\n",
       " 'iconnect-corp.com.json',\n",
       " 'teledyne.com.json',\n",
       " 'netenrich.com.json',\n",
       " 'puppet.com.json',\n",
       " 'flinnsci.com.json',\n",
       " 'twocircles.com.json',\n",
       " 'hibu.com.json',\n",
       " 'hrworks-inc.com.json',\n",
       " 'protalix.com.json',\n",
       " 'fisherbarton.com.json',\n",
       " 'ironpigsbaseball.com.json',\n",
       " 'apptio.com.json',\n",
       " 'execinc.com.json',\n",
       " 'therta.com.json',\n",
       " 'plummer.com.json',\n",
       " 'neoshomemorial.com.json',\n",
       " 'gwccnet.com.json',\n",
       " '97thfloor.com.json',\n",
       " 'svclnk.com.json',\n",
       " 'lumel.com.json',\n",
       " 'shopstudio41.com.json',\n",
       " 'dextara.com.json',\n",
       " 'brownpalace.com.json',\n",
       " 'carrxerox.com.json',\n",
       " 'cuisinart.com.json',\n",
       " 'moss.com.json',\n",
       " 'raycomsports.com.json',\n",
       " 'boathouseinc.com.json',\n",
       " 'paduafranciscan.com.json',\n",
       " 'v3electric.com.json',\n",
       " 'dbisoftware.com.json',\n",
       " 'latn.com.json',\n",
       " 'evokewellness.com.json',\n",
       " 'samititechnology.com.json',\n",
       " 'transcendinfra.com.json',\n",
       " 'vyond.com.json',\n",
       " 'orexo.com.json',\n",
       " 'pchc.com.json',\n",
       " 'doyongovgrp.com.json',\n",
       " 'doingbetterbusiness.com.json',\n",
       " 'splicens.com.json',\n",
       " 'iyc.com.json',\n",
       " 'togetherwork.com.json',\n",
       " 'foodqualityandsafety.com.json',\n",
       " 'ghtltd.com.json',\n",
       " 'peakusg.com.json',\n",
       " 'larsontexts.com.json',\n",
       " 'snocasino.com.json',\n",
       " 'valdezicorp.com.json',\n",
       " 'quenchwater.com.json',\n",
       " 'rite-solutions.com.json',\n",
       " 'backstopsolutions.com.json',\n",
       " 'intex.com.json',\n",
       " 'siteglobal.com.json',\n",
       " 'broadvoice.com.json',\n",
       " 'obeyclothing.com.json',\n",
       " 'sharetec.com.json',\n",
       " 'safepointins.com.json',\n",
       " 'megcox.com.json',\n",
       " 'cbisecurity.com.json',\n",
       " 'computronix.com.json',\n",
       " 'lancerinsurance.com.json',\n",
       " 'communitymtg.com.json',\n",
       " 'edetek.com.json',\n",
       " 'energo.com.json',\n",
       " 'dickswingsandgrill.com.json',\n",
       " 'berkshiremedicalmanagement.com.json',\n",
       " 'interfaithmedical.com.json',\n",
       " 'energysage.com.json',\n",
       " 'simnsa.com.json',\n",
       " 'nwpump.com.json',\n",
       " 'mmsgroup.com.json',\n",
       " 'alphaengineering.com.json',\n",
       " 'akqa.com.json',\n",
       " 'userainbow.com.json',\n",
       " 'toughmudder.com.json',\n",
       " 'paychex.com.json',\n",
       " 'cbridgeinc.com.json',\n",
       " 'c-rock.com.json',\n",
       " 'cassiday.com.json',\n",
       " 'tonic3.com.json',\n",
       " 'myjavita.com.json',\n",
       " 'northstarmutual.com.json',\n",
       " 'bnpmedia.com.json',\n",
       " 'presstek.com.json',\n",
       " 'riggshealth.com.json',\n",
       " 'bakercommodities.com.json',\n",
       " 'starrregional.com.json',\n",
       " 'premiersurgical.com.json',\n",
       " 'performanceacademies.com.json',\n",
       " 'escapology.com.json',\n",
       " 'billingplatform.com.json',\n",
       " '12thtribe.com.json',\n",
       " 'planetdepos.com.json',\n",
       " 'quontic.com.json',\n",
       " 'skyboxsecurity.com.json',\n",
       " 'ottobockcare.com.json',\n",
       " 'domdiag.com.json',\n",
       " 'symmons.com.json',\n",
       " 'hanoverresearch.com.json',\n",
       " 'fusionstaffingpartners.com.json',\n",
       " 'alpinhaus.com.json',\n",
       " 'saukvalleybank.com.json',\n",
       " 'myclarkspns.com.json',\n",
       " 'obsidiansg.com.json',\n",
       " 'pchase.com.json',\n",
       " 'mtolympuspark.com.json',\n",
       " 'rutheckerdhall.com.json',\n",
       " 'aetnaplywood.com.json',\n",
       " 'nauticalventures.com.json',\n",
       " 'pcs-tech.com.json',\n",
       " 'aligneddc.com.json',\n",
       " 'bedsonline.com.json',\n",
       " 'websterfirst.com.json',\n",
       " 'sensei.com.json',\n",
       " 'ecslimited.com.json',\n",
       " 'alicat.com.json',\n",
       " 'boschmanufacturingsolutions.com.json',\n",
       " 'smc3.com.json',\n",
       " 'hapusa.com.json',\n",
       " 'lgensol-vt.com.json',\n",
       " 'agile6.com.json',\n",
       " 'geocontrol.com.json',\n",
       " 'clarkenersen.com.json',\n",
       " 'speedgs.com.json',\n",
       " 'suvidahealthcare.com.json',\n",
       " 'primarycolor.com.json',\n",
       " 'heartmath.com.json',\n",
       " 'mparticle.com.json',\n",
       " 'applegreenstores.com.json',\n",
       " 'myamazonguy.com.json',\n",
       " 'idstransportation.com.json',\n",
       " 'safetpros.com.json',\n",
       " 'mmimicro.com.json',\n",
       " 'tistatech.com.json',\n",
       " 'acsisinc.com.json',\n",
       " 'championsschool.com.json',\n",
       " 'egress.com.json',\n",
       " 'casscounty.com.json',\n",
       " 'creditcorponline.com.json',\n",
       " 'netgalley.com.json',\n",
       " 'seacoastunited.com.json',\n",
       " 'kukui.com.json',\n",
       " 'singtaousa.com.json',\n",
       " 'theabcbank.com.json',\n",
       " 'isncorp.com.json',\n",
       " 'kwch.com.json',\n",
       " 'artisllc.com.json',\n",
       " 'jackpotjunction.com.json',\n",
       " 'seta-international.com.json',\n",
       " 'caputomarkets.com.json',\n",
       " 'anchorbaypackaging.com.json',\n",
       " 'advancedch.com.json',\n",
       " 'alpek.com.json',\n",
       " 'neiengineering.com.json',\n",
       " 'kindlending.com.json',\n",
       " 'envivabiomass.com.json',\n",
       " 'lrmcenter.com.json',\n",
       " 'addisongroup.com.json',\n",
       " '919marketing.com.json',\n",
       " 'icagile.com.json',\n",
       " 'apricotsolar.com.json',\n",
       " 'skitaos.com.json',\n",
       " 'lockheedmartin.com.json',\n",
       " 'thechophouse.com.json',\n",
       " 'alwayscompassionate.com.json',\n",
       " 'adventknows.com.json',\n",
       " 'continuant.com.json',\n",
       " 'hce4biz.com.json',\n",
       " 'crawfordhoying.com.json',\n",
       " 'ghctk12.com.json',\n",
       " 'intermarkmgt.com.json',\n",
       " 'fitnessunlimited.com.json',\n",
       " 'fromyouflowers.com.json',\n",
       " 'mjhlifesciences.com.json',\n",
       " '586travel.com.json',\n",
       " 'delawarepark.com.json',\n",
       " 'messiahlutheran.com.json',\n",
       " 'carlwarren.com.json',\n",
       " 'goriteway.com.json',\n",
       " 'nw-rei.com.json',\n",
       " 'prepass.com.json',\n",
       " 'bluezones.com.json',\n",
       " 'cronin-co.com.json',\n",
       " 'joshuaspestcontrol.com.json',\n",
       " 'osgpc.com.json',\n",
       " 'aycofarms.com.json',\n",
       " 'rotolos.com.json',\n",
       " 'trypencil.com.json',\n",
       " 'alhi.com.json',\n",
       " 'corporate-interiors.com.json',\n",
       " 'rowmark.com.json',\n",
       " 'countryfreshinc.com.json',\n",
       " 'thesuite.com.json',\n",
       " 'gardenintel.com.json',\n",
       " 'avetta.com.json',\n",
       " 'airspan.com.json',\n",
       " 'high-voltage.com.json',\n",
       " 'tech-synergy.com.json',\n",
       " 'design-milk.com.json',\n",
       " 'avl.com.json',\n",
       " 'demandzen.com.json',\n",
       " 'associationsinternational.com.json',\n",
       " 'thekentcompanies.com.json',\n",
       " 'marsden.com.json',\n",
       " 'loka.com.json',\n",
       " 'kentik.com.json',\n",
       " 'centraltis.com.json',\n",
       " 'acmeoyster.com.json',\n",
       " 'koerber-supplychain.com.json',\n",
       " 'poppin.com.json',\n",
       " 'marcushotels.com.json',\n",
       " 'herregan.com.json',\n",
       " 'pakwest.com.json',\n",
       " 'owllabs.com.json',\n",
       " 'safeboats.com.json',\n",
       " 'vobile.com.json',\n",
       " 'kwikkaroftn.com.json',\n",
       " 'bbrpartners.com.json',\n",
       " 'newstore.com.json',\n",
       " 'ediblebrands.com.json',\n",
       " 'aspenmusicfestival.com.json',\n",
       " 'dicksteinshapiro.com.json',\n",
       " 'outbrain.com.json',\n",
       " 'gotolee.com.json',\n",
       " 'tipmont.com.json',\n",
       " 'greeneccc.com.json',\n",
       " 'bankfinancial.com.json',\n",
       " 'quayaustralia.com.json',\n",
       " 'vayahealth.com.json',\n",
       " 'curinos.com.json',\n",
       " 'agorapulse.com.json',\n",
       " 'campaignfinancial.com.json',\n",
       " 'msigusa.com.json',\n",
       " 'gasoc.com.json',\n",
       " 'vistadefense.com.json',\n",
       " 'morrisnichols.com.json',\n",
       " 'regencymovies.com.json',\n",
       " 'coarchitects.com.json',\n",
       " 'palmerdonavin.com.json',\n",
       " 'snapdocs.com.json',\n",
       " 'abelwomack.com.json',\n",
       " 'nourison.com.json',\n",
       " 'focusvision.com.json',\n",
       " 'kgip.com.json',\n",
       " 'encoreps.com.json',\n",
       " 'reyesbeveragegroup.com.json',\n",
       " 'incrediblehealth.com.json',\n",
       " 'mcclurevision.com.json',\n",
       " 'tangandcompany.com.json',\n",
       " 'amerihome.com.json',\n",
       " 'ipswrx.com.json',\n",
       " 'covenantwoods.com.json',\n",
       " 'iatse524.com.json',\n",
       " 'pennwaste.com.json',\n",
       " 'serckglobal.com.json',\n",
       " 'asthait.com.json',\n",
       " 'isgvalue.com.json',\n",
       " 'magicalelves.com.json',\n",
       " 'compass-md.com.json',\n",
       " 'dfhcompany.com.json',\n",
       " 'pbmhr.com.json',\n",
       " 'mycnhreman.com.json',\n",
       " 'theygsgroup.com.json',\n",
       " 'jrsusa.com.json',\n",
       " 'phoenixmetals.com.json',\n",
       " 'firemon.com.json',\n",
       " 'tsi-global.com.json',\n",
       " 'leetc.com.json',\n",
       " 'questrmg.com.json',\n",
       " 'equiniti.com.json',\n",
       " 'eventworksrentals.com.json',\n",
       " 'finatal.com.json',\n",
       " 'ssaandco.com.json',\n",
       " 'fox4news.com.json',\n",
       " 'ultra-ic.com.json',\n",
       " 'cco.com.json',\n",
       " 'bigleaguedreams.com.json',\n",
       " 'theremigroup.com.json',\n",
       " 'boldbusiness.com.json',\n",
       " 'jmacmedium.com.json',\n",
       " 'bmagroupglobal.com.json',\n",
       " 'cfna.com.json',\n",
       " 'acwellness.com.json',\n",
       " 'marriottgrand.com.json',\n",
       " 'wavemaker.com.json',\n",
       " 'tcectexas.com.json',\n",
       " 'whirleydrinkworks.com.json',\n",
       " 'mauielectric.com.json',\n",
       " 'navatargroup.com.json',\n",
       " 'mckinc.com.json',\n",
       " 'husseygaybell.com.json',\n",
       " 'bridgewater-interiors.com.json',\n",
       " 'townoftruckee.com.json',\n",
       " 'carelincmed.com.json',\n",
       " 'oshkoshdefense.com.json',\n",
       " '6river.com.json',\n",
       " 'premieramb.com.json',\n",
       " 'cfoselections.com.json',\n",
       " 'egnow.com.json',\n",
       " 'saltwaterinc.com.json',\n",
       " 'corneagen.com.json',\n",
       " 'goldbeltc6.com.json',\n",
       " 'myeasywireless.com.json',\n",
       " 'datos-insights.com.json',\n",
       " 'cape-inc.com.json',\n",
       " 'buchalter.com.json',\n",
       " 'control-associates.com.json',\n",
       " 'e15group.com.json',\n",
       " 'rssc.com.json',\n",
       " 'neweratech.com.json',\n",
       " 'chartindustries.com.json',\n",
       " 'wlfoods.com.json',\n",
       " 'electrosonic.com.json',\n",
       " 'bankofwashington.com.json',\n",
       " 'midwoodambulance.com.json',\n",
       " 'itcfederal.com.json',\n",
       " 'skyitgroup.com.json',\n",
       " 'arcomurray.com.json',\n",
       " 'rx-tech.com.json',\n",
       " 'btetechnologies.com.json',\n",
       " 'slidegenius.com.json',\n",
       " 'larsco.com.json',\n",
       " 'enterone.com.json',\n",
       " 'hammes.com.json',\n",
       " 'mobilexusa.com.json',\n",
       " 'credencegs.com.json',\n",
       " 'ececkids.com.json',\n",
       " 'unitedscrap.com.json',\n",
       " 'siouxsteel.com.json',\n",
       " 'mshanken.com.json',\n",
       " 'highlandfleets.com.json',\n",
       " 'larson.com.json',\n",
       " 'rebag.com.json',\n",
       " 'standardsalescompanylp.com.json',\n",
       " 'origene.com.json',\n",
       " 'amkor.com.json',\n",
       " 'relievant.com.json',\n",
       " 'ftsc.com.json',\n",
       " 'cpbev.com.json',\n",
       " 'reflexgroup.com.json',\n",
       " 'arcpt.com.json',\n",
       " 'cps-llc.com.json',\n",
       " 'rootstock.com.json',\n",
       " 'realtruck.com.json',\n",
       " 'kidzcare.com.json',\n",
       " 'flexera.com.json',\n",
       " 'carrolltonsprings.com.json',\n",
       " 'autofi.com.json',\n",
       " 'trianglesprings.com.json',\n",
       " 'forcemanagement.com.json',\n",
       " 'ntechworkforce.com.json',\n",
       " 'perimeter81.com.json',\n",
       " 'factualdata.com.json',\n",
       " 'clutter.com.json',\n",
       " 'seldatinc.com.json',\n",
       " 'fabtechinc.com.json',\n",
       " 'trachte.com.json',\n",
       " 'trexsolutionsllc.com.json',\n",
       " 'stuenterprises.com.json',\n",
       " 'benchmark-ny.com.json',\n",
       " 'deandorton.com.json',\n",
       " 'arauco.com.json',\n",
       " 'marathonts.com.json',\n",
       " 'axelerant.com.json',\n",
       " 'analogic.com.json',\n",
       " 'kenmarkeyewear.com.json',\n",
       " 'krdcpas.com.json',\n",
       " 'riotcolor.com.json',\n",
       " 'bstock.com.json',\n",
       " 'gorascal.com.json',\n",
       " 'quirkcars.com.json',\n",
       " 'herrmannultraschall.com.json',\n",
       " 'coadvantage.com.json',\n",
       " 'totemaritime.com.json',\n",
       " 'hotelequities.com.json',\n",
       " 'melissas.com.json',\n",
       " 'guidantglobal.com.json',\n",
       " 'trgscreen.com.json',\n",
       " 'laundrylux.com.json',\n",
       " '3genconsulting.com.json',\n",
       " 'jjwhiteinc.com.json',\n",
       " 'incohoinc.com.json',\n",
       " 'netco.com.json',\n",
       " 'edgenuity.com.json',\n",
       " 'tssbulletproof.com.json',\n",
       " 'acmetool.com.json',\n",
       " 'advantage-fi.com.json',\n",
       " 'tennovaclarksville.com.json',\n",
       " 'acuservecorp.com.json',\n",
       " 'officinadc.com.json',\n",
       " 'anco.com.json',\n",
       " 'interexy.com.json',\n",
       " 'kellogghansen.com.json',\n",
       " 'ticketmanager.com.json',\n",
       " 'resonanceglobal.com.json',\n",
       " 'safeandhealthyfamilies.com.json',\n",
       " 'iowaselect.com.json',\n",
       " 'manningtoncommercial.com.json',\n",
       " 'eliteorthopaedic.com.json',\n",
       " 'palms.com.json',\n",
       " 'tbsoc.com.json',\n",
       " 'celerocommerce.com.json',\n",
       " 'jbscarriers.com.json',\n",
       " 'ngdc.com.json',\n",
       " 'sunrisedetox.com.json',\n",
       " 'garlockflexibles.com.json',\n",
       " 'fourkites.com.json',\n",
       " 'assuredallies.com.json',\n",
       " 'apexcleanenergy.com.json',\n",
       " 'eurofins-viracor.com.json',\n",
       " 'identixweb.com.json',\n",
       " 'nisshamedical.com.json',\n",
       " 'deltatechops.com.json',\n",
       " 'roguefitness.com.json',\n",
       " 'mainstaymedical.com.json',\n",
       " 'race.com.json',\n",
       " 'ad1global.com.json',\n",
       " 'allenedwin.com.json',\n",
       " 'flynnohara.com.json',\n",
       " 'anconarealty.com.json',\n",
       " 'itstaffing.com.json',\n",
       " 'seattlesbest.com.json',\n",
       " 'nelsonmullins.com.json',\n",
       " 'highgate.com.json',\n",
       " 'bamboohealth.com.json',\n",
       " 'getunion.com.json',\n",
       " 'kddi.com.json',\n",
       " 'ojb.com.json',\n",
       " 'simplrflex.com.json',\n",
       " 'securitashealthcare.com.json',\n",
       " 'tradecentric.com.json',\n",
       " 'flatironcorp.com.json',\n",
       " 'medexpress.com.json',\n",
       " 'metropolitanwarehouse.com.json',\n",
       " 'jenis.com.json',\n",
       " 'cleco.com.json',\n",
       " 'epicmanagementlp.com.json',\n",
       " 'radltd.com.json',\n",
       " 'oscweb.com.json',\n",
       " 'bmdusa.com.json',\n",
       " 'voyagersopris.com.json',\n",
       " 'boncom.com.json',\n",
       " 'dealerware.com.json',\n",
       " 'corporatetools.com.json',\n",
       " 'ilc.com.json',\n",
       " 'clking.com.json',\n",
       " 'sutisoft.com.json',\n",
       " 'creativegraphicsmn.com.json',\n",
       " 'neighborimpact.com.json',\n",
       " 'liverpoolfcamerica.com.json',\n",
       " '5starnutrition.com.json',\n",
       " 'illumifin.com.json',\n",
       " 'abbott-associates.com.json',\n",
       " 'tinybuild.com.json',\n",
       " 'careporthealth.com.json',\n",
       " 'marquisinc.com.json',\n",
       " 'alpineintel.com.json',\n",
       " 'inspiramarketing.com.json',\n",
       " 'lithium.com.json',\n",
       " 'allata.com.json',\n",
       " 'benchling.com.json',\n",
       " 'archmereacademy.com.json',\n",
       " 'honorcu.com.json',\n",
       " 'carbissolutions.com.json',\n",
       " 'gozego.com.json',\n",
       " 'gruntstyle.com.json',\n",
       " 'thrutubing.com.json',\n",
       " 'bigclumber.com.json',\n",
       " 'dietl.com.json',\n",
       " 'indigoit.com.json',\n",
       " 'rowlett.com.json',\n",
       " 'eemfg.com.json',\n",
       " 'indemandinterpreting.com.json',\n",
       " 'alliedoil.com.json',\n",
       " 'usaajobs.com.json',\n",
       " 'bcmcontrols.com.json',\n",
       " 'gibbscox.com.json',\n",
       " 'apreehealth.com.json',\n",
       " 'autismlearningpartners.com.json',\n",
       " 'rvigroup.com.json',\n",
       " 'arraybc.com.json',\n",
       " 'fhnfinancial.com.json',\n",
       " 'leoburnett.com.json',\n",
       " 'tazmanian.com.json',\n",
       " 'povio.com.json',\n",
       " 'anjusoftware.com.json',\n",
       " 'matcormetalfab.com.json',\n",
       " 'iventuresolutions.com.json',\n",
       " 'danielandhenry.com.json',\n",
       " 'blankrome.com.json',\n",
       " 'tradeusa.com.json',\n",
       " 'easypickins.com.json',\n",
       " 'nmgcorp.com.json',\n",
       " 'altamareagroup.com.json',\n",
       " 'pacificbells.com.json',\n",
       " 'eskolaroofing.com.json',\n",
       " 'herodigital.com.json',\n",
       " 'corcoranperry.com.json',\n",
       " 'emergn.com.json',\n",
       " 'cancercenterofsouthflorida.com.json',\n",
       " 'castingnetworks.com.json',\n",
       " 'ecs-wmi.com.json',\n",
       " 'sagenet.com.json',\n",
       " 'hawaiifamilydentalcareers.com.json',\n",
       " 'scbt.com.json',\n",
       " 'colestl.com.json',\n",
       " 'montarebehavioralhealth.com.json',\n",
       " ...]"
      ]
     },
     "execution_count": 9,
     "metadata": {},
     "output_type": "execute_result"
    }
   ],
   "source": [
    "files_in_folder"
   ]
  },
  {
   "cell_type": "code",
   "execution_count": 34,
   "id": "PXf9s94Axg8U",
   "metadata": {
    "id": "PXf9s94Axg8U",
    "scrolled": true
   },
   "outputs": [
    {
     "name": "stdout",
     "output_type": "stream",
     "text": [
      "dict_keys(['url', 'timestamp', 'text_by_page_url', 'doc_id'])\n"
     ]
    }
   ],
   "source": [
    "for filename in files_in_folder:\n",
    "    if filename.endswith('.json'):\n",
    "        file_path = os.path.join(folder_path, filename)\n",
    "        doc = load_documents(file_path)\n",
    "        break\n",
    "print(doc.keys())"
   ]
  },
  {
   "cell_type": "code",
   "execution_count": null,
   "id": "cb4b9781-4d54-49b2-b801-420552ffafa1",
   "metadata": {},
   "outputs": [],
   "source": []
  },
  {
   "cell_type": "markdown",
   "id": "LTUgoion_dLj",
   "metadata": {
    "id": "LTUgoion_dLj"
   },
   "source": [
    "## 2.2 Pre-process documents.\n",
    "\n",
    "Feel free to explore and pre-process the data. You may want to clean or segment the documents as you see fit."
   ]
  },
  {
   "cell_type": "code",
   "execution_count": null,
   "id": "yI1cBtnDyOx0",
   "metadata": {
    "id": "yI1cBtnDyOx0"
   },
   "outputs": [],
   "source": [
    "def page_segment(docs):\n",
    "    \"\"\"You may prefer to load each page separately.\"\"\"\n",
    "    i = 0\n",
    "    page_segment = []\n",
    "    for s in list(docs['text_by_page_url'].values()):\n",
    "      page_segment.append({\"docID\": docs['doc_id'], \"pageID\": 'page_' + str(i), \"text\": s})\n",
    "      i += 1\n",
    "    return page_segment"
   ]
  },
  {
   "cell_type": "code",
   "execution_count": null,
   "id": "Sjl7Xp1Pw6ps",
   "metadata": {
    "id": "Sjl7Xp1Pw6ps"
   },
   "outputs": [],
   "source": [
    "def segment_documents(docs, chunk_size=500):\n",
    "    \"\"\"Segments documents into chunks of a given token size. Replace this function with your segmentation approach or maybe use the original document without segmentation.\"\"\"\n",
    "    segmented = []\n",
    "    for doc_id, content in docs.items():\n",
    "        for i in range(0, len(content), chunk_size):\n",
    "            segment = content[i : i + chunk_size]\n",
    "            segmented.append({\"id\": doc_id, \"text\": segment})\n",
    "    return segmented\n",
    "\n"
   ]
  },
  {
   "cell_type": "code",
   "execution_count": null,
   "id": "x_3mbRONy7M7",
   "metadata": {
    "id": "x_3mbRONy7M7"
   },
   "outputs": [],
   "source": [
    "def document_clean(docs):\n",
    "  \"\"\"\n",
    "  You may want to clean the dataset, add the code here.\n",
    "  \"\"\"\n",
    "  pass"
   ]
  },
  {
   "cell_type": "markdown",
   "id": "qrhr__MeK-hY",
   "metadata": {
    "id": "qrhr__MeK-hY"
   },
   "source": [
    "## 2.3 Document Indexing and Storage (Profiling)\n",
    "\n",
    "Feel free to choose different ways to indexing and storing the provided documents in a knowledge database.\n",
    "\n",
    "So that they can be retrieved in different ways according to your system design choices, such as search by keywords, vector representation, graph relation, and etc."
   ]
  },
  {
   "cell_type": "markdown",
   "id": "woyxfDBeN_mG",
   "metadata": {
    "id": "woyxfDBeN_mG"
   },
   "source": [
    "# 3. Retrieval Augmented Generation"
   ]
  },
  {
   "cell_type": "markdown",
   "id": "hSBIL9B-k1wE",
   "metadata": {
    "id": "hSBIL9B-k1wE"
   },
   "source": [
    "## 3.1 Load Knowledge Database"
   ]
  },
  {
   "cell_type": "markdown",
   "id": "7LOy1k_-lOu0",
   "metadata": {
    "id": "7LOy1k_-lOu0"
   },
   "source": []
  },
  {
   "cell_type": "markdown",
   "id": "X6jZ743wLayQ",
   "metadata": {
    "id": "X6jZ743wLayQ"
   },
   "source": [
    "## 3.2 Relevant Document Retrieval"
   ]
  },
  {
   "cell_type": "markdown",
   "id": "xj5pH-FATv6S",
   "metadata": {
    "id": "xj5pH-FATv6S"
   },
   "source": [
    "Feel free to check and improve your retrieval performance as it affect the generation results significantly."
   ]
  },
  {
   "cell_type": "code",
   "execution_count": null,
   "id": "6a647547",
   "metadata": {
    "id": "6a647547"
   },
   "outputs": [],
   "source": [
    "def retrieve_documents(query, db_path, embedding_model):\n",
    "  \"\"\"\n",
    "  retrieve relevant documents from the knowledge database to the query.\n",
    "  \"\"\"\n",
    "  return relevant_docs"
   ]
  },
  {
   "cell_type": "markdown",
   "id": "kYJCpsgHLoc-",
   "metadata": {
    "id": "kYJCpsgHLoc-"
   },
   "source": [
    "## 3.3 Response Generation"
   ]
  },
  {
   "cell_type": "markdown",
   "id": "TgE1qWd_UQA2",
   "metadata": {
    "id": "TgE1qWd_UQA2"
   },
   "source": [
    "Feel free to explore promp engineer to improve the quality of your generated response."
   ]
  },
  {
   "cell_type": "markdown",
   "id": "mhbpi5mcK3wy",
   "metadata": {
    "id": "mhbpi5mcK3wy"
   },
   "source": [
    "The retrieved documents are used as context to generate more relevant response. Gereral knowledge from the language model itself is also used."
   ]
  },
  {
   "cell_type": "code",
   "execution_count": null,
   "id": "nacBKD6UJRNH",
   "metadata": {
    "id": "nacBKD6UJRNH"
   },
   "outputs": [],
   "source": [
    "def generate_answer(query, retrieved_texts, prompt_template):\n",
    "    \"\"\"Generates an answer using retrieved documents and GPT-4.\"\"\"\n",
    "    return response"
   ]
  },
  {
   "cell_type": "code",
   "execution_count": null,
   "id": "-6xIzmDTn3I8",
   "metadata": {
    "id": "-6xIzmDTn3I8"
   },
   "outputs": [],
   "source": [
    "query = \"What company is located in 29010 Commerce Center Dr., Valencia, 91355, California, US?\"\n",
    "retrieved_docs = retrieve_documents(query, db_path, embedding_model)\n",
    "response = generate_answer(query, retrieved_texts, prompt_template)\n",
    "\n",
    "print(\"Query:\", query)\n",
    "print(\"Retrieved Documents:\", [doc.page_content for doc in retrieved_docs])\n",
    "print(\"Generated Answer:\", response)"
   ]
  },
  {
   "cell_type": "markdown",
   "id": "RK8CQELywSf1",
   "metadata": {
    "id": "RK8CQELywSf1"
   },
   "source": [
    "# 4. Evaluation"
   ]
  },
  {
   "cell_type": "markdown",
   "id": "hSankY--nVHm",
   "metadata": {
    "id": "hSankY--nVHm"
   },
   "source": [
    "Try as many examples to evaluate your system and improve your performance!\n",
    "\n",
    "As the final sysrtem will be evaluated from various aspects. Try to check different metrics when you evaluate. One trick is to do a \"strict RAG\" where the response is generated based on the retrieved documents only, i.e. no general knowledge from the LLMs will be used. This may be a good way to check if your retrieval part is working as expected. Note, that in the final system general knowledge from the LLMs are welcome. \"Strict RAG\" is only used as a way for you to check your performance :)"
   ]
  }
 ],
 "metadata": {
  "colab": {
   "include_colab_link": true,
   "provenance": []
  },
  "kernelspec": {
   "display_name": "datathon2k25",
   "language": "python",
   "name": "datathon2k25"
  },
  "language_info": {
   "codemirror_mode": {
    "name": "ipython",
    "version": 3
   },
   "file_extension": ".py",
   "mimetype": "text/x-python",
   "name": "python",
   "nbconvert_exporter": "python",
   "pygments_lexer": "ipython3",
   "version": "3.10.16"
  }
 },
 "nbformat": 4,
 "nbformat_minor": 5
}
