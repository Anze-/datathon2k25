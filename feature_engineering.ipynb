{
 "cells": [
  {
   "cell_type": "markdown",
   "metadata": {
    "id": "view-in-github",
    "colab_type": "text"
   },
   "source": [
    "<a href=\"https://colab.research.google.com/github/Anze-/datathon2k25/blob/alberto/feature_engineering.ipynb\" target=\"_parent\"><img src=\"https://colab.research.google.com/assets/colab-badge.svg\" alt=\"Open In Colab\"/></a>"
   ],
   "id": "1a7e08b9d04eedb7"
  },
  {
   "cell_type": "markdown",
   "source": [
    "# **OrderFox Hackathon: Domain-Specific Chatbot Design** 🚀  \n",
    "\n",
    "## **📌 Overview**  \n",
    "In this hackathon, your goal is to design and implement a domain-specific chatbot using **Retrieval-Augmented Generation (RAG)**. You will be provided with a **dataset of HTML-crawled documents** in jason format, and your task is to build a system that effectively retrieves relevant information and generates accurate responses.  \n",
    "\n",
    "## **🔹 What You Need to Do**  \n",
    "1. **Set up your own environment** - A github Repository, or make a copy of this colab notebook, or a Kaggle notebook.\n",
    "2. **Load and Process Documents** – Extract text from the json files provided to you.\n",
    "3. **Implement Document Retrieval**\n",
    "– Try different retrieval approaches, including:  \n",
    "   - Keyword-based search  \n",
    "   - Vector embeddings (e.g. Bag-of-Words, Word2Vec, embedding models on Hugging Face, embeddig models provided with OpenAI API)  + vector database\n",
    "   - Graph / Tree extraction + graph database\n",
    "   - Hybrid methods   \n",
    "4. **Perform Response Generation** – Retrieve relevant documents and generate responses using a Language Model:\n",
    "  - Feel free to explore prompt engineer\n",
    "\n",
    "5. **Optimize and Evaluate Your System** – Compare performance based on relevance, grounding, fluency, efficiency, and cost.  \n",
    "6. **Deliver a Well-Structured Solution** – Organize your code as a modular project repository.  \n",
    " - Code repository or notebook\n",
    " - Make sure to include your knowledge database\n",
    "\n",
    "## **📦 What Is Provided?**  \n",
    "✅ **Dataset**: JSON files containing extracted HTML content, available on a shared Google Drive and Kaggle.  \n",
    "✅ **Baseline Notebook**: A starter kit with useful tools and guidance.  \n",
    "✅ **Evaluation Metrics**: A structured evaluation framework to assess performance.  \n",
    "\n",
    "## **🖥️ What Computing Resources Can You Use?**  \n",
    "You are welcome to choose your preferred platform to develop your solution. Either   \n",
    "- Locally (on your own machine) 💻  \n",
    "- or Using **cloud platforms** such as **Google Colab** or **Kaggle** (a free account is sufficient).  \n",
    "\n",
    "## **🛠️ Tools You May Consider**  \n",
    "(*These are recommendations to help you get started. You are free to use alternative tools—just document your choices clearly!*)  \n",
    "- **Database**: FAISS, ChromaDB, SQLite, Elasticsearch, Neo4j and etc.  \n",
    "- **Embedding Models**: Hugging Face Sentence-Transformers, OpenAI Embeddings  \n",
    "- **LLM for Generation**: OpenAI: gpt-4o-mini\n",
    "- **Others**: Langchain, GraphRAG, and etc.\n",
    "\n",
    "## **📌 Final Delivery**  \n",
    "Your final submission should include:  \n",
    "✅ A well-documented **GitHub repository or notebook**  \n",
    "✅ A clear **README** explaining your approach  \n",
    "✅ A structured **retrieval and generation modules**  \n",
    "\n",
    "### **🔥 Bonus Points For**  \n",
    "✨ Innovative retrieval techniques  \n",
    "✨ Well-organized, modular code  \n",
    "✨ Creative visualizations or user interfaces  \n"
   ],
   "metadata": {
    "id": "h0EPX9TBwTq6"
   },
   "id": "h0EPX9TBwTq6"
  },
  {
   "cell_type": "markdown",
   "source": [
    "# 1. Set up working environment"
   ],
   "metadata": {
    "id": "Ipz5In6W_NIx"
   },
   "id": "Ipz5In6W_NIx"
  },
  {
   "cell_type": "code",
   "source": [
    "!pip install openai\n",
    "\n",
    "# Database options\n",
    "!pip install chromadb # if you use chromadb as your vector database\n",
    "\n",
    "# Others\n",
    "!pip install langchain-community # if you use langchain for orchastration\n",
    "!pip install transformers #if you use huggingface for vector embedding"
   ],
   "metadata": {
    "id": "dkuJ8NdPn8pc",
    "ExecuteTime": {
     "end_time": "2025-04-05T13:51:25.065372Z",
     "start_time": "2025-04-05T13:51:21.939411Z"
    }
   },
   "id": "dkuJ8NdPn8pc",
   "outputs": [
    {
     "name": "stdout",
     "output_type": "stream",
     "text": [
      "/bin/bash: warning: setlocale: LC_ALL: cannot change locale (en_US.UTF-8): No such file or directory\r\n",
      "\u001B[1;31merror\u001B[0m: \u001B[1mexternally-managed-environment\u001B[0m\r\n",
      "\r\n",
      "\u001B[31m×\u001B[0m This environment is externally managed\r\n",
      "\u001B[31m╰─>\u001B[0m \r\n",
      "\u001B[31m   \u001B[0m The system-wide Python installation in Gentoo should be maintained\r\n",
      "\u001B[31m   \u001B[0m using the system package manager (e.g. emerge).\r\n",
      "\u001B[31m   \u001B[0m \r\n",
      "\u001B[31m   \u001B[0m If the package in question is not packaged for Gentoo, please\r\n",
      "\u001B[31m   \u001B[0m consider installing it inside a virtual environment, e.g.:\r\n",
      "\u001B[31m   \u001B[0m \r\n",
      "\u001B[31m   \u001B[0m python -m venv /path/to/venv\r\n",
      "\u001B[31m   \u001B[0m . /path/to/venv/bin/activate\r\n",
      "\u001B[31m   \u001B[0m pip install mypackage\r\n",
      "\u001B[31m   \u001B[0m \r\n",
      "\u001B[31m   \u001B[0m To exit the virtual environment, run:\r\n",
      "\u001B[31m   \u001B[0m \r\n",
      "\u001B[31m   \u001B[0m deactivate\r\n",
      "\u001B[31m   \u001B[0m \r\n",
      "\u001B[31m   \u001B[0m The virtual environment is not deleted, and can be re-entered by\r\n",
      "\u001B[31m   \u001B[0m re-sourcing the activate file.\r\n",
      "\r\n",
      "\u001B[1;35mnote\u001B[0m: If you believe this is a mistake, please contact your Python installation or OS distribution provider. You can override this, at the risk of breaking your Python installation or OS, by passing --break-system-packages.\r\n",
      "\u001B[1;36mhint\u001B[0m: See PEP 668 for the detailed specification.\r\n",
      "/bin/bash: warning: setlocale: LC_ALL: cannot change locale (en_US.UTF-8): No such file or directory\r\n",
      "\u001B[1;31merror\u001B[0m: \u001B[1mexternally-managed-environment\u001B[0m\r\n",
      "\r\n",
      "\u001B[31m×\u001B[0m This environment is externally managed\r\n",
      "\u001B[31m╰─>\u001B[0m \r\n",
      "\u001B[31m   \u001B[0m The system-wide Python installation in Gentoo should be maintained\r\n",
      "\u001B[31m   \u001B[0m using the system package manager (e.g. emerge).\r\n",
      "\u001B[31m   \u001B[0m \r\n",
      "\u001B[31m   \u001B[0m If the package in question is not packaged for Gentoo, please\r\n",
      "\u001B[31m   \u001B[0m consider installing it inside a virtual environment, e.g.:\r\n",
      "\u001B[31m   \u001B[0m \r\n",
      "\u001B[31m   \u001B[0m python -m venv /path/to/venv\r\n",
      "\u001B[31m   \u001B[0m . /path/to/venv/bin/activate\r\n",
      "\u001B[31m   \u001B[0m pip install mypackage\r\n",
      "\u001B[31m   \u001B[0m \r\n",
      "\u001B[31m   \u001B[0m To exit the virtual environment, run:\r\n",
      "\u001B[31m   \u001B[0m \r\n",
      "\u001B[31m   \u001B[0m deactivate\r\n",
      "\u001B[31m   \u001B[0m \r\n",
      "\u001B[31m   \u001B[0m The virtual environment is not deleted, and can be re-entered by\r\n",
      "\u001B[31m   \u001B[0m re-sourcing the activate file.\r\n",
      "\r\n",
      "\u001B[1;35mnote\u001B[0m: If you believe this is a mistake, please contact your Python installation or OS distribution provider. You can override this, at the risk of breaking your Python installation or OS, by passing --break-system-packages.\r\n",
      "\u001B[1;36mhint\u001B[0m: See PEP 668 for the detailed specification.\r\n",
      "/bin/bash: warning: setlocale: LC_ALL: cannot change locale (en_US.UTF-8): No such file or directory\r\n",
      "\u001B[1;31merror\u001B[0m: \u001B[1mexternally-managed-environment\u001B[0m\r\n",
      "\r\n",
      "\u001B[31m×\u001B[0m This environment is externally managed\r\n",
      "\u001B[31m╰─>\u001B[0m \r\n",
      "\u001B[31m   \u001B[0m The system-wide Python installation in Gentoo should be maintained\r\n",
      "\u001B[31m   \u001B[0m using the system package manager (e.g. emerge).\r\n",
      "\u001B[31m   \u001B[0m \r\n",
      "\u001B[31m   \u001B[0m If the package in question is not packaged for Gentoo, please\r\n",
      "\u001B[31m   \u001B[0m consider installing it inside a virtual environment, e.g.:\r\n",
      "\u001B[31m   \u001B[0m \r\n",
      "\u001B[31m   \u001B[0m python -m venv /path/to/venv\r\n",
      "\u001B[31m   \u001B[0m . /path/to/venv/bin/activate\r\n",
      "\u001B[31m   \u001B[0m pip install mypackage\r\n",
      "\u001B[31m   \u001B[0m \r\n",
      "\u001B[31m   \u001B[0m To exit the virtual environment, run:\r\n",
      "\u001B[31m   \u001B[0m \r\n",
      "\u001B[31m   \u001B[0m deactivate\r\n",
      "\u001B[31m   \u001B[0m \r\n",
      "\u001B[31m   \u001B[0m The virtual environment is not deleted, and can be re-entered by\r\n",
      "\u001B[31m   \u001B[0m re-sourcing the activate file.\r\n",
      "\r\n",
      "\u001B[1;35mnote\u001B[0m: If you believe this is a mistake, please contact your Python installation or OS distribution provider. You can override this, at the risk of breaking your Python installation or OS, by passing --break-system-packages.\r\n",
      "\u001B[1;36mhint\u001B[0m: See PEP 668 for the detailed specification.\r\n",
      "/bin/bash: warning: setlocale: LC_ALL: cannot change locale (en_US.UTF-8): No such file or directory\r\n",
      "\u001B[1;31merror\u001B[0m: \u001B[1mexternally-managed-environment\u001B[0m\r\n",
      "\r\n",
      "\u001B[31m×\u001B[0m This environment is externally managed\r\n",
      "\u001B[31m╰─>\u001B[0m \r\n",
      "\u001B[31m   \u001B[0m The system-wide Python installation in Gentoo should be maintained\r\n",
      "\u001B[31m   \u001B[0m using the system package manager (e.g. emerge).\r\n",
      "\u001B[31m   \u001B[0m \r\n",
      "\u001B[31m   \u001B[0m If the package in question is not packaged for Gentoo, please\r\n",
      "\u001B[31m   \u001B[0m consider installing it inside a virtual environment, e.g.:\r\n",
      "\u001B[31m   \u001B[0m \r\n",
      "\u001B[31m   \u001B[0m python -m venv /path/to/venv\r\n",
      "\u001B[31m   \u001B[0m . /path/to/venv/bin/activate\r\n",
      "\u001B[31m   \u001B[0m pip install mypackage\r\n",
      "\u001B[31m   \u001B[0m \r\n",
      "\u001B[31m   \u001B[0m To exit the virtual environment, run:\r\n",
      "\u001B[31m   \u001B[0m \r\n",
      "\u001B[31m   \u001B[0m deactivate\r\n",
      "\u001B[31m   \u001B[0m \r\n",
      "\u001B[31m   \u001B[0m The virtual environment is not deleted, and can be re-entered by\r\n",
      "\u001B[31m   \u001B[0m re-sourcing the activate file.\r\n",
      "\r\n",
      "\u001B[1;35mnote\u001B[0m: If you believe this is a mistake, please contact your Python installation or OS distribution provider. You can override this, at the risk of breaking your Python installation or OS, by passing --break-system-packages.\r\n",
      "\u001B[1;36mhint\u001B[0m: See PEP 668 for the detailed specification.\r\n"
     ]
    }
   ],
   "execution_count": 6
  },
  {
   "cell_type": "code",
   "source": [
    "# enable GPU if needed, GPU can speed up your vector embedding if you computing these vectors locally (not using API)\n",
    "\n",
    "import torch\n",
    "\n",
    "device = \"cuda\" if torch.cuda.is_available() else \"cpu\"\n",
    "print(f\"Using device: {device}\")"
   ],
   "metadata": {
    "colab": {
     "base_uri": "https://localhost:8080/"
    },
    "id": "a80UAVJcCkCM",
    "outputId": "cc853a6b-c9d9-4c61-f1bb-3f10705fe61f",
    "ExecuteTime": {
     "end_time": "2025-04-05T13:51:28.984681Z",
     "start_time": "2025-04-05T13:51:27.138510Z"
    }
   },
   "id": "a80UAVJcCkCM",
   "outputs": [
    {
     "name": "stdout",
     "output_type": "stream",
     "text": [
      "Using device: cuda\n"
     ]
    }
   ],
   "execution_count": 7
  },
  {
   "cell_type": "code",
   "id": "20ed41c7",
   "metadata": {
    "id": "20ed41c7",
    "ExecuteTime": {
     "end_time": "2025-04-05T13:51:30.999031Z",
     "start_time": "2025-04-05T13:51:29.058272Z"
    }
   },
   "source": [
    "\n",
    "import os\n",
    "import json\n",
    "import chromadb\n",
    "import openai\n",
    "from langchain.embeddings import HuggingFaceEmbeddings\n",
    "from langchain.vectorstores import Chroma\n",
    "from langchain.llms import OpenAI\n",
    "from langchain.chains import RetrievalQA\n",
    "\n",
    "# Set OpenAI API Key\n",
    "os.environ[\"OPENAI_API_KEY\"] = \"\"\n"
   ],
   "outputs": [],
   "execution_count": 8
  },
  {
   "cell_type": "markdown",
   "source": [
    "# 2. Knowledge Base Preparation"
   ],
   "metadata": {
    "id": "EQPuHKS4QQjn"
   },
   "id": "EQPuHKS4QQjn"
  },
  {
   "cell_type": "markdown",
   "source": [
    "## 2.1 Load documents"
   ],
   "metadata": {
    "id": "C1ZmEq85_XvG"
   },
   "id": "C1ZmEq85_XvG"
  },
  {
   "cell_type": "markdown",
   "source": [
    "Once you are added access to this folder, it will appear at your google drive \"Shared drives\". Then you can mount your drive and as following, and access your data from \"/content/drive/Shared drives/Datathon/Data/hackathon_data/\". Enjoy the ride! :)"
   ],
   "metadata": {
    "id": "2GpLOcX8xoQ1"
   },
   "id": "2GpLOcX8xoQ1"
  },
  {
   "cell_type": "code",
   "source": [
    "# Load the Drive and mount\n",
    "# from google.colab import drive\n",
    "# drive.mount('/content/drive/')"
   ],
   "metadata": {
    "colab": {
     "base_uri": "https://localhost:8080/"
    },
    "id": "kUvCnCVnRf5c",
    "outputId": "f920db58-f4b9-4813-c0e5-8f8520c7a7cc",
    "ExecuteTime": {
     "end_time": "2025-04-05T12:19:20.160490Z",
     "start_time": "2025-04-05T12:19:19.813087Z"
    }
   },
   "id": "kUvCnCVnRf5c",
   "outputs": [
    {
     "ename": "ModuleNotFoundError",
     "evalue": "No module named 'google.colab'",
     "output_type": "error",
     "traceback": [
      "\u001B[31m---------------------------------------------------------------------------\u001B[39m",
      "\u001B[31mModuleNotFoundError\u001B[39m                       Traceback (most recent call last)",
      "\u001B[36mCell\u001B[39m\u001B[36m \u001B[39m\u001B[32mIn[3]\u001B[39m\u001B[32m, line 2\u001B[39m\n\u001B[32m      1\u001B[39m \u001B[38;5;66;03m# Load the Drive and mount\u001B[39;00m\n\u001B[32m----> \u001B[39m\u001B[32m2\u001B[39m \u001B[38;5;28;01mfrom\u001B[39;00m\u001B[38;5;250m \u001B[39m\u001B[34;01mgoogle\u001B[39;00m\u001B[34;01m.\u001B[39;00m\u001B[34;01mcolab\u001B[39;00m\u001B[38;5;250m \u001B[39m\u001B[38;5;28;01mimport\u001B[39;00m drive\n\u001B[32m      3\u001B[39m drive.mount(\u001B[33m'\u001B[39m\u001B[33m/content/drive/\u001B[39m\u001B[33m'\u001B[39m)\n",
      "\u001B[31mModuleNotFoundError\u001B[39m: No module named 'google.colab'"
     ]
    }
   ],
   "execution_count": 3
  },
  {
   "cell_type": "markdown",
   "source": [
    "Load json file."
   ],
   "metadata": {
    "id": "jQt4yk-y_LqU"
   },
   "id": "jQt4yk-y_LqU"
  },
  {
   "cell_type": "code",
   "source": [
    "#folder_path = \"/content/drive/Shared drives/Datathon/Data/hackathon_data/\"# Google drive path of the dataset\n",
    "folder_path = \"data/hackathon_data\"\n",
    "files_in_folder = os.listdir(folder_path)\n",
    "\n",
    "len(files_in_folder)"
   ],
   "metadata": {
    "id": "7rVVlmZ3KMTJ",
    "ExecuteTime": {
     "end_time": "2025-04-05T13:51:34.266151Z",
     "start_time": "2025-04-05T13:51:34.247956Z"
    }
   },
   "id": "7rVVlmZ3KMTJ",
   "outputs": [
    {
     "data": {
      "text/plain": [
       "13144"
      ]
     },
     "execution_count": 9,
     "metadata": {},
     "output_type": "execute_result"
    }
   ],
   "execution_count": 9
  },
  {
   "cell_type": "code",
   "source": [
    "def load_documents(json_file):\n",
    "    \"\"\"Loads the JSON file.\"\"\"\n",
    "    with open(json_file, 'r') as f:\n",
    "      try:\n",
    "          data = json.load(f)\n",
    "          return data\n",
    "      except json.JSONDecodeError:\n",
    "          print(f\"Error reading {json_file}, it may not be a valid JSON file.\")\n",
    "    return []\n",
    "\n"
   ],
   "metadata": {
    "id": "AdSRf4xB_KWM",
    "ExecuteTime": {
     "end_time": "2025-04-05T13:51:16.169551Z",
     "start_time": "2025-04-05T13:51:16.166224Z"
    }
   },
   "id": "AdSRf4xB_KWM",
   "outputs": [],
   "execution_count": 4
  },
  {
   "cell_type": "code",
   "source": [
    "for filename in files_in_folder:\n",
    "    if filename.endswith('.json'):\n",
    "        if filename == \"panoston.com.json\":\n",
    "\n",
    "            file_path = os.path.join(folder_path, filename)\n",
    "            doc = load_documents(file_path)\n",
    "            print(file_path)\n",
    "\n",
    "print(doc[\"text_by_page_url\"][\"https://www.panoston.com/about/news/\"])"
   ],
   "metadata": {
    "id": "PXf9s94Axg8U",
    "ExecuteTime": {
     "end_time": "2025-04-05T13:54:36.746514Z",
     "start_time": "2025-04-05T13:54:36.736206Z"
    }
   },
   "id": "PXf9s94Axg8U",
   "outputs": [
    {
     "name": "stdout",
     "output_type": "stream",
     "text": [
      "data/hackathon_data/panoston.com.json\n",
      "News - Pan-Oston\n",
      "Skip to content\n",
      "Menu\n",
      "Contact Us:\n",
      "(800) 210 – 2302\n",
      "Pan-Oston News\n",
      "Newsletter Signup\n",
      "Get updates on new Pan-Oston products and offers by signing up for our newsletter.\n",
      "Email\n",
      "*\n",
      "/* = 0;if(!is_postback){return;}var form_content = jQuery(this).contents().find(‘#gform_wrapper_1’);var is_confirmation = jQuery(this).contents().find(‘#gform_confirmation_wrapper_1’).length > 0;var is_redirect = contents.indexOf(‘gformRedirect(){‘) >= 0;var is_form = form_content.length > 0 && ! is_redirect && ! is_confirmation;var mt = parseInt(jQuery(‘html’).css(‘margin-top’), 10) + parseInt(jQuery(‘body’).css(‘margin-top’), 10) + 100;if(is_form){jQuery(‘#gform_wrapper_1’).html(form_content.html());if(form_content.hasClass(‘gform_validation_error’)){jQuery(‘#gform_wrapper_1’).addClass(‘gform_validation_error’);} else {jQuery(‘#gform_wrapper_1’).removeClass(‘gform_validation_error’);}setTimeout( function() { /* delay the scroll by 50 milliseconds to fix a bug in chrome */  }, 50 );if(window[‘gformInitDatepicker’]) {gformInitDatepicker();}if(window[‘gformInitPriceFields’]) {gformInitPriceFields();}var current_page = jQuery(‘#gform_source_page_number_1’).val();gformInitSpinner( 1, ‘https://www.panoston.com/wp-content/plugins/gravityforms/images/spinner.svg’, true );jQuery(document).trigger(‘gform_page_loaded’, [1, current_page]);window[‘gf_submitting_1’] = false;}else if(!is_redirect){var confirmation_content = jQuery(this).contents().find(‘.GF_AJAX_POSTBACK’).html();if(!confirmation_content){confirmation_content = contents;}jQuery(‘#gform_wrapper_1’).replaceWith(confirmation_content);jQuery(document).trigger(‘gform_confirmation_loaded’, [1]);window[‘gf_submitting_1’] = false;wp.a11y.speak(jQuery(‘#gform_confirmation_message_1’).text());}else{jQuery(‘#gform_1’).append(contents);if(window[‘gformRedirect’]) {gformRedirect();}}jQuery(document).trigger(“gform_pre_post_render”, [{ formId: “1”, currentPage: “current_page”, abort: function() { this.preventDefault(); } }]);                if (event && event.defaultPrevented) {                return;         }        const gformWrapperDiv = document.getElementById( “gform_wrapper_1” );        if ( gformWrapperDiv ) {            const visibilitySpan = document.createElement( “span” );            visibilitySpan.id = “gform_visibility_test_1”;            gformWrapperDiv.insertAdjacentElement( “afterend”, visibilitySpan );        }        const visibilityTestDiv = document.getElementById( “gform_visibility_test_1” );        let postRenderFired = false;                function triggerPostRender() {            if ( postRenderFired ) {                return;            }            postRenderFired = true;            jQuery( document ).trigger( ‘gform_post_render’, [1, current_page] );            gform.utils.trigger( { event: ‘gform/postRender’, native: false, data: { formId: 1, currentPage: current_page } } );            gform.utils.trigger( { event: ‘gform/post_render’, native: false, data: { formId: 1, currentPage: current_page } } );            if ( visibilityTestDiv ) {                visibilityTestDiv.parentNode.removeChild( visibilityTestDiv );            }        }        function debounce( func, wait, immediate ) {            var timeout;            return function() {                var context = this, args = arguments;                var later = function() {                    timeout = null;                    if ( !immediate ) func.apply( context, args );                };                var callNow = immediate && !timeout;                clearTimeout( timeout );                timeout = setTimeout( later, wait );                if ( callNow ) func.apply( context, args );            };        }        const debouncedTriggerPostRender = debounce( function() {            triggerPostRender();        }, 200 );        if ( visibilityTestDiv && visibilityTestDiv.offsetParent === null ) {            const observer = new MutationObserver( ( mutations ) => {                mutations.forEach( ( mutation ) => {                    if ( mutation.type === ‘attributes’ && visibilityTestDiv.offsetParent !== null ) {                        debouncedTriggerPostRender();                        observer.disconnect();                    }                });            });            observer.observe( document.body, {                attributes: true,                childList: false,                subtree: true,                attributeFilter: [ ‘style’, ‘class’ ],            });        } else {            triggerPostRender();        }    } );} );\n",
      "/* ]]> */\n",
      "Recent Posts\n",
      "Pan-Oston Expansion at Headquarters\n",
      "Read More »\n",
      "Posted:\n",
      "March 20, 2024\n",
      "March 20, 2024\n",
      "Meet the Team: Chad Eilers\n",
      "We are happy to announce the recent promotion of Chad Eilers to Vice President of Engineering and Operations! Chad has been a Pan-Oston employee for close to 20 years and has served in several key roles across the company. To learn more about Chad, click here!\n",
      "Read More »\n",
      "Posted:\n",
      "April 8, 2022\n",
      "April 8, 2022\n",
      "Meet the Team: Kendra Sewell\n",
      "In honor of National Women's Day, we want to take the opportunity to introduce Pan-Oston's newest president, Kendra Sewell! Click here to learn more about Kendra.\n",
      "Read More »\n",
      "Posted:\n",
      "March 8, 2022\n",
      "March 8, 2022\n",
      "6 Reasons to Choose Pan-Oston’s Self-Service Technology Program\n",
      "Self-service checkout technology could be the key to taking your business from great to amazing. If you're in the market for a self-service product, there are six key reasons why Pan-Oston is right for the job. Click to read more.\n",
      "Read More »\n",
      "Posted:\n",
      "April 7, 2021\n",
      "April 12, 2021\n",
      "Self-Service Technology Program: Case Studies\n",
      "Are you looking for a custom self-service product for your business? You've come to the right place. Pan-Oston specializes in designing custom self-service fixtures that are built around the needs and preferences of our customers. Read more about our program with our latest case studies!\n",
      "Read More »\n",
      "Posted:\n",
      "March 12, 2021\n",
      "March 12, 2021\n",
      "1\n",
      "2\n",
      "3\n",
      "…\n",
      "23\n",
      "Next Page »\n",
      "Build Your Own\n",
      "To customize a Pan-Oston product to best fit you business, use our Build Your Own worksheet and calculator.\n",
      "Start Configuration\n",
      "Order Now\n",
      "Our online store contains prefab and customizable options for Pan-Oston products.\n",
      "Order Online\n",
      "Contact Us\n",
      "To see how Pan-Oston can serve your checkout lane or manufacturing needs, please contact us directly.\n",
      "Contact Us\n",
      "Live Chat\n",
      "Need help now? Chat with a Pan-Oston sales representative.\n",
      "Chat Now\n",
      "Products\n",
      "Grocery & C-Store\n",
      "Checkout Lanes\n",
      "Mobile Cart\n",
      "C Series Custom Counters\n",
      "Indoor/Outdoor Displays\n",
      "Self-Service Technology\n",
      "XTR SCO Attachments\n",
      "Convertible Lane\n",
      "Self-Checkout\n",
      "Belted Self-Checkout\n",
      "Mobile Self-Checkout\n",
      "Self-Service Kiosk\n",
      "Tabletop Self-Checkout\n",
      "Security Solutions\n",
      "Anti-Skimming Bracket\n",
      "Security Cabinet\n",
      "Gondola Security Attachment\n",
      "Gondola Glass-Door Security Attachment\n",
      "Online Store\n",
      "Maintenance & Installation\n",
      "Build Your Own\n",
      "About\n",
      "Manufacturing Capabilities\n",
      "Rollouts\n",
      "Engineering & Design\n",
      "Metal Fabrication\n",
      "Processes\n",
      "Quality Programs\n",
      "Logistics & Distribution\n",
      "About Pan-Oston\n",
      "News\n",
      "Careers\n",
      "Documents & Media\n",
      "Customers\n",
      "Testimonials\n",
      "Houchens Industries\n",
      "Contact Pan-Oston\n",
      "Copyright © 2024\n",
      "Pan-Oston\n",
      "Privacy Policy\n"
     ]
    }
   ],
   "execution_count": 18
  },
  {
   "cell_type": "markdown",
   "source": [
    "## 2.2 Pre-process documents.\n",
    "\n",
    "Feel free to explore and pre-process the data. You may want to clean or segment the documents as you see fit."
   ],
   "metadata": {
    "id": "LTUgoion_dLj"
   },
   "id": "LTUgoion_dLj"
  },
  {
   "cell_type": "code",
   "source": [
    "def page_segment(docs):\n",
    "    \"\"\"You may prefer to load each page separately.\"\"\"\n",
    "    i = 0\n",
    "    page_segment = []\n",
    "    for s in list(docs['text_by_page_url'].values()):\n",
    "      page_segment.append({\"docID\": docs['doc_id'], \"pageID\": 'page_' + str(i), \"text\": s})\n",
    "      i += 1\n",
    "    return page_segment"
   ],
   "metadata": {
    "id": "yI1cBtnDyOx0",
    "ExecuteTime": {
     "end_time": "2025-04-05T12:19:50.047451Z",
     "start_time": "2025-04-05T12:19:50.043575Z"
    }
   },
   "id": "yI1cBtnDyOx0",
   "outputs": [],
   "execution_count": 7
  },
  {
   "cell_type": "code",
   "source": [
    "def segment_documents(docs, chunk_size=500):\n",
    "    \"\"\"Segments documents into chunks of a given token size. Replace this function with your segmentation approach or maybe use the original document without segmentation.\"\"\"\n",
    "    segmented = []\n",
    "    for doc_id, content in docs.items():\n",
    "        for i in range(0, len(content), chunk_size):\n",
    "            segment = content[i : i + chunk_size]\n",
    "            segmented.append({\"id\": doc_id, \"text\": segment})\n",
    "    return segmented\n",
    "\n"
   ],
   "metadata": {
    "id": "Sjl7Xp1Pw6ps",
    "ExecuteTime": {
     "end_time": "2025-04-05T12:19:51.571346Z",
     "start_time": "2025-04-05T12:19:51.567413Z"
    }
   },
   "id": "Sjl7Xp1Pw6ps",
   "outputs": [],
   "execution_count": 8
  },
  {
   "cell_type": "code",
   "source": [
    "def document_clean(docs):\n",
    "  \"\"\"\n",
    "  You may want to clean the dataset, add the code here.\n",
    "  \"\"\"\n",
    "  pass"
   ],
   "metadata": {
    "id": "x_3mbRONy7M7",
    "ExecuteTime": {
     "end_time": "2025-04-05T12:19:52.926708Z",
     "start_time": "2025-04-05T12:19:52.924020Z"
    }
   },
   "id": "x_3mbRONy7M7",
   "outputs": [],
   "execution_count": 9
  },
  {
   "cell_type": "markdown",
   "source": [
    "## 2.3 Document Indexing and Storage (Profiling)\n",
    "\n",
    "Feel free to choose different ways to indexing and storing the provided documents in a knowledge database.\n",
    "\n",
    "So that they can be retrieved in different ways according to your system design choices, such as search by keywords, vector representation, graph relation, and etc."
   ],
   "metadata": {
    "id": "qrhr__MeK-hY"
   },
   "id": "qrhr__MeK-hY"
  },
  {
   "cell_type": "markdown",
   "source": [
    "# 3. Retrieval Augmented Generation"
   ],
   "metadata": {
    "id": "woyxfDBeN_mG"
   },
   "id": "woyxfDBeN_mG"
  },
  {
   "cell_type": "markdown",
   "source": [
    "## 3.1 Load Knowledge Database"
   ],
   "metadata": {
    "id": "hSBIL9B-k1wE"
   },
   "id": "hSBIL9B-k1wE"
  },
  {
   "cell_type": "markdown",
   "source": [],
   "metadata": {
    "id": "7LOy1k_-lOu0"
   },
   "id": "7LOy1k_-lOu0"
  },
  {
   "cell_type": "markdown",
   "source": [
    "## 3.2 Relevant Document Retrieval"
   ],
   "metadata": {
    "id": "X6jZ743wLayQ"
   },
   "id": "X6jZ743wLayQ"
  },
  {
   "cell_type": "markdown",
   "source": [
    "Feel free to check and improve your retrieval performance as it affect the generation results significantly."
   ],
   "metadata": {
    "id": "xj5pH-FATv6S"
   },
   "id": "xj5pH-FATv6S"
  },
  {
   "cell_type": "code",
   "execution_count": null,
   "id": "6a647547",
   "metadata": {
    "id": "6a647547"
   },
   "outputs": [],
   "source": [
    "def retrieve_documents(query, db_path, embedding_model):\n",
    "  \"\"\"\n",
    "  retrieve relevant documents from the knowledge database to the query.\n",
    "  \"\"\"\n",
    "  return relevant_docs"
   ]
  },
  {
   "cell_type": "markdown",
   "source": [
    "## 3.3 Response Generation"
   ],
   "metadata": {
    "id": "kYJCpsgHLoc-"
   },
   "id": "kYJCpsgHLoc-"
  },
  {
   "cell_type": "markdown",
   "source": [
    "Feel free to explore promp engineer to improve the quality of your generated response."
   ],
   "metadata": {
    "id": "TgE1qWd_UQA2"
   },
   "id": "TgE1qWd_UQA2"
  },
  {
   "cell_type": "markdown",
   "source": [
    "The retrieved documents are used as context to generate more relevant response. Gereral knowledge from the language model itself is also used."
   ],
   "metadata": {
    "id": "mhbpi5mcK3wy"
   },
   "id": "mhbpi5mcK3wy"
  },
  {
   "cell_type": "code",
   "source": [
    "def generate_answer(query, retrieved_texts, prompt_template):\n",
    "    \"\"\"Generates an answer using retrieved documents and GPT-4.\"\"\"\n",
    "    return response"
   ],
   "metadata": {
    "id": "nacBKD6UJRNH"
   },
   "id": "nacBKD6UJRNH",
   "execution_count": null,
   "outputs": []
  },
  {
   "cell_type": "code",
   "source": [
    "query = \"What company is located in 29010 Commerce Center Dr., Valencia, 91355, California, US?\"\n",
    "retrieved_docs = retrieve_documents(query, db_path, embedding_model)\n",
    "response = generate_answer(query, retrieved_texts, prompt_template)\n",
    "\n",
    "print(\"Query:\", query)\n",
    "print(\"Retrieved Documents:\", [doc.page_content for doc in retrieved_docs])\n",
    "print(\"Generated Answer:\", response)"
   ],
   "metadata": {
    "id": "-6xIzmDTn3I8"
   },
   "id": "-6xIzmDTn3I8",
   "execution_count": null,
   "outputs": []
  },
  {
   "cell_type": "markdown",
   "source": [
    "# 4. Evaluation"
   ],
   "metadata": {
    "id": "RK8CQELywSf1"
   },
   "id": "RK8CQELywSf1"
  },
  {
   "cell_type": "markdown",
   "source": [
    "Try as many examples to evaluate your system and improve your performance!\n",
    "\n",
    "As the final sysrtem will be evaluated from various aspects. Try to check different metrics when you evaluate. One trick is to do a \"strict RAG\" where the response is generated based on the retrieved documents only, i.e. no general knowledge from the LLMs will be used. This may be a good way to check if your retrieval part is working as expected. Note, that in the final system general knowledge from the LLMs are welcome. \"Strict RAG\" is only used as a way for you to check your performance :)"
   ],
   "metadata": {
    "id": "hSankY--nVHm"
   },
   "id": "hSankY--nVHm"
  }
 ],
 "metadata": {
  "colab": {
   "provenance": [],
   "include_colab_link": true
  },
  "language_info": {
   "name": "python"
  },
  "kernelspec": {
   "name": "python3",
   "display_name": "Python 3 (ipykernel)",
   "language": "python"
  }
 },
 "nbformat": 4,
 "nbformat_minor": 5
}
